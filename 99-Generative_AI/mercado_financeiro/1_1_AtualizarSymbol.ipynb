{
 "cells": [
  {
   "cell_type": "code",
   "execution_count": 1,
   "metadata": {},
   "outputs": [],
   "source": [
    "import pandas as pd"
   ]
  },
  {
   "cell_type": "code",
   "execution_count": 2,
   "metadata": {},
   "outputs": [
    {
     "data": {
      "text/html": [
       "<div>\n",
       "<style scoped>\n",
       "    .dataframe tbody tr th:only-of-type {\n",
       "        vertical-align: middle;\n",
       "    }\n",
       "\n",
       "    .dataframe tbody tr th {\n",
       "        vertical-align: top;\n",
       "    }\n",
       "\n",
       "    .dataframe thead th {\n",
       "        text-align: right;\n",
       "    }\n",
       "</style>\n",
       "<table border=\"1\" class=\"dataframe\">\n",
       "  <thead>\n",
       "    <tr style=\"text-align: right;\">\n",
       "      <th></th>\n",
       "      <th>Ticker</th>\n",
       "      <th>Nome</th>\n",
       "      <th>Negócios</th>\n",
       "      <th>Última (R$)</th>\n",
       "      <th>Variação</th>\n",
       "    </tr>\n",
       "  </thead>\n",
       "  <tbody>\n",
       "    <tr>\n",
       "      <th>0</th>\n",
       "      <td>AMER3</td>\n",
       "      <td>Americanas</td>\n",
       "      <td>859.938.400</td>\n",
       "      <td>0,06</td>\n",
       "      <td>-14,29%</td>\n",
       "    </tr>\n",
       "    <tr>\n",
       "      <th>1</th>\n",
       "      <td>B3SA3</td>\n",
       "      <td>B3</td>\n",
       "      <td>58.241.800</td>\n",
       "      <td>12,74</td>\n",
       "      <td>+1,59%</td>\n",
       "    </tr>\n",
       "    <tr>\n",
       "      <th>2</th>\n",
       "      <td>COGN3</td>\n",
       "      <td>Cogna</td>\n",
       "      <td>50.190.700</td>\n",
       "      <td>1,43</td>\n",
       "      <td>+7,52%</td>\n",
       "    </tr>\n",
       "    <tr>\n",
       "      <th>3</th>\n",
       "      <td>HAPV3</td>\n",
       "      <td>Hapvida</td>\n",
       "      <td>40.802.500</td>\n",
       "      <td>4,49</td>\n",
       "      <td>+2,75%</td>\n",
       "    </tr>\n",
       "    <tr>\n",
       "      <th>4</th>\n",
       "      <td>CVCB3</td>\n",
       "      <td>CVC</td>\n",
       "      <td>33.596.100</td>\n",
       "      <td>2,25</td>\n",
       "      <td>+4,65%</td>\n",
       "    </tr>\n",
       "  </tbody>\n",
       "</table>\n",
       "</div>"
      ],
      "text/plain": [
       "  Ticker        Nome     Negócios Última (R$) Variação\n",
       "0  AMER3  Americanas  859.938.400        0,06  -14,29%\n",
       "1  B3SA3          B3   58.241.800       12,74   +1,59%\n",
       "2  COGN3       Cogna   50.190.700        1,43   +7,52%\n",
       "3  HAPV3     Hapvida   40.802.500        4,49   +2,75%\n",
       "4  CVCB3         CVC   33.596.100        2,25   +4,65%"
      ]
     },
     "execution_count": 2,
     "metadata": {},
     "output_type": "execute_result"
    }
   ],
   "source": [
    "\n",
    "# Caminho para o seu arquivo CSV (ajuste conforme necessário)\n",
    "caminho_arquivo = \"../dados/acoes-listadas-b3.csv\"\n",
    "# Lendo o arquivo CSV e criando um DataFrame\n",
    "df_lista = pd.read_csv(caminho_arquivo)\n",
    "\n",
    "df_lista.head()"
   ]
  },
  {
   "cell_type": "code",
   "execution_count": 3,
   "metadata": {},
   "outputs": [
    {
     "data": {
      "text/html": [
       "<div>\n",
       "<style scoped>\n",
       "    .dataframe tbody tr th:only-of-type {\n",
       "        vertical-align: middle;\n",
       "    }\n",
       "\n",
       "    .dataframe tbody tr th {\n",
       "        vertical-align: top;\n",
       "    }\n",
       "\n",
       "    .dataframe thead th {\n",
       "        text-align: right;\n",
       "    }\n",
       "</style>\n",
       "<table border=\"1\" class=\"dataframe\">\n",
       "  <thead>\n",
       "    <tr style=\"text-align: right;\">\n",
       "      <th></th>\n",
       "      <th>Ticker</th>\n",
       "      <th>Nome</th>\n",
       "      <th>Negócios</th>\n",
       "      <th>Última (R$)</th>\n",
       "      <th>Variação</th>\n",
       "    </tr>\n",
       "  </thead>\n",
       "  <tbody>\n",
       "    <tr>\n",
       "      <th>0</th>\n",
       "      <td>AMER3.SA</td>\n",
       "      <td>Americanas</td>\n",
       "      <td>859.938.400</td>\n",
       "      <td>0,06</td>\n",
       "      <td>-14,29%</td>\n",
       "    </tr>\n",
       "    <tr>\n",
       "      <th>1</th>\n",
       "      <td>B3SA3.SA</td>\n",
       "      <td>B3</td>\n",
       "      <td>58.241.800</td>\n",
       "      <td>12,74</td>\n",
       "      <td>+1,59%</td>\n",
       "    </tr>\n",
       "    <tr>\n",
       "      <th>2</th>\n",
       "      <td>COGN3.SA</td>\n",
       "      <td>Cogna</td>\n",
       "      <td>50.190.700</td>\n",
       "      <td>1,43</td>\n",
       "      <td>+7,52%</td>\n",
       "    </tr>\n",
       "    <tr>\n",
       "      <th>3</th>\n",
       "      <td>HAPV3.SA</td>\n",
       "      <td>Hapvida</td>\n",
       "      <td>40.802.500</td>\n",
       "      <td>4,49</td>\n",
       "      <td>+2,75%</td>\n",
       "    </tr>\n",
       "    <tr>\n",
       "      <th>4</th>\n",
       "      <td>CVCB3.SA</td>\n",
       "      <td>CVC</td>\n",
       "      <td>33.596.100</td>\n",
       "      <td>2,25</td>\n",
       "      <td>+4,65%</td>\n",
       "    </tr>\n",
       "  </tbody>\n",
       "</table>\n",
       "</div>"
      ],
      "text/plain": [
       "     Ticker        Nome     Negócios Última (R$) Variação\n",
       "0  AMER3.SA  Americanas  859.938.400        0,06  -14,29%\n",
       "1  B3SA3.SA          B3   58.241.800       12,74   +1,59%\n",
       "2  COGN3.SA       Cogna   50.190.700        1,43   +7,52%\n",
       "3  HAPV3.SA     Hapvida   40.802.500        4,49   +2,75%\n",
       "4  CVCB3.SA         CVC   33.596.100        2,25   +4,65%"
      ]
     },
     "execution_count": 3,
     "metadata": {},
     "output_type": "execute_result"
    }
   ],
   "source": [
    "df_lista['Ticker'] = df_lista['Ticker'] + '.SA'\n",
    "df_lista.head()"
   ]
  },
  {
   "cell_type": "code",
   "execution_count": 4,
   "metadata": {},
   "outputs": [],
   "source": [
    "df_lista.to_csv(caminho_arquivo, sep=';')"
   ]
  }
 ],
 "metadata": {
  "language_info": {
   "name": "python"
  }
 },
 "nbformat": 4,
 "nbformat_minor": 2
}
