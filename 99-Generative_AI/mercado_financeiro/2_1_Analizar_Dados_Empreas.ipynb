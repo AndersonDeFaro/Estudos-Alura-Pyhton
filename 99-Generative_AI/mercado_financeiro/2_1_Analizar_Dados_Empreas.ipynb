{
 "cells": [
  {
   "cell_type": "markdown",
   "metadata": {},
   "source": [
    "# Analizar Dados Empresas"
   ]
  },
  {
   "cell_type": "markdown",
   "metadata": {},
   "source": [
    "## Imports"
   ]
  },
  {
   "cell_type": "code",
   "execution_count": 160,
   "metadata": {},
   "outputs": [],
   "source": [
    "import pandas as pd\n",
    "import matplotlib.pyplot as plt\n",
    "import seaborn as sns\n",
    "import numpy as np\n"
   ]
  },
  {
   "cell_type": "markdown",
   "metadata": {},
   "source": [
    "## Metodos"
   ]
  },
  {
   "cell_type": "markdown",
   "metadata": {},
   "source": [
    "### Convert Tipo Dados"
   ]
  },
  {
   "cell_type": "code",
   "execution_count": 161,
   "metadata": {},
   "outputs": [],
   "source": [
    "def convert_data_types(df):\n",
    "    \"\"\"\n",
    "    Converts columns in a DataFrame to appropriate data types.\n",
    "\n",
    "    Args:\n",
    "        df (pd.DataFrame): The input DataFrame.\n",
    "\n",
    "    Returns:\n",
    "        pd.DataFrame: The DataFrame with converted data types.\n",
    "    \"\"\"\n",
    "\n",
    "    for col in df.columns:\n",
    "        try:\n",
    "            # Check for integers\n",
    "            if pd.api.types.is_numeric_dtype(df[col]):\n",
    "                df[col] = pd.to_numeric(df[col], errors='coerce')\n",
    "            # Check for floats\n",
    "            elif re.search(r\"^\\d+\\.\\d+$\", str(df[col].iloc[0])):  # Check first value for pattern\n",
    "                df[col] = pd.to_numeric(df[col], errors='coerce')\n",
    "            # Check for dates (basic format)\n",
    "            elif re.search(r\"^\\d{4}-\\d{2}-\\d{2}$\", str(df[col].iloc[0])):\n",
    "                df[col] = pd.to_datetime(df[col], errors='coerce')\n",
    "            # Keep strings as strings\n",
    "            else:\n",
    "                df[col] = df[col].astype(str)\n",
    "        except:\n",
    "            # Handle potential errors during conversion\n",
    "            pass\n",
    "\n",
    "    return df\n"
   ]
  },
  {
   "cell_type": "markdown",
   "metadata": {},
   "source": [
    "## Preparar Dados"
   ]
  },
  {
   "cell_type": "code",
   "execution_count": 162,
   "metadata": {},
   "outputs": [],
   "source": [
    "caminho_dados_b3 = '../dados/dados_acoes_empresas_b3.csv'\n",
    "dados_b3 = pd.read_csv(caminho_dados_b3, sep=';')"
   ]
  },
  {
   "cell_type": "code",
   "execution_count": 163,
   "metadata": {},
   "outputs": [],
   "source": [
    "#Converte tipos dos dados\n",
    "dados_b3 = convert_data_types(dados_b3)\n",
    "#Campos Fundamentação Ações\n",
    "fundamentos_b3 = dados_b3[['symbol', 'longName','sector','industry', 'trailingPE', 'priceToBook', 'returnOnEquity', 'profitMargins', 'debtToEquity', 'dividendYield']]"
   ]
  },
  {
   "cell_type": "markdown",
   "metadata": {},
   "source": [
    "### Tratar Valores Nulos"
   ]
  },
  {
   "cell_type": "code",
   "execution_count": 164,
   "metadata": {},
   "outputs": [],
   "source": [
    "# Remover linhas com valores nulos em colunas essenciais\n",
    "fundamentos_b3 = fundamentos_b3.dropna(subset=['symbol', 'longName', 'sector', 'industry'])\n",
    "# Substituindo todos os valores infinitos por NaN\n",
    "fundamentos_b3.replace([np.inf, -np.inf], np.nan, inplace=True)\n",
    "\n",
    "# Substituir valores nulos com a mediana para métricas financeiras\n",
    "colunas_para_mediana = ['trailingPE', 'priceToBook', 'returnOnEquity', 'profitMargins', 'debtToEquity']\n",
    "for coluna in colunas_para_mediana:\n",
    "    fundamentos_b3[coluna] = fundamentos_b3[coluna].fillna(fundamentos_b3[coluna].median())\n",
    "\n",
    "# Substituir valores nulos no Dividend Yield com 0 (assumindo que seja para empresas que não pagam dividendos)\n",
    "fundamentos_b3['dividendYield'] = fundamentos_b3['dividendYield'].fillna(0)"
   ]
  },
  {
   "cell_type": "markdown",
   "metadata": {},
   "source": [
    "### Calcular Estatísticas Descritivas"
   ]
  },
  {
   "cell_type": "code",
   "execution_count": 165,
   "metadata": {},
   "outputs": [
    {
     "name": "stdout",
     "output_type": "stream",
     "text": [
      "[8.76256900e+00 1.67200000e+01 1.33589750e+01 1.41318670e+01\n",
      " 5.16000000e+02 1.42083320e+01 5.75841900e+00 7.92086360e+00\n",
      " 4.78225800e+00 6.01036300e+00 9.82978700e+00 3.56666640e+01\n",
      " 7.61538400e+00 1.51951220e+01 1.91020400e+01 4.07781000e+00\n",
      " 6.26666680e+01 1.88857150e+01 1.62531640e+01 1.51449270e+01\n",
      " 2.93457940e+00 1.59259250e+01 2.84013600e+01 1.88864860e+01\n",
      " 9.59999900e+00 2.25625000e+01 6.72619060e+00 7.72803300e+00\n",
      " 2.02450980e+01 4.62748600e+00 1.76800000e+01 1.20512830e+01\n",
      " 3.33250000e+01 1.76666660e+01 6.25438550e+00 7.07324800e+00\n",
      " 1.32068970e+01 6.98505200e+00 6.22485200e+00 1.34631580e+01\n",
      " 1.91452520e+01 2.00000000e+01 1.07676980e+01 1.62596500e+01\n",
      " 9.04296900e+00 1.18955220e+01 2.64285740e+02 4.48709680e+01\n",
      " 3.85179860e+01 1.36956520e+01 1.33949570e+01 8.62028300e+00\n",
      " 5.49287750e+00 8.70149200e+00 1.48264470e+01 1.11758240e+01\n",
      " 6.35833300e+00 1.54689660e+01 1.41428580e+01 5.07453400e+00\n",
      " 7.90123400e-04 2.13500000e+01 1.16694210e+01 1.81005690e+01\n",
      " 1.31105530e+01 5.03448300e+00 1.65559100e+01 1.38070170e+01\n",
      " 8.36842200e+00 1.09924520e+01 3.38888900e+01 1.00277770e+01\n",
      " 8.68123300e+00 5.32608700e+00 3.17156860e+00 6.07901240e+00\n",
      " 2.25343150e+01 1.15473690e+01 6.12766000e+00 1.30385600e+01\n",
      " 2.93842390e+00 1.24218750e+01 6.91789500e+00 1.78703690e+00\n",
      " 1.29075150e+01 1.04263960e+01 1.17368420e+01 1.17000000e+01\n",
      " 1.48991585e+01 1.21724140e+01 8.23507400e+00 1.67118640e+01\n",
      " 1.10037590e+01 1.07886180e+01 1.95227280e+01 1.25368730e+00\n",
      " 7.07868000e+00 4.98046880e+00 7.43609050e+00 4.75378800e+00\n",
      " 1.86956520e+01 2.59032250e+00 1.39259250e+01 1.25781260e+01\n",
      " 8.20945900e+00 3.76823950e-02 5.35833320e+01 9.84946250e+00\n",
      " 7.26490070e+00 1.53622055e+01 5.24999950e+00 6.08527140e+00\n",
      " 1.12333330e+01 4.15483900e+00 1.52500000e+01 9.74193600e+00\n",
      " 8.56250000e+00 2.39024400e+00 6.13571450e+00 4.49902900e+00\n",
      " 7.23170700e+00 2.30000000e+01 5.50458700e+00 5.05263140e+00\n",
      " 6.11965800e+00 8.06382900e+00 9.08290200e+00 9.12121200e+00\n",
      " 6.34545470e+00 6.60000000e+00 1.46585370e+01 5.94444470e+00\n",
      " 3.04771250e+01 8.55851100e+00 5.64603950e+00 8.83962300e+00\n",
      " 1.23333330e+01 4.84810100e+00 6.04545480e+01 7.92805800e+00\n",
      " 1.79193530e+01 5.78723430e+00 1.81411760e+01 1.66885240e+01\n",
      " 1.58243250e+01 1.87826100e+01 7.24870500e+00 3.11170220e+00\n",
      " 6.30814000e+00 9.16666600e+00 1.20909090e+01 5.96703240e+00\n",
      " 5.58620700e+00 4.94339600e+00 1.25540905e+01 5.21052650e+00\n",
      " 7.71604900e+00 8.75464600e+00 2.72000000e+01 5.05397750e+00\n",
      " 1.07489540e+01 1.88299820e-01 7.91275170e+00 9.38888800e+00\n",
      " 2.48217750e-01 1.10270270e+01 8.96000000e+00 1.01013510e+01\n",
      " 8.15873050e+00 7.84563730e+00 1.77057370e-01 5.64133020e+00\n",
      " 1.34905670e+01 6.79558040e+00 4.69811300e+00 7.52777770e+00\n",
      " 5.23886630e+00 9.85714200e+00 3.51793720e+00 5.67567540e+00\n",
      " 2.96827000e-02 9.46221950e-02 1.80967750e+01 1.18461540e+00\n",
      " 6.81590000e+00 8.13100500e+00 1.31574070e+01 6.52739670e+00\n",
      " 4.57142870e+01 6.33136100e+00 6.71902280e+00 9.21052600e+00\n",
      " 6.36666680e+01 1.31688320e+01 5.47773270e+00 2.64102580e+00\n",
      " 3.12096760e+00 1.11917810e+01 6.13814740e+00 1.07727270e+01\n",
      " 5.60952400e+00 1.49692920e-02 6.21815000e+00 6.42857170e+00\n",
      " 6.88858700e+00 6.78879300e+00 2.04545460e+01 4.19753070e+00\n",
      " 8.64145100e-02 1.22691300e+01 5.13257550e+00 5.48850600e+00\n",
      " 2.34643720e+00 7.85461000e+00 1.36363640e+01 6.99456500e+00\n",
      " 7.75862070e+00 2.58838710e+01 1.74074060e+01 1.92736830e+02\n",
      " 9.45370300e+00 9.30814000e+00 1.21097560e+01 4.66049400e+00\n",
      " 6.98571440e+00 8.42168600e+00 7.15086200e+00 1.93181820e+01\n",
      " 7.88148100e+00 5.79710100e+00 7.15088130e+00 1.60222230e+01\n",
      " 2.73170730e+00 3.89375260e+00 3.08020040e+00 3.26976740e+01\n",
      " 8.53448300e+00 4.16339350e+00 1.38662310e+01 5.56768560e+00\n",
      " 5.01935500e+00 7.37913470e+00 7.04960870e+00 2.06428570e+02\n",
      " 7.76566740e+00 2.29000000e+01 3.91031400e+00 1.27195130e+01\n",
      " 6.11071160e+00 1.30342580e+01 1.27229560e+01 8.78048800e+00\n",
      " 9.83606500e+00 3.37634420e+00 1.05263160e+01 2.14218750e+01\n",
      " 7.55852800e-01 5.62419100e+00 8.93617000e+01 7.72340400e+01\n",
      " 1.85507240e+01 2.03571430e+02 3.52142830e+01 6.99735500e+00\n",
      " 2.41463410e+01 4.78395100e+00 1.02459010e+01 8.77049200e+00\n",
      " 2.38907860e+00 5.26570030e+00 2.70967750e+01 2.73037550e+00\n",
      " 4.90322600e+00 2.42320820e+00 1.38235280e+01 2.74566480e+01\n",
      " 8.01526700e+00 3.27193000e+00 2.45700240e+00 9.92682900e+00\n",
      " 7.11206900e+00 6.06060600e+00 1.99675000e+01]\n",
      "symbol            0\n",
      "longName          0\n",
      "sector            0\n",
      "industry          0\n",
      "trailingPE        0\n",
      "priceToBook       0\n",
      "returnOnEquity    0\n",
      "profitMargins     0\n",
      "debtToEquity      0\n",
      "dividendYield     0\n",
      "dtype: int64\n",
      "       trailingPE  priceToBook  returnOnEquity  profitMargins  debtToEquity  \\\n",
      "count  398.000000   398.000000      398.000000     398.000000    398.000000   \n",
      "mean    14.307399     2.663045        0.076530       1.066128    118.290585   \n",
      "std     34.041088    13.517981        0.550185       9.643396    247.293709   \n",
      "min      0.000790     0.090217       -4.201170      -1.837160      0.032000   \n",
      "25%      6.895914     0.808104        0.039370       0.001185     43.314500   \n",
      "50%      8.762569     1.177920        0.108950       0.085380     74.924000   \n",
      "75%     12.156750     1.721544        0.186410       0.171925    125.129750   \n",
      "max    516.000000   170.560750        3.712790     115.542510   4016.561000   \n",
      "\n",
      "       dividendYield  \n",
      "count     398.000000  \n",
      "mean        0.044560  \n",
      "std         0.072684  \n",
      "min         0.000000  \n",
      "25%         0.000000  \n",
      "50%         0.026600  \n",
      "75%         0.061050  \n",
      "max         0.735400  \n",
      "      trailingPE  priceToBook  returnOnEquity  profitMargins  debtToEquity  \\\n",
      "0.25    6.895914     0.808104         0.03937       0.001185      43.31450   \n",
      "0.50    8.762569     1.177920         0.10895       0.085380      74.92400   \n",
      "0.75   12.156750     1.721544         0.18641       0.171925     125.12975   \n",
      "\n",
      "      dividendYield  \n",
      "0.25        0.00000  \n",
      "0.50        0.02660  \n",
      "0.75        0.06105  \n"
     ]
    }
   ],
   "source": [
    "\n",
    "# Verificar valores únicos em uma coluna específica (por exemplo, 'trailingPE')\n",
    "print(fundamentos_b3['trailingPE'].unique())\n",
    "\n",
    "# Substituir NaN por um valor específico (se necessário)\n",
    "fundamentos_b3.fillna(0, inplace=True)  # Substitui todos os NaN por 0\n",
    "\n",
    "# Verificar valores nulos\n",
    "print(fundamentos_b3.isnull().sum())\n",
    "\n",
    "# Recalcular estatísticas e percentis\n",
    "estatisticas_descritivas = fundamentos_b3.describe()\n",
    "percentis = fundamentos_b3[['trailingPE', 'priceToBook', 'returnOnEquity',  'profitMargins',  'debtToEquity',  'dividendYield']].quantile([0.25, 0.5, 0.75])\n",
    "\n",
    "print(estatisticas_descritivas)\n",
    "print(percentis)"
   ]
  },
  {
   "cell_type": "markdown",
   "metadata": {},
   "source": [
    "### Analisar por Setor e Indústria"
   ]
  },
  {
   "cell_type": "code",
   "execution_count": 166,
   "metadata": {},
   "outputs": [
    {
     "name": "stdout",
     "output_type": "stream",
     "text": [
      "                        trailingPE  priceToBook  returnOnEquity  \\\n",
      "sector                                                            \n",
      "Basic Materials          29.694104    12.329391       -0.185394   \n",
      "Communication Services   13.705958     1.218760        0.089325   \n",
      "Consumer Cyclical        16.149235     1.314994        0.047354   \n",
      "Consumer Defensive       16.685531     1.586687        0.058026   \n",
      "Energy                    7.553954     1.358682        0.176281   \n",
      "Financial Services        8.723141     1.370501        0.169053   \n",
      "Healthcare               13.327745     1.664805        0.029476   \n",
      "Industrials              13.300654     1.788278        0.045829   \n",
      "Real Estate               9.746080     1.204660        0.060750   \n",
      "Technology               10.883185     1.334039        0.008002   \n",
      "Utilities                10.283190     1.867115        0.296156   \n",
      "\n",
      "                        profitMargins  debtToEquity  dividendYield  \n",
      "sector                                                              \n",
      "Basic Materials              0.033623    175.352762       0.063748  \n",
      "Communication Services       0.057951     51.677000       0.068931  \n",
      "Consumer Cyclical            0.063799     97.168493       0.024020  \n",
      "Consumer Defensive           0.045446    220.913154       0.030050  \n",
      "Energy                       0.123955    103.584100       0.041550  \n",
      "Financial Services           5.593800     63.714535       0.046228  \n",
      "Healthcare                  -0.003934     99.214476       0.031790  \n",
      "Industrials                  2.337257    145.253508       0.026500  \n",
      "Real Estate                  0.483227     79.854771       0.054657  \n",
      "Technology                   0.057598     40.940000       0.039854  \n",
      "Utilities                    0.166706    136.346931       0.074072  \n",
      "                                trailingPE  priceToBook  returnOnEquity  \\\n",
      "industry                                                                  \n",
      "Advertising Agencies             17.981285     1.972805        0.108950   \n",
      "Aerospace & Defense              17.425259     1.508886        0.089453   \n",
      "Agricultural Inputs               8.091682     1.319739        0.052933   \n",
      "Airlines                          8.762569     1.177920        0.108950   \n",
      "Aluminum                          8.762569     0.838284       -0.199350   \n",
      "...                                    ...          ...             ...   \n",
      "Utilities - Regulated Electric    8.927748     1.737702        0.231140   \n",
      "Utilities - Regulated Gas         5.531401    13.130734        3.712790   \n",
      "Utilities - Regulated Water       9.025184     1.220809        0.160515   \n",
      "Utilities - Renewable            12.925979     0.988504        0.060188   \n",
      "Waste Management                 19.619847     6.349816        0.059790   \n",
      "\n",
      "                                profitMargins  debtToEquity  dividendYield  \n",
      "industry                                                                    \n",
      "Advertising Agencies                -0.097935     76.929500       0.000600  \n",
      "Aerospace & Defense                  0.053007     62.671000       0.018133  \n",
      "Agricultural Inputs                  0.027612     92.648667       0.026617  \n",
      "Airlines                            -0.243385     74.924000       0.000000  \n",
      "Aluminum                            -0.142500    128.679000       0.070900  \n",
      "...                                       ...           ...            ...  \n",
      "Utilities - Regulated Electric       0.175524    121.912161       0.099700  \n",
      "Utilities - Regulated Gas            0.189480    601.463000       0.157650  \n",
      "Utilities - Regulated Water          0.199085     65.814500       0.047475  \n",
      "Utilities - Renewable                0.111139    169.030250       0.015525  \n",
      "Waste Management                     0.046025    258.569000       0.006600  \n",
      "\n",
      "[91 rows x 6 columns]\n",
      "                        trailingPE  priceToBook  returnOnEquity  \\\n",
      "sector                                                            \n",
      "Basic Materials           8.762569     1.177920        0.092175   \n",
      "Communication Services    8.762569     1.177920        0.105940   \n",
      "Consumer Cyclical         8.762569     1.177920        0.108950   \n",
      "Consumer Defensive        9.578801     1.177920        0.078460   \n",
      "Energy                    8.762569     1.335129        0.172280   \n",
      "Financial Services        8.620283     1.003854        0.157730   \n",
      "Healthcare               10.788618     1.130137        0.079140   \n",
      "Industrials               8.762569     1.190321        0.119890   \n",
      "Real Estate               8.762569     0.800929        0.094390   \n",
      "Technology                8.762569     0.931402        0.048160   \n",
      "Utilities                 7.863559     1.260876        0.154195   \n",
      "\n",
      "                        profitMargins  debtToEquity  dividendYield  \n",
      "sector                                                              \n",
      "Basic Materials              0.029175       50.1225        0.05380  \n",
      "Communication Services       0.093335       68.0315        0.00310  \n",
      "Consumer Cyclical            0.039210       74.9240        0.00000  \n",
      "Consumer Defensive           0.015985      147.1290        0.00935  \n",
      "Energy                       0.121600       88.1480        0.02085  \n",
      "Financial Services           0.203540       74.9240        0.03890  \n",
      "Healthcare                   0.019380       95.3310        0.03340  \n",
      "Industrials                  0.085380       74.9240        0.01380  \n",
      "Real Estate                  0.123450       71.6770        0.02570  \n",
      "Technology                   0.066770       19.5490        0.01500  \n",
      "Utilities                    0.147500      109.8150        0.05670  \n",
      "                                trailingPE  priceToBook  returnOnEquity  \\\n",
      "industry                                                                  \n",
      "Advertising Agencies             17.981285     1.972805        0.108950   \n",
      "Aerospace & Defense              17.919353     1.199743        0.069020   \n",
      "Agricultural Inputs               8.762569     1.490283        0.159505   \n",
      "Airlines                          8.762569     1.177920        0.108950   \n",
      "Aluminum                          8.762569     0.838284       -0.199350   \n",
      "...                                    ...          ...             ...   \n",
      "Utilities - Regulated Electric    7.527778     1.381973        0.193290   \n",
      "Utilities - Regulated Gas         5.531401    13.130734        3.712790   \n",
      "Utilities - Regulated Water       6.106466     1.012559        0.157320   \n",
      "Utilities - Renewable             8.762569     0.899628        0.039370   \n",
      "Waste Management                 19.619847     6.349816        0.059790   \n",
      "\n",
      "                                profitMargins  debtToEquity  dividendYield  \n",
      "industry                                                                    \n",
      "Advertising Agencies                -0.097935       76.9295        0.00060  \n",
      "Aerospace & Defense                  0.045760       49.7120        0.02710  \n",
      "Agricultural Inputs                  0.047630       54.8770        0.01650  \n",
      "Airlines                            -0.243385       74.9240        0.00000  \n",
      "Aluminum                            -0.142500      128.6790        0.07090  \n",
      "...                                       ...           ...            ...  \n",
      "Utilities - Regulated Electric       0.135600      123.1160        0.06640  \n",
      "Utilities - Regulated Gas            0.189480      601.4630        0.15765  \n",
      "Utilities - Regulated Water          0.209190       65.3315        0.04755  \n",
      "Utilities - Renewable                0.124080      130.5340        0.01475  \n",
      "Waste Management                     0.046025      258.5690        0.00660  \n",
      "\n",
      "[91 rows x 6 columns]\n"
     ]
    }
   ],
   "source": [
    "# Agrupar por setor e calcular médias\n",
    "media_por_setor = fundamentos_b3.groupby('sector').mean(numeric_only=True)\n",
    "print(media_por_setor)\n",
    "\n",
    "# Agrupar por indústria e calcular médias\n",
    "media_por_industria = fundamentos_b3.groupby('industry').mean(numeric_only=True)\n",
    "print(media_por_industria)\n",
    "\n",
    "# Opcional: Calcular medianas por setor e indústria\n",
    "mediana_por_setor = fundamentos_b3.groupby('sector').median(numeric_only=True)\n",
    "print(mediana_por_setor)\n",
    "\n",
    "mediana_por_industria = fundamentos_b3.groupby('industry').median(numeric_only=True)\n",
    "print(mediana_por_industria)\n"
   ]
  },
  {
   "cell_type": "markdown",
   "metadata": {},
   "source": [
    "###  Visualizar Dados - ROE por Setor"
   ]
  },
  {
   "cell_type": "code",
   "execution_count": 167,
   "metadata": {},
   "outputs": [
    {
     "data": {
      "image/png": "[encoded data removed]",
      "text/plain": [
       "<Figure size 1200x600 with 1 Axes>"
      ]
     },
     "metadata": {},
     "output_type": "display_data"
    }
   ],
   "source": [
    "# Exemplo: Boxplot para ROE por setor\n",
    "plt.figure(figsize=(12, 6))\n",
    "sns.boxplot(x='sector', y='returnOnEquity', data=fundamentos_b3)\n",
    "plt.xticks(rotation=90)\n",
    "plt.title('ROE por Setor')\n",
    "plt.show()"
   ]
  },
  {
   "cell_type": "markdown",
   "metadata": {},
   "source": [
    "## Armazenar Dados"
   ]
  },
  {
   "cell_type": "code",
   "execution_count": 168,
   "metadata": {},
   "outputs": [],
   "source": [
    "caminho_fundamentos = '../dados/fundamentos_b3.csv'\n",
    "fundamentos_b3.to_csv(caminho_fundamentos, sep=';')"
   ]
  }
 ],
 "metadata": {
  "kernelspec": {
   "display_name": "Python 3",
   "language": "python",
   "name": "python3"
  },
  "language_info": {
   "codemirror_mode": {
    "name": "ipython",
    "version": 3
   },
   "file_extension": ".py",
   "mimetype": "text/x-python",
   "name": "python",
   "nbconvert_exporter": "python",
   "pygments_lexer": "ipython3",
   "version": "3.11.9"
  }
 },
 "nbformat": 4,
 "nbformat_minor": 2
}
