{
 "cells": [
  {
   "cell_type": "markdown",
   "metadata": {},
   "source": [
    "# Dados B3"
   ]
  },
  {
   "cell_type": "markdown",
   "metadata": {},
   "source": [
    "## Import"
   ]
  },
  {
   "cell_type": "code",
   "execution_count": 1,
   "metadata": {},
   "outputs": [],
   "source": [
    "import pandas as pd\n",
    "import yfinance as yf\n",
    "import time\n"
   ]
  },
  {
   "cell_type": "markdown",
   "metadata": {},
   "source": [
    "## Obter empresas B3"
   ]
  },
  {
   "cell_type": "code",
   "execution_count": 2,
   "metadata": {},
   "outputs": [
    {
     "data": {
      "text/html": [
       "<div>\n",
       "<style scoped>\n",
       "    .dataframe tbody tr th:only-of-type {\n",
       "        vertical-align: middle;\n",
       "    }\n",
       "\n",
       "    .dataframe tbody tr th {\n",
       "        vertical-align: top;\n",
       "    }\n",
       "\n",
       "    .dataframe thead th {\n",
       "        text-align: right;\n",
       "    }\n",
       "</style>\n",
       "<table border=\"1\" class=\"dataframe\">\n",
       "  <thead>\n",
       "    <tr style=\"text-align: right;\">\n",
       "      <th></th>\n",
       "      <th>Unnamed: 0</th>\n",
       "      <th>Ticker</th>\n",
       "      <th>Nome</th>\n",
       "      <th>Negócios</th>\n",
       "      <th>Última (R$)</th>\n",
       "      <th>Variação</th>\n",
       "    </tr>\n",
       "  </thead>\n",
       "  <tbody>\n",
       "    <tr>\n",
       "      <th>0</th>\n",
       "      <td>0</td>\n",
       "      <td>AMER3.SA</td>\n",
       "      <td>Americanas</td>\n",
       "      <td>859.938.400</td>\n",
       "      <td>0,06</td>\n",
       "      <td>-14,29%</td>\n",
       "    </tr>\n",
       "    <tr>\n",
       "      <th>1</th>\n",
       "      <td>1</td>\n",
       "      <td>B3SA3.SA</td>\n",
       "      <td>B3</td>\n",
       "      <td>58.241.800</td>\n",
       "      <td>12,74</td>\n",
       "      <td>+1,59%</td>\n",
       "    </tr>\n",
       "    <tr>\n",
       "      <th>2</th>\n",
       "      <td>2</td>\n",
       "      <td>COGN3.SA</td>\n",
       "      <td>Cogna</td>\n",
       "      <td>50.190.700</td>\n",
       "      <td>1,43</td>\n",
       "      <td>+7,52%</td>\n",
       "    </tr>\n",
       "    <tr>\n",
       "      <th>3</th>\n",
       "      <td>3</td>\n",
       "      <td>HAPV3.SA</td>\n",
       "      <td>Hapvida</td>\n",
       "      <td>40.802.500</td>\n",
       "      <td>4,49</td>\n",
       "      <td>+2,75%</td>\n",
       "    </tr>\n",
       "    <tr>\n",
       "      <th>4</th>\n",
       "      <td>4</td>\n",
       "      <td>CVCB3.SA</td>\n",
       "      <td>CVC</td>\n",
       "      <td>33.596.100</td>\n",
       "      <td>2,25</td>\n",
       "      <td>+4,65%</td>\n",
       "    </tr>\n",
       "  </tbody>\n",
       "</table>\n",
       "</div>"
      ],
      "text/plain": [
       "   Unnamed: 0    Ticker        Nome     Negócios Última (R$) Variação\n",
       "0           0  AMER3.SA  Americanas  859.938.400        0,06  -14,29%\n",
       "1           1  B3SA3.SA          B3   58.241.800       12,74   +1,59%\n",
       "2           2  COGN3.SA       Cogna   50.190.700        1,43   +7,52%\n",
       "3           3  HAPV3.SA     Hapvida   40.802.500        4,49   +2,75%\n",
       "4           4  CVCB3.SA         CVC   33.596.100        2,25   +4,65%"
      ]
     },
     "execution_count": 2,
     "metadata": {},
     "output_type": "execute_result"
    }
   ],
   "source": [
    "\n",
    "# Caminho para o seu arquivo CSV (ajuste conforme necessário)\n",
    "caminho_arquivo = \"../dados/acoes-listadas-b3.csv\"\n",
    "# Lendo o arquivo CSV e criando um DataFrame\n",
    "df_lista = pd.read_csv(caminho_arquivo, sep=';')\n",
    "\n",
    "df_lista.head()\n"
   ]
  },
  {
   "cell_type": "code",
   "execution_count": 3,
   "metadata": {},
   "outputs": [],
   "source": [
    "# Função para obter informações de uma ação\n",
    "#def obter_info_acao(ticker):\n",
    " #   acao = yf.Ticker(ticker)\n",
    " #   info = acao.info\n",
    " #   return info"
   ]
  },
  {
   "cell_type": "code",
   "execution_count": 4,
   "metadata": {},
   "outputs": [],
   "source": [
    "\n",
    "#info = obter_info_acao(df_lista['Ticker'][0])\n",
    "#type(info)\n",
    "#print(info)"
   ]
  },
  {
   "cell_type": "code",
   "execution_count": 5,
   "metadata": {},
   "outputs": [],
   "source": [
    "#count = 0\n",
    "df_info = pd.DataFrame()\n",
    "\n",
    "for symbol in df_lista['Ticker']:\n",
    "    tk = yf.Ticker(symbol)\n",
    "    tk_info = tk.info\n",
    "    \n",
    "    if tk_info:  # Verifica se tk.info não é vazio\n",
    "        tk_df = pd.DataFrame([tk_info])  # Coloca tk.info em um DataFrame\n",
    "\n",
    "        # Remove colunas que são completamente NA\n",
    "        tk_df = tk_df.dropna(axis=1, how='all')\n",
    "\n",
    "        # Verifica se o DataFrame resultante não está vazio\n",
    "        if not tk_df.empty:\n",
    "            tk_df['Ticker'] = symbol\n",
    "            df_info = pd.concat([df_info, tk_df], ignore_index=True)\n",
    "        \n",
    "    #count += 1\n",
    "    #if count >= 10:\n",
    "    #    time.sleep(5)\n",
    "    #    count = 0\n"
   ]
  },
  {
   "cell_type": "markdown",
   "metadata": {},
   "source": [
    "## Export Dados - B3"
   ]
  },
  {
   "cell_type": "code",
   "execution_count": 6,
   "metadata": {},
   "outputs": [],
   "source": [
    "# Caminho para o seu arquivo CSV (ajuste conforme necessário)\n",
    "caminho_arquivo_dados_bd = \"../dados/dados_acoes_empresas_b3.csv\"\n",
    "# Lendo o arquivo CSV e criando um DataFrame\n",
    "df_info.to_csv(caminho_arquivo_dados_bd, sep=';')"
   ]
  }
 ],
 "metadata": {
  "kernelspec": {
   "display_name": "Python 3",
   "language": "python",
   "name": "python3"
  },
  "language_info": {
   "codemirror_mode": {
    "name": "ipython",
    "version": 3
   },
   "file_extension": ".py",
   "mimetype": "text/x-python",
   "name": "python",
   "nbconvert_exporter": "python",
   "pygments_lexer": "ipython3",
   "version": "3.11.9"
  }
 },
 "nbformat": 4,
 "nbformat_minor": 2
}
