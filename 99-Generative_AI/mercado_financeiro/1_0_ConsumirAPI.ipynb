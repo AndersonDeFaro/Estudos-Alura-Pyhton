{
 "cells": [
  {
   "cell_type": "markdown",
   "metadata": {},
   "source": [
    "# Consumir dados API- Company Overview - www.alphavantage.co"
   ]
  },
  {
   "cell_type": "markdown",
   "metadata": {},
   "source": [
    "## Capturar dados Básicos"
   ]
  },
  {
   "cell_type": "markdown",
   "metadata": {},
   "source": [
    "### Importação Básica"
   ]
  },
  {
   "cell_type": "code",
   "execution_count": 325,
   "metadata": {},
   "outputs": [
    {
     "name": "stdout",
     "output_type": "stream",
     "text": [
      "Requirement already satisfied: python-dotenv in c:\\users\\anderson\\appdata\\local\\packages\\pythonsoftwarefoundation.python.3.11_qbz5n2kfra8p0\\localcache\\local-packages\\python311\\site-packages (1.0.1)\n",
      "Requirement already satisfied: requests in c:\\users\\anderson\\appdata\\local\\packages\\pythonsoftwarefoundation.python.3.11_qbz5n2kfra8p0\\localcache\\local-packages\\python311\\site-packages (2.32.3)\n",
      "Requirement already satisfied: charset-normalizer<4,>=2 in c:\\users\\anderson\\appdata\\local\\packages\\pythonsoftwarefoundation.python.3.11_qbz5n2kfra8p0\\localcache\\local-packages\\python311\\site-packages (from requests) (3.3.2)\n",
      "Requirement already satisfied: idna<4,>=2.5 in c:\\users\\anderson\\appdata\\local\\packages\\pythonsoftwarefoundation.python.3.11_qbz5n2kfra8p0\\localcache\\local-packages\\python311\\site-packages (from requests) (3.6)\n",
      "Requirement already satisfied: urllib3<3,>=1.21.1 in c:\\users\\anderson\\appdata\\local\\packages\\pythonsoftwarefoundation.python.3.11_qbz5n2kfra8p0\\localcache\\local-packages\\python311\\site-packages (from requests) (1.26.19)\n",
      "Requirement already satisfied: certifi>=2017.4.17 in c:\\users\\anderson\\appdata\\local\\packages\\pythonsoftwarefoundation.python.3.11_qbz5n2kfra8p0\\localcache\\local-packages\\python311\\site-packages (from requests) (2024.2.2)\n",
      "Requirement already satisfied: yfinance in c:\\users\\anderson\\appdata\\local\\packages\\pythonsoftwarefoundation.python.3.11_qbz5n2kfra8p0\\localcache\\local-packages\\python311\\site-packages (0.2.41)\n",
      "Requirement already satisfied: pandas>=1.3.0 in c:\\users\\anderson\\appdata\\local\\packages\\pythonsoftwarefoundation.python.3.11_qbz5n2kfra8p0\\localcache\\local-packages\\python311\\site-packages (from yfinance) (2.2.2)\n",
      "Requirement already satisfied: numpy>=1.16.5 in c:\\users\\anderson\\appdata\\local\\packages\\pythonsoftwarefoundation.python.3.11_qbz5n2kfra8p0\\localcache\\local-packages\\python311\\site-packages (from yfinance) (2.0.1)\n",
      "Requirement already satisfied: requests>=2.31 in c:\\users\\anderson\\appdata\\local\\packages\\pythonsoftwarefoundation.python.3.11_qbz5n2kfra8p0\\localcache\\local-packages\\python311\\site-packages (from yfinance) (2.32.3)\n",
      "Requirement already satisfied: multitasking>=0.0.7 in c:\\users\\anderson\\appdata\\local\\packages\\pythonsoftwarefoundation.python.3.11_qbz5n2kfra8p0\\localcache\\local-packages\\python311\\site-packages (from yfinance) (0.0.11)\n",
      "Requirement already satisfied: lxml>=4.9.1 in c:\\users\\anderson\\appdata\\local\\packages\\pythonsoftwarefoundation.python.3.11_qbz5n2kfra8p0\\localcache\\local-packages\\python311\\site-packages (from yfinance) (5.3.0)\n",
      "Requirement already satisfied: platformdirs>=2.0.0 in c:\\users\\anderson\\appdata\\local\\packages\\pythonsoftwarefoundation.python.3.11_qbz5n2kfra8p0\\localcache\\local-packages\\python311\\site-packages (from yfinance) (4.2.2)\n",
      "Requirement already satisfied: pytz>=2022.5 in c:\\users\\anderson\\appdata\\local\\packages\\pythonsoftwarefoundation.python.3.11_qbz5n2kfra8p0\\localcache\\local-packages\\python311\\site-packages (from yfinance) (2024.1)\n",
      "Requirement already satisfied: frozendict>=2.3.4 in c:\\users\\anderson\\appdata\\local\\packages\\pythonsoftwarefoundation.python.3.11_qbz5n2kfra8p0\\localcache\\local-packages\\python311\\site-packages (from yfinance) (2.4.4)\n",
      "Requirement already satisfied: peewee>=3.16.2 in c:\\users\\anderson\\appdata\\local\\packages\\pythonsoftwarefoundation.python.3.11_qbz5n2kfra8p0\\localcache\\local-packages\\python311\\site-packages (from yfinance) (3.17.6)\n",
      "Requirement already satisfied: beautifulsoup4>=4.11.1 in c:\\users\\anderson\\appdata\\local\\packages\\pythonsoftwarefoundation.python.3.11_qbz5n2kfra8p0\\localcache\\local-packages\\python311\\site-packages (from yfinance) (4.12.3)\n",
      "Requirement already satisfied: html5lib>=1.1 in c:\\users\\anderson\\appdata\\local\\packages\\pythonsoftwarefoundation.python.3.11_qbz5n2kfra8p0\\localcache\\local-packages\\python311\\site-packages (from yfinance) (1.1)\n",
      "Requirement already satisfied: soupsieve>1.2 in c:\\users\\anderson\\appdata\\local\\packages\\pythonsoftwarefoundation.python.3.11_qbz5n2kfra8p0\\localcache\\local-packages\\python311\\site-packages (from beautifulsoup4>=4.11.1->yfinance) (2.6)\n",
      "Requirement already satisfied: six>=1.9 in c:\\users\\anderson\\appdata\\local\\packages\\pythonsoftwarefoundation.python.3.11_qbz5n2kfra8p0\\localcache\\local-packages\\python311\\site-packages (from html5lib>=1.1->yfinance) (1.16.0)\n",
      "Requirement already satisfied: webencodings in c:\\users\\anderson\\appdata\\local\\packages\\pythonsoftwarefoundation.python.3.11_qbz5n2kfra8p0\\localcache\\local-packages\\python311\\site-packages (from html5lib>=1.1->yfinance) (0.5.1)\n",
      "Requirement already satisfied: python-dateutil>=2.8.2 in c:\\users\\anderson\\appdata\\local\\packages\\pythonsoftwarefoundation.python.3.11_qbz5n2kfra8p0\\localcache\\local-packages\\python311\\site-packages (from pandas>=1.3.0->yfinance) (2.9.0.post0)\n",
      "Requirement already satisfied: tzdata>=2022.7 in c:\\users\\anderson\\appdata\\local\\packages\\pythonsoftwarefoundation.python.3.11_qbz5n2kfra8p0\\localcache\\local-packages\\python311\\site-packages (from pandas>=1.3.0->yfinance) (2024.1)\n",
      "Requirement already satisfied: charset-normalizer<4,>=2 in c:\\users\\anderson\\appdata\\local\\packages\\pythonsoftwarefoundation.python.3.11_qbz5n2kfra8p0\\localcache\\local-packages\\python311\\site-packages (from requests>=2.31->yfinance) (3.3.2)\n",
      "Requirement already satisfied: idna<4,>=2.5 in c:\\users\\anderson\\appdata\\local\\packages\\pythonsoftwarefoundation.python.3.11_qbz5n2kfra8p0\\localcache\\local-packages\\python311\\site-packages (from requests>=2.31->yfinance) (3.6)\n",
      "Requirement already satisfied: urllib3<3,>=1.21.1 in c:\\users\\anderson\\appdata\\local\\packages\\pythonsoftwarefoundation.python.3.11_qbz5n2kfra8p0\\localcache\\local-packages\\python311\\site-packages (from requests>=2.31->yfinance) (1.26.19)\n",
      "Requirement already satisfied: certifi>=2017.4.17 in c:\\users\\anderson\\appdata\\local\\packages\\pythonsoftwarefoundation.python.3.11_qbz5n2kfra8p0\\localcache\\local-packages\\python311\\site-packages (from requests>=2.31->yfinance) (2024.2.2)\n",
      "Requirement already satisfied: mplfinance in c:\\users\\anderson\\appdata\\local\\packages\\pythonsoftwarefoundation.python.3.11_qbz5n2kfra8p0\\localcache\\local-packages\\python311\\site-packages (0.12.10b0)\n",
      "Requirement already satisfied: matplotlib in c:\\users\\anderson\\appdata\\local\\packages\\pythonsoftwarefoundation.python.3.11_qbz5n2kfra8p0\\localcache\\local-packages\\python311\\site-packages (from mplfinance) (3.9.2)\n",
      "Requirement already satisfied: pandas in c:\\users\\anderson\\appdata\\local\\packages\\pythonsoftwarefoundation.python.3.11_qbz5n2kfra8p0\\localcache\\local-packages\\python311\\site-packages (from mplfinance) (2.2.2)\n",
      "Requirement already satisfied: contourpy>=1.0.1 in c:\\users\\anderson\\appdata\\local\\packages\\pythonsoftwarefoundation.python.3.11_qbz5n2kfra8p0\\localcache\\local-packages\\python311\\site-packages (from matplotlib->mplfinance) (1.2.1)\n",
      "Requirement already satisfied: cycler>=0.10 in c:\\users\\anderson\\appdata\\local\\packages\\pythonsoftwarefoundation.python.3.11_qbz5n2kfra8p0\\localcache\\local-packages\\python311\\site-packages (from matplotlib->mplfinance) (0.12.1)\n",
      "Requirement already satisfied: fonttools>=4.22.0 in c:\\users\\anderson\\appdata\\local\\packages\\pythonsoftwarefoundation.python.3.11_qbz5n2kfra8p0\\localcache\\local-packages\\python311\\site-packages (from matplotlib->mplfinance) (4.53.1)\n",
      "Requirement already satisfied: kiwisolver>=1.3.1 in c:\\users\\anderson\\appdata\\local\\packages\\pythonsoftwarefoundation.python.3.11_qbz5n2kfra8p0\\localcache\\local-packages\\python311\\site-packages (from matplotlib->mplfinance) (1.4.5)\n",
      "Requirement already satisfied: numpy>=1.23 in c:\\users\\anderson\\appdata\\local\\packages\\pythonsoftwarefoundation.python.3.11_qbz5n2kfra8p0\\localcache\\local-packages\\python311\\site-packages (from matplotlib->mplfinance) (2.0.1)\n",
      "Requirement already satisfied: packaging>=20.0 in c:\\users\\anderson\\appdata\\local\\packages\\pythonsoftwarefoundation.python.3.11_qbz5n2kfra8p0\\localcache\\local-packages\\python311\\site-packages (from matplotlib->mplfinance) (23.2)\n",
      "Requirement already satisfied: pillow>=8 in c:\\users\\anderson\\appdata\\local\\packages\\pythonsoftwarefoundation.python.3.11_qbz5n2kfra8p0\\localcache\\local-packages\\python311\\site-packages (from matplotlib->mplfinance) (10.4.0)\n",
      "Requirement already satisfied: pyparsing>=2.3.1 in c:\\users\\anderson\\appdata\\local\\packages\\pythonsoftwarefoundation.python.3.11_qbz5n2kfra8p0\\localcache\\local-packages\\python311\\site-packages (from matplotlib->mplfinance) (3.1.2)\n",
      "Requirement already satisfied: python-dateutil>=2.7 in c:\\users\\anderson\\appdata\\local\\packages\\pythonsoftwarefoundation.python.3.11_qbz5n2kfra8p0\\localcache\\local-packages\\python311\\site-packages (from matplotlib->mplfinance) (2.9.0.post0)\n",
      "Requirement already satisfied: pytz>=2020.1 in c:\\users\\anderson\\appdata\\local\\packages\\pythonsoftwarefoundation.python.3.11_qbz5n2kfra8p0\\localcache\\local-packages\\python311\\site-packages (from pandas->mplfinance) (2024.1)\n",
      "Requirement already satisfied: tzdata>=2022.7 in c:\\users\\anderson\\appdata\\local\\packages\\pythonsoftwarefoundation.python.3.11_qbz5n2kfra8p0\\localcache\\local-packages\\python311\\site-packages (from pandas->mplfinance) (2024.1)\n",
      "Requirement already satisfied: six>=1.5 in c:\\users\\anderson\\appdata\\local\\packages\\pythonsoftwarefoundation.python.3.11_qbz5n2kfra8p0\\localcache\\local-packages\\python311\\site-packages (from python-dateutil>=2.7->matplotlib->mplfinance) (1.16.0)\n",
      "Requirement already satisfied: seaborn in c:\\users\\anderson\\appdata\\local\\packages\\pythonsoftwarefoundation.python.3.11_qbz5n2kfra8p0\\localcache\\local-packages\\python311\\site-packages (0.13.2)\n",
      "Requirement already satisfied: numpy!=1.24.0,>=1.20 in c:\\users\\anderson\\appdata\\local\\packages\\pythonsoftwarefoundation.python.3.11_qbz5n2kfra8p0\\localcache\\local-packages\\python311\\site-packages (from seaborn) (2.0.1)\n",
      "Requirement already satisfied: pandas>=1.2 in c:\\users\\anderson\\appdata\\local\\packages\\pythonsoftwarefoundation.python.3.11_qbz5n2kfra8p0\\localcache\\local-packages\\python311\\site-packages (from seaborn) (2.2.2)\n",
      "Requirement already satisfied: matplotlib!=3.6.1,>=3.4 in c:\\users\\anderson\\appdata\\local\\packages\\pythonsoftwarefoundation.python.3.11_qbz5n2kfra8p0\\localcache\\local-packages\\python311\\site-packages (from seaborn) (3.9.2)\n",
      "Requirement already satisfied: contourpy>=1.0.1 in c:\\users\\anderson\\appdata\\local\\packages\\pythonsoftwarefoundation.python.3.11_qbz5n2kfra8p0\\localcache\\local-packages\\python311\\site-packages (from matplotlib!=3.6.1,>=3.4->seaborn) (1.2.1)\n",
      "Requirement already satisfied: cycler>=0.10 in c:\\users\\anderson\\appdata\\local\\packages\\pythonsoftwarefoundation.python.3.11_qbz5n2kfra8p0\\localcache\\local-packages\\python311\\site-packages (from matplotlib!=3.6.1,>=3.4->seaborn) (0.12.1)\n",
      "Requirement already satisfied: fonttools>=4.22.0 in c:\\users\\anderson\\appdata\\local\\packages\\pythonsoftwarefoundation.python.3.11_qbz5n2kfra8p0\\localcache\\local-packages\\python311\\site-packages (from matplotlib!=3.6.1,>=3.4->seaborn) (4.53.1)\n",
      "Requirement already satisfied: kiwisolver>=1.3.1 in c:\\users\\anderson\\appdata\\local\\packages\\pythonsoftwarefoundation.python.3.11_qbz5n2kfra8p0\\localcache\\local-packages\\python311\\site-packages (from matplotlib!=3.6.1,>=3.4->seaborn) (1.4.5)\n",
      "Requirement already satisfied: packaging>=20.0 in c:\\users\\anderson\\appdata\\local\\packages\\pythonsoftwarefoundation.python.3.11_qbz5n2kfra8p0\\localcache\\local-packages\\python311\\site-packages (from matplotlib!=3.6.1,>=3.4->seaborn) (23.2)\n",
      "Requirement already satisfied: pillow>=8 in c:\\users\\anderson\\appdata\\local\\packages\\pythonsoftwarefoundation.python.3.11_qbz5n2kfra8p0\\localcache\\local-packages\\python311\\site-packages (from matplotlib!=3.6.1,>=3.4->seaborn) (10.4.0)\n",
      "Requirement already satisfied: pyparsing>=2.3.1 in c:\\users\\anderson\\appdata\\local\\packages\\pythonsoftwarefoundation.python.3.11_qbz5n2kfra8p0\\localcache\\local-packages\\python311\\site-packages (from matplotlib!=3.6.1,>=3.4->seaborn) (3.1.2)\n",
      "Requirement already satisfied: python-dateutil>=2.7 in c:\\users\\anderson\\appdata\\local\\packages\\pythonsoftwarefoundation.python.3.11_qbz5n2kfra8p0\\localcache\\local-packages\\python311\\site-packages (from matplotlib!=3.6.1,>=3.4->seaborn) (2.9.0.post0)\n",
      "Requirement already satisfied: pytz>=2020.1 in c:\\users\\anderson\\appdata\\local\\packages\\pythonsoftwarefoundation.python.3.11_qbz5n2kfra8p0\\localcache\\local-packages\\python311\\site-packages (from pandas>=1.2->seaborn) (2024.1)\n",
      "Requirement already satisfied: tzdata>=2022.7 in c:\\users\\anderson\\appdata\\local\\packages\\pythonsoftwarefoundation.python.3.11_qbz5n2kfra8p0\\localcache\\local-packages\\python311\\site-packages (from pandas>=1.2->seaborn) (2024.1)\n",
      "Requirement already satisfied: six>=1.5 in c:\\users\\anderson\\appdata\\local\\packages\\pythonsoftwarefoundation.python.3.11_qbz5n2kfra8p0\\localcache\\local-packages\\python311\\site-packages (from python-dateutil>=2.7->matplotlib!=3.6.1,>=3.4->seaborn) (1.16.0)\n"
     ]
    }
   ],
   "source": [
    "!pip install python-dotenv\n",
    "!pip install requests\n",
    "!pip install yfinance\n",
    "!pip install mplfinance\n",
    "!pip install seaborn"
   ]
  },
  {
   "cell_type": "code",
   "execution_count": 326,
   "metadata": {},
   "outputs": [],
   "source": [
    "from dotenv import load_dotenv\n",
    "import os\n",
    "import requests\n",
    "import json\n",
    "import yfinance as yf\n",
    "import pandas as pd\n",
    "import mplfinance as mpf\n",
    "import matplotlib.pyplot as plt\n",
    "import seaborn as sns\n",
    "import numpy as np\n"
   ]
  },
  {
   "cell_type": "code",
   "execution_count": 327,
   "metadata": {},
   "outputs": [],
   "source": [
    "# Acessando as variáveis:\n",
    "load_dotenv()\n",
    "api_key = os.getenv('API_KEY2')\n",
    "base_url = os.getenv('BASE_URL_OVERVIEW')\n",
    "\n",
    "# Lista de símbolos das empresas\n",
    "symbols = ['GOOGL', 'AAPL', 'NVDA']"
   ]
  },
  {
   "cell_type": "code",
   "execution_count": 328,
   "metadata": {},
   "outputs": [],
   "source": [
    "# Função para obter o resumo de uma empresa\n",
    "def get_company_overview(base_url, symbol, api_key):\n",
    "    url = f'{base_url}&symbol={symbol}&apikey={api_key}'\n",
    "    response = requests.get(url)    \n",
    "    if response.status_code == 200:\n",
    "        data = response.json()\n",
    "        if 'Information' in data and data['Information']:\n",
    "            return 'Thank you for using Alpha Vantage! Our standard API rate limit is 25 requests per day.'\n",
    "        elif symbol in data['Symbol']:\n",
    "            # Extrai os dados relevantes\n",
    "            df_data = {\n",
    "                \"Symbol\": data['Symbol'],\n",
    "                \"AssetType\": data['AssetType'],\n",
    "                \"Name\": data['Name'],\n",
    "                \"Description\": data['Description'],\n",
    "                \"CIK\": data['CIK'],\n",
    "                \"Exchange\": data['Exchange'],\n",
    "                \"Currency\": data['Currency'],\n",
    "                \"Country\": data['Country'],\n",
    "                \"Sector\": data['Sector'],\n",
    "                \"Industry\": data['Industry'],\n",
    "                \"Address\": data['Address'],\n",
    "                \"OfficialSite\": data['OfficialSite'],\n",
    "                \"FiscalYearEnd\": data['FiscalYearEnd'],\n",
    "                \"LatestQuarter\": data['LatestQuarter'],\n",
    "                \"MarketCapitalization\": data['MarketCapitalization'],\n",
    "                \"EBITDA\": data['EBITDA'],\n",
    "                \"PERatio\": data['PERatio'],\n",
    "                \"PEGRatio\": data['PEGRatio'],\n",
    "                \"BookValue\": data['BookValue'],\n",
    "                \"DividendPerShare\": data['DividendPerShare'],\n",
    "                \"DividendYield\": data['DividendYield'],\n",
    "                \"EPS\": data['EPS'],\n",
    "                \"RevenuePerShareTTM\": data['RevenuePerShareTTM'],\n",
    "                \"ProfitMargin\": data['ProfitMargin'],\n",
    "                \"OperatingMarginTTM\": data['OperatingMarginTTM'],\n",
    "                \"ReturnOnAssetsTTM\": data['ReturnOnAssetsTTM'],\n",
    "                \"ReturnOnEquityTTM\": data['ReturnOnEquityTTM'],\n",
    "                \"RevenueTTM\": data['RevenueTTM'],\n",
    "                \"GrossProfitTTM\": data['GrossProfitTTM'],\n",
    "                \"DilutedEPSTTM\": data['DilutedEPSTTM'],\n",
    "                \"QuarterlyEarningsGrowthYOY\": data['QuarterlyEarningsGrowthYOY'],\n",
    "                \"QuarterlyRevenueGrowthYOY\": data['QuarterlyRevenueGrowthYOY'],\n",
    "                \"AnalystTargetPrice\": data['AnalystTargetPrice'],\n",
    "                \"AnalystRatingStrongBuy\": data['AnalystRatingStrongBuy'],\n",
    "                \"AnalystRatingBuy\": data['AnalystRatingBuy'],\n",
    "                \"AnalystRatingHold\": data['AnalystRatingHold'],\n",
    "                \"AnalystRatingSell\": data['AnalystRatingSell'],\n",
    "                \"AnalystRatingStrongSell\": data['AnalystRatingStrongSell'],\n",
    "                \"TrailingPE\": data['TrailingPE'],\n",
    "                \"ForwardPE\": data['ForwardPE'],\n",
    "                \"PriceToSalesRatioTTM\": data['PriceToSalesRatioTTM'],\n",
    "                \"PriceToBookRatio\": data['PriceToBookRatio'],\n",
    "                \"EVToRevenue\": data['EVToRevenue'],\n",
    "                \"EVToEBITDA\": data['EVToEBITDA'],\n",
    "                \"Beta\": data['Beta'],\n",
    "                \"52WeekHigh\": data['52WeekHigh'],\n",
    "                \"52WeekLow\": data['52WeekLow'],\n",
    "                \"50DayMovingAverage\": data['50DayMovingAverage'],\n",
    "                \"200DayMovingAverage\": data['200DayMovingAverage'],\n",
    "                \"SharesOutstanding\": data['SharesOutstanding'],\n",
    "                \"DividendDate\": data['DividendDate'],\n",
    "                \"ExDividendDate\": data['ExDividendDate']\n",
    "            }\n",
    "\n",
    "            overview =  pd.DataFrame(df_data, index=['symbol'])  # Alternatively, return the entire overview dictionary\n",
    "            return overview\n",
    "        else:\n",
    "            print(f\"Erro: 'Overview' não encontrado para {symbol}\")\n",
    "    else:\n",
    "        print(f\"Erro na requisição: {response.status_code}\")\n",
    "        return None"
   ]
  },
  {
   "cell_type": "markdown",
   "metadata": {},
   "source": [
    "### Analise Fundamentalista"
   ]
  },
  {
   "cell_type": "markdown",
   "metadata": {},
   "source": [
    "#### Avaliação"
   ]
  },
  {
   "cell_type": "code",
   "execution_count": 329,
   "metadata": {},
   "outputs": [],
   "source": [
    "# get_company_overview(base_url, 'AAPL', api_key)"
   ]
  },
  {
   "cell_type": "code",
   "execution_count": 330,
   "metadata": {},
   "outputs": [],
   "source": [
    "df_list = pd.DataFrame()\n",
    "# Loop para obter o resumo de cada empresa\n",
    "for symbol in symbols:\n",
    "    overview = get_company_overview(base_url, symbol, api_key)\n",
    "    df_list = pd.concat([df_list, overview])"
   ]
  },
  {
   "cell_type": "code",
   "execution_count": 331,
   "metadata": {},
   "outputs": [
    {
     "data": {
      "text/html": [
       "<div>\n",
       "<style scoped>\n",
       "    .dataframe tbody tr th:only-of-type {\n",
       "        vertical-align: middle;\n",
       "    }\n",
       "\n",
       "    .dataframe tbody tr th {\n",
       "        vertical-align: top;\n",
       "    }\n",
       "\n",
       "    .dataframe thead th {\n",
       "        text-align: right;\n",
       "    }\n",
       "</style>\n",
       "<table border=\"1\" class=\"dataframe\">\n",
       "  <thead>\n",
       "    <tr style=\"text-align: right;\">\n",
       "      <th></th>\n",
       "      <th>Symbol</th>\n",
       "      <th>AssetType</th>\n",
       "      <th>Name</th>\n",
       "      <th>Description</th>\n",
       "      <th>CIK</th>\n",
       "      <th>Exchange</th>\n",
       "      <th>Currency</th>\n",
       "      <th>Country</th>\n",
       "      <th>Sector</th>\n",
       "      <th>Industry</th>\n",
       "      <th>...</th>\n",
       "      <th>EVToRevenue</th>\n",
       "      <th>EVToEBITDA</th>\n",
       "      <th>Beta</th>\n",
       "      <th>52WeekHigh</th>\n",
       "      <th>52WeekLow</th>\n",
       "      <th>50DayMovingAverage</th>\n",
       "      <th>200DayMovingAverage</th>\n",
       "      <th>SharesOutstanding</th>\n",
       "      <th>DividendDate</th>\n",
       "      <th>ExDividendDate</th>\n",
       "    </tr>\n",
       "  </thead>\n",
       "  <tbody>\n",
       "    <tr>\n",
       "      <th>symbol</th>\n",
       "      <td>GOOGL</td>\n",
       "      <td>Common Stock</td>\n",
       "      <td>Alphabet Inc Class A</td>\n",
       "      <td>Alphabet Inc. is an American multinational con...</td>\n",
       "      <td>1652044</td>\n",
       "      <td>NASDAQ</td>\n",
       "      <td>USD</td>\n",
       "      <td>USA</td>\n",
       "      <td>TECHNOLOGY</td>\n",
       "      <td>SERVICES-COMPUTER PROGRAMMING, DATA PROCESSING...</td>\n",
       "      <td>...</td>\n",
       "      <td>6.02</td>\n",
       "      <td>17.12</td>\n",
       "      <td>1.046</td>\n",
       "      <td>191.75</td>\n",
       "      <td>120.07</td>\n",
       "      <td>174.55</td>\n",
       "      <td>155.49</td>\n",
       "      <td>5859000000</td>\n",
       "      <td>2024-09-16</td>\n",
       "      <td>2024-09-09</td>\n",
       "    </tr>\n",
       "    <tr>\n",
       "      <th>symbol</th>\n",
       "      <td>AAPL</td>\n",
       "      <td>Common Stock</td>\n",
       "      <td>Apple Inc</td>\n",
       "      <td>Apple Inc. is an American multinational techno...</td>\n",
       "      <td>320193</td>\n",
       "      <td>NASDAQ</td>\n",
       "      <td>USD</td>\n",
       "      <td>USA</td>\n",
       "      <td>TECHNOLOGY</td>\n",
       "      <td>ELECTRONIC COMPUTERS</td>\n",
       "      <td>...</td>\n",
       "      <td>9.05</td>\n",
       "      <td>25.81</td>\n",
       "      <td>1.244</td>\n",
       "      <td>236.96</td>\n",
       "      <td>163.67</td>\n",
       "      <td>220.14</td>\n",
       "      <td>193.0</td>\n",
       "      <td>15204100000</td>\n",
       "      <td>2024-08-15</td>\n",
       "      <td>2024-08-12</td>\n",
       "    </tr>\n",
       "    <tr>\n",
       "      <th>symbol</th>\n",
       "      <td>NVDA</td>\n",
       "      <td>Common Stock</td>\n",
       "      <td>NVIDIA Corporation</td>\n",
       "      <td>Nvidia Corporation is an American multinationa...</td>\n",
       "      <td>1045810</td>\n",
       "      <td>NASDAQ</td>\n",
       "      <td>USD</td>\n",
       "      <td>USA</td>\n",
       "      <td>MANUFACTURING</td>\n",
       "      <td>SEMICONDUCTORS &amp; RELATED DEVICES</td>\n",
       "      <td>...</td>\n",
       "      <td>39.64</td>\n",
       "      <td>62.4</td>\n",
       "      <td>1.68</td>\n",
       "      <td>140.76</td>\n",
       "      <td>39.22</td>\n",
       "      <td>120.9</td>\n",
       "      <td>86.08</td>\n",
       "      <td>24598301000</td>\n",
       "      <td>2024-06-28</td>\n",
       "      <td>2024-06-11</td>\n",
       "    </tr>\n",
       "  </tbody>\n",
       "</table>\n",
       "<p>3 rows × 52 columns</p>\n",
       "</div>"
      ],
      "text/plain": [
       "       Symbol     AssetType                  Name  \\\n",
       "symbol  GOOGL  Common Stock  Alphabet Inc Class A   \n",
       "symbol   AAPL  Common Stock             Apple Inc   \n",
       "symbol   NVDA  Common Stock    NVIDIA Corporation   \n",
       "\n",
       "                                              Description      CIK Exchange  \\\n",
       "symbol  Alphabet Inc. is an American multinational con...  1652044   NASDAQ   \n",
       "symbol  Apple Inc. is an American multinational techno...   320193   NASDAQ   \n",
       "symbol  Nvidia Corporation is an American multinationa...  1045810   NASDAQ   \n",
       "\n",
       "       Currency Country         Sector  \\\n",
       "symbol      USD     USA     TECHNOLOGY   \n",
       "symbol      USD     USA     TECHNOLOGY   \n",
       "symbol      USD     USA  MANUFACTURING   \n",
       "\n",
       "                                                 Industry  ... EVToRevenue  \\\n",
       "symbol  SERVICES-COMPUTER PROGRAMMING, DATA PROCESSING...  ...        6.02   \n",
       "symbol                               ELECTRONIC COMPUTERS  ...        9.05   \n",
       "symbol                   SEMICONDUCTORS & RELATED DEVICES  ...       39.64   \n",
       "\n",
       "       EVToEBITDA   Beta 52WeekHigh 52WeekLow 50DayMovingAverage  \\\n",
       "symbol      17.12  1.046     191.75    120.07             174.55   \n",
       "symbol      25.81  1.244     236.96    163.67             220.14   \n",
       "symbol       62.4   1.68     140.76     39.22              120.9   \n",
       "\n",
       "       200DayMovingAverage SharesOutstanding DividendDate ExDividendDate  \n",
       "symbol              155.49        5859000000   2024-09-16     2024-09-09  \n",
       "symbol               193.0       15204100000   2024-08-15     2024-08-12  \n",
       "symbol               86.08       24598301000   2024-06-28     2024-06-11  \n",
       "\n",
       "[3 rows x 52 columns]"
      ]
     },
     "execution_count": 331,
     "metadata": {},
     "output_type": "execute_result"
    }
   ],
   "source": [
    "df_list.head()    "
   ]
  },
  {
   "cell_type": "code",
   "execution_count": 332,
   "metadata": {},
   "outputs": [],
   "source": [
    "#import pandas as pd\n",
    "import re\n",
    "\n",
    "def convert_data_types(df):\n",
    "    \"\"\"\n",
    "    Converts columns in a DataFrame to appropriate data types.\n",
    "\n",
    "    Args:\n",
    "        df (pd.DataFrame): The input DataFrame.\n",
    "\n",
    "    Returns:\n",
    "        pd.DataFrame: The DataFrame with converted data types.\n",
    "    \"\"\"\n",
    "\n",
    "    for col in df.columns:\n",
    "        try:\n",
    "            # Check for integers\n",
    "            if pd.api.types.is_numeric_dtype(df[col]):\n",
    "                df[col] = pd.to_numeric(df[col], errors='coerce')\n",
    "            # Check for floats\n",
    "            elif re.search(r\"^\\d+\\.\\d+$\", str(df[col].iloc[0])):  # Check first value for pattern\n",
    "                df[col] = pd.to_numeric(df[col], errors='coerce')\n",
    "            # Check for dates (basic format)\n",
    "            elif re.search(r\"^\\d{4}-\\d{2}-\\d{2}$\", str(df[col].iloc[0])):\n",
    "                df[col] = pd.to_datetime(df[col], errors='coerce')\n",
    "            # Keep strings as strings\n",
    "            else:\n",
    "                df[col] = df[col].astype(str)\n",
    "        except:\n",
    "            # Handle potential errors during conversion\n",
    "            pass\n",
    "\n",
    "    return df"
   ]
  },
  {
   "cell_type": "code",
   "execution_count": 359,
   "metadata": {},
   "outputs": [],
   "source": [
    "df_list = convert_data_types(df_list)\n",
    "#Convertendo tipo de dados - Ficou de fora do tratamento de tipo\n",
    "df_list['MarketCapitalization'] = pd.to_numeric(df_list['MarketCapitalization'])\n",
    "\n",
    "# Alterando a formatação global (temporário)\n",
    "pd.options.display.float_format = '{:.2f}'.format"
   ]
  },
  {
   "cell_type": "code",
   "execution_count": 334,
   "metadata": {},
   "outputs": [
    {
     "name": "stdout",
     "output_type": "stream",
     "text": [
      "Index(['Symbol', 'AssetType', 'Name', 'Description', 'CIK', 'Exchange',\n",
      "       'Currency', 'Country', 'Sector', 'Industry', 'Address', 'OfficialSite',\n",
      "       'FiscalYearEnd', 'LatestQuarter', 'MarketCapitalization', 'EBITDA',\n",
      "       'PERatio', 'PEGRatio', 'BookValue', 'DividendPerShare', 'DividendYield',\n",
      "       'EPS', 'RevenuePerShareTTM', 'ProfitMargin', 'OperatingMarginTTM',\n",
      "       'ReturnOnAssetsTTM', 'ReturnOnEquityTTM', 'RevenueTTM',\n",
      "       'GrossProfitTTM', 'DilutedEPSTTM', 'QuarterlyEarningsGrowthYOY',\n",
      "       'QuarterlyRevenueGrowthYOY', 'AnalystTargetPrice',\n",
      "       'AnalystRatingStrongBuy', 'AnalystRatingBuy', 'AnalystRatingHold',\n",
      "       'AnalystRatingSell', 'AnalystRatingStrongSell', 'TrailingPE',\n",
      "       'ForwardPE', 'PriceToSalesRatioTTM', 'PriceToBookRatio', 'EVToRevenue',\n",
      "       'EVToEBITDA', 'Beta', '52WeekHigh', '52WeekLow', '50DayMovingAverage',\n",
      "       '200DayMovingAverage', 'SharesOutstanding', 'DividendDate',\n",
      "       'ExDividendDate'],\n",
      "      dtype='object')\n"
     ]
    }
   ],
   "source": [
    "# Concatenar os DataFrames\n",
    "#df_final = pd.concat(df_list, ignore_index=True)\n",
    "\n",
    "#print(df_list.columns)\n"
   ]
  },
  {
   "cell_type": "code",
   "execution_count": 360,
   "metadata": {},
   "outputs": [],
   "source": [
    "# Calculate P/L\n",
    "df_list['P/L'] = df_list['MarketCapitalization'] / df_list['EPS']\n",
    "#df_list['P/L'] = df_list['P/L'].round(2)\n",
    "\n",
    "# Calculate P/B\n",
    "df_list['P/B'] = df_list['MarketCapitalization'] / df_list['BookValue']\n",
    "#df_list['P/B'] = df_list['P/B'].round(2)\n",
    "\n",
    "# Calculate EV\n",
    "#df_list['EV'] = df_list['MarketCapitalization'] + df_list['TotalDebt'] - df_list['CashAndCashEquivalents']\n",
    "\n",
    "# Calculate EV/EBITDA - Campo já existe: EVToEBITDA\n",
    "#df_list['EV/EBITDA'] = df_list['EV'] / df_list['EBITDA']"
   ]
  },
  {
   "cell_type": "code",
   "execution_count": 361,
   "metadata": {},
   "outputs": [
    {
     "name": "stdout",
     "output_type": "stream",
     "text": [
      "       Symbol              P/L              P/B  EVToEBITDA\n",
      "symbol  GOOGL  293957675466.28   83936296517.82       17.12\n",
      "symbol   AAPL  524148641337.39  787060260155.18       25.81\n",
      "symbol   NVDA 1860983711111.11 1592733806806.81       62.40\n"
     ]
    }
   ],
   "source": [
    "# Exibir os resultados\n",
    "print(df_list[['Symbol', 'P/L', 'P/B', 'EVToEBITDA']])"
   ]
  },
  {
   "cell_type": "markdown",
   "metadata": {},
   "source": [
    "#### Rentabilidade"
   ]
  },
  {
   "cell_type": "code",
   "execution_count": null,
   "metadata": {},
   "outputs": [],
   "source": [
    "# Verificando os campos do OverViewer já fornece os dados necessários"
   ]
  },
  {
   "cell_type": "markdown",
   "metadata": {},
   "source": [
    "## Analise Técnica"
   ]
  },
  {
   "cell_type": "markdown",
   "metadata": {},
   "source": [
    "### Preparar dados histórico dos preços das ações"
   ]
  },
  {
   "cell_type": "code",
   "execution_count": null,
   "metadata": {},
   "outputs": [],
   "source": [
    "# Obtendo dados históricos da Apple\n",
    "#for symbol in symbols:\n",
    "def obter_preco_acoes(symbol, start, end):\n",
    "    return yf.download(symbol, start, end) \n"
   ]
  },
  {
   "cell_type": "code",
   "execution_count": null,
   "metadata": {},
   "outputs": [],
   "source": [
    "start = input('Data inicio:')\n",
    "end = input('Data fin: ')\n",
    "\n",
    "# Criar um DataFrame para armazenar os dados\n",
    "data = pd.DataFrame()"
   ]
  },
  {
   "cell_type": "code",
   "execution_count": null,
   "metadata": {},
   "outputs": [],
   "source": [
    "for symbol in symbols:\n",
    "    df = obter_preco_acoes(symbol, start, end)\n",
    "    df['symbol'] = symbol\n",
    "    data = pd.concat([data, df])\n"
   ]
  },
  {
   "cell_type": "markdown",
   "metadata": {},
   "source": [
    "### Informações Básicas"
   ]
  },
  {
   "cell_type": "code",
   "execution_count": null,
   "metadata": {},
   "outputs": [],
   "source": [
    "data.head()"
   ]
  },
  {
   "cell_type": "code",
   "execution_count": null,
   "metadata": {},
   "outputs": [],
   "source": [
    "data.info()"
   ]
  },
  {
   "cell_type": "code",
   "execution_count": null,
   "metadata": {},
   "outputs": [],
   "source": [
    "data.describe()"
   ]
  },
  {
   "cell_type": "markdown",
   "metadata": {},
   "source": [
    "### Candlestick"
   ]
  },
  {
   "cell_type": "code",
   "execution_count": null,
   "metadata": {},
   "outputs": [],
   "source": []
  },
  {
   "cell_type": "code",
   "execution_count": null,
   "metadata": {},
   "outputs": [],
   "source": []
  },
  {
   "cell_type": "code",
   "execution_count": null,
   "metadata": {},
   "outputs": [],
   "source": [
    "\n",
    "# Criar uma figura com múltiplos subplots\n",
    "fig, axes = plt.subplots(nrows=len(symbols), ncols=1, figsize=(12, 6 * len(symbols)))\n",
    "\n",
    "# Ajusta o layout para evitar sobreposição\n",
    "fig.tight_layout(pad=4.0)\n",
    "\n",
    "# Se houver apenas um gráfico, axes será um único eixo, então transforme em uma lista\n",
    "if len(symbols) == 1:\n",
    "    axes = [axes]\n",
    "\n",
    "# Configura os gráficos de candlestick para cada símbolo\n",
    "for i, symbol in enumerate(symbols):\n",
    "    # Verificar se o símbolo existe no DataFrame\n",
    "    if symbol in data['symbol'].values:\n",
    "        group = data[data['symbol'] == symbol]\n",
    "        ax = axes[i]\n",
    "\n",
    "        # Plota o gráfico de candlestick\n",
    "        mpf.plot(group[['Open', 'High', 'Low', 'Close']], type='candle', style='yahoo', ax=ax)\n",
    "\n",
    "        # Define o título do gráfico\n",
    "        ax.set_title(f'Gráfico Candlestick - {symbol}', fontsize=12)\n",
    "    else:\n",
    "        print(f\"O símbolo '{symbol}' não foi encontrado no DataFrame.\")\n",
    "\n",
    "# Adiciona um título geral para a figura\n",
    "fig.suptitle('Gráficos Candlestick', fontsize=16)\n",
    "\n",
    "# Ajusta o layout para evitar sobreposição\n",
    "plt.tight_layout(rect=[0, 0, 1, 0.96])\n",
    "\n",
    "# Exibir os gráficos\n",
    "plt.show()"
   ]
  },
  {
   "cell_type": "markdown",
   "metadata": {},
   "source": [
    "### Indicadores Fundamentalista"
   ]
  },
  {
   "cell_type": "code",
   "execution_count": null,
   "metadata": {},
   "outputs": [],
   "source": []
  },
  {
   "cell_type": "markdown",
   "metadata": {},
   "source": [
    "### Indicadores Técnicos"
   ]
  },
  {
   "cell_type": "markdown",
   "metadata": {},
   "source": [
    "#### Calcular Médias Moveis Simples - MMS"
   ]
  },
  {
   "cell_type": "code",
   "execution_count": null,
   "metadata": {},
   "outputs": [],
   "source": [
    "def calculate_sma(data, column, window_size):\n",
    "  \"\"\"\n",
    "  Calculates the Simple Moving Average (SMA) for a given column and window size.\n",
    "\n",
    "  Args:\n",
    "    data: Pandas DataFrame containing the data.\n",
    "    column: The name of the column to calculate the SMA for.\n",
    "    window_size: The number of periods for the SMA calculation.\n",
    "\n",
    "  Returns:\n",
    "    A Pandas Series containing the SMA values.\n",
    "  \"\"\"\n",
    "\n",
    "  sma = data[column].rolling(window=window_size).mean()\n",
    "  return sma\n",
    "\n",
    "# Exemplo de uso:\n",
    "data['MMS_15'] = calculate_sma(data, 'Close', 15)\n",
    "\n",
    "#Preencher DataFrame com próximo valor válido\n",
    "data['MMS_15'] = calculate_sma(data, 'Close', 15).bfill()"
   ]
  },
  {
   "cell_type": "code",
   "execution_count": null,
   "metadata": {},
   "outputs": [],
   "source": [
    "data.info()"
   ]
  },
  {
   "cell_type": "code",
   "execution_count": null,
   "metadata": {},
   "outputs": [],
   "source": [
    "#import pandas as pd\n",
    "#import matplotlib.pyplot as plt\n",
    "\n",
    "# Filtrando o DataFrame para as ações desejadas\n",
    "filtered_data = data[data['symbol'].isin(symbols)]\n",
    "\n",
    "# Criando subplots para visualizar múltiplos gráficos em uma mesma figura\n",
    "fig, axes = plt.subplots(nrows=len(symbols), figsize=(12, 8))\n",
    "\n",
    "# Iterando sobre as ações e criando gráficos\n",
    "for i, symbol in enumerate(symbols):\n",
    "    symbol_data = filtered_data[filtered_data['symbol'] == symbol]\n",
    "    axes[i].plot(symbol_data.index, symbol_data['Close'], label='Close')\n",
    "    axes[i].plot(symbol_data.index, symbol_data['MMS_15'], label='MMS_15')\n",
    "    axes[i].set_title(f\"{symbol} - Preço de Fechamento e MMS_15\")\n",
    "    axes[i].legend()\n",
    "    axes[i].grid(True)\n",
    "\n",
    "plt.tight_layout()\n",
    "plt.show()"
   ]
  },
  {
   "cell_type": "markdown",
   "metadata": {},
   "source": [
    "#### MACD para gerar sinais de compra e venda"
   ]
  },
  {
   "cell_type": "code",
   "execution_count": null,
   "metadata": {},
   "outputs": [],
   "source": [
    "\n",
    "\n",
    "# Calculando o MACD\n",
    "def calculate_macd(data, short_period=12, long_period=26, signal_period=9):\n",
    "    \"\"\"\n",
    "    Calcula o MACD, a linha de sinal e o histograma.\n",
    "\n",
    "    Args:\n",
    "        data: DataFrame com os dados.\n",
    "        short_period: Período da média móvel curta (default: 12).\n",
    "        long_period: Período da média móvel longa (default: 26).\n",
    "        signal_period: Período da média móvel do sinal (default: 9).\n",
    "\n",
    "    Returns:\n",
    "        Um DataFrame com as colunas MACD, signal e hist.\n",
    "    \"\"\"\n",
    "\n",
    "    short_ema = data['Close'].ewm(span=short_period, adjust=False).mean()\n",
    "    long_ema = data['Close'].ewm(span=long_period, adjust=False).mean()\n",
    "    macd = short_ema - long_ema\n",
    "    signal = macd.ewm(span=signal_period, adjust=False).mean()\n",
    "    hist = macd - signal\n",
    "    return pd.DataFrame({'macd': macd, 'signal': signal, 'hist': hist})\n",
    "\n",
    "# Adicionando o MACD ao DataFrame\n",
    "macd_data = calculate_macd(data)\n",
    "data = pd.concat([data, macd_data], axis=1)"
   ]
  },
  {
   "cell_type": "code",
   "execution_count": null,
   "metadata": {},
   "outputs": [],
   "source": []
  },
  {
   "cell_type": "code",
   "execution_count": null,
   "metadata": {},
   "outputs": [],
   "source": [
    "#import pandas as pd\n",
    "#import matplotlib.pyplot as plt\n",
    "\n",
    "# Verificando e preenchendo valores NaN (se necessário)\n",
    "data = data.ffill()  # Preenche com o valor anterior\n",
    "\n",
    "# Criando subplots\n",
    "fig, axes = plt.subplots(nrows=len(symbols), figsize=(12, 8))\n",
    "\n",
    "for i, symbol in enumerate(symbols):\n",
    "    symbol_data = data[data['symbol'] == symbol]\n",
    "\n",
    "    # Plotando o preço de fechamento, MMS_15 e MACD\n",
    "    #axes[i].plot(symbol_data.index, symbol_data['Close'], label='Close')\n",
    "    #axes[i].plot(symbol_data.index, symbol_data['MMS_15'], label='MMS_15')\n",
    "    axes[i].plot(symbol_data.index, symbol_data['macd'], label='MACD')\n",
    "    axes[i].plot(symbol_data.index, symbol_data['signal'], label='Signal')\n",
    "    axes[i].bar(symbol_data.index, symbol_data['hist'], label='Histograma')\n",
    "\n",
    "    # Adicionando título, legenda e grid\n",
    "    axes[i].set_title(f\"{symbol} - MACD x Signal / Histograma\")\n",
    "    axes[i].legend()\n",
    "    axes[i].grid(True)\n",
    "\n",
    "plt.tight_layout()\n",
    "plt.show()"
   ]
  },
  {
   "cell_type": "markdown",
   "metadata": {},
   "source": [
    "#### RSI (Relative Strength Index)"
   ]
  },
  {
   "cell_type": "code",
   "execution_count": null,
   "metadata": {},
   "outputs": [],
   "source": [
    "#import pandas as pd\n",
    "#import numpy as np\n",
    "\n",
    "def calculate_rsi(data, period=14):\n",
    "    \"\"\"\n",
    "    Calcula o RSI para um DataFrame de dados.\n",
    "\n",
    "    Args:\n",
    "        data: DataFrame com a coluna 'Close'.\n",
    "        period: Período para o cálculo do RSI (default: 14).\n",
    "\n",
    "    Returns:\n",
    "        Um DataFrame com a coluna 'RSI'.\n",
    "    \"\"\"\n",
    "\n",
    "    delta = data['Close'].diff()\n",
    "    gain = delta.where(delta > 0, 0)\n",
    "    loss = -delta.where(delta < 0, 0)\n",
    "\n",
    "    avg_gain = gain.rolling(window=period).mean()\n",
    "    avg_loss = loss.rolling(window=period).mean()\n",
    "\n",
    "    rs = avg_gain / avg_loss\n",
    "    rsi = 100 - (100 / (1 + rs))\n",
    "\n",
    "    return rsi\n",
    "\n",
    "# Aplicando a função ao DataFrame\n",
    "data['RSI'] = calculate_rsi(data)"
   ]
  },
  {
   "cell_type": "code",
   "execution_count": null,
   "metadata": {},
   "outputs": [],
   "source": [
    "# Verificando e preenchendo valores NaN (se necessário)\n",
    "data['RSI'] = data['RSI'].ffill()  # Preenche com o valor anterior\n",
    "\n",
    "# Criando subplots\n",
    "fig, axes = plt.subplots(nrows=len(symbols), figsize=(12, 8))\n",
    "\n",
    "for i, symbol in enumerate(symbols):\n",
    "    symbol_data = data[data['symbol'] == symbol]\n",
    "\n",
    "    # Plotando o preço de fechamento, MMS_15, MACD e RSI\n",
    "    axes[i].plot(symbol_data.index, symbol_data['Close'], label='Close')\n",
    "    # ... (outros plots)\n",
    "    axes[i].plot(symbol_data.index, symbol_data['RSI'], label='RSI')\n",
    "\n",
    "    # Adicionando níveis de sobrecompra e sobrevenda\n",
    "    axes[i].axhline(70, color='r', linestyle='--')\n",
    "    axes[i].axhline(30, color='r', linestyle='--')\n",
    "\n",
    "    # Adicionando título ao gráfico\n",
    "    axes[i].set_title(f\"Análise Técnica RSI para {symbol}\")\n",
    "\n",
    "    # Ajustando os limites do eixo y (opcional)\n",
    "    axes[i].set_ylim(0, 100)\n",
    "\n",
    "    \n",
    "    # ... (resto do código para personalização)\n",
    "\n",
    "plt.tight_layout()\n",
    "plt.show()"
   ]
  },
  {
   "cell_type": "markdown",
   "metadata": {},
   "source": [
    "#### Criando Estratégias de Negociação Baseadas em RSI e MACD"
   ]
  },
  {
   "cell_type": "code",
   "execution_count": null,
   "metadata": {},
   "outputs": [],
   "source": [
    "def generate_signals(data, rsi_overbought=70, rsi_oversold=30):\n",
    "    \"\"\"\n",
    "    Gera sinais de compra e venda com base no cruzamento do MACD e nos níveis do RSI.\n",
    "\n",
    "    Args:\n",
    "        data: DataFrame com os dados históricos.\n",
    "        rsi_overbought: Nível de sobrecompra para o RSI.\n",
    "        rsi_oversold: Nível de sobrevenda para o RSI.\n",
    "\n",
    "    Returns:\n",
    "        DataFrame com os sinais de compra e venda.\n",
    "    \"\"\"\n",
    "\n",
    "    # Criar uma nova coluna para os sinais\n",
    "    data['signal_cv'] = 0\n",
    "\n",
    "    # Condição de compra: MACD cruza para cima da linha de sinal e RSI abaixo do nível de sobrevenda\n",
    "    data.loc[(data['macd'] > data['signal']) & (data['RSI'] < rsi_oversold), 'signal_cv'] = 1\n",
    "\n",
    "    # Condição de venda: MACD cruza para baixo da linha de sinal e RSI acima do nível de sobrecompra\n",
    "    data.loc[(data['macd'] < data['signal']) & (data['RSI'] > rsi_overbought), 'signal_cv'] = -1\n",
    "\n",
    "    return data"
   ]
  },
  {
   "cell_type": "code",
   "execution_count": null,
   "metadata": {},
   "outputs": [],
   "source": [
    "data = generate_signals(data)"
   ]
  },
  {
   "cell_type": "code",
   "execution_count": null,
   "metadata": {},
   "outputs": [],
   "source": [
    "# Resetar o índice do DataFrame para tornar 'index' uma coluna\n",
    "data_reset = data.reset_index()\n",
    "data_reset.rename(columns={'index': 'Date'}, inplace=True)\n",
    "\n",
    "# Criar os subplots em uma única coluna\n",
    "g = sns.FacetGrid(data_reset, col=\"symbol\", col_wrap=1, height=4, aspect=3)\n",
    "\n",
    "# Plotar o preço de fechamento\n",
    "g.map(plt.plot, 'Date', 'Close')\n",
    "\n",
    "# Plotar sinais de compra e venda\n",
    "for ax in g.axes.flat:\n",
    "    symbol = ax.get_title().split('=')[-1].strip()\n",
    "    df_symbol = data_reset[data_reset['symbol'] == symbol]\n",
    "    \n",
    "    # Plotar sinais de compra\n",
    "    buy_signals = df_symbol[df_symbol['signal_cv'] == 1]\n",
    "    ax.scatter(buy_signals['Date'], buy_signals['Close'], color='green', marker='^', label='Buy')\n",
    "\n",
    "    # Plotar sinais de venda\n",
    "    sell_signals = df_symbol[df_symbol['signal_cv'] == -1]\n",
    "    ax.scatter(sell_signals['Date'], sell_signals['Close'], color='red', marker='^', label='Sell')\n",
    "\n",
    "    # Adicionar rótulos, título e grid\n",
    "    ax.set_title(f\"Compra x Venda: {symbol}\")\n",
    "    ax.set_xlabel(\"Date\")\n",
    "    ax.set_ylabel(\"Price\")\n",
    "    ax.legend()\n",
    "    ax.grid(True)\n",
    "\n",
    "plt.tight_layout()\n",
    "plt.show()\n"
   ]
  }
 ],
 "metadata": {
  "kernelspec": {
   "display_name": "Python 3",
   "language": "python",
   "name": "python3"
  },
  "language_info": {
   "codemirror_mode": {
    "name": "ipython",
    "version": 3
   },
   "file_extension": ".py",
   "mimetype": "text/x-python",
   "name": "python",
   "nbconvert_exporter": "python",
   "pygments_lexer": "ipython3",
   "version": "3.11.9"
  }
 },
 "nbformat": 4,
 "nbformat_minor": 2
}
