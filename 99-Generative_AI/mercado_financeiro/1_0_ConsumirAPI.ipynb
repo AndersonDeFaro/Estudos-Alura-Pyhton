{
 "cells": [
  {
   "cell_type": "markdown",
   "metadata": {},
   "source": [
    "### Consumir dados API- Company Overview - www.alphavantage.co"
   ]
  },
  {
   "cell_type": "code",
   "execution_count": 1,
   "metadata": {},
   "outputs": [
    {
     "name": "stdout",
     "output_type": "stream",
     "text": [
      "Collecting python-dotenv\n",
      "  Downloading python_dotenv-1.0.1-py3-none-any.whl.metadata (23 kB)\n",
      "Downloading python_dotenv-1.0.1-py3-none-any.whl (19 kB)\n",
      "Installing collected packages: python-dotenv\n",
      "Successfully installed python-dotenv-1.0.1\n",
      "Requirement already satisfied: requests in c:\\users\\anderson\\appdata\\local\\packages\\pythonsoftwarefoundation.python.3.11_qbz5n2kfra8p0\\localcache\\local-packages\\python311\\site-packages (2.28.2)\n",
      "Requirement already satisfied: charset-normalizer<4,>=2 in c:\\users\\anderson\\appdata\\local\\packages\\pythonsoftwarefoundation.python.3.11_qbz5n2kfra8p0\\localcache\\local-packages\\python311\\site-packages (from requests) (3.3.2)\n",
      "Requirement already satisfied: idna<4,>=2.5 in c:\\users\\anderson\\appdata\\local\\packages\\pythonsoftwarefoundation.python.3.11_qbz5n2kfra8p0\\localcache\\local-packages\\python311\\site-packages (from requests) (3.6)\n",
      "Requirement already satisfied: urllib3<1.27,>=1.21.1 in c:\\users\\anderson\\appdata\\local\\packages\\pythonsoftwarefoundation.python.3.11_qbz5n2kfra8p0\\localcache\\local-packages\\python311\\site-packages (from requests) (1.26.19)\n",
      "Requirement already satisfied: certifi>=2017.4.17 in c:\\users\\anderson\\appdata\\local\\packages\\pythonsoftwarefoundation.python.3.11_qbz5n2kfra8p0\\localcache\\local-packages\\python311\\site-packages (from requests) (2024.2.2)\n"
     ]
    }
   ],
   "source": [
    "!pip install python-dotenv\n",
    "!pip install requests"
   ]
  },
  {
   "cell_type": "code",
   "execution_count": 2,
   "metadata": {},
   "outputs": [],
   "source": [
    "from dotenv import load_dotenv\n",
    "import os\n",
    "\n",
    "load_dotenv()\n",
    "\n",
    "# Acessando as variáveis:\n",
    "api_key = os.getenv('API_KEY')\n",
    "base_url = os.getenv('BASE_URL_OVERVIEW')"
   ]
  },
  {
   "cell_type": "code",
   "execution_count": null,
   "metadata": {},
   "outputs": [],
   "source": [
    "import requests\n",
    "import json\n",
    "\n",
    "\n",
    "\n",
    "# Função para obter o resumo de uma empresa\n",
    "def get_company_overview(symbol):\n",
    "    url = f'{base_url}&symbol={symbol}&apikey={api_key}'\n",
    "    response = requests.get(url)\n",
    "\n",
    "    if response.status_code == 200:\n",
    "        data = response.json()\n",
    "        if symbol in data['Symbol']:\n",
    "            # Extract specific data points of interest\n",
    "            company_name = data['Name']\n",
    "            description = data['Description']\n",
    "            sector = data['Sector']\n",
    "            industry = data['Industry']\n",
    "            market_cap = float(data['MarketCapitalization'])  # Assuming value is a string, convert to float if necessary\n",
    "            # ... (extract other desired data points)\n",
    "\n",
    "            # Print or return the extracted information\n",
    "            print(f\"Company Name: {company_name}\")\n",
    "            print(f\"Description: {description}\")\n",
    "            print(f\"Sector: {sector}\")\n",
    "            print(f\"Industry: {industry}\")\n",
    "            print(f\"Market Capitalization: {market_cap:,.2f}\")  # Format market cap with commas and 2 decimal places\n",
    "            # ... (print other extracted data points)\n",
    "\n",
    "            return data  # Alternatively, return the entire overview dictionary\n",
    "        else:\n",
    "            print(f\"Erro: 'Overview' não encontrado para {symbol}\")\n",
    "    else:\n",
    "        print(f\"Erro na requisição: {response.status_code}\")\n",
    "        return None\n",
    "    \n",
    "# Lista de símbolos das empresas\n",
    "symbols = ['GOOGL', 'AAPL', 'NVDA']\n",
    "\n",
    "# Loop para obter o resumo de cada empresa\n",
    "for symbol in symbols:\n",
    "    overview = get_company_overview(symbol)\n",
    "    print(f\"Resumo da {symbol}:\")\n",
    "    print(json.dumps(overview, indent=4))"
   ]
  }
 ],
 "metadata": {
  "kernelspec": {
   "display_name": "Python 3",
   "language": "python",
   "name": "python3"
  },
  "language_info": {
   "codemirror_mode": {
    "name": "ipython",
    "version": 3
   },
   "file_extension": ".py",
   "mimetype": "text/x-python",
   "name": "python",
   "nbconvert_exporter": "python",
   "pygments_lexer": "ipython3",
   "version": "3.11.9"
  }
 },
 "nbformat": 4,
 "nbformat_minor": 2
}
