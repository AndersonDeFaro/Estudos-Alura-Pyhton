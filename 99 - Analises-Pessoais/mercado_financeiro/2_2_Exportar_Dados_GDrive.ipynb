{
 "cells": [
  {
   "cell_type": "markdown",
   "metadata": {},
   "source": [
    "# Export Dados CSV"
   ]
  },
  {
   "cell_type": "markdown",
   "metadata": {},
   "source": [
    "## Carregando Bibliotecas"
   ]
  },
  {
   "cell_type": "code",
   "execution_count": null,
   "metadata": {},
   "outputs": [],
   "source": [
    "!pip install pydrive"
   ]
  },
  {
   "cell_type": "code",
   "execution_count": 50,
   "metadata": {},
   "outputs": [],
   "source": [
    "from __future__ import print_function\n",
    "from pydrive.auth import GoogleAuth\n",
    "from pydrive.drive import GoogleDrive\n",
    "import os"
   ]
  },
  {
   "cell_type": "markdown",
   "metadata": {},
   "source": [
    "## Carregando Métodos"
   ]
  },
  {
   "cell_type": "markdown",
   "metadata": {},
   "source": [
    "### Autenticação"
   ]
  },
  {
   "cell_type": "code",
   "execution_count": 51,
   "metadata": {},
   "outputs": [],
   "source": [
    "def authenticate():\n",
    "    gauth = GoogleAuth()\n",
    "    try:\n",
    "        gauth.LocalWebserverAuth()\n",
    "    except Exception as e:\n",
    "        print(f\"Erro ao autenticar: {e}\")\n",
    "    drive = GoogleDrive(gauth)\n",
    "    return drive\n"
   ]
  },
  {
   "cell_type": "markdown",
   "metadata": {},
   "source": [
    "### Atualizar CSVs"
   ]
  },
  {
   "cell_type": "code",
   "execution_count": 52,
   "metadata": {},
   "outputs": [],
   "source": [
    "def upload_csv(drive, local_file_path, file_name, folder_id, mimetype='text/csv'):\n",
    "    # Buscando o arquivo no Google Drive\n",
    "    file_list = drive.ListFile({'q': f\"title='{file_name}' and '{folder_id}' in parents\"}).GetList()\n",
    "\n",
    "    if file_list:\n",
    "        # Se o arquivo já existe, atualiza o conteúdo\n",
    "        file = file_list[0]\n",
    "        file.SetContentFile(local_file_path)\n",
    "        file.Upload()\n",
    "        print('Arquivo atualizado com sucesso!')\n",
    "    else:\n",
    "        # Se o arquivo não existe, cria um novo na pasta especificada\n",
    "        file = drive.CreateFile({'title': file_name, 'mimeType': mimetype, 'parents': [{'id': folder_id}]})\n",
    "        file.SetContentFile(local_file_path)\n",
    "        file.Upload()\n",
    "        print('Arquivo criado com sucesso!')"
   ]
  },
  {
   "cell_type": "markdown",
   "metadata": {},
   "source": [
    "### Localizar Diretório"
   ]
  },
  {
   "cell_type": "code",
   "execution_count": 53,
   "metadata": {},
   "outputs": [],
   "source": [
    "def find_folder_id_pydrive(drive, folder_path):\n",
    "  \"\"\"Finds the ID of the specified folder using PyDrive.\"\"\"\n",
    "  folders = folder_path.split('/')\n",
    "  parent_id = 'root'\n",
    "  for folder in folders:\n",
    "    file_list = drive.ListFile({'q': f\"title='{folder}' and trashed=false and '{parent_id}' in parents\"}).GetList()\n",
    "    if not file_list:\n",
    "      return None\n",
    "    parent_id = file_list[0]['id']\n",
    "  return parent_id\n"
   ]
  },
  {
   "cell_type": "markdown",
   "metadata": {},
   "source": [
    "### Sicronizar CSVs"
   ]
  },
  {
   "cell_type": "code",
   "execution_count": 54,
   "metadata": {},
   "outputs": [],
   "source": [
    "\n",
    "def sync_csvs(drive, local_folder, remote_folder):\n",
    "    # Lista todos os arquivos CSV na pasta local\n",
    "    for root, dirs, files in os.walk(local_folder):\n",
    "        for file in files:\n",
    "            if file.endswith('.csv'):\n",
    "                local_file_path = os.path.join(root, file)\n",
    "                file_name = file\n",
    "                upload_csv(drive, local_file_path, file_name, remote_folder)\n"
   ]
  },
  {
   "cell_type": "markdown",
   "metadata": {},
   "source": [
    "## Sicronizar Dados"
   ]
  },
  {
   "cell_type": "code",
   "execution_count": 55,
   "metadata": {},
   "outputs": [
    {
     "name": "stdout",
     "output_type": "stream",
     "text": [
      "Your browser has been opened to visit:\n",
      "\n",
      "    https://accounts.google.com/o/oauth2/auth?client_id=1089994359261-43kndvknj19updsqahg1mq4acnd20muv.apps.googleusercontent.com&redirect_uri=http%3A%2F%2Flocalhost%3A8080%2F&scope=https%3A%2F%2Fwww.googleapis.com%2Fauth%2Fdrive&access_type=offline&response_type=code\n",
      "\n",
      "Authentication successful.\n",
      "Arquivo criado com sucesso!\n",
      "Arquivo criado com sucesso!\n",
      "Arquivo criado com sucesso!\n",
      "Arquivo criado com sucesso!\n",
      "Arquivo criado com sucesso!\n",
      "Arquivo criado com sucesso!\n",
      "Arquivo criado com sucesso!\n",
      "Arquivo criado com sucesso!\n",
      "Arquivo criado com sucesso!\n"
     ]
    }
   ],
   "source": [
    "drive = authenticate()\n",
    "local_folder = '../dados'\n",
    "folder_path = 'Colab Notebooks/Dados/Financeiro'\n",
    "remote_folder = find_folder_id_pydrive(drive, folder_path)\n",
    "sync_csvs(drive, local_folder, remote_folder)"
   ]
  }
 ],
 "metadata": {
  "kernelspec": {
   "display_name": "Python 3",
   "language": "python",
   "name": "python3"
  },
  "language_info": {
   "codemirror_mode": {
    "name": "ipython",
    "version": 3
   },
   "file_extension": ".py",
   "mimetype": "text/x-python",
   "name": "python",
   "nbconvert_exporter": "python",
   "pygments_lexer": "ipython3",
   "version": "3.11.9"
  }
 },
 "nbformat": 4,
 "nbformat_minor": 2
}
