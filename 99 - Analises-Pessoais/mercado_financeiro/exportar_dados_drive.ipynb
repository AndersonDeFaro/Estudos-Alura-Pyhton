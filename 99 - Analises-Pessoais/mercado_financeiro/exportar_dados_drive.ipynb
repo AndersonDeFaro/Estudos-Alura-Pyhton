{
 "cells": [
  {
   "cell_type": "code",
   "execution_count": 1,
   "metadata": {},
   "outputs": [
    {
     "name": "stderr",
     "output_type": "stream",
     "text": [
      "ERROR: Could not find a version that satisfies the requirement google-colab (from versions: none)\n",
      "ERROR: No matching distribution found for google-colab\n"
     ]
    }
   ],
   "source": [
    "!pip install google-colab gspread"
   ]
  },
  {
   "cell_type": "code",
   "execution_count": null,
   "metadata": {},
   "outputs": [],
   "source": [
    "# Import libraries\n",
    "import pandas as pd\n",
    "from google.colab import drive\n"
   ]
  },
  {
   "cell_type": "code",
   "execution_count": null,
   "metadata": {},
   "outputs": [],
   "source": [
    "# Mount Google Drive (authentication required)\n",
    "drive.mount('/content/drive')\n",
    "\n",
    "# Define paths\n",
    "csv_folder_path = 'C:\\repositorios\\Estudos-Alura-Pyhton\\99-Generative_AI\\dados'  # Replace with your local folder path\n",
    "folder_path = \"Colab Notebooks/Dados/Financeiro\"  # Path in your Google Drive\n",
    "\n",
    "# Access Google Drive\n",
    "gdrive_root = '/content/drive/MyDrive'  # Modify if your Colab Notebooks folder is elsewhere"
   ]
  },
  {
   "cell_type": "code",
   "execution_count": null,
   "metadata": {},
   "outputs": [],
   "source": [
    "# Function to upload CSV to Google Drive\n",
    "def upload_csv_to_drive(csv_filename):\n",
    "  \"\"\"Uploads a CSV file to the specified folder in Google Drive.\"\"\"\n",
    "\n",
    "  # Check if folder exists\n",
    "  folder_id = None\n",
    "  for folder in drive.ls(gdrive_root):\n",
    "    if folder.get('title') == folder_path:\n",
    "      folder_id = folder.get('id')\n",
    "      break\n",
    "\n",
    "  if not folder_id:\n",
    "    print(f\"Folder '{folder_path}' not found. Creating...\")\n",
    "    folder_id = drive.CreateFolder({'title': folder_path}).get('id')\n",
    "    print(f\"Folder created with ID: {folder_id}\")\n",
    "\n",
    "  # Upload CSV file\n",
    "  file_path = f\"{csv_folder_path}{csv_filename}\"\n",
    "  upload_file = drive.CreateFile({'mimeType': 'text/csv', 'parents': [{'id': folder_id}]})\n",
    "  upload_file.SetMimeType('text/csv')\n",
    "  upload_file.SetParents([{'id': folder_id}])\n",
    "  upload_file.Upload(file_path)\n",
    "  print(f\"Uploaded '{csv_filename}' to Google Drive\")\n",
    "\n",
    "# Loop through CSV files in your local folder\n",
    "for filename in os.listdir(csv_folder_path):\n",
    "  if filename.endswith(\".csv\"):\n",
    "    upload_csv_to_drive(filename)\n",
    "\n",
    "print(\"All CSVs uploaded successfully!\")"
   ]
  }
 ],
 "metadata": {
  "kernelspec": {
   "display_name": "Python 3",
   "language": "python",
   "name": "python3"
  },
  "language_info": {
   "codemirror_mode": {
    "name": "ipython",
    "version": 3
   },
   "file_extension": ".py",
   "mimetype": "text/x-python",
   "name": "python",
   "nbconvert_exporter": "python",
   "pygments_lexer": "ipython3",
   "version": "3.11.9"
  }
 },
 "nbformat": 4,
 "nbformat_minor": 2
}
