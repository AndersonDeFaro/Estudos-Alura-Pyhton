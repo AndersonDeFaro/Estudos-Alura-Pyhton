{
 "cells": [
  {
   "cell_type": "markdown",
   "metadata": {},
   "source": [
    "# Consumir dados API- Company Overview - www.alphavantage.co"
   ]
  },
  {
   "cell_type": "markdown",
   "metadata": {},
   "source": [
    "## Capturar dados Básicos"
   ]
  },
  {
   "cell_type": "markdown",
   "metadata": {},
   "source": [
    "### Importação Básica"
   ]
  },
  {
   "cell_type": "code",
   "execution_count": null,
   "metadata": {},
   "outputs": [],
   "source": [
    "!pip install python-dotenv\n",
    "!pip install requests\n",
    "!pip install yfinance\n",
    "!pip install mplfinance\n",
    "!pip install seaborn"
   ]
  },
  {
   "cell_type": "code",
   "execution_count": null,
   "metadata": {},
   "outputs": [],
   "source": [
    "from dotenv import load_dotenv\n",
    "import os\n",
    "import requests\n",
    "import json\n",
    "import yfinance as yf\n",
    "import pandas as pd\n",
    "import mplfinance as mpf\n",
    "import matplotlib.pyplot as plt\n",
    "import seaborn as sns\n",
    "import numpy as np\n",
    "import re\n",
    "import datetime"
   ]
  },
  {
   "cell_type": "code",
   "execution_count": null,
   "metadata": {},
   "outputs": [],
   "source": [
    "# Acessando as variáveis:\n",
    "load_dotenv()\n",
    "api_key = os.getenv('API_KEY2')\n",
    "base_url = os.getenv('BASE_URL_OVERVIEW')\n",
    "\n",
    "# Lista de símbolos das empresas\n",
    "symbols = ['GOOGL', 'AAPL', 'NVDA']"
   ]
  },
  {
   "cell_type": "code",
   "execution_count": null,
   "metadata": {},
   "outputs": [],
   "source": [
    "# Função para obter o resumo de uma empresa\n",
    "def get_company_overview(base_url, symbol, api_key):\n",
    "    url = f'{base_url}&symbol={symbol}&apikey={api_key}'\n",
    "    response = requests.get(url)    \n",
    "    if response.status_code == 200:\n",
    "        data = response.json()\n",
    "        if 'Information' in data and data['Information']:\n",
    "            return 'Thank you for using Alpha Vantage! Our standard API rate limit is 25 requests per day.'\n",
    "        elif symbol in data['Symbol']:\n",
    "            # Extrai os dados relevantes\n",
    "            df_data = {\n",
    "                \"Symbol\": data['Symbol'],\n",
    "                \"AssetType\": data['AssetType'],\n",
    "                \"Name\": data['Name'],\n",
    "                \"Description\": data['Description'],\n",
    "                \"CIK\": data['CIK'],\n",
    "                \"Exchange\": data['Exchange'],\n",
    "                \"Currency\": data['Currency'],\n",
    "                \"Country\": data['Country'],\n",
    "                \"Sector\": data['Sector'],\n",
    "                \"Industry\": data['Industry'],\n",
    "                \"Address\": data['Address'],\n",
    "                \"OfficialSite\": data['OfficialSite'],\n",
    "                \"FiscalYearEnd\": data['FiscalYearEnd'],\n",
    "                \"LatestQuarter\": data['LatestQuarter'],\n",
    "                \"MarketCapitalization\": data['MarketCapitalization'],\n",
    "                \"EBITDA\": data['EBITDA'],\n",
    "                \"PERatio\": data['PERatio'],\n",
    "                \"PEGRatio\": data['PEGRatio'],\n",
    "                \"BookValue\": data['BookValue'],\n",
    "                \"DividendPerShare\": data['DividendPerShare'],\n",
    "                \"DividendYield\": data['DividendYield'],\n",
    "                \"EPS\": data['EPS'],\n",
    "                \"RevenuePerShareTTM\": data['RevenuePerShareTTM'],\n",
    "                \"ProfitMargin\": data['ProfitMargin'],\n",
    "                \"OperatingMarginTTM\": data['OperatingMarginTTM'],\n",
    "                \"ReturnOnAssetsTTM\": data['ReturnOnAssetsTTM'],\n",
    "                \"ReturnOnEquityTTM\": data['ReturnOnEquityTTM'],\n",
    "                \"RevenueTTM\": data['RevenueTTM'],\n",
    "                \"GrossProfitTTM\": data['GrossProfitTTM'],\n",
    "                \"DilutedEPSTTM\": data['DilutedEPSTTM'],\n",
    "                \"QuarterlyEarningsGrowthYOY\": data['QuarterlyEarningsGrowthYOY'],\n",
    "                \"QuarterlyRevenueGrowthYOY\": data['QuarterlyRevenueGrowthYOY'],\n",
    "                \"AnalystTargetPrice\": data['AnalystTargetPrice'],\n",
    "                \"AnalystRatingStrongBuy\": data['AnalystRatingStrongBuy'],\n",
    "                \"AnalystRatingBuy\": data['AnalystRatingBuy'],\n",
    "                \"AnalystRatingHold\": data['AnalystRatingHold'],\n",
    "                \"AnalystRatingSell\": data['AnalystRatingSell'],\n",
    "                \"AnalystRatingStrongSell\": data['AnalystRatingStrongSell'],\n",
    "                \"TrailingPE\": data['TrailingPE'],\n",
    "                \"ForwardPE\": data['ForwardPE'],\n",
    "                \"PriceToSalesRatioTTM\": data['PriceToSalesRatioTTM'],\n",
    "                \"PriceToBookRatio\": data['PriceToBookRatio'],\n",
    "                \"EVToRevenue\": data['EVToRevenue'],\n",
    "                \"EVToEBITDA\": data['EVToEBITDA'],\n",
    "                \"Beta\": data['Beta'],\n",
    "                \"52WeekHigh\": data['52WeekHigh'],\n",
    "                \"52WeekLow\": data['52WeekLow'],\n",
    "                \"50DayMovingAverage\": data['50DayMovingAverage'],\n",
    "                \"200DayMovingAverage\": data['200DayMovingAverage'],\n",
    "                \"SharesOutstanding\": data['SharesOutstanding'],\n",
    "                \"DividendDate\": data['DividendDate'],\n",
    "                \"ExDividendDate\": data['ExDividendDate']\n",
    "            }\n",
    "\n",
    "            overview =  pd.DataFrame(df_data, index=['symbol'])  # Alternatively, return the entire overview dictionary\n",
    "            return overview\n",
    "        else:\n",
    "            print(f\"Erro: 'Overview' não encontrado para {symbol}\")\n",
    "    else:\n",
    "        print(f\"Erro na requisição: {response.status_code}\")\n",
    "        return None"
   ]
  },
  {
   "cell_type": "markdown",
   "metadata": {},
   "source": [
    "### Analise Fundamentalista"
   ]
  },
  {
   "cell_type": "markdown",
   "metadata": {},
   "source": [
    "#### Avaliação"
   ]
  },
  {
   "cell_type": "code",
   "execution_count": null,
   "metadata": {},
   "outputs": [],
   "source": [
    "df_list = pd.DataFrame()\n",
    "# Loop para obter o resumo de cada empresa\n",
    "for symbol in symbols:\n",
    "    overview = get_company_overview(base_url, symbol, api_key)\n",
    "    df_list = pd.concat([df_list, overview])"
   ]
  },
  {
   "cell_type": "code",
   "execution_count": null,
   "metadata": {},
   "outputs": [],
   "source": [
    "df_list.head()    "
   ]
  },
  {
   "cell_type": "code",
   "execution_count": null,
   "metadata": {},
   "outputs": [],
   "source": [
    "def convert_data_types(df):\n",
    "    \"\"\"\n",
    "    Converts columns in a DataFrame to appropriate data types.\n",
    "\n",
    "    Args:\n",
    "        df (pd.DataFrame): The input DataFrame.\n",
    "\n",
    "    Returns:\n",
    "        pd.DataFrame: The DataFrame with converted data types.\n",
    "    \"\"\"\n",
    "\n",
    "    for col in df.columns:\n",
    "        try:\n",
    "            # Check for integers\n",
    "            if pd.api.types.is_numeric_dtype(df[col]):\n",
    "                df[col] = pd.to_numeric(df[col], errors='coerce')\n",
    "            # Check for floats\n",
    "            elif re.search(r\"^\\d+\\.\\d+$\", str(df[col].iloc[0])):  # Check first value for pattern\n",
    "                df[col] = pd.to_numeric(df[col], errors='coerce')\n",
    "            # Check for dates (basic format)\n",
    "            elif re.search(r\"^\\d{4}-\\d{2}-\\d{2}$\", str(df[col].iloc[0])):\n",
    "                df[col] = pd.to_datetime(df[col], errors='coerce')\n",
    "            # Keep strings as strings\n",
    "            else:\n",
    "                df[col] = df[col].astype(str)\n",
    "        except:\n",
    "            # Handle potential errors during conversion\n",
    "            pass\n",
    "\n",
    "    return df"
   ]
  },
  {
   "cell_type": "code",
   "execution_count": null,
   "metadata": {},
   "outputs": [],
   "source": [
    "df_list = convert_data_types(df_list)\n",
    "#Convertendo tipo de dados - Ficou de fora do tratamento de tipo\n",
    "df_list['MarketCapitalization'] = pd.to_numeric(df_list['MarketCapitalization'])\n",
    "\n",
    "# Alterando a formatação global (temporário)\n",
    "pd.options.display.float_format = '{:.2f}'.format"
   ]
  },
  {
   "cell_type": "code",
   "execution_count": null,
   "metadata": {},
   "outputs": [],
   "source": [
    "# Calculate P/L\n",
    "df_list['P/L'] = df_list['MarketCapitalization'] / df_list['EPS']\n",
    "\n",
    "# Calculate P/B\n",
    "df_list['P/B'] = df_list['MarketCapitalization'] / df_list['BookValue']\n"
   ]
  },
  {
   "cell_type": "code",
   "execution_count": null,
   "metadata": {},
   "outputs": [],
   "source": [
    "# Exibir os resultados\n",
    "print(df_list[['Symbol', 'P/L', 'P/B', 'EVToEBITDA']])"
   ]
  },
  {
   "cell_type": "markdown",
   "metadata": {},
   "source": [
    "#### Rentabilidade"
   ]
  },
  {
   "cell_type": "markdown",
   "metadata": {},
   "source": [
    "## Analise Técnica"
   ]
  },
  {
   "cell_type": "markdown",
   "metadata": {},
   "source": [
    "### Preparar dados histórico dos preços das ações"
   ]
  },
  {
   "cell_type": "code",
   "execution_count": null,
   "metadata": {},
   "outputs": [],
   "source": [
    "# Obtendo dados históricos da Apple\n",
    "#for symbol in symbols:\n",
    "def obter_preco_acoes(symbol, start, end):\n",
    "    return yf.download(symbol, start, end) \n"
   ]
  },
  {
   "cell_type": "code",
   "execution_count": null,
   "metadata": {},
   "outputs": [],
   "source": [
    "start = datetime.datetime.now() - datetime.timedelta(days=120)\n",
    "end = datetime.datetime.now() - datetime.timedelta(days=1)\n",
    "\n",
    "# Criar um DataFrame para armazenar os dados\n",
    "data = pd.DataFrame()"
   ]
  },
  {
   "cell_type": "code",
   "execution_count": null,
   "metadata": {},
   "outputs": [],
   "source": [
    "for symbol in symbols:\n",
    "    df = obter_preco_acoes(symbol, start, end)\n",
    "    df['symbol'] = symbol\n",
    "    data = pd.concat([data, df])\n"
   ]
  },
  {
   "cell_type": "markdown",
   "metadata": {},
   "source": [
    "### Informações Básicas"
   ]
  },
  {
   "cell_type": "code",
   "execution_count": null,
   "metadata": {},
   "outputs": [],
   "source": [
    "data.head()"
   ]
  },
  {
   "cell_type": "code",
   "execution_count": null,
   "metadata": {},
   "outputs": [],
   "source": [
    "data.info()"
   ]
  },
  {
   "cell_type": "code",
   "execution_count": null,
   "metadata": {},
   "outputs": [],
   "source": [
    "data.describe()"
   ]
  },
  {
   "cell_type": "markdown",
   "metadata": {},
   "source": [
    "### Candlestick"
   ]
  },
  {
   "cell_type": "code",
   "execution_count": null,
   "metadata": {},
   "outputs": [],
   "source": [
    "\n",
    "# Criar uma figura com múltiplos subplots\n",
    "fig, axes = plt.subplots(nrows=len(symbols), ncols=1, figsize=(12, 6 * len(symbols)))\n",
    "\n",
    "# Ajusta o layout para evitar sobreposição\n",
    "fig.tight_layout(pad=4.0)\n",
    "\n",
    "# Se houver apenas um gráfico, axes será um único eixo, então transforme em uma lista\n",
    "if len(symbols) == 1:\n",
    "    axes = [axes]\n",
    "\n",
    "# Configura os gráficos de candlestick para cada símbolo\n",
    "for i, symbol in enumerate(symbols):\n",
    "    # Verificar se o símbolo existe no DataFrame\n",
    "    if symbol in data['symbol'].values:\n",
    "        group = data[data['symbol'] == symbol]\n",
    "        ax = axes[i]\n",
    "\n",
    "        # Plota o gráfico de candlestick\n",
    "        mpf.plot(group[['Open', 'High', 'Low', 'Close']], type='candle', style='yahoo', ax=ax)\n",
    "\n",
    "        # Define o título do gráfico\n",
    "        ax.set_title(f'Gráfico Candlestick - {symbol}', fontsize=12)\n",
    "    else:\n",
    "        print(f\"O símbolo '{symbol}' não foi encontrado no DataFrame.\")\n",
    "\n",
    "# Adiciona um título geral para a figura\n",
    "fig.suptitle('Gráficos Candlestick', fontsize=16)\n",
    "\n",
    "# Ajusta o layout para evitar sobreposição\n",
    "plt.tight_layout(rect=[0, 0, 1, 0.96])\n",
    "\n",
    "# Exibir os gráficos\n",
    "plt.show()"
   ]
  },
  {
   "cell_type": "markdown",
   "metadata": {},
   "source": [
    "### Indicadores Fundamentalista"
   ]
  },
  {
   "cell_type": "markdown",
   "metadata": {},
   "source": [
    "### Indicadores Técnicos"
   ]
  },
  {
   "cell_type": "markdown",
   "metadata": {},
   "source": [
    "#### Calcular Médias Moveis Simples - MMS"
   ]
  },
  {
   "cell_type": "code",
   "execution_count": null,
   "metadata": {},
   "outputs": [],
   "source": [
    "def calculate_sma(data, column, window_size):\n",
    "  \"\"\"\n",
    "  Calculates the Simple Moving Average (SMA) for a given column and window size.\n",
    "\n",
    "  Args:\n",
    "    data: Pandas DataFrame containing the data.\n",
    "    column: The name of the column to calculate the SMA for.\n",
    "    window_size: The number of periods for the SMA calculation.\n",
    "\n",
    "  Returns:\n",
    "    A Pandas Series containing the SMA values.\n",
    "  \"\"\"\n",
    "\n",
    "  sma = data[column].rolling(window=window_size).mean()\n",
    "  return sma\n",
    "\n",
    "# Exemplo de uso:\n",
    "data['MMS_15'] = calculate_sma(data, 'Close', 15)\n",
    "\n",
    "#Preencher DataFrame com próximo valor válido\n",
    "data['MMS_15'] = calculate_sma(data, 'Close', 15).bfill()"
   ]
  },
  {
   "cell_type": "code",
   "execution_count": null,
   "metadata": {},
   "outputs": [],
   "source": [
    "data.info()"
   ]
  },
  {
   "cell_type": "code",
   "execution_count": null,
   "metadata": {},
   "outputs": [],
   "source": [
    "# Filtrando o DataFrame para as ações desejadas\n",
    "filtered_data = data[data['symbol'].isin(symbols)]\n",
    "\n",
    "# Criando subplots para visualizar múltiplos gráficos em uma mesma figura\n",
    "fig, axes = plt.subplots(nrows=len(symbols), figsize=(12, 8))\n",
    "\n",
    "# Iterando sobre as ações e criando gráficos\n",
    "for i, symbol in enumerate(symbols):\n",
    "    symbol_data = filtered_data[filtered_data['symbol'] == symbol]\n",
    "    axes[i].plot(symbol_data.index, symbol_data['Close'], label='Close')\n",
    "    axes[i].plot(symbol_data.index, symbol_data['MMS_15'], label='MMS_15')\n",
    "    axes[i].set_title(f\"{symbol} - Preço de Fechamento e MMS_15\")\n",
    "    axes[i].legend()\n",
    "    axes[i].grid(True)\n",
    "\n",
    "plt.tight_layout()\n",
    "plt.show()"
   ]
  },
  {
   "cell_type": "markdown",
   "metadata": {},
   "source": [
    "#### MACD para gerar sinais de compra e venda"
   ]
  },
  {
   "cell_type": "code",
   "execution_count": null,
   "metadata": {},
   "outputs": [],
   "source": [
    "# Calculando o MACD\n",
    "def calculate_macd(data, short_period=12, long_period=26, signal_period=9):\n",
    "    \"\"\"\n",
    "    Calcula o MACD, a linha de sinal e o histograma.\n",
    "\n",
    "    Args:\n",
    "        data: DataFrame com os dados.\n",
    "        short_period: Período da média móvel curta (default: 12).\n",
    "        long_period: Período da média móvel longa (default: 26).\n",
    "        signal_period: Período da média móvel do sinal (default: 9).\n",
    "\n",
    "    Returns:\n",
    "        Um DataFrame com as colunas MACD, signal e hist.\n",
    "    \"\"\"\n",
    "\n",
    "    short_ema = data['Close'].ewm(span=short_period, adjust=False).mean()\n",
    "    long_ema = data['Close'].ewm(span=long_period, adjust=False).mean()\n",
    "    macd = short_ema - long_ema\n",
    "    signal = macd.ewm(span=signal_period, adjust=False).mean()\n",
    "    hist = macd - signal\n",
    "    return pd.DataFrame({'macd': macd, 'signal': signal, 'hist': hist})\n",
    "\n",
    "# Adicionando o MACD ao DataFrame\n",
    "macd_data = calculate_macd(data)\n",
    "data = pd.concat([data, macd_data], axis=1)"
   ]
  },
  {
   "cell_type": "code",
   "execution_count": null,
   "metadata": {},
   "outputs": [],
   "source": [
    "# Verificando e preenchendo valores NaN (se necessário)\n",
    "data = data.ffill()  # Preenche com o valor anterior\n",
    "\n",
    "# Criando subplots\n",
    "fig, axes = plt.subplots(nrows=len(symbols), figsize=(12, 8))\n",
    "\n",
    "for i, symbol in enumerate(symbols):\n",
    "    symbol_data = data[data['symbol'] == symbol]\n",
    "\n",
    "    # Plotando o preço de fechamento, MMS_15 e MACD\n",
    "    axes[i].plot(symbol_data.index, symbol_data['macd'], label='MACD')\n",
    "    axes[i].plot(symbol_data.index, symbol_data['signal'], label='Signal')\n",
    "    axes[i].bar(symbol_data.index, symbol_data['hist'], label='Histograma')\n",
    "\n",
    "    # Adicionando título, legenda e grid\n",
    "    axes[i].set_title(f\"{symbol} - MACD x Signal / Histograma\")\n",
    "    axes[i].legend()\n",
    "    axes[i].grid(True)\n",
    "\n",
    "plt.tight_layout()\n",
    "plt.show()"
   ]
  },
  {
   "cell_type": "markdown",
   "metadata": {},
   "source": [
    "#### RSI (Relative Strength Index)"
   ]
  },
  {
   "cell_type": "code",
   "execution_count": null,
   "metadata": {},
   "outputs": [],
   "source": [
    "def calculate_rsi(data, period=14):\n",
    "    \"\"\"\n",
    "    Calcula o RSI para um DataFrame de dados.\n",
    "\n",
    "    Args:\n",
    "        data: DataFrame com a coluna 'Close'.\n",
    "        period: Período para o cálculo do RSI (default: 14).\n",
    "\n",
    "    Returns:\n",
    "        Um DataFrame com a coluna 'RSI'.\n",
    "    \"\"\"\n",
    "\n",
    "    delta = data['Close'].diff()\n",
    "    gain = delta.where(delta > 0, 0)\n",
    "    loss = -delta.where(delta < 0, 0)\n",
    "\n",
    "    avg_gain = gain.rolling(window=period).mean()\n",
    "    avg_loss = loss.rolling(window=period).mean()\n",
    "\n",
    "    rs = avg_gain / avg_loss\n",
    "    rsi = 100 - (100 / (1 + rs))\n",
    "\n",
    "    return rsi\n",
    "\n",
    "# Aplicando a função ao DataFrame\n",
    "data['RSI'] = calculate_rsi(data)"
   ]
  },
  {
   "cell_type": "code",
   "execution_count": null,
   "metadata": {},
   "outputs": [],
   "source": [
    "# Verificando e preenchendo valores NaN (se necessário)\n",
    "data['RSI'] = data['RSI'].ffill()  # Preenche com o valor anterior\n",
    "\n",
    "# Criando subplots\n",
    "fig, axes = plt.subplots(nrows=len(symbols), figsize=(12, 8))\n",
    "\n",
    "for i, symbol in enumerate(symbols):\n",
    "    symbol_data = data[data['symbol'] == symbol]\n",
    "\n",
    "    # Plotando o preço de fechamento, MMS_15, MACD e RSI\n",
    "    axes[i].plot(symbol_data.index, symbol_data['Close'], label='Close')\n",
    "    axes[i].plot(symbol_data.index, symbol_data['RSI'], label='RSI')\n",
    "\n",
    "    # Adicionando níveis de sobrecompra e sobrevenda\n",
    "    axes[i].axhline(70, color='r', linestyle='--')\n",
    "    axes[i].axhline(30, color='r', linestyle='--')\n",
    "\n",
    "    # Adicionando título ao gráfico\n",
    "    axes[i].set_title(f\"Análise Técnica RSI para {symbol}\")\n",
    "\n",
    "    # Ajustando os limites do eixo y (opcional)\n",
    "    axes[i].set_ylim(0, 100)\n",
    "\n",
    "    \n",
    "\n",
    "plt.tight_layout()\n",
    "plt.show()"
   ]
  },
  {
   "cell_type": "markdown",
   "metadata": {},
   "source": [
    "#### Criando Estratégias de Negociação Baseadas em RSI e MACD"
   ]
  },
  {
   "cell_type": "code",
   "execution_count": null,
   "metadata": {},
   "outputs": [],
   "source": [
    "def generate_signals(data, rsi_overbought=70, rsi_oversold=30):\n",
    "    \"\"\"\n",
    "    Gera sinais de compra e venda com base no cruzamento do MACD e nos níveis do RSI.\n",
    "\n",
    "    Args:\n",
    "        data: DataFrame com os dados históricos.\n",
    "        rsi_overbought: Nível de sobrecompra para o RSI.\n",
    "        rsi_oversold: Nível de sobrevenda para o RSI.\n",
    "\n",
    "    Returns:\n",
    "        DataFrame com os sinais de compra e venda.\n",
    "    \"\"\"\n",
    "\n",
    "    # Criar uma nova coluna para os sinais\n",
    "    data['signal_cv'] = 0\n",
    "\n",
    "    # Condição de compra: MACD cruza para cima da linha de sinal e RSI abaixo do nível de sobrevenda\n",
    "    data.loc[(data['macd'] > data['signal']) & (data['RSI'] < rsi_oversold), 'signal_cv'] = 1\n",
    "\n",
    "    # Condição de venda: MACD cruza para baixo da linha de sinal e RSI acima do nível de sobrecompra\n",
    "    data.loc[(data['macd'] < data['signal']) & (data['RSI'] > rsi_overbought), 'signal_cv'] = -1\n",
    "\n",
    "    return data"
   ]
  },
  {
   "cell_type": "code",
   "execution_count": null,
   "metadata": {},
   "outputs": [],
   "source": [
    "data = generate_signals(data)"
   ]
  },
  {
   "cell_type": "code",
   "execution_count": null,
   "metadata": {},
   "outputs": [],
   "source": [
    "# Resetar o índice do DataFrame para tornar 'index' uma coluna\n",
    "data_reset = data.reset_index()\n",
    "data_reset.rename(columns={'index': 'Date'}, inplace=True)\n",
    "\n",
    "# Criar os subplots em uma única coluna\n",
    "g = sns.FacetGrid(data_reset, col=\"symbol\", col_wrap=1, height=4, aspect=3)\n",
    "\n",
    "# Plotar o preço de fechamento\n",
    "g.map(plt.plot, 'Date', 'Close')\n",
    "\n",
    "# Plotar sinais de compra e venda\n",
    "for ax in g.axes.flat:\n",
    "    symbol = ax.get_title().split('=')[-1].strip()\n",
    "    df_symbol = data_reset[data_reset['symbol'] == symbol]\n",
    "    \n",
    "    # Plotar sinais de compra\n",
    "    buy_signals = df_symbol[df_symbol['signal_cv'] == 1]\n",
    "    ax.scatter(buy_signals['Date'], buy_signals['Close'], color='green', marker='^', label='Buy')\n",
    "\n",
    "    # Plotar sinais de venda\n",
    "    sell_signals = df_symbol[df_symbol['signal_cv'] == -1]\n",
    "    ax.scatter(sell_signals['Date'], sell_signals['Close'], color='red', marker='^', label='Sell')\n",
    "\n",
    "    # Adicionar rótulos, título e grid\n",
    "    ax.set_title(f\"Compra x Venda: {symbol}\")\n",
    "    ax.set_xlabel(\"Date\")\n",
    "    ax.set_ylabel(\"Price\")\n",
    "    ax.legend()\n",
    "    ax.grid(True)\n",
    "\n",
    "plt.tight_layout()\n",
    "plt.show()\n"
   ]
  },
  {
   "cell_type": "markdown",
   "metadata": {},
   "source": [
    "### Dados Dividendos"
   ]
  },
  {
   "cell_type": "markdown",
   "metadata": {},
   "source": [
    "#### Obter Dados API"
   ]
  },
  {
   "cell_type": "code",
   "execution_count": null,
   "metadata": {},
   "outputs": [],
   "source": [
    "base_url = os.getenv('BASE_URL_DIVIDENDS')"
   ]
  },
  {
   "cell_type": "code",
   "execution_count": null,
   "metadata": {},
   "outputs": [],
   "source": [
    "def get_dividends(base_url, symbol, api_key):\n",
    "  \"\"\"\n",
    "  Extrai os dados de dividendos de uma empresa usando a API Alpha Vantage.\n",
    "\n",
    "  Args:\n",
    "    symbol: O símbolo da ação (ex: AAPL, GOOGL).\n",
    "    api_key: Sua chave de API da Alpha Vantage.\n",
    "\n",
    "  Returns:\n",
    "    Um DataFrame pandas com os dados de dividendos, ou None se houver algum erro.\n",
    "  \"\"\"\n",
    "  url = f'{base_url}&symbol={symbol}&apikey={api_key}'\n",
    "  response = requests.get(url)    \n",
    "  if response.status_code == 200:\n",
    "    df = response.json()\n",
    "    if 'Information' in df and df['Information']:\n",
    "      return 'Thank you for using Alpha Vantage! Our standard API rate limit is 25 requests per day.'\n",
    "    elif symbol in df['symbol']:\n",
    "      df_lista = pd.DataFrame()\n",
    "      for data in df['data']:\n",
    "        df_data = {\n",
    "                  \"symbol\": symbol,\n",
    "                  \"ex_dividend_date\": data['ex_dividend_date'],\n",
    "                  \"declaration_date\": data['declaration_date'],\n",
    "                  \"record_date\": data['record_date'],\n",
    "                  \"payment_date\": data['payment_date'],\n",
    "                  \"amount\": data['amount']\n",
    "        }\n",
    "        df_data = pd.DataFrame(df_data, index=['symbol'])  # Alternatively, return the entire overview dictionary\n",
    "        df_lista = pd.concat([df_lista, df_data])\n",
    "      return df_lista\n",
    "    else:\n",
    "      print(f\"Erro: 'DIVIDENDS' não encontrado para {symbol}\")\n",
    "  else:\n",
    "    print(f\"Erro na requisição: {response.status_code}\")\n",
    "    return None\n"
   ]
  },
  {
   "cell_type": "code",
   "execution_count": null,
   "metadata": {},
   "outputs": [],
   "source": [
    "\n",
    "# Loop para obter os dados de dividendos de cada empresa\n",
    "df_dividends = pd.DataFrame()\n",
    "for symbol in symbols:\n",
    "  dividends = get_dividends(base_url, symbol, api_key)\n",
    "  df_dividends = pd.concat([df_dividends, dividends])"
   ]
  },
  {
   "cell_type": "code",
   "execution_count": null,
   "metadata": {},
   "outputs": [],
   "source": [
    "df_dividends = convert_data_types(df_dividends)\n",
    "df_dividends.info()"
   ]
  },
  {
   "cell_type": "code",
   "execution_count": null,
   "metadata": {},
   "outputs": [],
   "source": [
    "df_dividends.head()"
   ]
  }
 ],
 "metadata": {
  "kernelspec": {
   "display_name": "Python 3",
   "language": "python",
   "name": "python3"
  },
  "language_info": {
   "codemirror_mode": {
    "name": "ipython",
    "version": 3
   },
   "file_extension": ".py",
   "mimetype": "text/x-python",
   "name": "python",
   "nbconvert_exporter": "python",
   "pygments_lexer": "ipython3",
   "version": "3.11.9"
  }
 },
 "nbformat": 4,
 "nbformat_minor": 2
}
