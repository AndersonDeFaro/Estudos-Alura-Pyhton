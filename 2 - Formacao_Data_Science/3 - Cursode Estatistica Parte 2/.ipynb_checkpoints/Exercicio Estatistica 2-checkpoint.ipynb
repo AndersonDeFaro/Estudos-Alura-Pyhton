{
 "cells": [
  {
   "cell_type": "code",
   "execution_count": 1,
   "metadata": {},
   "outputs": [],
   "source": [
    "from scipy.special import comb"
   ]
  },
  {
   "cell_type": "code",
   "execution_count": 2,
   "metadata": {},
   "outputs": [
    {
     "data": {
      "text/plain": [
       "53130.0"
      ]
     },
     "execution_count": 2,
     "metadata": {},
     "output_type": "execute_result"
    }
   ],
   "source": [
    "combinacoes = comb(25, 20)\n",
    "combinacoes"
   ]
  },
  {
   "cell_type": "code",
   "execution_count": 4,
   "metadata": {},
   "outputs": [
    {
     "name": "stdout",
     "output_type": "stream",
     "text": [
      "0.000018821757952\n"
     ]
    }
   ],
   "source": [
    "probabilidade = 1 / combinacoes\n",
    "print('%0.15f' % probabilidade)"
   ]
  },
  {
   "cell_type": "code",
   "execution_count": 9,
   "metadata": {},
   "outputs": [
    {
     "data": {
      "text/plain": [
       "0.3750000000000001"
      ]
     },
     "execution_count": 9,
     "metadata": {},
     "output_type": "execute_result"
    }
   ],
   "source": [
    "# Probabilidade de 2 acertos em 4 arremos de moeda\n",
    "n = 4 # Numero de arremessos\n",
    "k = 2 # Acertos\n",
    "p = 1 / k # Probavilidade de Acerto\n",
    "q = 1 - p # Probabilidade de Erro\n",
    "\n",
    "from scipy.stats import binom\n",
    "probabilidade = binom.pmf(k, n, p)\n",
    "probabilidade"
   ]
  },
  {
   "cell_type": "code",
   "execution_count": 13,
   "metadata": {},
   "outputs": [
    {
     "data": {
      "text/plain": [
       "0.22477320212874052"
      ]
     },
     "execution_count": 13,
     "metadata": {},
     "output_type": "execute_result"
    }
   ],
   "source": [
    "# Probabilidade de Acerto (Dado)\n",
    "n = 10 # Numero de tentativas\n",
    "k = 2 # Acertos\n",
    "p = 1 / 6 # Probabilidade de acerto\n",
    "q = 1 - p # Probabilidade de erro\n",
    "probabilidade = binom.sf(k, 10, p)\n",
    "probabilidade"
   ]
  },
  {
   "cell_type": "code",
   "execution_count": 15,
   "metadata": {},
   "outputs": [
    {
     "data": {
      "text/plain": [
       "5.662799999999999"
      ]
     },
     "execution_count": 15,
     "metadata": {},
     "output_type": "execute_result"
    }
   ],
   "source": [
    "# Probabilidade de olhos azuis\n",
    "p = 0.22\n",
    "familias = 50\n",
    "n = 3\n",
    "k = 2\n",
    "probabilidade = binom.pmf(k, n, p)\n",
    "ocr_familias = familias * probabilidade\n",
    "ocr_familias"
   ]
  },
  {
   "cell_type": "code",
   "execution_count": 21,
   "metadata": {},
   "outputs": [
    {
     "name": "stdout",
     "output_type": "stream",
     "text": [
      "0.0446\n"
     ]
    }
   ],
   "source": [
    "# Probabilidade de clientes entrar em restaurante em uma determinada hora\n",
    "media = 20\n",
    "k = 25\n",
    "\n",
    "from scipy.stats import poisson\n",
    "probabilidade = poisson.pmf(k, media)\n",
    "print('%0.4f' % probabilidade )"
   ]
  },
  {
   "cell_type": "code",
   "execution_count": null,
   "metadata": {},
   "outputs": [],
   "source": []
  }
 ],
 "metadata": {
  "kernelspec": {
   "display_name": "Python 3",
   "language": "python",
   "name": "python3"
  },
  "language_info": {
   "codemirror_mode": {
    "name": "ipython",
    "version": 3
   },
   "file_extension": ".py",
   "mimetype": "text/x-python",
   "name": "python",
   "nbconvert_exporter": "python",
   "pygments_lexer": "ipython3",
   "version": "3.7.3"
  }
 },
 "nbformat": 4,
 "nbformat_minor": 2
}
