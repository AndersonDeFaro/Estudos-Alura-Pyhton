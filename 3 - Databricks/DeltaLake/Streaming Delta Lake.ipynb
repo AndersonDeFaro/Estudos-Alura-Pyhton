{
 "cells": [
  {
   "cell_type": "markdown",
   "metadata": {
    "application/vnd.databricks.v1+cell": {
     "cellMetadata": {},
     "inputWidgets": {},
     "nuid": "41b50d5e-d96f-4fb3-8796-762a8f04c917",
     "showTitle": false,
     "title": ""
    }
   },
   "source": [
    "## Eliminando arquivos caso existam nas pastas, pois serão destinados as tabelas Delta"
   ]
  },
  {
   "cell_type": "code",
   "execution_count": 0,
   "metadata": {
    "application/vnd.databricks.v1+cell": {
     "cellMetadata": {
      "byteLimit": 2048000,
      "rowLimit": 10000
     },
     "inputWidgets": {},
     "nuid": "9994622f-5af4-4c10-a6c5-78084b0647e0",
     "showTitle": false,
     "title": ""
    }
   },
   "outputs": [
    {
     "output_type": "display_data",
     "data": {
      "text/html": [
       "<style scoped>\n",
       "  .ansiout {\n",
       "    display: block;\n",
       "    unicode-bidi: embed;\n",
       "    white-space: pre-wrap;\n",
       "    word-wrap: break-word;\n",
       "    word-break: break-all;\n",
       "    font-family: \"Menlo\", \"Monaco\", \"Consolas\", \"Ubuntu Mono\", \"Source Code Pro\", monospace;\n",
       "    font-size: 13px;\n",
       "    color: #555;\n",
       "    margin-left: 4px;\n",
       "    line-height: 19px;\n",
       "  }\n",
       "</style>\n",
       "<div class=\"ansiout\">res3: Boolean = true\n",
       "</div>"
      ]
     },
     "metadata": {
      "application/vnd.databricks.v1+output": {
       "addedWidgets": {},
       "arguments": {},
       "data": "<div class=\"ansiout\">res3: Boolean = true\n</div>",
       "datasetInfos": [],
       "metadata": {
        "isDbfsCommandResult": false
       },
       "removedWidgets": [],
       "type": "html"
      }
     },
     "output_type": "display_data"
    }
   ],
   "source": [
    "%fs rm -r /tmp/delta/events"
   ]
  },
  {
   "cell_type": "code",
   "execution_count": 0,
   "metadata": {
    "application/vnd.databricks.v1+cell": {
     "cellMetadata": {
      "byteLimit": 2048000,
      "rowLimit": 10000
     },
     "inputWidgets": {},
     "nuid": "f803bd73-5e05-417f-938f-e411edf7ce6b",
     "showTitle": false,
     "title": ""
    }
   },
   "outputs": [
    {
     "output_type": "display_data",
     "data": {
      "text/html": [
       "<style scoped>\n",
       "  .ansiout {\n",
       "    display: block;\n",
       "    unicode-bidi: embed;\n",
       "    white-space: pre-wrap;\n",
       "    word-wrap: break-word;\n",
       "    word-break: break-all;\n",
       "    font-family: \"Menlo\", \"Monaco\", \"Consolas\", \"Ubuntu Mono\", \"Source Code Pro\", monospace;\n",
       "    font-size: 13px;\n",
       "    color: #555;\n",
       "    margin-left: 4px;\n",
       "    line-height: 19px;\n",
       "  }\n",
       "</style>\n",
       "<div class=\"ansiout\">res4: Boolean = true\n",
       "</div>"
      ]
     },
     "metadata": {
      "application/vnd.databricks.v1+output": {
       "addedWidgets": {},
       "arguments": {},
       "data": "<div class=\"ansiout\">res4: Boolean = true\n</div>",
       "datasetInfos": [],
       "metadata": {
        "isDbfsCommandResult": false
       },
       "removedWidgets": [],
       "type": "html"
      }
     },
     "output_type": "display_data"
    }
   ],
   "source": [
    "%fs rm -r /tmp/delta/checkpoint"
   ]
  },
  {
   "cell_type": "markdown",
   "metadata": {
    "application/vnd.databricks.v1+cell": {
     "cellMetadata": {},
     "inputWidgets": {},
     "nuid": "997c96ee-29b5-4e9c-b171-28cdc7dd4834",
     "showTitle": false,
     "title": ""
    }
   },
   "source": [
    "## Listando os diversos arquivos Json para carga no Delta Lake"
   ]
  },
  {
   "cell_type": "code",
   "execution_count": 0,
   "metadata": {
    "application/vnd.databricks.v1+cell": {
     "cellMetadata": {
      "byteLimit": 2048000,
      "rowLimit": 10000
     },
     "inputWidgets": {},
     "nuid": "0690ef17-c435-4e22-a00c-36bb8d231d2b",
     "showTitle": false,
     "title": ""
    }
   },
   "outputs": [
    {
     "output_type": "display_data",
     "data": {
      "text/html": [
       "<style scoped>\n",
       "  .table-result-container {\n",
       "    max-height: 300px;\n",
       "    overflow: auto;\n",
       "  }\n",
       "  table, th, td {\n",
       "    border: 1px solid black;\n",
       "    border-collapse: collapse;\n",
       "  }\n",
       "  th, td {\n",
       "    padding: 5px;\n",
       "  }\n",
       "  th {\n",
       "    text-align: left;\n",
       "  }\n",
       "</style><div class='table-result-container'><table class='table-result'><thead style='background-color: white'><tr><th>path</th><th>name</th><th>size</th><th>modificationTime</th></tr></thead><tbody><tr><td>dbfs:/databricks-datasets/structured-streaming/events/file-0.json</td><td>file-0.json</td><td>72530</td><td>1469673865000</td></tr><tr><td>dbfs:/databricks-datasets/structured-streaming/events/file-1.json</td><td>file-1.json</td><td>72961</td><td>1469673866000</td></tr><tr><td>dbfs:/databricks-datasets/structured-streaming/events/file-10.json</td><td>file-10.json</td><td>73025</td><td>1469673878000</td></tr><tr><td>dbfs:/databricks-datasets/structured-streaming/events/file-11.json</td><td>file-11.json</td><td>72999</td><td>1469673879000</td></tr><tr><td>dbfs:/databricks-datasets/structured-streaming/events/file-12.json</td><td>file-12.json</td><td>72987</td><td>1469673880000</td></tr><tr><td>dbfs:/databricks-datasets/structured-streaming/events/file-13.json</td><td>file-13.json</td><td>73006</td><td>1469673881000</td></tr><tr><td>dbfs:/databricks-datasets/structured-streaming/events/file-14.json</td><td>file-14.json</td><td>73003</td><td>1469673882000</td></tr><tr><td>dbfs:/databricks-datasets/structured-streaming/events/file-15.json</td><td>file-15.json</td><td>73007</td><td>1469673883000</td></tr><tr><td>dbfs:/databricks-datasets/structured-streaming/events/file-16.json</td><td>file-16.json</td><td>72978</td><td>1469673885000</td></tr><tr><td>dbfs:/databricks-datasets/structured-streaming/events/file-17.json</td><td>file-17.json</td><td>73008</td><td>1469673886000</td></tr><tr><td>dbfs:/databricks-datasets/structured-streaming/events/file-18.json</td><td>file-18.json</td><td>73002</td><td>1469673887000</td></tr><tr><td>dbfs:/databricks-datasets/structured-streaming/events/file-19.json</td><td>file-19.json</td><td>73014</td><td>1469673888000</td></tr><tr><td>dbfs:/databricks-datasets/structured-streaming/events/file-2.json</td><td>file-2.json</td><td>73007</td><td>1469673868000</td></tr><tr><td>dbfs:/databricks-datasets/structured-streaming/events/file-20.json</td><td>file-20.json</td><td>72987</td><td>1469673889000</td></tr><tr><td>dbfs:/databricks-datasets/structured-streaming/events/file-21.json</td><td>file-21.json</td><td>72983</td><td>1469673891000</td></tr><tr><td>dbfs:/databricks-datasets/structured-streaming/events/file-22.json</td><td>file-22.json</td><td>73009</td><td>1469673892000</td></tr><tr><td>dbfs:/databricks-datasets/structured-streaming/events/file-23.json</td><td>file-23.json</td><td>72985</td><td>1469673893000</td></tr><tr><td>dbfs:/databricks-datasets/structured-streaming/events/file-24.json</td><td>file-24.json</td><td>73020</td><td>1469673894000</td></tr><tr><td>dbfs:/databricks-datasets/structured-streaming/events/file-25.json</td><td>file-25.json</td><td>72980</td><td>1469673895000</td></tr><tr><td>dbfs:/databricks-datasets/structured-streaming/events/file-26.json</td><td>file-26.json</td><td>73002</td><td>1469673897000</td></tr><tr><td>dbfs:/databricks-datasets/structured-streaming/events/file-27.json</td><td>file-27.json</td><td>73013</td><td>1469673898000</td></tr><tr><td>dbfs:/databricks-datasets/structured-streaming/events/file-28.json</td><td>file-28.json</td><td>73005</td><td>1469673899000</td></tr><tr><td>dbfs:/databricks-datasets/structured-streaming/events/file-29.json</td><td>file-29.json</td><td>72977</td><td>1469673900000</td></tr><tr><td>dbfs:/databricks-datasets/structured-streaming/events/file-3.json</td><td>file-3.json</td><td>72996</td><td>1469673869000</td></tr><tr><td>dbfs:/databricks-datasets/structured-streaming/events/file-30.json</td><td>file-30.json</td><td>73009</td><td>1469673902000</td></tr><tr><td>dbfs:/databricks-datasets/structured-streaming/events/file-31.json</td><td>file-31.json</td><td>73008</td><td>1469673903000</td></tr><tr><td>dbfs:/databricks-datasets/structured-streaming/events/file-32.json</td><td>file-32.json</td><td>72982</td><td>1469673904000</td></tr><tr><td>dbfs:/databricks-datasets/structured-streaming/events/file-33.json</td><td>file-33.json</td><td>73033</td><td>1469673905000</td></tr><tr><td>dbfs:/databricks-datasets/structured-streaming/events/file-34.json</td><td>file-34.json</td><td>72985</td><td>1469673907000</td></tr><tr><td>dbfs:/databricks-datasets/structured-streaming/events/file-35.json</td><td>file-35.json</td><td>72974</td><td>1469673908000</td></tr><tr><td>dbfs:/databricks-datasets/structured-streaming/events/file-36.json</td><td>file-36.json</td><td>73013</td><td>1469673909000</td></tr><tr><td>dbfs:/databricks-datasets/structured-streaming/events/file-37.json</td><td>file-37.json</td><td>72989</td><td>1469673910000</td></tr><tr><td>dbfs:/databricks-datasets/structured-streaming/events/file-38.json</td><td>file-38.json</td><td>72999</td><td>1469673911000</td></tr><tr><td>dbfs:/databricks-datasets/structured-streaming/events/file-39.json</td><td>file-39.json</td><td>73013</td><td>1469673913000</td></tr><tr><td>dbfs:/databricks-datasets/structured-streaming/events/file-4.json</td><td>file-4.json</td><td>72992</td><td>1469673870000</td></tr><tr><td>dbfs:/databricks-datasets/structured-streaming/events/file-40.json</td><td>file-40.json</td><td>72986</td><td>1469673914000</td></tr><tr><td>dbfs:/databricks-datasets/structured-streaming/events/file-41.json</td><td>file-41.json</td><td>73019</td><td>1469673915000</td></tr><tr><td>dbfs:/databricks-datasets/structured-streaming/events/file-42.json</td><td>file-42.json</td><td>72986</td><td>1469673916000</td></tr><tr><td>dbfs:/databricks-datasets/structured-streaming/events/file-43.json</td><td>file-43.json</td><td>72990</td><td>1469673918000</td></tr><tr><td>dbfs:/databricks-datasets/structured-streaming/events/file-44.json</td><td>file-44.json</td><td>73018</td><td>1469673919000</td></tr><tr><td>dbfs:/databricks-datasets/structured-streaming/events/file-45.json</td><td>file-45.json</td><td>72997</td><td>1469673921000</td></tr><tr><td>dbfs:/databricks-datasets/structured-streaming/events/file-46.json</td><td>file-46.json</td><td>72991</td><td>1469673922000</td></tr><tr><td>dbfs:/databricks-datasets/structured-streaming/events/file-47.json</td><td>file-47.json</td><td>73009</td><td>1469673923000</td></tr><tr><td>dbfs:/databricks-datasets/structured-streaming/events/file-48.json</td><td>file-48.json</td><td>72993</td><td>1469673924000</td></tr><tr><td>dbfs:/databricks-datasets/structured-streaming/events/file-49.json</td><td>file-49.json</td><td>73496</td><td>1469673926000</td></tr><tr><td>dbfs:/databricks-datasets/structured-streaming/events/file-5.json</td><td>file-5.json</td><td>72998</td><td>1469673871000</td></tr><tr><td>dbfs:/databricks-datasets/structured-streaming/events/file-6.json</td><td>file-6.json</td><td>72997</td><td>1469673873000</td></tr><tr><td>dbfs:/databricks-datasets/structured-streaming/events/file-7.json</td><td>file-7.json</td><td>73022</td><td>1469673874000</td></tr><tr><td>dbfs:/databricks-datasets/structured-streaming/events/file-8.json</td><td>file-8.json</td><td>72997</td><td>1469673875000</td></tr><tr><td>dbfs:/databricks-datasets/structured-streaming/events/file-9.json</td><td>file-9.json</td><td>72970</td><td>1469673876000</td></tr></tbody></table></div>"
      ]
     },
     "metadata": {
      "application/vnd.databricks.v1+output": {
       "addedWidgets": {},
       "aggData": [],
       "aggError": "",
       "aggOverflow": false,
       "aggSchema": [],
       "aggSeriesLimitReached": false,
       "aggType": "",
       "arguments": {},
       "columnCustomDisplayInfos": {},
       "data": [
        [
         "dbfs:/databricks-datasets/structured-streaming/events/file-0.json",
         "file-0.json",
         72530,
         1469673865000
        ],
        [
         "dbfs:/databricks-datasets/structured-streaming/events/file-1.json",
         "file-1.json",
         72961,
         1469673866000
        ],
        [
         "dbfs:/databricks-datasets/structured-streaming/events/file-10.json",
         "file-10.json",
         73025,
         1469673878000
        ],
        [
         "dbfs:/databricks-datasets/structured-streaming/events/file-11.json",
         "file-11.json",
         72999,
         1469673879000
        ],
        [
         "dbfs:/databricks-datasets/structured-streaming/events/file-12.json",
         "file-12.json",
         72987,
         1469673880000
        ],
        [
         "dbfs:/databricks-datasets/structured-streaming/events/file-13.json",
         "file-13.json",
         73006,
         1469673881000
        ],
        [
         "dbfs:/databricks-datasets/structured-streaming/events/file-14.json",
         "file-14.json",
         73003,
         1469673882000
        ],
        [
         "dbfs:/databricks-datasets/structured-streaming/events/file-15.json",
         "file-15.json",
         73007,
         1469673883000
        ],
        [
         "dbfs:/databricks-datasets/structured-streaming/events/file-16.json",
         "file-16.json",
         72978,
         1469673885000
        ],
        [
         "dbfs:/databricks-datasets/structured-streaming/events/file-17.json",
         "file-17.json",
         73008,
         1469673886000
        ],
        [
         "dbfs:/databricks-datasets/structured-streaming/events/file-18.json",
         "file-18.json",
         73002,
         1469673887000
        ],
        [
         "dbfs:/databricks-datasets/structured-streaming/events/file-19.json",
         "file-19.json",
         73014,
         1469673888000
        ],
        [
         "dbfs:/databricks-datasets/structured-streaming/events/file-2.json",
         "file-2.json",
         73007,
         1469673868000
        ],
        [
         "dbfs:/databricks-datasets/structured-streaming/events/file-20.json",
         "file-20.json",
         72987,
         1469673889000
        ],
        [
         "dbfs:/databricks-datasets/structured-streaming/events/file-21.json",
         "file-21.json",
         72983,
         1469673891000
        ],
        [
         "dbfs:/databricks-datasets/structured-streaming/events/file-22.json",
         "file-22.json",
         73009,
         1469673892000
        ],
        [
         "dbfs:/databricks-datasets/structured-streaming/events/file-23.json",
         "file-23.json",
         72985,
         1469673893000
        ],
        [
         "dbfs:/databricks-datasets/structured-streaming/events/file-24.json",
         "file-24.json",
         73020,
         1469673894000
        ],
        [
         "dbfs:/databricks-datasets/structured-streaming/events/file-25.json",
         "file-25.json",
         72980,
         1469673895000
        ],
        [
         "dbfs:/databricks-datasets/structured-streaming/events/file-26.json",
         "file-26.json",
         73002,
         1469673897000
        ],
        [
         "dbfs:/databricks-datasets/structured-streaming/events/file-27.json",
         "file-27.json",
         73013,
         1469673898000
        ],
        [
         "dbfs:/databricks-datasets/structured-streaming/events/file-28.json",
         "file-28.json",
         73005,
         1469673899000
        ],
        [
         "dbfs:/databricks-datasets/structured-streaming/events/file-29.json",
         "file-29.json",
         72977,
         1469673900000
        ],
        [
         "dbfs:/databricks-datasets/structured-streaming/events/file-3.json",
         "file-3.json",
         72996,
         1469673869000
        ],
        [
         "dbfs:/databricks-datasets/structured-streaming/events/file-30.json",
         "file-30.json",
         73009,
         1469673902000
        ],
        [
         "dbfs:/databricks-datasets/structured-streaming/events/file-31.json",
         "file-31.json",
         73008,
         1469673903000
        ],
        [
         "dbfs:/databricks-datasets/structured-streaming/events/file-32.json",
         "file-32.json",
         72982,
         1469673904000
        ],
        [
         "dbfs:/databricks-datasets/structured-streaming/events/file-33.json",
         "file-33.json",
         73033,
         1469673905000
        ],
        [
         "dbfs:/databricks-datasets/structured-streaming/events/file-34.json",
         "file-34.json",
         72985,
         1469673907000
        ],
        [
         "dbfs:/databricks-datasets/structured-streaming/events/file-35.json",
         "file-35.json",
         72974,
         1469673908000
        ],
        [
         "dbfs:/databricks-datasets/structured-streaming/events/file-36.json",
         "file-36.json",
         73013,
         1469673909000
        ],
        [
         "dbfs:/databricks-datasets/structured-streaming/events/file-37.json",
         "file-37.json",
         72989,
         1469673910000
        ],
        [
         "dbfs:/databricks-datasets/structured-streaming/events/file-38.json",
         "file-38.json",
         72999,
         1469673911000
        ],
        [
         "dbfs:/databricks-datasets/structured-streaming/events/file-39.json",
         "file-39.json",
         73013,
         1469673913000
        ],
        [
         "dbfs:/databricks-datasets/structured-streaming/events/file-4.json",
         "file-4.json",
         72992,
         1469673870000
        ],
        [
         "dbfs:/databricks-datasets/structured-streaming/events/file-40.json",
         "file-40.json",
         72986,
         1469673914000
        ],
        [
         "dbfs:/databricks-datasets/structured-streaming/events/file-41.json",
         "file-41.json",
         73019,
         1469673915000
        ],
        [
         "dbfs:/databricks-datasets/structured-streaming/events/file-42.json",
         "file-42.json",
         72986,
         1469673916000
        ],
        [
         "dbfs:/databricks-datasets/structured-streaming/events/file-43.json",
         "file-43.json",
         72990,
         1469673918000
        ],
        [
         "dbfs:/databricks-datasets/structured-streaming/events/file-44.json",
         "file-44.json",
         73018,
         1469673919000
        ],
        [
         "dbfs:/databricks-datasets/structured-streaming/events/file-45.json",
         "file-45.json",
         72997,
         1469673921000
        ],
        [
         "dbfs:/databricks-datasets/structured-streaming/events/file-46.json",
         "file-46.json",
         72991,
         1469673922000
        ],
        [
         "dbfs:/databricks-datasets/structured-streaming/events/file-47.json",
         "file-47.json",
         73009,
         1469673923000
        ],
        [
         "dbfs:/databricks-datasets/structured-streaming/events/file-48.json",
         "file-48.json",
         72993,
         1469673924000
        ],
        [
         "dbfs:/databricks-datasets/structured-streaming/events/file-49.json",
         "file-49.json",
         73496,
         1469673926000
        ],
        [
         "dbfs:/databricks-datasets/structured-streaming/events/file-5.json",
         "file-5.json",
         72998,
         1469673871000
        ],
        [
         "dbfs:/databricks-datasets/structured-streaming/events/file-6.json",
         "file-6.json",
         72997,
         1469673873000
        ],
        [
         "dbfs:/databricks-datasets/structured-streaming/events/file-7.json",
         "file-7.json",
         73022,
         1469673874000
        ],
        [
         "dbfs:/databricks-datasets/structured-streaming/events/file-8.json",
         "file-8.json",
         72997,
         1469673875000
        ],
        [
         "dbfs:/databricks-datasets/structured-streaming/events/file-9.json",
         "file-9.json",
         72970,
         1469673876000
        ]
       ],
       "datasetInfos": [],
       "dbfsResultPath": null,
       "isJsonSchema": true,
       "metadata": {
        "isDbfsCommandResult": false
       },
       "overflow": false,
       "plotOptions": {
        "customPlotOptions": {},
        "displayType": "table",
        "pivotAggregation": null,
        "pivotColumns": null,
        "xColumns": null,
        "yColumns": null
       },
       "removedWidgets": [],
       "schema": [
        {
         "metadata": "{}",
         "name": "path",
         "type": "\"string\""
        },
        {
         "metadata": "{}",
         "name": "name",
         "type": "\"string\""
        },
        {
         "metadata": "{}",
         "name": "size",
         "type": "\"long\""
        },
        {
         "metadata": "{}",
         "name": "modificationTime",
         "type": "\"long\""
        }
       ],
       "type": "table"
      }
     },
     "output_type": "display_data"
    }
   ],
   "source": [
    "%fs ls /databricks-datasets/structured-streaming/events/"
   ]
  },
  {
   "cell_type": "markdown",
   "metadata": {
    "application/vnd.databricks.v1+cell": {
     "cellMetadata": {},
     "inputWidgets": {},
     "nuid": "d7914893-118e-4359-ab5e-fea7c85bea65",
     "showTitle": false,
     "title": ""
    }
   },
   "source": [
    "## Exibindo o conteúdo de 1 arquivo Json"
   ]
  },
  {
   "cell_type": "code",
   "execution_count": 0,
   "metadata": {
    "application/vnd.databricks.v1+cell": {
     "cellMetadata": {
      "byteLimit": 2048000,
      "rowLimit": 10000
     },
     "inputWidgets": {},
     "nuid": "22878775-1a68-4ae0-94ce-8a3278e04fe5",
     "showTitle": false,
     "title": ""
    }
   },
   "outputs": [
    {
     "output_type": "stream",
     "name": "stdout",
     "output_type": "stream",
     "text": [
      "+------+----------+\n|action|      time|\n+------+----------+\n| Close|1469506633|\n| Close|1469506636|\n|  Open|1469506642|\n|  Open|1469506644|\n|  Open|1469506646|\n|  Open|1469506647|\n|  Open|1469506648|\n|  Open|1469506651|\n| Close|1469506653|\n|  Open|1469506653|\n|  Open|1469506656|\n|  Open|1469506659|\n|  Open|1469506659|\n| Close|1469506660|\n| Close|1469506660|\n|  Open|1469506662|\n| Close|1469506668|\n| Close|1469506669|\n|  Open|1469506670|\n|  Open|1469506670|\n+------+----------+\nonly showing top 20 rows\n\n"
     ]
    }
   ],
   "source": [
    "%python\n",
    "#Lendo um dos arquivos JSON\n",
    "dataf3 = spark.read.json(\"/databricks-datasets/structured-streaming/events/file-1.json\")\n",
    "dataf3.show()"
   ]
  },
  {
   "cell_type": "markdown",
   "metadata": {
    "application/vnd.databricks.v1+cell": {
     "cellMetadata": {},
     "inputWidgets": {},
     "nuid": "7e72fb0a-cc79-4838-b3c3-adfd936f4032",
     "showTitle": false,
     "title": ""
    }
   },
   "source": [
    "## Criando um banco de dados em separado e uma tabela Delta que irá receber os dados do Json em Streaming"
   ]
  },
  {
   "cell_type": "code",
   "execution_count": 0,
   "metadata": {
    "application/vnd.databricks.v1+cell": {
     "cellMetadata": {
      "byteLimit": 2048000,
      "implicitDf": true,
      "rowLimit": 10000
     },
     "inputWidgets": {},
     "nuid": "3380cd3c-da18-4405-b749-211f5e6e5667",
     "showTitle": false,
     "title": ""
    }
   },
   "outputs": [
    {
     "output_type": "display_data",
     "data": {
      "text/html": [
       "<style scoped>\n",
       "  .table-result-container {\n",
       "    max-height: 300px;\n",
       "    overflow: auto;\n",
       "  }\n",
       "  table, th, td {\n",
       "    border: 1px solid black;\n",
       "    border-collapse: collapse;\n",
       "  }\n",
       "  th, td {\n",
       "    padding: 5px;\n",
       "  }\n",
       "  th {\n",
       "    text-align: left;\n",
       "  }\n",
       "</style><div class='table-result-container'><table class='table-result'><thead style='background-color: white'><tr></tr></thead><tbody></tbody></table></div>"
      ]
     },
     "metadata": {
      "application/vnd.databricks.v1+output": {
       "addedWidgets": {},
       "aggData": [],
       "aggError": "",
       "aggOverflow": false,
       "aggSchema": [],
       "aggSeriesLimitReached": false,
       "aggType": "",
       "arguments": {},
       "columnCustomDisplayInfos": {},
       "data": [],
       "datasetInfos": [],
       "dbfsResultPath": null,
       "isJsonSchema": true,
       "metadata": {},
       "overflow": false,
       "plotOptions": {
        "customPlotOptions": {},
        "displayType": "table",
        "pivotAggregation": null,
        "pivotColumns": null,
        "xColumns": null,
        "yColumns": null
       },
       "removedWidgets": [],
       "schema": [],
       "type": "table"
      }
     },
     "output_type": "display_data"
    }
   ],
   "source": [
    "%sql\n",
    "CREATE DATABASE IF NOT EXISTS db_stream;\n",
    "USE db_stream;\n",
    "\n",
    "DROP TABLE IF EXISTS db_stream.tab_stream;\n",
    "\n",
    "CREATE TABLE db_stream.tab_stream(\n",
    "action STRING,\n",
    "time STRING\n",
    ")\n",
    "USING delta\n",
    "LOCATION \"/tmp/delta/events\""
   ]
  },
  {
   "cell_type": "markdown",
   "metadata": {
    "application/vnd.databricks.v1+cell": {
     "cellMetadata": {},
     "inputWidgets": {},
     "nuid": "58db8bed-1933-4e90-a560-5aad9290f7de",
     "showTitle": false,
     "title": ""
    }
   },
   "source": [
    "## Executando a carga na pasta do Delta Lake, onde serão armazenados os dados"
   ]
  },
  {
   "cell_type": "code",
   "execution_count": 0,
   "metadata": {
    "application/vnd.databricks.v1+cell": {
     "cellMetadata": {
      "byteLimit": 2048000,
      "rowLimit": 10000
     },
     "inputWidgets": {},
     "nuid": "40254130-645b-4d32-9179-db75a5ad02c1",
     "showTitle": false,
     "title": ""
    }
   },
   "outputs": [],
   "source": [
    "%python\n",
    "from pyspark.sql.functions import *\n",
    "from pyspark.sql.types import *"
   ]
  },
  {
   "cell_type": "code",
   "execution_count": 0,
   "metadata": {
    "application/vnd.databricks.v1+cell": {
     "cellMetadata": {
      "byteLimit": 2048000,
      "rowLimit": 10000
     },
     "inputWidgets": {},
     "nuid": "ed7e82dc-18a0-4a95-9e43-90996dcf0326",
     "showTitle": false,
     "title": ""
    }
   },
   "outputs": [
    {
     "output_type": "stream",
     "name": "stdout",
     "output_type": "stream",
     "text": [
      "Out[5]: <pyspark.sql.streaming.StreamingQuery at 0x7f43b1413f10>"
     ]
    }
   ],
   "source": [
    "# Streaming reads and append into delta table (Start !)\n",
    "read_schema = StructType([\n",
    "StructField(\"action\", StringType(), False),\n",
    "StructField(\"time\", StringType(), True)\n",
    "])\n",
    "df2 = (spark.readStream\n",
    ".option(\"maxFilesPerTrigger\", \"1\")\n",
    ".schema(read_schema)\n",
    ".json(\"/databricks-datasets/structured-streaming/events/\"))\n",
    "(df2.writeStream\n",
    ".format(\"delta\")\n",
    ".outputMode(\"append\")\n",
    ".option(\"checkpointLocation\", \"/tmp/delta/checkpoint\")\n",
    ".option(\"path\", \"/tmp/delta/events\").start())"
   ]
  },
  {
   "cell_type": "markdown",
   "metadata": {
    "application/vnd.databricks.v1+cell": {
     "cellMetadata": {},
     "inputWidgets": {},
     "nuid": "bd01b306-157e-4575-96db-a4c4aebfab91",
     "showTitle": false,
     "title": ""
    }
   },
   "source": [
    "## Exibindo os dados em tempo real oriunda da tabela Delta"
   ]
  },
  {
   "cell_type": "code",
   "execution_count": 0,
   "metadata": {
    "application/vnd.databricks.v1+cell": {
     "cellMetadata": {
      "byteLimit": 2048000,
      "implicitDf": true,
      "rowLimit": 10000
     },
     "inputWidgets": {},
     "nuid": "d8d00e2c-aa70-447c-b0ae-21fcc58a72e3",
     "showTitle": false,
     "title": ""
    }
   },
   "outputs": [
    {
     "output_type": "display_data",
     "data": {
      "text/html": [
       "<style scoped>\n",
       "  .table-result-container {\n",
       "    max-height: 300px;\n",
       "    overflow: auto;\n",
       "  }\n",
       "  table, th, td {\n",
       "    border: 1px solid black;\n",
       "    border-collapse: collapse;\n",
       "  }\n",
       "  th, td {\n",
       "    padding: 5px;\n",
       "  }\n",
       "  th {\n",
       "    text-align: left;\n",
       "  }\n",
       "</style><div class='table-result-container'><table class='table-result'><thead style='background-color: white'><tr><th>action</th><th>count(1)</th></tr></thead><tbody></tbody></table></div>"
      ]
     },
     "metadata": {
      "application/vnd.databricks.v1+output": {
       "addedWidgets": {},
       "aggData": [],
       "aggError": "",
       "aggOverflow": false,
       "aggSchema": [],
       "aggSeriesLimitReached": false,
       "aggType": "",
       "arguments": {},
       "columnCustomDisplayInfos": {},
       "data": [],
       "datasetInfos": [],
       "dbfsResultPath": null,
       "isJsonSchema": true,
       "metadata": {},
       "overflow": false,
       "plotOptions": {
        "customPlotOptions": {},
        "displayType": "table",
        "pivotAggregation": null,
        "pivotColumns": null,
        "xColumns": null,
        "yColumns": null
       },
       "removedWidgets": [],
       "schema": [
        {
         "metadata": "{}",
         "name": "action",
         "type": "\"string\""
        },
        {
         "metadata": "{\"__autoGeneratedAlias\":\"true\"}",
         "name": "count(1)",
         "type": "\"long\""
        }
       ],
       "type": "table"
      }
     },
     "output_type": "display_data"
    },
    {
     "output_type": "display_data",
     "data": {
      "text/plain": [
       "Databricks visualization. Run in Databricks to view."
      ]
     },
     "metadata": {
      "application/vnd.databricks.v1.subcommand+json": {
       "baseErrorDetails": null,
       "bindings": {},
       "collapsed": false,
       "command": "%sql WITH q AS (select distinct action, count(*) from db_stream.tab_stream\ngroup by action) SELECT `action`,SUM(`count(1)`) `column_2cbc22382` FROM q GROUP BY `action`",
       "commandTitle": "Visualization 1",
       "commandType": "auto",
       "commandVersion": 0,
       "commentThread": [],
       "commentsVisible": false,
       "contentSha256Hex": null,
       "customPlotOptions": {
        "redashChart": [
         {
          "key": "type",
          "value": "CHART"
         },
         {
          "key": "options",
          "value": {
           "alignYAxesAtZero": true,
           "coefficient": 1,
           "columnConfigurationMap": {
            "x": {
             "column": "action",
             "id": "column_2cbc22381"
            },
            "y": [
             {
              "column": "count(1)",
              "id": "column_2cbc22382",
              "transform": "SUM"
             }
            ]
           },
           "dateTimeFormat": "DD/MM/YYYY HH:mm",
           "direction": {
            "type": "counterclockwise"
           },
           "error_y": {
            "type": "data",
            "visible": true
           },
           "globalSeriesType": "column",
           "legend": {
            "traceorder": "normal"
           },
           "missingValuesAsZero": true,
           "numberFormat": "0,0[.]00000",
           "percentFormat": "0[.]00%",
           "series": {
            "error_y": {
             "type": "data",
             "visible": true
            },
            "stacking": null
           },
           "seriesOptions": {
            "column_2cbc22382": {
             "name": "count(1)",
             "type": "column",
             "yAxis": 0
            }
           },
           "showDataLabels": false,
           "sizemode": "diameter",
           "sortX": true,
           "sortY": true,
           "swappedAxes": false,
           "textFormat": "",
           "useAggregationsUi": true,
           "valuesOptions": {},
           "version": 2,
           "xAxis": {
            "labels": {
             "enabled": true
            },
            "type": "-"
           },
           "yAxis": [
            {
             "type": "-"
            },
            {
             "opposite": true,
             "type": "-"
            }
           ]
          }
         }
        ]
       },
       "datasetPreviewNameToCmdIdMap": {},
       "diffDeletes": [],
       "diffInserts": [],
       "displayType": "redashChart",
       "error": null,
       "errorDetails": null,
       "errorSummary": null,
       "errorTraceType": null,
       "finishTime": 0,
       "globalVars": {},
       "guid": "",
       "height": "auto",
       "hideCommandCode": false,
       "hideCommandResult": false,
       "iPythonMetadata": null,
       "inputWidgets": {},
       "isLockedInExamMode": false,
       "latestUser": "a user",
       "latestUserId": null,
       "listResultMetadata": null,
       "metadata": {},
       "nuid": "54c6de64-b15b-4569-bbe9-9c0314ae0fd4",
       "origId": 0,
       "parentHierarchy": [],
       "pivotAggregation": null,
       "pivotColumns": null,
       "position": 15.0,
       "resultDbfsErrorMessage": null,
       "resultDbfsStatus": "INLINED_IN_TREE",
       "results": null,
       "showCommandTitle": false,
       "startTime": 0,
       "state": "input",
       "streamStates": {},
       "subcommandOptions": {
        "queryPlan": {
         "groups": [
          {
           "column": "action",
           "type": "column"
          }
         ],
         "selects": [
          {
           "column": "action",
           "type": "column"
          },
          {
           "alias": "column_2cbc22382",
           "args": [
            {
             "column": "count(1)",
             "type": "column"
            }
           ],
           "function": "SUM",
           "type": "function"
          }
         ]
        }
       },
       "submitTime": 0,
       "subtype": "tableResultSubCmd.visualization",
       "tableResultIndex": 0,
       "useConsistentColors": false,
       "version": "CommandV1",
       "width": "auto",
       "workflows": [],
       "xColumns": null,
       "yColumns": null
      }
     },
     "output_type": "display_data"
    }
   ],
   "source": [
    "%sql \n",
    "select distinct action, count(*) from db_stream.tab_stream\n",
    "group by action"
   ]
  },
  {
   "cell_type": "markdown",
   "metadata": {
    "application/vnd.databricks.v1+cell": {
     "cellMetadata": {},
     "inputWidgets": {},
     "nuid": "a77e568f-2d4e-4027-8407-591aabe81a45",
     "showTitle": false,
     "title": ""
    }
   },
   "source": [
    "## Listando os históricos registrados na tabela Delta"
   ]
  },
  {
   "cell_type": "code",
   "execution_count": 0,
   "metadata": {
    "application/vnd.databricks.v1+cell": {
     "cellMetadata": {
      "byteLimit": 2048000,
      "implicitDf": true,
      "rowLimit": 10000
     },
     "inputWidgets": {},
     "nuid": "fe698864-33cd-4d6c-8de5-bde174cde37f",
     "showTitle": false,
     "title": ""
    }
   },
   "outputs": [
    {
     "output_type": "display_data",
     "data": {
      "text/html": [
       "<style scoped>\n",
       "  .table-result-container {\n",
       "    max-height: 300px;\n",
       "    overflow: auto;\n",
       "  }\n",
       "  table, th, td {\n",
       "    border: 1px solid black;\n",
       "    border-collapse: collapse;\n",
       "  }\n",
       "  th, td {\n",
       "    padding: 5px;\n",
       "  }\n",
       "  th {\n",
       "    text-align: left;\n",
       "  }\n",
       "</style><div class='table-result-container'><table class='table-result'><thead style='background-color: white'><tr><th>version</th><th>timestamp</th><th>userId</th><th>userName</th><th>operation</th><th>operationParameters</th><th>job</th><th>notebook</th><th>clusterId</th><th>readVersion</th><th>isolationLevel</th><th>isBlindAppend</th><th>operationMetrics</th><th>userMetadata</th><th>engineInfo</th></tr></thead><tbody><tr><td>48</td><td>2023-07-26T23:54:57.000+0000</td><td>3749819615057738</td><td>andersonfaro@gmail.com</td><td>STREAMING UPDATE</td><td>Map(outputMode -> Append, queryId -> 945d1f2d-bd25-45e6-b372-f8933fb65c9f, epochId -> 47)</td><td>null</td><td>List(1243705193155225)</td><td>0726-224338-nu3hhmdt</td><td>47</td><td>WriteSerializable</td><td>true</td><td>Map(numRemovedFiles -> 0, numOutputRows -> 2000, numOutputBytes -> 11810, numAddedFiles -> 1)</td><td>null</td><td>Databricks-Runtime/10.4.x-scala2.12</td></tr><tr><td>47</td><td>2023-07-26T23:54:53.000+0000</td><td>3749819615057738</td><td>andersonfaro@gmail.com</td><td>STREAMING UPDATE</td><td>Map(outputMode -> Append, queryId -> 945d1f2d-bd25-45e6-b372-f8933fb65c9f, epochId -> 46)</td><td>null</td><td>List(1243705193155225)</td><td>0726-224338-nu3hhmdt</td><td>46</td><td>WriteSerializable</td><td>true</td><td>Map(numRemovedFiles -> 0, numOutputRows -> 2000, numOutputBytes -> 11501, numAddedFiles -> 1)</td><td>null</td><td>Databricks-Runtime/10.4.x-scala2.12</td></tr><tr><td>46</td><td>2023-07-26T23:54:50.000+0000</td><td>3749819615057738</td><td>andersonfaro@gmail.com</td><td>STREAMING UPDATE</td><td>Map(outputMode -> Append, queryId -> 945d1f2d-bd25-45e6-b372-f8933fb65c9f, epochId -> 45)</td><td>null</td><td>List(1243705193155225)</td><td>0726-224338-nu3hhmdt</td><td>45</td><td>WriteSerializable</td><td>true</td><td>Map(numRemovedFiles -> 0, numOutputRows -> 2000, numOutputBytes -> 11711, numAddedFiles -> 1)</td><td>null</td><td>Databricks-Runtime/10.4.x-scala2.12</td></tr><tr><td>45</td><td>2023-07-26T23:54:43.000+0000</td><td>3749819615057738</td><td>andersonfaro@gmail.com</td><td>STREAMING UPDATE</td><td>Map(outputMode -> Append, queryId -> 945d1f2d-bd25-45e6-b372-f8933fb65c9f, epochId -> 44)</td><td>null</td><td>List(1243705193155225)</td><td>0726-224338-nu3hhmdt</td><td>44</td><td>WriteSerializable</td><td>true</td><td>Map(numRemovedFiles -> 0, numOutputRows -> 2000, numOutputBytes -> 11731, numAddedFiles -> 1)</td><td>null</td><td>Databricks-Runtime/10.4.x-scala2.12</td></tr><tr><td>44</td><td>2023-07-26T23:54:39.000+0000</td><td>3749819615057738</td><td>andersonfaro@gmail.com</td><td>STREAMING UPDATE</td><td>Map(outputMode -> Append, queryId -> 945d1f2d-bd25-45e6-b372-f8933fb65c9f, epochId -> 43)</td><td>null</td><td>List(1243705193155225)</td><td>0726-224338-nu3hhmdt</td><td>43</td><td>WriteSerializable</td><td>true</td><td>Map(numRemovedFiles -> 0, numOutputRows -> 2000, numOutputBytes -> 11445, numAddedFiles -> 1)</td><td>null</td><td>Databricks-Runtime/10.4.x-scala2.12</td></tr><tr><td>43</td><td>2023-07-26T23:54:36.000+0000</td><td>3749819615057738</td><td>andersonfaro@gmail.com</td><td>STREAMING UPDATE</td><td>Map(outputMode -> Append, queryId -> 945d1f2d-bd25-45e6-b372-f8933fb65c9f, epochId -> 42)</td><td>null</td><td>List(1243705193155225)</td><td>0726-224338-nu3hhmdt</td><td>42</td><td>WriteSerializable</td><td>true</td><td>Map(numRemovedFiles -> 0, numOutputRows -> 2000, numOutputBytes -> 11634, numAddedFiles -> 1)</td><td>null</td><td>Databricks-Runtime/10.4.x-scala2.12</td></tr><tr><td>42</td><td>2023-07-26T23:54:33.000+0000</td><td>3749819615057738</td><td>andersonfaro@gmail.com</td><td>STREAMING UPDATE</td><td>Map(outputMode -> Append, queryId -> 945d1f2d-bd25-45e6-b372-f8933fb65c9f, epochId -> 41)</td><td>null</td><td>List(1243705193155225)</td><td>0726-224338-nu3hhmdt</td><td>41</td><td>WriteSerializable</td><td>true</td><td>Map(numRemovedFiles -> 0, numOutputRows -> 2000, numOutputBytes -> 11823, numAddedFiles -> 1)</td><td>null</td><td>Databricks-Runtime/10.4.x-scala2.12</td></tr><tr><td>41</td><td>2023-07-26T23:54:29.000+0000</td><td>3749819615057738</td><td>andersonfaro@gmail.com</td><td>STREAMING UPDATE</td><td>Map(outputMode -> Append, queryId -> 945d1f2d-bd25-45e6-b372-f8933fb65c9f, epochId -> 40)</td><td>null</td><td>List(1243705193155225)</td><td>0726-224338-nu3hhmdt</td><td>40</td><td>WriteSerializable</td><td>true</td><td>Map(numRemovedFiles -> 0, numOutputRows -> 2000, numOutputBytes -> 11538, numAddedFiles -> 1)</td><td>null</td><td>Databricks-Runtime/10.4.x-scala2.12</td></tr><tr><td>40</td><td>2023-07-26T23:54:25.000+0000</td><td>3749819615057738</td><td>andersonfaro@gmail.com</td><td>STREAMING UPDATE</td><td>Map(outputMode -> Append, queryId -> 945d1f2d-bd25-45e6-b372-f8933fb65c9f, epochId -> 39)</td><td>null</td><td>List(1243705193155225)</td><td>0726-224338-nu3hhmdt</td><td>39</td><td>WriteSerializable</td><td>true</td><td>Map(numRemovedFiles -> 0, numOutputRows -> 2000, numOutputBytes -> 11753, numAddedFiles -> 1)</td><td>null</td><td>Databricks-Runtime/10.4.x-scala2.12</td></tr><tr><td>39</td><td>2023-07-26T23:54:22.000+0000</td><td>3749819615057738</td><td>andersonfaro@gmail.com</td><td>STREAMING UPDATE</td><td>Map(outputMode -> Append, queryId -> 945d1f2d-bd25-45e6-b372-f8933fb65c9f, epochId -> 38)</td><td>null</td><td>List(1243705193155225)</td><td>0726-224338-nu3hhmdt</td><td>38</td><td>WriteSerializable</td><td>true</td><td>Map(numRemovedFiles -> 0, numOutputRows -> 2000, numOutputBytes -> 11766, numAddedFiles -> 1)</td><td>null</td><td>Databricks-Runtime/10.4.x-scala2.12</td></tr><tr><td>38</td><td>2023-07-26T23:54:19.000+0000</td><td>3749819615057738</td><td>andersonfaro@gmail.com</td><td>STREAMING UPDATE</td><td>Map(outputMode -> Append, queryId -> 945d1f2d-bd25-45e6-b372-f8933fb65c9f, epochId -> 37)</td><td>null</td><td>List(1243705193155225)</td><td>0726-224338-nu3hhmdt</td><td>37</td><td>WriteSerializable</td><td>true</td><td>Map(numRemovedFiles -> 0, numOutputRows -> 2000, numOutputBytes -> 11806, numAddedFiles -> 1)</td><td>null</td><td>Databricks-Runtime/10.4.x-scala2.12</td></tr><tr><td>37</td><td>2023-07-26T23:54:15.000+0000</td><td>3749819615057738</td><td>andersonfaro@gmail.com</td><td>STREAMING UPDATE</td><td>Map(outputMode -> Append, queryId -> 945d1f2d-bd25-45e6-b372-f8933fb65c9f, epochId -> 36)</td><td>null</td><td>List(1243705193155225)</td><td>0726-224338-nu3hhmdt</td><td>36</td><td>WriteSerializable</td><td>true</td><td>Map(numRemovedFiles -> 0, numOutputRows -> 2000, numOutputBytes -> 11763, numAddedFiles -> 1)</td><td>null</td><td>Databricks-Runtime/10.4.x-scala2.12</td></tr><tr><td>36</td><td>2023-07-26T23:54:12.000+0000</td><td>3749819615057738</td><td>andersonfaro@gmail.com</td><td>STREAMING UPDATE</td><td>Map(outputMode -> Append, queryId -> 945d1f2d-bd25-45e6-b372-f8933fb65c9f, epochId -> 35)</td><td>null</td><td>List(1243705193155225)</td><td>0726-224338-nu3hhmdt</td><td>35</td><td>WriteSerializable</td><td>true</td><td>Map(numRemovedFiles -> 0, numOutputRows -> 2000, numOutputBytes -> 11672, numAddedFiles -> 1)</td><td>null</td><td>Databricks-Runtime/10.4.x-scala2.12</td></tr><tr><td>35</td><td>2023-07-26T23:54:09.000+0000</td><td>3749819615057738</td><td>andersonfaro@gmail.com</td><td>STREAMING UPDATE</td><td>Map(outputMode -> Append, queryId -> 945d1f2d-bd25-45e6-b372-f8933fb65c9f, epochId -> 34)</td><td>null</td><td>List(1243705193155225)</td><td>0726-224338-nu3hhmdt</td><td>34</td><td>WriteSerializable</td><td>true</td><td>Map(numRemovedFiles -> 0, numOutputRows -> 2000, numOutputBytes -> 11853, numAddedFiles -> 1)</td><td>null</td><td>Databricks-Runtime/10.4.x-scala2.12</td></tr><tr><td>34</td><td>2023-07-26T23:54:05.000+0000</td><td>3749819615057738</td><td>andersonfaro@gmail.com</td><td>STREAMING UPDATE</td><td>Map(outputMode -> Append, queryId -> 945d1f2d-bd25-45e6-b372-f8933fb65c9f, epochId -> 33)</td><td>null</td><td>List(1243705193155225)</td><td>0726-224338-nu3hhmdt</td><td>33</td><td>WriteSerializable</td><td>true</td><td>Map(numRemovedFiles -> 0, numOutputRows -> 2000, numOutputBytes -> 11543, numAddedFiles -> 1)</td><td>null</td><td>Databricks-Runtime/10.4.x-scala2.12</td></tr><tr><td>33</td><td>2023-07-26T23:54:01.000+0000</td><td>3749819615057738</td><td>andersonfaro@gmail.com</td><td>STREAMING UPDATE</td><td>Map(outputMode -> Append, queryId -> 945d1f2d-bd25-45e6-b372-f8933fb65c9f, epochId -> 32)</td><td>null</td><td>List(1243705193155225)</td><td>0726-224338-nu3hhmdt</td><td>32</td><td>WriteSerializable</td><td>true</td><td>Map(numRemovedFiles -> 0, numOutputRows -> 2000, numOutputBytes -> 11445, numAddedFiles -> 1)</td><td>null</td><td>Databricks-Runtime/10.4.x-scala2.12</td></tr><tr><td>32</td><td>2023-07-26T23:53:58.000+0000</td><td>3749819615057738</td><td>andersonfaro@gmail.com</td><td>STREAMING UPDATE</td><td>Map(outputMode -> Append, queryId -> 945d1f2d-bd25-45e6-b372-f8933fb65c9f, epochId -> 31)</td><td>null</td><td>List(1243705193155225)</td><td>0726-224338-nu3hhmdt</td><td>31</td><td>WriteSerializable</td><td>true</td><td>Map(numRemovedFiles -> 0, numOutputRows -> 2000, numOutputBytes -> 11770, numAddedFiles -> 1)</td><td>null</td><td>Databricks-Runtime/10.4.x-scala2.12</td></tr><tr><td>31</td><td>2023-07-26T23:53:56.000+0000</td><td>3749819615057738</td><td>andersonfaro@gmail.com</td><td>STREAMING UPDATE</td><td>Map(outputMode -> Append, queryId -> 945d1f2d-bd25-45e6-b372-f8933fb65c9f, epochId -> 30)</td><td>null</td><td>List(1243705193155225)</td><td>0726-224338-nu3hhmdt</td><td>30</td><td>WriteSerializable</td><td>true</td><td>Map(numRemovedFiles -> 0, numOutputRows -> 2000, numOutputBytes -> 11797, numAddedFiles -> 1)</td><td>null</td><td>Databricks-Runtime/10.4.x-scala2.12</td></tr><tr><td>30</td><td>2023-07-26T23:53:51.000+0000</td><td>3749819615057738</td><td>andersonfaro@gmail.com</td><td>STREAMING UPDATE</td><td>Map(outputMode -> Append, queryId -> 945d1f2d-bd25-45e6-b372-f8933fb65c9f, epochId -> 29)</td><td>null</td><td>List(1243705193155225)</td><td>0726-224338-nu3hhmdt</td><td>29</td><td>WriteSerializable</td><td>true</td><td>Map(numRemovedFiles -> 0, numOutputRows -> 2000, numOutputBytes -> 11663, numAddedFiles -> 1)</td><td>null</td><td>Databricks-Runtime/10.4.x-scala2.12</td></tr><tr><td>29</td><td>2023-07-26T23:53:47.000+0000</td><td>3749819615057738</td><td>andersonfaro@gmail.com</td><td>STREAMING UPDATE</td><td>Map(outputMode -> Append, queryId -> 945d1f2d-bd25-45e6-b372-f8933fb65c9f, epochId -> 28)</td><td>null</td><td>List(1243705193155225)</td><td>0726-224338-nu3hhmdt</td><td>28</td><td>WriteSerializable</td><td>true</td><td>Map(numRemovedFiles -> 0, numOutputRows -> 2000, numOutputBytes -> 11861, numAddedFiles -> 1)</td><td>null</td><td>Databricks-Runtime/10.4.x-scala2.12</td></tr><tr><td>28</td><td>2023-07-26T23:53:44.000+0000</td><td>3749819615057738</td><td>andersonfaro@gmail.com</td><td>STREAMING UPDATE</td><td>Map(outputMode -> Append, queryId -> 945d1f2d-bd25-45e6-b372-f8933fb65c9f, epochId -> 27)</td><td>null</td><td>List(1243705193155225)</td><td>0726-224338-nu3hhmdt</td><td>27</td><td>WriteSerializable</td><td>true</td><td>Map(numRemovedFiles -> 0, numOutputRows -> 2000, numOutputBytes -> 11740, numAddedFiles -> 1)</td><td>null</td><td>Databricks-Runtime/10.4.x-scala2.12</td></tr><tr><td>27</td><td>2023-07-26T23:53:41.000+0000</td><td>3749819615057738</td><td>andersonfaro@gmail.com</td><td>STREAMING UPDATE</td><td>Map(outputMode -> Append, queryId -> 945d1f2d-bd25-45e6-b372-f8933fb65c9f, epochId -> 26)</td><td>null</td><td>List(1243705193155225)</td><td>0726-224338-nu3hhmdt</td><td>26</td><td>WriteSerializable</td><td>true</td><td>Map(numRemovedFiles -> 0, numOutputRows -> 2000, numOutputBytes -> 11585, numAddedFiles -> 1)</td><td>null</td><td>Databricks-Runtime/10.4.x-scala2.12</td></tr><tr><td>26</td><td>2023-07-26T23:53:34.000+0000</td><td>3749819615057738</td><td>andersonfaro@gmail.com</td><td>STREAMING UPDATE</td><td>Map(outputMode -> Append, queryId -> 945d1f2d-bd25-45e6-b372-f8933fb65c9f, epochId -> 25)</td><td>null</td><td>List(1243705193155225)</td><td>0726-224338-nu3hhmdt</td><td>25</td><td>WriteSerializable</td><td>true</td><td>Map(numRemovedFiles -> 0, numOutputRows -> 2000, numOutputBytes -> 11657, numAddedFiles -> 1)</td><td>null</td><td>Databricks-Runtime/10.4.x-scala2.12</td></tr><tr><td>25</td><td>2023-07-26T23:53:31.000+0000</td><td>3749819615057738</td><td>andersonfaro@gmail.com</td><td>STREAMING UPDATE</td><td>Map(outputMode -> Append, queryId -> 945d1f2d-bd25-45e6-b372-f8933fb65c9f, epochId -> 24)</td><td>null</td><td>List(1243705193155225)</td><td>0726-224338-nu3hhmdt</td><td>24</td><td>WriteSerializable</td><td>true</td><td>Map(numRemovedFiles -> 0, numOutputRows -> 2000, numOutputBytes -> 11683, numAddedFiles -> 1)</td><td>null</td><td>Databricks-Runtime/10.4.x-scala2.12</td></tr><tr><td>24</td><td>2023-07-26T23:53:27.000+0000</td><td>3749819615057738</td><td>andersonfaro@gmail.com</td><td>STREAMING UPDATE</td><td>Map(outputMode -> Append, queryId -> 945d1f2d-bd25-45e6-b372-f8933fb65c9f, epochId -> 23)</td><td>null</td><td>List(1243705193155225)</td><td>0726-224338-nu3hhmdt</td><td>23</td><td>WriteSerializable</td><td>true</td><td>Map(numRemovedFiles -> 0, numOutputRows -> 2000, numOutputBytes -> 11837, numAddedFiles -> 1)</td><td>null</td><td>Databricks-Runtime/10.4.x-scala2.12</td></tr><tr><td>23</td><td>2023-07-26T23:53:24.000+0000</td><td>3749819615057738</td><td>andersonfaro@gmail.com</td><td>STREAMING UPDATE</td><td>Map(outputMode -> Append, queryId -> 945d1f2d-bd25-45e6-b372-f8933fb65c9f, epochId -> 22)</td><td>null</td><td>List(1243705193155225)</td><td>0726-224338-nu3hhmdt</td><td>22</td><td>WriteSerializable</td><td>true</td><td>Map(numRemovedFiles -> 0, numOutputRows -> 2000, numOutputBytes -> 11574, numAddedFiles -> 1)</td><td>null</td><td>Databricks-Runtime/10.4.x-scala2.12</td></tr><tr><td>22</td><td>2023-07-26T23:53:18.000+0000</td><td>3749819615057738</td><td>andersonfaro@gmail.com</td><td>STREAMING UPDATE</td><td>Map(outputMode -> Append, queryId -> 945d1f2d-bd25-45e6-b372-f8933fb65c9f, epochId -> 21)</td><td>null</td><td>List(1243705193155225)</td><td>0726-224338-nu3hhmdt</td><td>21</td><td>WriteSerializable</td><td>true</td><td>Map(numRemovedFiles -> 0, numOutputRows -> 2000, numOutputBytes -> 11648, numAddedFiles -> 1)</td><td>null</td><td>Databricks-Runtime/10.4.x-scala2.12</td></tr><tr><td>21</td><td>2023-07-26T23:53:14.000+0000</td><td>3749819615057738</td><td>andersonfaro@gmail.com</td><td>STREAMING UPDATE</td><td>Map(outputMode -> Append, queryId -> 945d1f2d-bd25-45e6-b372-f8933fb65c9f, epochId -> 20)</td><td>null</td><td>List(1243705193155225)</td><td>0726-224338-nu3hhmdt</td><td>20</td><td>WriteSerializable</td><td>true</td><td>Map(numRemovedFiles -> 0, numOutputRows -> 2000, numOutputBytes -> 11785, numAddedFiles -> 1)</td><td>null</td><td>Databricks-Runtime/10.4.x-scala2.12</td></tr><tr><td>20</td><td>2023-07-26T23:53:06.000+0000</td><td>3749819615057738</td><td>andersonfaro@gmail.com</td><td>STREAMING UPDATE</td><td>Map(outputMode -> Append, queryId -> 945d1f2d-bd25-45e6-b372-f8933fb65c9f, epochId -> 19)</td><td>null</td><td>List(1243705193155225)</td><td>0726-224338-nu3hhmdt</td><td>19</td><td>WriteSerializable</td><td>true</td><td>Map(numRemovedFiles -> 0, numOutputRows -> 2000, numOutputBytes -> 11733, numAddedFiles -> 1)</td><td>null</td><td>Databricks-Runtime/10.4.x-scala2.12</td></tr><tr><td>19</td><td>2023-07-26T23:53:01.000+0000</td><td>3749819615057738</td><td>andersonfaro@gmail.com</td><td>STREAMING UPDATE</td><td>Map(outputMode -> Append, queryId -> 945d1f2d-bd25-45e6-b372-f8933fb65c9f, epochId -> 18)</td><td>null</td><td>List(1243705193155225)</td><td>0726-224338-nu3hhmdt</td><td>18</td><td>WriteSerializable</td><td>true</td><td>Map(numRemovedFiles -> 0, numOutputRows -> 2000, numOutputBytes -> 11513, numAddedFiles -> 1)</td><td>null</td><td>Databricks-Runtime/10.4.x-scala2.12</td></tr><tr><td>18</td><td>2023-07-26T23:52:59.000+0000</td><td>3749819615057738</td><td>andersonfaro@gmail.com</td><td>STREAMING UPDATE</td><td>Map(outputMode -> Append, queryId -> 945d1f2d-bd25-45e6-b372-f8933fb65c9f, epochId -> 17)</td><td>null</td><td>List(1243705193155225)</td><td>0726-224338-nu3hhmdt</td><td>17</td><td>WriteSerializable</td><td>true</td><td>Map(numRemovedFiles -> 0, numOutputRows -> 2000, numOutputBytes -> 11577, numAddedFiles -> 1)</td><td>null</td><td>Databricks-Runtime/10.4.x-scala2.12</td></tr><tr><td>17</td><td>2023-07-26T23:52:55.000+0000</td><td>3749819615057738</td><td>andersonfaro@gmail.com</td><td>STREAMING UPDATE</td><td>Map(outputMode -> Append, queryId -> 945d1f2d-bd25-45e6-b372-f8933fb65c9f, epochId -> 16)</td><td>null</td><td>List(1243705193155225)</td><td>0726-224338-nu3hhmdt</td><td>16</td><td>WriteSerializable</td><td>true</td><td>Map(numRemovedFiles -> 0, numOutputRows -> 2000, numOutputBytes -> 11838, numAddedFiles -> 1)</td><td>null</td><td>Databricks-Runtime/10.4.x-scala2.12</td></tr><tr><td>16</td><td>2023-07-26T23:52:51.000+0000</td><td>3749819615057738</td><td>andersonfaro@gmail.com</td><td>STREAMING UPDATE</td><td>Map(outputMode -> Append, queryId -> 945d1f2d-bd25-45e6-b372-f8933fb65c9f, epochId -> 15)</td><td>null</td><td>List(1243705193155225)</td><td>0726-224338-nu3hhmdt</td><td>15</td><td>WriteSerializable</td><td>true</td><td>Map(numRemovedFiles -> 0, numOutputRows -> 2000, numOutputBytes -> 11429, numAddedFiles -> 1)</td><td>null</td><td>Databricks-Runtime/10.4.x-scala2.12</td></tr><tr><td>15</td><td>2023-07-26T23:52:48.000+0000</td><td>3749819615057738</td><td>andersonfaro@gmail.com</td><td>STREAMING UPDATE</td><td>Map(outputMode -> Append, queryId -> 945d1f2d-bd25-45e6-b372-f8933fb65c9f, epochId -> 14)</td><td>null</td><td>List(1243705193155225)</td><td>0726-224338-nu3hhmdt</td><td>14</td><td>WriteSerializable</td><td>true</td><td>Map(numRemovedFiles -> 0, numOutputRows -> 2000, numOutputBytes -> 11741, numAddedFiles -> 1)</td><td>null</td><td>Databricks-Runtime/10.4.x-scala2.12</td></tr><tr><td>14</td><td>2023-07-26T23:52:45.000+0000</td><td>3749819615057738</td><td>andersonfaro@gmail.com</td><td>STREAMING UPDATE</td><td>Map(outputMode -> Append, queryId -> 945d1f2d-bd25-45e6-b372-f8933fb65c9f, epochId -> 13)</td><td>null</td><td>List(1243705193155225)</td><td>0726-224338-nu3hhmdt</td><td>13</td><td>WriteSerializable</td><td>true</td><td>Map(numRemovedFiles -> 0, numOutputRows -> 2000, numOutputBytes -> 11768, numAddedFiles -> 1)</td><td>null</td><td>Databricks-Runtime/10.4.x-scala2.12</td></tr><tr><td>13</td><td>2023-07-26T23:52:41.000+0000</td><td>3749819615057738</td><td>andersonfaro@gmail.com</td><td>STREAMING UPDATE</td><td>Map(outputMode -> Append, queryId -> 945d1f2d-bd25-45e6-b372-f8933fb65c9f, epochId -> 12)</td><td>null</td><td>List(1243705193155225)</td><td>0726-224338-nu3hhmdt</td><td>12</td><td>WriteSerializable</td><td>true</td><td>Map(numRemovedFiles -> 0, numOutputRows -> 2000, numOutputBytes -> 11828, numAddedFiles -> 1)</td><td>null</td><td>Databricks-Runtime/10.4.x-scala2.12</td></tr><tr><td>12</td><td>2023-07-26T23:52:37.000+0000</td><td>3749819615057738</td><td>andersonfaro@gmail.com</td><td>STREAMING UPDATE</td><td>Map(outputMode -> Append, queryId -> 945d1f2d-bd25-45e6-b372-f8933fb65c9f, epochId -> 11)</td><td>null</td><td>List(1243705193155225)</td><td>0726-224338-nu3hhmdt</td><td>11</td><td>WriteSerializable</td><td>true</td><td>Map(numRemovedFiles -> 0, numOutputRows -> 2000, numOutputBytes -> 11715, numAddedFiles -> 1)</td><td>null</td><td>Databricks-Runtime/10.4.x-scala2.12</td></tr><tr><td>11</td><td>2023-07-26T23:52:33.000+0000</td><td>3749819615057738</td><td>andersonfaro@gmail.com</td><td>STREAMING UPDATE</td><td>Map(outputMode -> Append, queryId -> 945d1f2d-bd25-45e6-b372-f8933fb65c9f, epochId -> 10)</td><td>null</td><td>List(1243705193155225)</td><td>0726-224338-nu3hhmdt</td><td>10</td><td>WriteSerializable</td><td>true</td><td>Map(numRemovedFiles -> 0, numOutputRows -> 2000, numOutputBytes -> 11503, numAddedFiles -> 1)</td><td>null</td><td>Databricks-Runtime/10.4.x-scala2.12</td></tr><tr><td>10</td><td>2023-07-26T23:52:30.000+0000</td><td>3749819615057738</td><td>andersonfaro@gmail.com</td><td>STREAMING UPDATE</td><td>Map(outputMode -> Append, queryId -> 945d1f2d-bd25-45e6-b372-f8933fb65c9f, epochId -> 9)</td><td>null</td><td>List(1243705193155225)</td><td>0726-224338-nu3hhmdt</td><td>9</td><td>WriteSerializable</td><td>true</td><td>Map(numRemovedFiles -> 0, numOutputRows -> 2000, numOutputBytes -> 11767, numAddedFiles -> 1)</td><td>null</td><td>Databricks-Runtime/10.4.x-scala2.12</td></tr><tr><td>9</td><td>2023-07-26T23:52:26.000+0000</td><td>3749819615057738</td><td>andersonfaro@gmail.com</td><td>STREAMING UPDATE</td><td>Map(outputMode -> Append, queryId -> 945d1f2d-bd25-45e6-b372-f8933fb65c9f, epochId -> 8)</td><td>null</td><td>List(1243705193155225)</td><td>0726-224338-nu3hhmdt</td><td>8</td><td>WriteSerializable</td><td>true</td><td>Map(numRemovedFiles -> 0, numOutputRows -> 2000, numOutputBytes -> 11617, numAddedFiles -> 1)</td><td>null</td><td>Databricks-Runtime/10.4.x-scala2.12</td></tr><tr><td>8</td><td>2023-07-26T23:52:24.000+0000</td><td>3749819615057738</td><td>andersonfaro@gmail.com</td><td>STREAMING UPDATE</td><td>Map(outputMode -> Append, queryId -> 945d1f2d-bd25-45e6-b372-f8933fb65c9f, epochId -> 7)</td><td>null</td><td>List(1243705193155225)</td><td>0726-224338-nu3hhmdt</td><td>7</td><td>WriteSerializable</td><td>true</td><td>Map(numRemovedFiles -> 0, numOutputRows -> 2000, numOutputBytes -> 11416, numAddedFiles -> 1)</td><td>null</td><td>Databricks-Runtime/10.4.x-scala2.12</td></tr><tr><td>7</td><td>2023-07-26T23:52:22.000+0000</td><td>3749819615057738</td><td>andersonfaro@gmail.com</td><td>STREAMING UPDATE</td><td>Map(outputMode -> Append, queryId -> 945d1f2d-bd25-45e6-b372-f8933fb65c9f, epochId -> 6)</td><td>null</td><td>List(1243705193155225)</td><td>0726-224338-nu3hhmdt</td><td>6</td><td>WriteSerializable</td><td>true</td><td>Map(numRemovedFiles -> 0, numOutputRows -> 2000, numOutputBytes -> 11837, numAddedFiles -> 1)</td><td>null</td><td>Databricks-Runtime/10.4.x-scala2.12</td></tr><tr><td>6</td><td>2023-07-26T23:52:20.000+0000</td><td>3749819615057738</td><td>andersonfaro@gmail.com</td><td>STREAMING UPDATE</td><td>Map(outputMode -> Append, queryId -> 945d1f2d-bd25-45e6-b372-f8933fb65c9f, epochId -> 5)</td><td>null</td><td>List(1243705193155225)</td><td>0726-224338-nu3hhmdt</td><td>5</td><td>WriteSerializable</td><td>true</td><td>Map(numRemovedFiles -> 0, numOutputRows -> 2000, numOutputBytes -> 11829, numAddedFiles -> 1)</td><td>null</td><td>Databricks-Runtime/10.4.x-scala2.12</td></tr><tr><td>5</td><td>2023-07-26T23:52:18.000+0000</td><td>3749819615057738</td><td>andersonfaro@gmail.com</td><td>STREAMING UPDATE</td><td>Map(outputMode -> Append, queryId -> 945d1f2d-bd25-45e6-b372-f8933fb65c9f, epochId -> 4)</td><td>null</td><td>List(1243705193155225)</td><td>0726-224338-nu3hhmdt</td><td>4</td><td>WriteSerializable</td><td>true</td><td>Map(numRemovedFiles -> 0, numOutputRows -> 2000, numOutputBytes -> 11606, numAddedFiles -> 1)</td><td>null</td><td>Databricks-Runtime/10.4.x-scala2.12</td></tr><tr><td>4</td><td>2023-07-26T23:52:15.000+0000</td><td>3749819615057738</td><td>andersonfaro@gmail.com</td><td>STREAMING UPDATE</td><td>Map(outputMode -> Append, queryId -> 945d1f2d-bd25-45e6-b372-f8933fb65c9f, epochId -> 3)</td><td>null</td><td>List(1243705193155225)</td><td>0726-224338-nu3hhmdt</td><td>3</td><td>WriteSerializable</td><td>true</td><td>Map(numRemovedFiles -> 0, numOutputRows -> 2000, numOutputBytes -> 11774, numAddedFiles -> 1)</td><td>null</td><td>Databricks-Runtime/10.4.x-scala2.12</td></tr><tr><td>3</td><td>2023-07-26T23:52:12.000+0000</td><td>3749819615057738</td><td>andersonfaro@gmail.com</td><td>STREAMING UPDATE</td><td>Map(outputMode -> Append, queryId -> 945d1f2d-bd25-45e6-b372-f8933fb65c9f, epochId -> 2)</td><td>null</td><td>List(1243705193155225)</td><td>0726-224338-nu3hhmdt</td><td>2</td><td>WriteSerializable</td><td>true</td><td>Map(numRemovedFiles -> 0, numOutputRows -> 2000, numOutputBytes -> 11720, numAddedFiles -> 1)</td><td>null</td><td>Databricks-Runtime/10.4.x-scala2.12</td></tr><tr><td>2</td><td>2023-07-26T23:52:10.000+0000</td><td>3749819615057738</td><td>andersonfaro@gmail.com</td><td>STREAMING UPDATE</td><td>Map(outputMode -> Append, queryId -> 945d1f2d-bd25-45e6-b372-f8933fb65c9f, epochId -> 1)</td><td>null</td><td>List(1243705193155225)</td><td>0726-224338-nu3hhmdt</td><td>1</td><td>WriteSerializable</td><td>true</td><td>Map(numRemovedFiles -> 0, numOutputRows -> 2000, numOutputBytes -> 11798, numAddedFiles -> 1)</td><td>null</td><td>Databricks-Runtime/10.4.x-scala2.12</td></tr><tr><td>1</td><td>2023-07-26T23:52:07.000+0000</td><td>3749819615057738</td><td>andersonfaro@gmail.com</td><td>STREAMING UPDATE</td><td>Map(outputMode -> Append, queryId -> 945d1f2d-bd25-45e6-b372-f8933fb65c9f, epochId -> 0)</td><td>null</td><td>List(1243705193155225)</td><td>0726-224338-nu3hhmdt</td><td>0</td><td>WriteSerializable</td><td>true</td><td>Map(numRemovedFiles -> 0, numOutputRows -> 2000, numOutputBytes -> 12503, numAddedFiles -> 1)</td><td>null</td><td>Databricks-Runtime/10.4.x-scala2.12</td></tr><tr><td>0</td><td>2023-07-26T23:50:48.000+0000</td><td>3749819615057738</td><td>andersonfaro@gmail.com</td><td>CREATE TABLE</td><td>Map(isManaged -> false, description -> null, partitionBy -> [], properties -> {})</td><td>null</td><td>List(1243705193155225)</td><td>0726-224338-nu3hhmdt</td><td>null</td><td>WriteSerializable</td><td>true</td><td>Map()</td><td>null</td><td>Databricks-Runtime/10.4.x-scala2.12</td></tr></tbody></table></div>"
      ]
     },
     "metadata": {
      "application/vnd.databricks.v1+output": {
       "addedWidgets": {},
       "aggData": [],
       "aggError": "",
       "aggOverflow": false,
       "aggSchema": [],
       "aggSeriesLimitReached": false,
       "aggType": "",
       "arguments": {},
       "columnCustomDisplayInfos": {},
       "data": [
        [
         48,
         "2023-07-26T23:54:57.000+0000",
         "3749819615057738",
         "andersonfaro@gmail.com",
         "STREAMING UPDATE",
         {
          "epochId": "47",
          "outputMode": "Append",
          "queryId": "945d1f2d-bd25-45e6-b372-f8933fb65c9f"
         },
         null,
         [
          "1243705193155225"
         ],
         "0726-224338-nu3hhmdt",
         47,
         "WriteSerializable",
         true,
         {
          "numAddedFiles": "1",
          "numOutputBytes": "11810",
          "numOutputRows": "2000",
          "numRemovedFiles": "0"
         },
         null,
         "Databricks-Runtime/10.4.x-scala2.12"
        ],
        [
         47,
         "2023-07-26T23:54:53.000+0000",
         "3749819615057738",
         "andersonfaro@gmail.com",
         "STREAMING UPDATE",
         {
          "epochId": "46",
          "outputMode": "Append",
          "queryId": "945d1f2d-bd25-45e6-b372-f8933fb65c9f"
         },
         null,
         [
          "1243705193155225"
         ],
         "0726-224338-nu3hhmdt",
         46,
         "WriteSerializable",
         true,
         {
          "numAddedFiles": "1",
          "numOutputBytes": "11501",
          "numOutputRows": "2000",
          "numRemovedFiles": "0"
         },
         null,
         "Databricks-Runtime/10.4.x-scala2.12"
        ],
        [
         46,
         "2023-07-26T23:54:50.000+0000",
         "3749819615057738",
         "andersonfaro@gmail.com",
         "STREAMING UPDATE",
         {
          "epochId": "45",
          "outputMode": "Append",
          "queryId": "945d1f2d-bd25-45e6-b372-f8933fb65c9f"
         },
         null,
         [
          "1243705193155225"
         ],
         "0726-224338-nu3hhmdt",
         45,
         "WriteSerializable",
         true,
         {
          "numAddedFiles": "1",
          "numOutputBytes": "11711",
          "numOutputRows": "2000",
          "numRemovedFiles": "0"
         },
         null,
         "Databricks-Runtime/10.4.x-scala2.12"
        ],
        [
         45,
         "2023-07-26T23:54:43.000+0000",
         "3749819615057738",
         "andersonfaro@gmail.com",
         "STREAMING UPDATE",
         {
          "epochId": "44",
          "outputMode": "Append",
          "queryId": "945d1f2d-bd25-45e6-b372-f8933fb65c9f"
         },
         null,
         [
          "1243705193155225"
         ],
         "0726-224338-nu3hhmdt",
         44,
         "WriteSerializable",
         true,
         {
          "numAddedFiles": "1",
          "numOutputBytes": "11731",
          "numOutputRows": "2000",
          "numRemovedFiles": "0"
         },
         null,
         "Databricks-Runtime/10.4.x-scala2.12"
        ],
        [
         44,
         "2023-07-26T23:54:39.000+0000",
         "3749819615057738",
         "andersonfaro@gmail.com",
         "STREAMING UPDATE",
         {
          "epochId": "43",
          "outputMode": "Append",
          "queryId": "945d1f2d-bd25-45e6-b372-f8933fb65c9f"
         },
         null,
         [
          "1243705193155225"
         ],
         "0726-224338-nu3hhmdt",
         43,
         "WriteSerializable",
         true,
         {
          "numAddedFiles": "1",
          "numOutputBytes": "11445",
          "numOutputRows": "2000",
          "numRemovedFiles": "0"
         },
         null,
         "Databricks-Runtime/10.4.x-scala2.12"
        ],
        [
         43,
         "2023-07-26T23:54:36.000+0000",
         "3749819615057738",
         "andersonfaro@gmail.com",
         "STREAMING UPDATE",
         {
          "epochId": "42",
          "outputMode": "Append",
          "queryId": "945d1f2d-bd25-45e6-b372-f8933fb65c9f"
         },
         null,
         [
          "1243705193155225"
         ],
         "0726-224338-nu3hhmdt",
         42,
         "WriteSerializable",
         true,
         {
          "numAddedFiles": "1",
          "numOutputBytes": "11634",
          "numOutputRows": "2000",
          "numRemovedFiles": "0"
         },
         null,
         "Databricks-Runtime/10.4.x-scala2.12"
        ],
        [
         42,
         "2023-07-26T23:54:33.000+0000",
         "3749819615057738",
         "andersonfaro@gmail.com",
         "STREAMING UPDATE",
         {
          "epochId": "41",
          "outputMode": "Append",
          "queryId": "945d1f2d-bd25-45e6-b372-f8933fb65c9f"
         },
         null,
         [
          "1243705193155225"
         ],
         "0726-224338-nu3hhmdt",
         41,
         "WriteSerializable",
         true,
         {
          "numAddedFiles": "1",
          "numOutputBytes": "11823",
          "numOutputRows": "2000",
          "numRemovedFiles": "0"
         },
         null,
         "Databricks-Runtime/10.4.x-scala2.12"
        ],
        [
         41,
         "2023-07-26T23:54:29.000+0000",
         "3749819615057738",
         "andersonfaro@gmail.com",
         "STREAMING UPDATE",
         {
          "epochId": "40",
          "outputMode": "Append",
          "queryId": "945d1f2d-bd25-45e6-b372-f8933fb65c9f"
         },
         null,
         [
          "1243705193155225"
         ],
         "0726-224338-nu3hhmdt",
         40,
         "WriteSerializable",
         true,
         {
          "numAddedFiles": "1",
          "numOutputBytes": "11538",
          "numOutputRows": "2000",
          "numRemovedFiles": "0"
         },
         null,
         "Databricks-Runtime/10.4.x-scala2.12"
        ],
        [
         40,
         "2023-07-26T23:54:25.000+0000",
         "3749819615057738",
         "andersonfaro@gmail.com",
         "STREAMING UPDATE",
         {
          "epochId": "39",
          "outputMode": "Append",
          "queryId": "945d1f2d-bd25-45e6-b372-f8933fb65c9f"
         },
         null,
         [
          "1243705193155225"
         ],
         "0726-224338-nu3hhmdt",
         39,
         "WriteSerializable",
         true,
         {
          "numAddedFiles": "1",
          "numOutputBytes": "11753",
          "numOutputRows": "2000",
          "numRemovedFiles": "0"
         },
         null,
         "Databricks-Runtime/10.4.x-scala2.12"
        ],
        [
         39,
         "2023-07-26T23:54:22.000+0000",
         "3749819615057738",
         "andersonfaro@gmail.com",
         "STREAMING UPDATE",
         {
          "epochId": "38",
          "outputMode": "Append",
          "queryId": "945d1f2d-bd25-45e6-b372-f8933fb65c9f"
         },
         null,
         [
          "1243705193155225"
         ],
         "0726-224338-nu3hhmdt",
         38,
         "WriteSerializable",
         true,
         {
          "numAddedFiles": "1",
          "numOutputBytes": "11766",
          "numOutputRows": "2000",
          "numRemovedFiles": "0"
         },
         null,
         "Databricks-Runtime/10.4.x-scala2.12"
        ],
        [
         38,
         "2023-07-26T23:54:19.000+0000",
         "3749819615057738",
         "andersonfaro@gmail.com",
         "STREAMING UPDATE",
         {
          "epochId": "37",
          "outputMode": "Append",
          "queryId": "945d1f2d-bd25-45e6-b372-f8933fb65c9f"
         },
         null,
         [
          "1243705193155225"
         ],
         "0726-224338-nu3hhmdt",
         37,
         "WriteSerializable",
         true,
         {
          "numAddedFiles": "1",
          "numOutputBytes": "11806",
          "numOutputRows": "2000",
          "numRemovedFiles": "0"
         },
         null,
         "Databricks-Runtime/10.4.x-scala2.12"
        ],
        [
         37,
         "2023-07-26T23:54:15.000+0000",
         "3749819615057738",
         "andersonfaro@gmail.com",
         "STREAMING UPDATE",
         {
          "epochId": "36",
          "outputMode": "Append",
          "queryId": "945d1f2d-bd25-45e6-b372-f8933fb65c9f"
         },
         null,
         [
          "1243705193155225"
         ],
         "0726-224338-nu3hhmdt",
         36,
         "WriteSerializable",
         true,
         {
          "numAddedFiles": "1",
          "numOutputBytes": "11763",
          "numOutputRows": "2000",
          "numRemovedFiles": "0"
         },
         null,
         "Databricks-Runtime/10.4.x-scala2.12"
        ],
        [
         36,
         "2023-07-26T23:54:12.000+0000",
         "3749819615057738",
         "andersonfaro@gmail.com",
         "STREAMING UPDATE",
         {
          "epochId": "35",
          "outputMode": "Append",
          "queryId": "945d1f2d-bd25-45e6-b372-f8933fb65c9f"
         },
         null,
         [
          "1243705193155225"
         ],
         "0726-224338-nu3hhmdt",
         35,
         "WriteSerializable",
         true,
         {
          "numAddedFiles": "1",
          "numOutputBytes": "11672",
          "numOutputRows": "2000",
          "numRemovedFiles": "0"
         },
         null,
         "Databricks-Runtime/10.4.x-scala2.12"
        ],
        [
         35,
         "2023-07-26T23:54:09.000+0000",
         "3749819615057738",
         "andersonfaro@gmail.com",
         "STREAMING UPDATE",
         {
          "epochId": "34",
          "outputMode": "Append",
          "queryId": "945d1f2d-bd25-45e6-b372-f8933fb65c9f"
         },
         null,
         [
          "1243705193155225"
         ],
         "0726-224338-nu3hhmdt",
         34,
         "WriteSerializable",
         true,
         {
          "numAddedFiles": "1",
          "numOutputBytes": "11853",
          "numOutputRows": "2000",
          "numRemovedFiles": "0"
         },
         null,
         "Databricks-Runtime/10.4.x-scala2.12"
        ],
        [
         34,
         "2023-07-26T23:54:05.000+0000",
         "3749819615057738",
         "andersonfaro@gmail.com",
         "STREAMING UPDATE",
         {
          "epochId": "33",
          "outputMode": "Append",
          "queryId": "945d1f2d-bd25-45e6-b372-f8933fb65c9f"
         },
         null,
         [
          "1243705193155225"
         ],
         "0726-224338-nu3hhmdt",
         33,
         "WriteSerializable",
         true,
         {
          "numAddedFiles": "1",
          "numOutputBytes": "11543",
          "numOutputRows": "2000",
          "numRemovedFiles": "0"
         },
         null,
         "Databricks-Runtime/10.4.x-scala2.12"
        ],
        [
         33,
         "2023-07-26T23:54:01.000+0000",
         "3749819615057738",
         "andersonfaro@gmail.com",
         "STREAMING UPDATE",
         {
          "epochId": "32",
          "outputMode": "Append",
          "queryId": "945d1f2d-bd25-45e6-b372-f8933fb65c9f"
         },
         null,
         [
          "1243705193155225"
         ],
         "0726-224338-nu3hhmdt",
         32,
         "WriteSerializable",
         true,
         {
          "numAddedFiles": "1",
          "numOutputBytes": "11445",
          "numOutputRows": "2000",
          "numRemovedFiles": "0"
         },
         null,
         "Databricks-Runtime/10.4.x-scala2.12"
        ],
        [
         32,
         "2023-07-26T23:53:58.000+0000",
         "3749819615057738",
         "andersonfaro@gmail.com",
         "STREAMING UPDATE",
         {
          "epochId": "31",
          "outputMode": "Append",
          "queryId": "945d1f2d-bd25-45e6-b372-f8933fb65c9f"
         },
         null,
         [
          "1243705193155225"
         ],
         "0726-224338-nu3hhmdt",
         31,
         "WriteSerializable",
         true,
         {
          "numAddedFiles": "1",
          "numOutputBytes": "11770",
          "numOutputRows": "2000",
          "numRemovedFiles": "0"
         },
         null,
         "Databricks-Runtime/10.4.x-scala2.12"
        ],
        [
         31,
         "2023-07-26T23:53:56.000+0000",
         "3749819615057738",
         "andersonfaro@gmail.com",
         "STREAMING UPDATE",
         {
          "epochId": "30",
          "outputMode": "Append",
          "queryId": "945d1f2d-bd25-45e6-b372-f8933fb65c9f"
         },
         null,
         [
          "1243705193155225"
         ],
         "0726-224338-nu3hhmdt",
         30,
         "WriteSerializable",
         true,
         {
          "numAddedFiles": "1",
          "numOutputBytes": "11797",
          "numOutputRows": "2000",
          "numRemovedFiles": "0"
         },
         null,
         "Databricks-Runtime/10.4.x-scala2.12"
        ],
        [
         30,
         "2023-07-26T23:53:51.000+0000",
         "3749819615057738",
         "andersonfaro@gmail.com",
         "STREAMING UPDATE",
         {
          "epochId": "29",
          "outputMode": "Append",
          "queryId": "945d1f2d-bd25-45e6-b372-f8933fb65c9f"
         },
         null,
         [
          "1243705193155225"
         ],
         "0726-224338-nu3hhmdt",
         29,
         "WriteSerializable",
         true,
         {
          "numAddedFiles": "1",
          "numOutputBytes": "11663",
          "numOutputRows": "2000",
          "numRemovedFiles": "0"
         },
         null,
         "Databricks-Runtime/10.4.x-scala2.12"
        ],
        [
         29,
         "2023-07-26T23:53:47.000+0000",
         "3749819615057738",
         "andersonfaro@gmail.com",
         "STREAMING UPDATE",
         {
          "epochId": "28",
          "outputMode": "Append",
          "queryId": "945d1f2d-bd25-45e6-b372-f8933fb65c9f"
         },
         null,
         [
          "1243705193155225"
         ],
         "0726-224338-nu3hhmdt",
         28,
         "WriteSerializable",
         true,
         {
          "numAddedFiles": "1",
          "numOutputBytes": "11861",
          "numOutputRows": "2000",
          "numRemovedFiles": "0"
         },
         null,
         "Databricks-Runtime/10.4.x-scala2.12"
        ],
        [
         28,
         "2023-07-26T23:53:44.000+0000",
         "3749819615057738",
         "andersonfaro@gmail.com",
         "STREAMING UPDATE",
         {
          "epochId": "27",
          "outputMode": "Append",
          "queryId": "945d1f2d-bd25-45e6-b372-f8933fb65c9f"
         },
         null,
         [
          "1243705193155225"
         ],
         "0726-224338-nu3hhmdt",
         27,
         "WriteSerializable",
         true,
         {
          "numAddedFiles": "1",
          "numOutputBytes": "11740",
          "numOutputRows": "2000",
          "numRemovedFiles": "0"
         },
         null,
         "Databricks-Runtime/10.4.x-scala2.12"
        ],
        [
         27,
         "2023-07-26T23:53:41.000+0000",
         "3749819615057738",
         "andersonfaro@gmail.com",
         "STREAMING UPDATE",
         {
          "epochId": "26",
          "outputMode": "Append",
          "queryId": "945d1f2d-bd25-45e6-b372-f8933fb65c9f"
         },
         null,
         [
          "1243705193155225"
         ],
         "0726-224338-nu3hhmdt",
         26,
         "WriteSerializable",
         true,
         {
          "numAddedFiles": "1",
          "numOutputBytes": "11585",
          "numOutputRows": "2000",
          "numRemovedFiles": "0"
         },
         null,
         "Databricks-Runtime/10.4.x-scala2.12"
        ],
        [
         26,
         "2023-07-26T23:53:34.000+0000",
         "3749819615057738",
         "andersonfaro@gmail.com",
         "STREAMING UPDATE",
         {
          "epochId": "25",
          "outputMode": "Append",
          "queryId": "945d1f2d-bd25-45e6-b372-f8933fb65c9f"
         },
         null,
         [
          "1243705193155225"
         ],
         "0726-224338-nu3hhmdt",
         25,
         "WriteSerializable",
         true,
         {
          "numAddedFiles": "1",
          "numOutputBytes": "11657",
          "numOutputRows": "2000",
          "numRemovedFiles": "0"
         },
         null,
         "Databricks-Runtime/10.4.x-scala2.12"
        ],
        [
         25,
         "2023-07-26T23:53:31.000+0000",
         "3749819615057738",
         "andersonfaro@gmail.com",
         "STREAMING UPDATE",
         {
          "epochId": "24",
          "outputMode": "Append",
          "queryId": "945d1f2d-bd25-45e6-b372-f8933fb65c9f"
         },
         null,
         [
          "1243705193155225"
         ],
         "0726-224338-nu3hhmdt",
         24,
         "WriteSerializable",
         true,
         {
          "numAddedFiles": "1",
          "numOutputBytes": "11683",
          "numOutputRows": "2000",
          "numRemovedFiles": "0"
         },
         null,
         "Databricks-Runtime/10.4.x-scala2.12"
        ],
        [
         24,
         "2023-07-26T23:53:27.000+0000",
         "3749819615057738",
         "andersonfaro@gmail.com",
         "STREAMING UPDATE",
         {
          "epochId": "23",
          "outputMode": "Append",
          "queryId": "945d1f2d-bd25-45e6-b372-f8933fb65c9f"
         },
         null,
         [
          "1243705193155225"
         ],
         "0726-224338-nu3hhmdt",
         23,
         "WriteSerializable",
         true,
         {
          "numAddedFiles": "1",
          "numOutputBytes": "11837",
          "numOutputRows": "2000",
          "numRemovedFiles": "0"
         },
         null,
         "Databricks-Runtime/10.4.x-scala2.12"
        ],
        [
         23,
         "2023-07-26T23:53:24.000+0000",
         "3749819615057738",
         "andersonfaro@gmail.com",
         "STREAMING UPDATE",
         {
          "epochId": "22",
          "outputMode": "Append",
          "queryId": "945d1f2d-bd25-45e6-b372-f8933fb65c9f"
         },
         null,
         [
          "1243705193155225"
         ],
         "0726-224338-nu3hhmdt",
         22,
         "WriteSerializable",
         true,
         {
          "numAddedFiles": "1",
          "numOutputBytes": "11574",
          "numOutputRows": "2000",
          "numRemovedFiles": "0"
         },
         null,
         "Databricks-Runtime/10.4.x-scala2.12"
        ],
        [
         22,
         "2023-07-26T23:53:18.000+0000",
         "3749819615057738",
         "andersonfaro@gmail.com",
         "STREAMING UPDATE",
         {
          "epochId": "21",
          "outputMode": "Append",
          "queryId": "945d1f2d-bd25-45e6-b372-f8933fb65c9f"
         },
         null,
         [
          "1243705193155225"
         ],
         "0726-224338-nu3hhmdt",
         21,
         "WriteSerializable",
         true,
         {
          "numAddedFiles": "1",
          "numOutputBytes": "11648",
          "numOutputRows": "2000",
          "numRemovedFiles": "0"
         },
         null,
         "Databricks-Runtime/10.4.x-scala2.12"
        ],
        [
         21,
         "2023-07-26T23:53:14.000+0000",
         "3749819615057738",
         "andersonfaro@gmail.com",
         "STREAMING UPDATE",
         {
          "epochId": "20",
          "outputMode": "Append",
          "queryId": "945d1f2d-bd25-45e6-b372-f8933fb65c9f"
         },
         null,
         [
          "1243705193155225"
         ],
         "0726-224338-nu3hhmdt",
         20,
         "WriteSerializable",
         true,
         {
          "numAddedFiles": "1",
          "numOutputBytes": "11785",
          "numOutputRows": "2000",
          "numRemovedFiles": "0"
         },
         null,
         "Databricks-Runtime/10.4.x-scala2.12"
        ],
        [
         20,
         "2023-07-26T23:53:06.000+0000",
         "3749819615057738",
         "andersonfaro@gmail.com",
         "STREAMING UPDATE",
         {
          "epochId": "19",
          "outputMode": "Append",
          "queryId": "945d1f2d-bd25-45e6-b372-f8933fb65c9f"
         },
         null,
         [
          "1243705193155225"
         ],
         "0726-224338-nu3hhmdt",
         19,
         "WriteSerializable",
         true,
         {
          "numAddedFiles": "1",
          "numOutputBytes": "11733",
          "numOutputRows": "2000",
          "numRemovedFiles": "0"
         },
         null,
         "Databricks-Runtime/10.4.x-scala2.12"
        ],
        [
         19,
         "2023-07-26T23:53:01.000+0000",
         "3749819615057738",
         "andersonfaro@gmail.com",
         "STREAMING UPDATE",
         {
          "epochId": "18",
          "outputMode": "Append",
          "queryId": "945d1f2d-bd25-45e6-b372-f8933fb65c9f"
         },
         null,
         [
          "1243705193155225"
         ],
         "0726-224338-nu3hhmdt",
         18,
         "WriteSerializable",
         true,
         {
          "numAddedFiles": "1",
          "numOutputBytes": "11513",
          "numOutputRows": "2000",
          "numRemovedFiles": "0"
         },
         null,
         "Databricks-Runtime/10.4.x-scala2.12"
        ],
        [
         18,
         "2023-07-26T23:52:59.000+0000",
         "3749819615057738",
         "andersonfaro@gmail.com",
         "STREAMING UPDATE",
         {
          "epochId": "17",
          "outputMode": "Append",
          "queryId": "945d1f2d-bd25-45e6-b372-f8933fb65c9f"
         },
         null,
         [
          "1243705193155225"
         ],
         "0726-224338-nu3hhmdt",
         17,
         "WriteSerializable",
         true,
         {
          "numAddedFiles": "1",
          "numOutputBytes": "11577",
          "numOutputRows": "2000",
          "numRemovedFiles": "0"
         },
         null,
         "Databricks-Runtime/10.4.x-scala2.12"
        ],
        [
         17,
         "2023-07-26T23:52:55.000+0000",
         "3749819615057738",
         "andersonfaro@gmail.com",
         "STREAMING UPDATE",
         {
          "epochId": "16",
          "outputMode": "Append",
          "queryId": "945d1f2d-bd25-45e6-b372-f8933fb65c9f"
         },
         null,
         [
          "1243705193155225"
         ],
         "0726-224338-nu3hhmdt",
         16,
         "WriteSerializable",
         true,
         {
          "numAddedFiles": "1",
          "numOutputBytes": "11838",
          "numOutputRows": "2000",
          "numRemovedFiles": "0"
         },
         null,
         "Databricks-Runtime/10.4.x-scala2.12"
        ],
        [
         16,
         "2023-07-26T23:52:51.000+0000",
         "3749819615057738",
         "andersonfaro@gmail.com",
         "STREAMING UPDATE",
         {
          "epochId": "15",
          "outputMode": "Append",
          "queryId": "945d1f2d-bd25-45e6-b372-f8933fb65c9f"
         },
         null,
         [
          "1243705193155225"
         ],
         "0726-224338-nu3hhmdt",
         15,
         "WriteSerializable",
         true,
         {
          "numAddedFiles": "1",
          "numOutputBytes": "11429",
          "numOutputRows": "2000",
          "numRemovedFiles": "0"
         },
         null,
         "Databricks-Runtime/10.4.x-scala2.12"
        ],
        [
         15,
         "2023-07-26T23:52:48.000+0000",
         "3749819615057738",
         "andersonfaro@gmail.com",
         "STREAMING UPDATE",
         {
          "epochId": "14",
          "outputMode": "Append",
          "queryId": "945d1f2d-bd25-45e6-b372-f8933fb65c9f"
         },
         null,
         [
          "1243705193155225"
         ],
         "0726-224338-nu3hhmdt",
         14,
         "WriteSerializable",
         true,
         {
          "numAddedFiles": "1",
          "numOutputBytes": "11741",
          "numOutputRows": "2000",
          "numRemovedFiles": "0"
         },
         null,
         "Databricks-Runtime/10.4.x-scala2.12"
        ],
        [
         14,
         "2023-07-26T23:52:45.000+0000",
         "3749819615057738",
         "andersonfaro@gmail.com",
         "STREAMING UPDATE",
         {
          "epochId": "13",
          "outputMode": "Append",
          "queryId": "945d1f2d-bd25-45e6-b372-f8933fb65c9f"
         },
         null,
         [
          "1243705193155225"
         ],
         "0726-224338-nu3hhmdt",
         13,
         "WriteSerializable",
         true,
         {
          "numAddedFiles": "1",
          "numOutputBytes": "11768",
          "numOutputRows": "2000",
          "numRemovedFiles": "0"
         },
         null,
         "Databricks-Runtime/10.4.x-scala2.12"
        ],
        [
         13,
         "2023-07-26T23:52:41.000+0000",
         "3749819615057738",
         "andersonfaro@gmail.com",
         "STREAMING UPDATE",
         {
          "epochId": "12",
          "outputMode": "Append",
          "queryId": "945d1f2d-bd25-45e6-b372-f8933fb65c9f"
         },
         null,
         [
          "1243705193155225"
         ],
         "0726-224338-nu3hhmdt",
         12,
         "WriteSerializable",
         true,
         {
          "numAddedFiles": "1",
          "numOutputBytes": "11828",
          "numOutputRows": "2000",
          "numRemovedFiles": "0"
         },
         null,
         "Databricks-Runtime/10.4.x-scala2.12"
        ],
        [
         12,
         "2023-07-26T23:52:37.000+0000",
         "3749819615057738",
         "andersonfaro@gmail.com",
         "STREAMING UPDATE",
         {
          "epochId": "11",
          "outputMode": "Append",
          "queryId": "945d1f2d-bd25-45e6-b372-f8933fb65c9f"
         },
         null,
         [
          "1243705193155225"
         ],
         "0726-224338-nu3hhmdt",
         11,
         "WriteSerializable",
         true,
         {
          "numAddedFiles": "1",
          "numOutputBytes": "11715",
          "numOutputRows": "2000",
          "numRemovedFiles": "0"
         },
         null,
         "Databricks-Runtime/10.4.x-scala2.12"
        ],
        [
         11,
         "2023-07-26T23:52:33.000+0000",
         "3749819615057738",
         "andersonfaro@gmail.com",
         "STREAMING UPDATE",
         {
          "epochId": "10",
          "outputMode": "Append",
          "queryId": "945d1f2d-bd25-45e6-b372-f8933fb65c9f"
         },
         null,
         [
          "1243705193155225"
         ],
         "0726-224338-nu3hhmdt",
         10,
         "WriteSerializable",
         true,
         {
          "numAddedFiles": "1",
          "numOutputBytes": "11503",
          "numOutputRows": "2000",
          "numRemovedFiles": "0"
         },
         null,
         "Databricks-Runtime/10.4.x-scala2.12"
        ],
        [
         10,
         "2023-07-26T23:52:30.000+0000",
         "3749819615057738",
         "andersonfaro@gmail.com",
         "STREAMING UPDATE",
         {
          "epochId": "9",
          "outputMode": "Append",
          "queryId": "945d1f2d-bd25-45e6-b372-f8933fb65c9f"
         },
         null,
         [
          "1243705193155225"
         ],
         "0726-224338-nu3hhmdt",
         9,
         "WriteSerializable",
         true,
         {
          "numAddedFiles": "1",
          "numOutputBytes": "11767",
          "numOutputRows": "2000",
          "numRemovedFiles": "0"
         },
         null,
         "Databricks-Runtime/10.4.x-scala2.12"
        ],
        [
         9,
         "2023-07-26T23:52:26.000+0000",
         "3749819615057738",
         "andersonfaro@gmail.com",
         "STREAMING UPDATE",
         {
          "epochId": "8",
          "outputMode": "Append",
          "queryId": "945d1f2d-bd25-45e6-b372-f8933fb65c9f"
         },
         null,
         [
          "1243705193155225"
         ],
         "0726-224338-nu3hhmdt",
         8,
         "WriteSerializable",
         true,
         {
          "numAddedFiles": "1",
          "numOutputBytes": "11617",
          "numOutputRows": "2000",
          "numRemovedFiles": "0"
         },
         null,
         "Databricks-Runtime/10.4.x-scala2.12"
        ],
        [
         8,
         "2023-07-26T23:52:24.000+0000",
         "3749819615057738",
         "andersonfaro@gmail.com",
         "STREAMING UPDATE",
         {
          "epochId": "7",
          "outputMode": "Append",
          "queryId": "945d1f2d-bd25-45e6-b372-f8933fb65c9f"
         },
         null,
         [
          "1243705193155225"
         ],
         "0726-224338-nu3hhmdt",
         7,
         "WriteSerializable",
         true,
         {
          "numAddedFiles": "1",
          "numOutputBytes": "11416",
          "numOutputRows": "2000",
          "numRemovedFiles": "0"
         },
         null,
         "Databricks-Runtime/10.4.x-scala2.12"
        ],
        [
         7,
         "2023-07-26T23:52:22.000+0000",
         "3749819615057738",
         "andersonfaro@gmail.com",
         "STREAMING UPDATE",
         {
          "epochId": "6",
          "outputMode": "Append",
          "queryId": "945d1f2d-bd25-45e6-b372-f8933fb65c9f"
         },
         null,
         [
          "1243705193155225"
         ],
         "0726-224338-nu3hhmdt",
         6,
         "WriteSerializable",
         true,
         {
          "numAddedFiles": "1",
          "numOutputBytes": "11837",
          "numOutputRows": "2000",
          "numRemovedFiles": "0"
         },
         null,
         "Databricks-Runtime/10.4.x-scala2.12"
        ],
        [
         6,
         "2023-07-26T23:52:20.000+0000",
         "3749819615057738",
         "andersonfaro@gmail.com",
         "STREAMING UPDATE",
         {
          "epochId": "5",
          "outputMode": "Append",
          "queryId": "945d1f2d-bd25-45e6-b372-f8933fb65c9f"
         },
         null,
         [
          "1243705193155225"
         ],
         "0726-224338-nu3hhmdt",
         5,
         "WriteSerializable",
         true,
         {
          "numAddedFiles": "1",
          "numOutputBytes": "11829",
          "numOutputRows": "2000",
          "numRemovedFiles": "0"
         },
         null,
         "Databricks-Runtime/10.4.x-scala2.12"
        ],
        [
         5,
         "2023-07-26T23:52:18.000+0000",
         "3749819615057738",
         "andersonfaro@gmail.com",
         "STREAMING UPDATE",
         {
          "epochId": "4",
          "outputMode": "Append",
          "queryId": "945d1f2d-bd25-45e6-b372-f8933fb65c9f"
         },
         null,
         [
          "1243705193155225"
         ],
         "0726-224338-nu3hhmdt",
         4,
         "WriteSerializable",
         true,
         {
          "numAddedFiles": "1",
          "numOutputBytes": "11606",
          "numOutputRows": "2000",
          "numRemovedFiles": "0"
         },
         null,
         "Databricks-Runtime/10.4.x-scala2.12"
        ],
        [
         4,
         "2023-07-26T23:52:15.000+0000",
         "3749819615057738",
         "andersonfaro@gmail.com",
         "STREAMING UPDATE",
         {
          "epochId": "3",
          "outputMode": "Append",
          "queryId": "945d1f2d-bd25-45e6-b372-f8933fb65c9f"
         },
         null,
         [
          "1243705193155225"
         ],
         "0726-224338-nu3hhmdt",
         3,
         "WriteSerializable",
         true,
         {
          "numAddedFiles": "1",
          "numOutputBytes": "11774",
          "numOutputRows": "2000",
          "numRemovedFiles": "0"
         },
         null,
         "Databricks-Runtime/10.4.x-scala2.12"
        ],
        [
         3,
         "2023-07-26T23:52:12.000+0000",
         "3749819615057738",
         "andersonfaro@gmail.com",
         "STREAMING UPDATE",
         {
          "epochId": "2",
          "outputMode": "Append",
          "queryId": "945d1f2d-bd25-45e6-b372-f8933fb65c9f"
         },
         null,
         [
          "1243705193155225"
         ],
         "0726-224338-nu3hhmdt",
         2,
         "WriteSerializable",
         true,
         {
          "numAddedFiles": "1",
          "numOutputBytes": "11720",
          "numOutputRows": "2000",
          "numRemovedFiles": "0"
         },
         null,
         "Databricks-Runtime/10.4.x-scala2.12"
        ],
        [
         2,
         "2023-07-26T23:52:10.000+0000",
         "3749819615057738",
         "andersonfaro@gmail.com",
         "STREAMING UPDATE",
         {
          "epochId": "1",
          "outputMode": "Append",
          "queryId": "945d1f2d-bd25-45e6-b372-f8933fb65c9f"
         },
         null,
         [
          "1243705193155225"
         ],
         "0726-224338-nu3hhmdt",
         1,
         "WriteSerializable",
         true,
         {
          "numAddedFiles": "1",
          "numOutputBytes": "11798",
          "numOutputRows": "2000",
          "numRemovedFiles": "0"
         },
         null,
         "Databricks-Runtime/10.4.x-scala2.12"
        ],
        [
         1,
         "2023-07-26T23:52:07.000+0000",
         "3749819615057738",
         "andersonfaro@gmail.com",
         "STREAMING UPDATE",
         {
          "epochId": "0",
          "outputMode": "Append",
          "queryId": "945d1f2d-bd25-45e6-b372-f8933fb65c9f"
         },
         null,
         [
          "1243705193155225"
         ],
         "0726-224338-nu3hhmdt",
         0,
         "WriteSerializable",
         true,
         {
          "numAddedFiles": "1",
          "numOutputBytes": "12503",
          "numOutputRows": "2000",
          "numRemovedFiles": "0"
         },
         null,
         "Databricks-Runtime/10.4.x-scala2.12"
        ],
        [
         0,
         "2023-07-26T23:50:48.000+0000",
         "3749819615057738",
         "andersonfaro@gmail.com",
         "CREATE TABLE",
         {
          "description": null,
          "isManaged": "false",
          "partitionBy": "[]",
          "properties": "{}"
         },
         null,
         [
          "1243705193155225"
         ],
         "0726-224338-nu3hhmdt",
         null,
         "WriteSerializable",
         true,
         {},
         null,
         "Databricks-Runtime/10.4.x-scala2.12"
        ]
       ],
       "datasetInfos": [],
       "dbfsResultPath": null,
       "isJsonSchema": true,
       "metadata": {},
       "overflow": false,
       "plotOptions": {
        "customPlotOptions": {},
        "displayType": "table",
        "pivotAggregation": null,
        "pivotColumns": null,
        "xColumns": null,
        "yColumns": null
       },
       "removedWidgets": [],
       "schema": [
        {
         "metadata": "{}",
         "name": "version",
         "type": "\"long\""
        },
        {
         "metadata": "{}",
         "name": "timestamp",
         "type": "\"timestamp\""
        },
        {
         "metadata": "{}",
         "name": "userId",
         "type": "\"string\""
        },
        {
         "metadata": "{}",
         "name": "userName",
         "type": "\"string\""
        },
        {
         "metadata": "{}",
         "name": "operation",
         "type": "\"string\""
        },
        {
         "metadata": "{}",
         "name": "operationParameters",
         "type": "{\"type\":\"map\",\"keyType\":\"string\",\"valueType\":\"string\",\"valueContainsNull\":true}"
        },
        {
         "metadata": "{}",
         "name": "job",
         "type": "{\"type\":\"struct\",\"fields\":[{\"name\":\"jobId\",\"type\":\"string\",\"nullable\":true,\"metadata\":{}},{\"name\":\"jobName\",\"type\":\"string\",\"nullable\":true,\"metadata\":{}},{\"name\":\"runId\",\"type\":\"string\",\"nullable\":true,\"metadata\":{}},{\"name\":\"jobOwnerId\",\"type\":\"string\",\"nullable\":true,\"metadata\":{}},{\"name\":\"triggerType\",\"type\":\"string\",\"nullable\":true,\"metadata\":{}}]}"
        },
        {
         "metadata": "{}",
         "name": "notebook",
         "type": "{\"type\":\"struct\",\"fields\":[{\"name\":\"notebookId\",\"type\":\"string\",\"nullable\":true,\"metadata\":{}}]}"
        },
        {
         "metadata": "{}",
         "name": "clusterId",
         "type": "\"string\""
        },
        {
         "metadata": "{}",
         "name": "readVersion",
         "type": "\"long\""
        },
        {
         "metadata": "{}",
         "name": "isolationLevel",
         "type": "\"string\""
        },
        {
         "metadata": "{}",
         "name": "isBlindAppend",
         "type": "\"boolean\""
        },
        {
         "metadata": "{}",
         "name": "operationMetrics",
         "type": "{\"type\":\"map\",\"keyType\":\"string\",\"valueType\":\"string\",\"valueContainsNull\":true}"
        },
        {
         "metadata": "{}",
         "name": "userMetadata",
         "type": "\"string\""
        },
        {
         "metadata": "{}",
         "name": "engineInfo",
         "type": "\"string\""
        }
       ],
       "type": "table"
      }
     },
     "output_type": "display_data"
    }
   ],
   "source": [
    "%sql\n",
    "DESCRIBE HISTORY '/tmp/delta/events'"
   ]
  },
  {
   "cell_type": "code",
   "execution_count": 0,
   "metadata": {
    "application/vnd.databricks.v1+cell": {
     "cellMetadata": {},
     "inputWidgets": {},
     "nuid": "23ef1ab0-2e70-48b9-bd22-c562ff118a69",
     "showTitle": false,
     "title": ""
    }
   },
   "outputs": [],
   "source": []
  }
 ],
 "metadata": {
  "application/vnd.databricks.v1+notebook": {
   "dashboards": [],
   "environmentMetadata": null,
   "language": "python",
   "notebookMetadata": {
    "mostRecentlyExecutedCommandWithImplicitDF": {
     "commandId": 1243705193155239,
     "dataframes": [
      "_sqldf"
     ]
    },
    "pythonIndentUnit": 4
   },
   "notebookName": "Streaming Delta Lake",
   "widgets": {}
  }
 },
 "nbformat": 4,
 "nbformat_minor": 0
}
