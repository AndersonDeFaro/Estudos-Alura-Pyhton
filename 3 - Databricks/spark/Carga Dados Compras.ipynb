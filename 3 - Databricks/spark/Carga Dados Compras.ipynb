{
 "cells": [
  {
   "cell_type": "markdown",
   "metadata": {
    "application/vnd.databricks.v1+cell": {
     "cellMetadata": {
      "byteLimit": 2048000,
      "rowLimit": 10000
     },
     "inputWidgets": {},
     "nuid": "692c1279-825d-4df1-a1e9-5a3dc8802ff6",
     "showTitle": false,
     "title": ""
    }
   },
   "source": [
    "#######Primeiro Script , trabalhando com carga de dados e ajuste de registros no Delta Lake\n",
    "##Carrega os dados do arquivo Json"
   ]
  },
  {
   "cell_type": "code",
   "execution_count": 0,
   "metadata": {
    "application/vnd.databricks.v1+cell": {
     "cellMetadata": {
      "byteLimit": 2048000,
      "rowLimit": 10000
     },
     "inputWidgets": {},
     "nuid": "bf257f3e-371c-4126-b95f-46f5d9eb991a",
     "showTitle": false,
     "title": ""
    }
   },
   "outputs": [
    {
     "output_type": "stream",
     "name": "stdout",
     "output_type": "stream",
     "text": [
      "root\n |-- customer: string (nullable = true)\n |-- date_order: string (nullable = true)\n |-- id: long (nullable = true)\n |-- price: double (nullable = true)\n |-- product: string (nullable = true)\n |-- unit: long (nullable = true)\n\n+--------+----------+---+-----+---------------+----+\n|customer|date_order| id|price|        product|unit|\n+--------+----------+---+-----+---------------+----+\n|  Carlos|2021-01-23|  1|238.0|             TV|   5|\n|     Ana|2021-03-22|  2|121.6|AR-CONDICIONADO|   6|\n|   Sofia|2021-04-21|  3|415.4|        FREEZER|   7|\n|  Sandra|2021-04-23|  4|313.0|             TV|   8|\n|  Tereza|2021-05-23|  5|412.0|       FRIGOBAR|   3|\n|   Carla|2021-06-25|  6|124.0|           MESA|   1|\n|   Sofia|2021-07-25|  7|342.3|        CADEIRA|   1|\n+--------+----------+---+-----+---------------+----+\n\n"
     ]
    }
   ],
   "source": [
    "%python\n",
    "dfcliente = spark.read.json(\"/FileStore/tables/cliente/clientes.json\");\n",
    "dfcliente.printSchema()\n",
    "dfcliente.show()"
   ]
  },
  {
   "cell_type": "markdown",
   "metadata": {
    "application/vnd.databricks.v1+cell": {
     "cellMetadata": {
      "byteLimit": 2048000,
      "rowLimit": 10000
     },
     "inputWidgets": {},
     "nuid": "c31c7127-60dd-4e7b-a8df-4388ef784ac5",
     "showTitle": false,
     "title": ""
    }
   },
   "source": [
    "##Cria a tabela temporária com os dos do arquivo json em memória"
   ]
  },
  {
   "cell_type": "code",
   "execution_count": 0,
   "metadata": {
    "application/vnd.databricks.v1+cell": {
     "cellMetadata": {
      "byteLimit": 2048000,
      "rowLimit": 10000
     },
     "inputWidgets": {},
     "nuid": "93e6a28b-87c4-41ac-8816-441cf3c6417a",
     "showTitle": false,
     "title": ""
    }
   },
   "outputs": [
    {
     "output_type": "stream",
     "name": "stdout",
     "output_type": "stream",
     "text": [
      "+--------+----------+---+-----+---------------+----+\n|customer|date_order| id|price|        product|unit|\n+--------+----------+---+-----+---------------+----+\n|  Carlos|2021-01-23|  1|238.0|             TV|   5|\n|     Ana|2021-03-22|  2|121.6|AR-CONDICIONADO|   6|\n|   Sofia|2021-04-21|  3|415.4|        FREEZER|   7|\n|  Sandra|2021-04-23|  4|313.0|             TV|   8|\n|  Tereza|2021-05-23|  5|412.0|       FRIGOBAR|   3|\n|   Carla|2021-06-25|  6|124.0|           MESA|   1|\n|   Sofia|2021-07-25|  7|342.3|        CADEIRA|   1|\n+--------+----------+---+-----+---------------+----+\n\n"
     ]
    }
   ],
   "source": [
    "%python\n",
    "dfcliente.createOrReplaceTempView(\"compras_view\");\n",
    "saida =spark.sql(\"SELECT * FROM compras_view\")\n",
    "saida.show()"
   ]
  },
  {
   "cell_type": "markdown",
   "metadata": {
    "application/vnd.databricks.v1+cell": {
     "cellMetadata": {
      "byteLimit": 2048000,
      "rowLimit": 10000
     },
     "inputWidgets": {},
     "nuid": "03e00f24-363e-4f2c-98f1-be5fafef8abf",
     "showTitle": false,
     "title": ""
    }
   },
   "source": [
    "##Carrega os dados no Delta Lake gerando uma tabela chamada compras, note USING DELTA"
   ]
  },
  {
   "cell_type": "code",
   "execution_count": 0,
   "metadata": {
    "application/vnd.databricks.v1+cell": {
     "cellMetadata": {
      "byteLimit": 2048000,
      "implicitDf": true,
      "rowLimit": 10000
     },
     "inputWidgets": {},
     "nuid": "1eab4f49-2d2b-4863-bbce-cdccb566d321",
     "showTitle": false,
     "title": ""
    }
   },
   "outputs": [
    {
     "output_type": "display_data",
     "data": {
      "text/html": [
       "<style scoped>\n",
       "  .table-result-container {\n",
       "    max-height: 300px;\n",
       "    overflow: auto;\n",
       "  }\n",
       "  table, th, td {\n",
       "    border: 1px solid black;\n",
       "    border-collapse: collapse;\n",
       "  }\n",
       "  th, td {\n",
       "    padding: 5px;\n",
       "  }\n",
       "  th {\n",
       "    text-align: left;\n",
       "  }\n",
       "</style><div class='table-result-container'><table class='table-result'><thead style='background-color: white'><tr></tr></thead><tbody></tbody></table></div>"
      ]
     },
     "metadata": {
      "application/vnd.databricks.v1+output": {
       "addedWidgets": {},
       "aggData": [],
       "aggError": "",
       "aggOverflow": false,
       "aggSchema": [],
       "aggSeriesLimitReached": false,
       "aggType": "",
       "arguments": {},
       "columnCustomDisplayInfos": {},
       "data": [],
       "datasetInfos": [],
       "dbfsResultPath": null,
       "isJsonSchema": true,
       "metadata": {},
       "overflow": false,
       "plotOptions": {
        "customPlotOptions": {},
        "displayType": "table",
        "pivotAggregation": null,
        "pivotColumns": null,
        "xColumns": null,
        "yColumns": null
       },
       "removedWidgets": [],
       "schema": [],
       "type": "table"
      }
     },
     "output_type": "display_data"
    }
   ],
   "source": [
    "%sql\n",
    "DROP TABLE if exists compras;"
   ]
  },
  {
   "cell_type": "code",
   "execution_count": 0,
   "metadata": {
    "application/vnd.databricks.v1+cell": {
     "cellMetadata": {
      "byteLimit": 2048000,
      "rowLimit": 10000
     },
     "inputWidgets": {},
     "nuid": "2c53d1bc-7bcd-43c1-9e62-20fbc4866fbc",
     "showTitle": false,
     "title": ""
    }
   },
   "outputs": [
    {
     "output_type": "display_data",
     "data": {
      "text/html": [
       "<style scoped>\n",
       "  .ansiout {\n",
       "    display: block;\n",
       "    unicode-bidi: embed;\n",
       "    white-space: pre-wrap;\n",
       "    word-wrap: break-word;\n",
       "    word-break: break-all;\n",
       "    font-family: \"Menlo\", \"Monaco\", \"Consolas\", \"Ubuntu Mono\", \"Source Code Pro\", monospace;\n",
       "    font-size: 13px;\n",
       "    color: #555;\n",
       "    margin-left: 4px;\n",
       "    line-height: 19px;\n",
       "  }\n",
       "</style>\n",
       "<div class=\"ansiout\">res15: Boolean = false\n",
       "</div>"
      ]
     },
     "metadata": {
      "application/vnd.databricks.v1+output": {
       "addedWidgets": {},
       "arguments": {},
       "data": "<div class=\"ansiout\">res15: Boolean = false\n</div>",
       "datasetInfos": [],
       "metadata": {
        "isDbfsCommandResult": false
       },
       "removedWidgets": [],
       "type": "html"
      }
     },
     "output_type": "display_data"
    }
   ],
   "source": [
    "%fs rm -r /user/hive/warehouse/compras"
   ]
  },
  {
   "cell_type": "code",
   "execution_count": 0,
   "metadata": {
    "application/vnd.databricks.v1+cell": {
     "cellMetadata": {
      "byteLimit": 2048000,
      "rowLimit": 10000
     },
     "inputWidgets": {},
     "nuid": "9606d5a6-1756-4002-a429-250ece3ab9ac",
     "showTitle": false,
     "title": ""
    }
   },
   "outputs": [
    {
     "output_type": "display_data",
     "data": {
      "text/html": [
       "<style scoped>\n",
       "  .ansiout {\n",
       "    display: block;\n",
       "    unicode-bidi: embed;\n",
       "    white-space: pre-wrap;\n",
       "    word-wrap: break-word;\n",
       "    word-break: break-all;\n",
       "    font-family: \"Menlo\", \"Monaco\", \"Consolas\", \"Ubuntu Mono\", \"Source Code Pro\", monospace;\n",
       "    font-size: 13px;\n",
       "    color: #555;\n",
       "    margin-left: 4px;\n",
       "    line-height: 19px;\n",
       "  }\n",
       "</style>\n",
       "<div class=\"ansiout\">scrisql: String = &quot;CREATE OR REPLACE TABLE compras (id STRING, date_order STRING,customer STRING,product STRING,unit INTEGER,price DOUBLE) USING DELTA PARTITIONED BY (date_order) &quot;\n",
       "res16: org.apache.spark.sql.DataFrame = []\n",
       "</div>"
      ]
     },
     "metadata": {
      "application/vnd.databricks.v1+output": {
       "addedWidgets": {},
       "arguments": {},
       "data": "<div class=\"ansiout\">scrisql: String = &quot;CREATE OR REPLACE TABLE compras (id STRING, date_order STRING,customer STRING,product STRING,unit INTEGER,price DOUBLE) USING DELTA PARTITIONED BY (date_order) &quot;\nres16: org.apache.spark.sql.DataFrame = []\n</div>",
       "datasetInfos": [
        {
         "name": "res16",
         "schema": {
          "fields": [],
          "type": "struct"
         },
         "tableIdentifier": null,
         "typeStr": "org.apache.spark.sql.DataFrame"
        }
       ],
       "metadata": {
        "isDbfsCommandResult": false
       },
       "removedWidgets": [],
       "type": "html"
      }
     },
     "output_type": "display_data"
    }
   ],
   "source": [
    "%scala\n",
    "val scrisql = \"CREATE OR REPLACE TABLE compras (id STRING, date_order STRING,customer STRING,product STRING,unit INTEGER,price DOUBLE) USING DELTA PARTITIONED BY (date_order) \";\n",
    "\n",
    "spark.sql(scrisql);"
   ]
  },
  {
   "cell_type": "markdown",
   "metadata": {
    "application/vnd.databricks.v1+cell": {
     "cellMetadata": {
      "byteLimit": 2048000,
      "rowLimit": 10000
     },
     "inputWidgets": {},
     "nuid": "83680b5f-87c6-440e-a83c-4de8fead5090",
     "showTitle": false,
     "title": ""
    }
   },
   "source": [
    "##Lista os dados do Delta Lake, que estará vazia"
   ]
  },
  {
   "cell_type": "code",
   "execution_count": 0,
   "metadata": {
    "application/vnd.databricks.v1+cell": {
     "cellMetadata": {
      "byteLimit": 2048000,
      "rowLimit": 10000
     },
     "inputWidgets": {},
     "nuid": "c6b1d641-7a5a-43e0-a407-7151e5f274b4",
     "showTitle": false,
     "title": ""
    }
   },
   "outputs": [
    {
     "output_type": "display_data",
     "data": {
      "text/html": [
       "<style scoped>\n",
       "  .ansiout {\n",
       "    display: block;\n",
       "    unicode-bidi: embed;\n",
       "    white-space: pre-wrap;\n",
       "    word-wrap: break-word;\n",
       "    word-break: break-all;\n",
       "    font-family: \"Menlo\", \"Monaco\", \"Consolas\", \"Ubuntu Mono\", \"Source Code Pro\", monospace;\n",
       "    font-size: 13px;\n",
       "    color: #555;\n",
       "    margin-left: 4px;\n",
       "    line-height: 19px;\n",
       "  }\n",
       "</style>\n",
       "<div class=\"ansiout\">+---+----------+--------+-------+----+-----+\n",
       " id|date_order|customer|product|unit|price|\n",
       "+---+----------+--------+-------+----+-----+\n",
       "+---+----------+--------+-------+----+-----+\n",
       "\n",
       "</div>"
      ]
     },
     "metadata": {
      "application/vnd.databricks.v1+output": {
       "addedWidgets": {},
       "arguments": {},
       "data": "<div class=\"ansiout\">+---+----------+--------+-------+----+-----+\n| id|date_order|customer|product|unit|price|\n+---+----------+--------+-------+----+-----+\n+---+----------+--------+-------+----+-----+\n\n</div>",
       "datasetInfos": [],
       "metadata": {
        "isDbfsCommandResult": false
       },
       "removedWidgets": [],
       "type": "html"
      }
     },
     "output_type": "display_data"
    }
   ],
   "source": [
    "%scala\n",
    "spark.sql(\"select * from compras\").show()"
   ]
  },
  {
   "cell_type": "markdown",
   "metadata": {
    "application/vnd.databricks.v1+cell": {
     "cellMetadata": {
      "byteLimit": 2048000,
      "rowLimit": 10000
     },
     "inputWidgets": {},
     "nuid": "1c1a2e99-33b0-4528-b187-fb3572a91a85",
     "showTitle": false,
     "title": ""
    }
   },
   "source": [
    "##Criando um merge para carregar os dados da tabela temporário no Delta Lake"
   ]
  },
  {
   "cell_type": "code",
   "execution_count": 0,
   "metadata": {
    "application/vnd.databricks.v1+cell": {
     "cellMetadata": {
      "byteLimit": 2048000,
      "rowLimit": 10000
     },
     "inputWidgets": {},
     "nuid": "57705837-5413-4020-b7df-1d0f91f3d754",
     "showTitle": false,
     "title": ""
    }
   },
   "outputs": [
    {
     "output_type": "display_data",
     "data": {
      "text/html": [
       "<style scoped>\n",
       "  .ansiout {\n",
       "    display: block;\n",
       "    unicode-bidi: embed;\n",
       "    white-space: pre-wrap;\n",
       "    word-wrap: break-word;\n",
       "    word-break: break-all;\n",
       "    font-family: \"Menlo\", \"Monaco\", \"Consolas\", \"Ubuntu Mono\", \"Source Code Pro\", monospace;\n",
       "    font-size: 13px;\n",
       "    color: #555;\n",
       "    margin-left: 4px;\n",
       "    line-height: 19px;\n",
       "  }\n",
       "</style>\n",
       "<div class=\"ansiout\">mergedados: String = &quot;Merge into compras using compras_view as cmp_view ON compras.id = cmp_view.id WHEN MATCHED THEN UPDATE SET compras.product = cmp_view.product,compras.price = cmp_view.price WHEN NOT MATCHED THEN INSERT * &quot;\n",
       "res19: org.apache.spark.sql.DataFrame = [num_affected_rows: bigint, num_updated_rows: bigint ... 2 more fields]\n",
       "</div>"
      ]
     },
     "metadata": {
      "application/vnd.databricks.v1+output": {
       "addedWidgets": {},
       "arguments": {},
       "data": "<div class=\"ansiout\">mergedados: String = &quot;Merge into compras using compras_view as cmp_view ON compras.id = cmp_view.id WHEN MATCHED THEN UPDATE SET compras.product = cmp_view.product,compras.price = cmp_view.price WHEN NOT MATCHED THEN INSERT * &quot;\nres19: org.apache.spark.sql.DataFrame = [num_affected_rows: bigint, num_updated_rows: bigint ... 2 more fields]\n</div>",
       "datasetInfos": [
        {
         "name": "res19",
         "schema": {
          "fields": [
           {
            "metadata": {},
            "name": "num_affected_rows",
            "nullable": true,
            "type": "long"
           },
           {
            "metadata": {},
            "name": "num_updated_rows",
            "nullable": true,
            "type": "long"
           },
           {
            "metadata": {},
            "name": "num_deleted_rows",
            "nullable": true,
            "type": "long"
           },
           {
            "metadata": {},
            "name": "num_inserted_rows",
            "nullable": true,
            "type": "long"
           }
          ],
          "type": "struct"
         },
         "tableIdentifier": null,
         "typeStr": "org.apache.spark.sql.DataFrame"
        }
       ],
       "metadata": {
        "isDbfsCommandResult": false
       },
       "removedWidgets": [],
       "type": "html"
      }
     },
     "output_type": "display_data"
    }
   ],
   "source": [
    "%scala\n",
    "val mergedados = \"Merge into compras \" +\n",
    "\"using compras_view as cmp_view \" +\n",
    "\"ON compras.id = cmp_view.id \" +\n",
    "\"WHEN MATCHED THEN \" +\n",
    "\"UPDATE SET compras.product = cmp_view.product,\" +\n",
    "\"compras.price = cmp_view.price \" +\n",
    "\"WHEN NOT MATCHED THEN INSERT * \";\n",
    "\n",
    "spark.sql(mergedados);"
   ]
  },
  {
   "cell_type": "markdown",
   "metadata": {
    "application/vnd.databricks.v1+cell": {
     "cellMetadata": {
      "byteLimit": 2048000,
      "rowLimit": 10000
     },
     "inputWidgets": {},
     "nuid": "a382bf46-308b-469d-acc8-0e80be59b6a3",
     "showTitle": false,
     "title": ""
    }
   },
   "source": [
    "## Exibe os dados que foram carregados com o merge"
   ]
  },
  {
   "cell_type": "code",
   "execution_count": 0,
   "metadata": {
    "application/vnd.databricks.v1+cell": {
     "cellMetadata": {
      "byteLimit": 2048000,
      "rowLimit": 10000
     },
     "inputWidgets": {},
     "nuid": "5a142e93-03e1-4557-b2aa-c3c5ee7dd860",
     "showTitle": false,
     "title": ""
    }
   },
   "outputs": [
    {
     "output_type": "display_data",
     "data": {
      "text/html": [
       "<style scoped>\n",
       "  .ansiout {\n",
       "    display: block;\n",
       "    unicode-bidi: embed;\n",
       "    white-space: pre-wrap;\n",
       "    word-wrap: break-word;\n",
       "    word-break: break-all;\n",
       "    font-family: \"Menlo\", \"Monaco\", \"Consolas\", \"Ubuntu Mono\", \"Source Code Pro\", monospace;\n",
       "    font-size: 13px;\n",
       "    color: #555;\n",
       "    margin-left: 4px;\n",
       "    line-height: 19px;\n",
       "  }\n",
       "</style>\n",
       "<div class=\"ansiout\">+---+----------+--------+---------------+----+-----+\n",
       " id|date_order|customer|        product|unit|price|\n",
       "+---+----------+--------+---------------+----+-----+\n",
       "  2|2021-03-22|     Ana|AR-CONDICIONADO|   6|121.6|\n",
       "  5|2021-05-23|  Tereza|       FRIGOBAR|   3|412.0|\n",
       "  7|2021-07-25|   Sofia|        CADEIRA|   1|342.3|\n",
       "  3|2021-04-21|   Sofia|        FREEZER|   7|415.4|\n",
       "  6|2021-06-25|   Carla|           MESA|   1|124.0|\n",
       "  4|2021-04-23|  Sandra|             TV|   8|313.0|\n",
       "  1|2021-01-23|  Carlos|             TV|   5|238.0|\n",
       "+---+----------+--------+---------------+----+-----+\n",
       "\n",
       "</div>"
      ]
     },
     "metadata": {
      "application/vnd.databricks.v1+output": {
       "addedWidgets": {},
       "arguments": {},
       "data": "<div class=\"ansiout\">+---+----------+--------+---------------+----+-----+\n| id|date_order|customer|        product|unit|price|\n+---+----------+--------+---------------+----+-----+\n|  2|2021-03-22|     Ana|AR-CONDICIONADO|   6|121.6|\n|  5|2021-05-23|  Tereza|       FRIGOBAR|   3|412.0|\n|  7|2021-07-25|   Sofia|        CADEIRA|   1|342.3|\n|  3|2021-04-21|   Sofia|        FREEZER|   7|415.4|\n|  6|2021-06-25|   Carla|           MESA|   1|124.0|\n|  4|2021-04-23|  Sandra|             TV|   8|313.0|\n|  1|2021-01-23|  Carlos|             TV|   5|238.0|\n+---+----------+--------+---------------+----+-----+\n\n</div>",
       "datasetInfos": [],
       "metadata": {
        "isDbfsCommandResult": false
       },
       "removedWidgets": [],
       "type": "html"
      }
     },
     "output_type": "display_data"
    }
   ],
   "source": [
    "%scala\n",
    "spark.sql(\"select * from compras\").show();"
   ]
  },
  {
   "cell_type": "markdown",
   "metadata": {
    "application/vnd.databricks.v1+cell": {
     "cellMetadata": {
      "byteLimit": 2048000,
      "rowLimit": 10000
     },
     "inputWidgets": {},
     "nuid": "e690b969-a209-4668-8882-855db80f30ce",
     "showTitle": false,
     "title": ""
    }
   },
   "source": [
    "##Atualiza os dados do id=4 com o comando update"
   ]
  },
  {
   "cell_type": "code",
   "execution_count": 0,
   "metadata": {
    "application/vnd.databricks.v1+cell": {
     "cellMetadata": {
      "byteLimit": 2048000,
      "rowLimit": 10000
     },
     "inputWidgets": {},
     "nuid": "c24c6cdb-7d8a-41ac-b0ad-1bc71a4c9c4b",
     "showTitle": false,
     "title": ""
    }
   },
   "outputs": [
    {
     "output_type": "display_data",
     "data": {
      "text/html": [
       "<style scoped>\n",
       "  .ansiout {\n",
       "    display: block;\n",
       "    unicode-bidi: embed;\n",
       "    white-space: pre-wrap;\n",
       "    word-wrap: break-word;\n",
       "    word-break: break-all;\n",
       "    font-family: \"Menlo\", \"Monaco\", \"Consolas\", \"Ubuntu Mono\", \"Source Code Pro\", monospace;\n",
       "    font-size: 13px;\n",
       "    color: #555;\n",
       "    margin-left: 4px;\n",
       "    line-height: 19px;\n",
       "  }\n",
       "</style>\n",
       "<div class=\"ansiout\">atualiza_dados: String = update compras set product = 'Geladeira' where id =4\n",
       "res22: org.apache.spark.sql.DataFrame = [num_affected_rows: bigint]\n",
       "</div>"
      ]
     },
     "metadata": {
      "application/vnd.databricks.v1+output": {
       "addedWidgets": {},
       "arguments": {},
       "data": "<div class=\"ansiout\">atualiza_dados: String = update compras set product = 'Geladeira' where id =4\nres22: org.apache.spark.sql.DataFrame = [num_affected_rows: bigint]\n</div>",
       "datasetInfos": [
        {
         "name": "res22",
         "schema": {
          "fields": [
           {
            "metadata": {},
            "name": "num_affected_rows",
            "nullable": true,
            "type": "long"
           }
          ],
          "type": "struct"
         },
         "tableIdentifier": null,
         "typeStr": "org.apache.spark.sql.DataFrame"
        }
       ],
       "metadata": {
        "isDbfsCommandResult": false
       },
       "removedWidgets": [],
       "type": "html"
      }
     },
     "output_type": "display_data"
    }
   ],
   "source": [
    "%scala\n",
    "val atualiza_dados = \"update compras \" +\n",
    "\"set product = 'Geladeira' \" +\n",
    "\"where id =4\";\n",
    "spark.sql(atualiza_dados);"
   ]
  },
  {
   "cell_type": "markdown",
   "metadata": {
    "application/vnd.databricks.v1+cell": {
     "cellMetadata": {
      "byteLimit": 2048000,
      "rowLimit": 10000
     },
     "inputWidgets": {},
     "nuid": "40788ec6-7aed-4bc6-ac26-07d05166a7ba",
     "showTitle": false,
     "title": ""
    }
   },
   "source": [
    "## Exibe os dados que foram carregados, note a atualização no id=4"
   ]
  },
  {
   "cell_type": "code",
   "execution_count": 0,
   "metadata": {
    "application/vnd.databricks.v1+cell": {
     "cellMetadata": {
      "byteLimit": 2048000,
      "rowLimit": 10000
     },
     "inputWidgets": {},
     "nuid": "09c3e027-f24f-45d2-8bba-bed7c82a3b2e",
     "showTitle": false,
     "title": ""
    }
   },
   "outputs": [
    {
     "output_type": "display_data",
     "data": {
      "text/html": [
       "<style scoped>\n",
       "  .ansiout {\n",
       "    display: block;\n",
       "    unicode-bidi: embed;\n",
       "    white-space: pre-wrap;\n",
       "    word-wrap: break-word;\n",
       "    word-break: break-all;\n",
       "    font-family: \"Menlo\", \"Monaco\", \"Consolas\", \"Ubuntu Mono\", \"Source Code Pro\", monospace;\n",
       "    font-size: 13px;\n",
       "    color: #555;\n",
       "    margin-left: 4px;\n",
       "    line-height: 19px;\n",
       "  }\n",
       "</style>\n",
       "<div class=\"ansiout\">+---+----------+--------+---------------+----+-----+\n",
       " id|date_order|customer|        product|unit|price|\n",
       "+---+----------+--------+---------------+----+-----+\n",
       "  2|2021-03-22|     Ana|AR-CONDICIONADO|   6|121.6|\n",
       "  4|2021-04-23|  Sandra|      Geladeira|   8|313.0|\n",
       "  5|2021-05-23|  Tereza|       FRIGOBAR|   3|412.0|\n",
       "  7|2021-07-25|   Sofia|        CADEIRA|   1|342.3|\n",
       "  3|2021-04-21|   Sofia|        FREEZER|   7|415.4|\n",
       "  6|2021-06-25|   Carla|           MESA|   1|124.0|\n",
       "  1|2021-01-23|  Carlos|             TV|   5|238.0|\n",
       "+---+----------+--------+---------------+----+-----+\n",
       "\n",
       "</div>"
      ]
     },
     "metadata": {
      "application/vnd.databricks.v1+output": {
       "addedWidgets": {},
       "arguments": {},
       "data": "<div class=\"ansiout\">+---+----------+--------+---------------+----+-----+\n| id|date_order|customer|        product|unit|price|\n+---+----------+--------+---------------+----+-----+\n|  2|2021-03-22|     Ana|AR-CONDICIONADO|   6|121.6|\n|  4|2021-04-23|  Sandra|      Geladeira|   8|313.0|\n|  5|2021-05-23|  Tereza|       FRIGOBAR|   3|412.0|\n|  7|2021-07-25|   Sofia|        CADEIRA|   1|342.3|\n|  3|2021-04-21|   Sofia|        FREEZER|   7|415.4|\n|  6|2021-06-25|   Carla|           MESA|   1|124.0|\n|  1|2021-01-23|  Carlos|             TV|   5|238.0|\n+---+----------+--------+---------------+----+-----+\n\n</div>",
       "datasetInfos": [],
       "metadata": {
        "isDbfsCommandResult": false
       },
       "removedWidgets": [],
       "type": "html"
      }
     },
     "output_type": "display_data"
    }
   ],
   "source": [
    "%scala\n",
    "spark.sql(\"select * from compras\").show();"
   ]
  },
  {
   "cell_type": "markdown",
   "metadata": {
    "application/vnd.databricks.v1+cell": {
     "cellMetadata": {
      "byteLimit": 2048000,
      "rowLimit": 10000
     },
     "inputWidgets": {},
     "nuid": "dfe0eb03-b1ca-4b13-a722-7bbf986c02fe",
     "showTitle": false,
     "title": ""
    }
   },
   "source": [
    "## Eliminação do registro cujo o id=1"
   ]
  },
  {
   "cell_type": "code",
   "execution_count": 0,
   "metadata": {
    "application/vnd.databricks.v1+cell": {
     "cellMetadata": {
      "byteLimit": 2048000,
      "rowLimit": 10000
     },
     "inputWidgets": {},
     "nuid": "7bc13ca8-c5a1-4c93-a7ee-19a164f50d1c",
     "showTitle": false,
     "title": ""
    }
   },
   "outputs": [
    {
     "output_type": "display_data",
     "data": {
      "text/html": [
       "<style scoped>\n",
       "  .ansiout {\n",
       "    display: block;\n",
       "    unicode-bidi: embed;\n",
       "    white-space: pre-wrap;\n",
       "    word-wrap: break-word;\n",
       "    word-break: break-all;\n",
       "    font-family: \"Menlo\", \"Monaco\", \"Consolas\", \"Ubuntu Mono\", \"Source Code Pro\", monospace;\n",
       "    font-size: 13px;\n",
       "    color: #555;\n",
       "    margin-left: 4px;\n",
       "    line-height: 19px;\n",
       "  }\n",
       "</style>\n",
       "<div class=\"ansiout\">deletaregistro: String = delete from compras where id = 1\n",
       "res25: org.apache.spark.sql.DataFrame = [num_affected_rows: bigint]\n",
       "</div>"
      ]
     },
     "metadata": {
      "application/vnd.databricks.v1+output": {
       "addedWidgets": {},
       "arguments": {},
       "data": "<div class=\"ansiout\">deletaregistro: String = delete from compras where id = 1\nres25: org.apache.spark.sql.DataFrame = [num_affected_rows: bigint]\n</div>",
       "datasetInfos": [
        {
         "name": "res25",
         "schema": {
          "fields": [
           {
            "metadata": {},
            "name": "num_affected_rows",
            "nullable": true,
            "type": "long"
           }
          ],
          "type": "struct"
         },
         "tableIdentifier": null,
         "typeStr": "org.apache.spark.sql.DataFrame"
        }
       ],
       "metadata": {
        "isDbfsCommandResult": false
       },
       "removedWidgets": [],
       "type": "html"
      }
     },
     "output_type": "display_data"
    }
   ],
   "source": [
    "%scala\n",
    "val deletaregistro = \"delete from compras where id = 1\";\n",
    "spark.sql(deletaregistro);"
   ]
  },
  {
   "cell_type": "markdown",
   "metadata": {
    "application/vnd.databricks.v1+cell": {
     "cellMetadata": {
      "byteLimit": 2048000,
      "rowLimit": 10000
     },
     "inputWidgets": {},
     "nuid": "d8d348cd-e4fb-497d-8d3e-f1d7abb0d48d",
     "showTitle": false,
     "title": ""
    }
   },
   "source": [
    "## Exibe os dados que foram carregados"
   ]
  },
  {
   "cell_type": "code",
   "execution_count": 0,
   "metadata": {
    "application/vnd.databricks.v1+cell": {
     "cellMetadata": {
      "byteLimit": 2048000,
      "rowLimit": 10000
     },
     "inputWidgets": {},
     "nuid": "088f905a-2ef6-484a-a8c8-d2a25aa26a8a",
     "showTitle": false,
     "title": ""
    }
   },
   "outputs": [
    {
     "output_type": "display_data",
     "data": {
      "text/html": [
       "<style scoped>\n",
       "  .ansiout {\n",
       "    display: block;\n",
       "    unicode-bidi: embed;\n",
       "    white-space: pre-wrap;\n",
       "    word-wrap: break-word;\n",
       "    word-break: break-all;\n",
       "    font-family: \"Menlo\", \"Monaco\", \"Consolas\", \"Ubuntu Mono\", \"Source Code Pro\", monospace;\n",
       "    font-size: 13px;\n",
       "    color: #555;\n",
       "    margin-left: 4px;\n",
       "    line-height: 19px;\n",
       "  }\n",
       "</style>\n",
       "<div class=\"ansiout\">+---+----------+--------+---------------+----+-----+\n",
       " id|date_order|customer|        product|unit|price|\n",
       "+---+----------+--------+---------------+----+-----+\n",
       "  2|2021-03-22|     Ana|AR-CONDICIONADO|   6|121.6|\n",
       "  4|2021-04-23|  Sandra|      Geladeira|   8|313.0|\n",
       "  5|2021-05-23|  Tereza|       FRIGOBAR|   3|412.0|\n",
       "  7|2021-07-25|   Sofia|        CADEIRA|   1|342.3|\n",
       "  3|2021-04-21|   Sofia|        FREEZER|   7|415.4|\n",
       "  6|2021-06-25|   Carla|           MESA|   1|124.0|\n",
       "+---+----------+--------+---------------+----+-----+\n",
       "\n",
       "</div>"
      ]
     },
     "metadata": {
      "application/vnd.databricks.v1+output": {
       "addedWidgets": {},
       "arguments": {},
       "data": "<div class=\"ansiout\">+---+----------+--------+---------------+----+-----+\n| id|date_order|customer|        product|unit|price|\n+---+----------+--------+---------------+----+-----+\n|  2|2021-03-22|     Ana|AR-CONDICIONADO|   6|121.6|\n|  4|2021-04-23|  Sandra|      Geladeira|   8|313.0|\n|  5|2021-05-23|  Tereza|       FRIGOBAR|   3|412.0|\n|  7|2021-07-25|   Sofia|        CADEIRA|   1|342.3|\n|  3|2021-04-21|   Sofia|        FREEZER|   7|415.4|\n|  6|2021-06-25|   Carla|           MESA|   1|124.0|\n+---+----------+--------+---------------+----+-----+\n\n</div>",
       "datasetInfos": [],
       "metadata": {
        "isDbfsCommandResult": false
       },
       "removedWidgets": [],
       "type": "html"
      }
     },
     "output_type": "display_data"
    }
   ],
   "source": [
    "%scala\n",
    "spark.sql(\"select * from compras\").show();"
   ]
  }
 ],
 "metadata": {
  "application/vnd.databricks.v1+notebook": {
   "dashboards": [],
   "environmentMetadata": null,
   "language": "python",
   "notebookMetadata": {
    "mostRecentlyExecutedCommandWithImplicitDF": {
     "commandId": 2540306768249933,
     "dataframes": [
      "_sqldf"
     ]
    },
    "pythonIndentUnit": 4
   },
   "notebookName": "Carga Dados Compras",
   "widgets": {}
  }
 },
 "nbformat": 4,
 "nbformat_minor": 0
}
