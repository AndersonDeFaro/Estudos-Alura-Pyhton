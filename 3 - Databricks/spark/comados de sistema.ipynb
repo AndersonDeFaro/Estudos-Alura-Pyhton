{
 "cells": [
  {
   "cell_type": "code",
   "execution_count": 0,
   "metadata": {
    "application/vnd.databricks.v1+cell": {
     "cellMetadata": {
      "byteLimit": 2048000,
      "rowLimit": 10000
     },
     "inputWidgets": {},
     "nuid": "554214ea-63b9-4801-b4ff-9684e2abc27e",
     "showTitle": false,
     "title": ""
    }
   },
   "outputs": [
    {
     "output_type": "display_data",
     "data": {
      "text/html": [
       "<style scoped>\n",
       "  .table-result-container {\n",
       "    max-height: 300px;\n",
       "    overflow: auto;\n",
       "  }\n",
       "  table, th, td {\n",
       "    border: 1px solid black;\n",
       "    border-collapse: collapse;\n",
       "  }\n",
       "  th, td {\n",
       "    padding: 5px;\n",
       "  }\n",
       "  th {\n",
       "    text-align: left;\n",
       "  }\n",
       "</style><div class='table-result-container'><table class='table-result'><thead style='background-color: white'><tr><th>path</th><th>name</th><th>size</th></tr></thead><tbody><tr><td>dbfs:/FileStore/tables/JSON/</td><td>JSON/</td><td>0</td></tr><tr><td>dbfs:/FileStore/tables/arquivo/</td><td>arquivo/</td><td>0</td></tr><tr><td>dbfs:/FileStore/tables/arquivos_curso/</td><td>arquivos_curso/</td><td>0</td></tr><tr><td>dbfs:/FileStore/tables/aula-databricks/</td><td>aula-databricks/</td><td>0</td></tr><tr><td>dbfs:/FileStore/tables/carga/</td><td>carga/</td><td>0</td></tr><tr><td>dbfs:/FileStore/tables/parquet/</td><td>parquet/</td><td>0</td></tr></tbody></table></div>"
      ]
     },
     "metadata": {
      "application/vnd.databricks.v1+output": {
       "addedWidgets": {},
       "aggData": [],
       "aggError": "",
       "aggOverflow": false,
       "aggSchema": [],
       "aggSeriesLimitReached": false,
       "aggType": "",
       "arguments": {},
       "columnCustomDisplayInfos": {},
       "data": [
        [
         "dbfs:/FileStore/tables/JSON/",
         "JSON/",
         0
        ],
        [
         "dbfs:/FileStore/tables/arquivo/",
         "arquivo/",
         0
        ],
        [
         "dbfs:/FileStore/tables/arquivos_curso/",
         "arquivos_curso/",
         0
        ],
        [
         "dbfs:/FileStore/tables/aula-databricks/",
         "aula-databricks/",
         0
        ],
        [
         "dbfs:/FileStore/tables/carga/",
         "carga/",
         0
        ],
        [
         "dbfs:/FileStore/tables/parquet/",
         "parquet/",
         0
        ]
       ],
       "datasetInfos": [],
       "dbfsResultPath": null,
       "isJsonSchema": true,
       "metadata": {
        "isDbfsCommandResult": false
       },
       "overflow": false,
       "plotOptions": {
        "customPlotOptions": {},
        "displayType": "table",
        "pivotAggregation": null,
        "pivotColumns": null,
        "xColumns": null,
        "yColumns": null
       },
       "removedWidgets": [],
       "schema": [
        {
         "metadata": "{}",
         "name": "path",
         "type": "\"string\""
        },
        {
         "metadata": "{}",
         "name": "name",
         "type": "\"string\""
        },
        {
         "metadata": "{}",
         "name": "size",
         "type": "\"long\""
        }
       ],
       "type": "table"
      }
     },
     "output_type": "display_data"
    }
   ],
   "source": [
    "# Todo comando linux para rodar no Databricks basta colocar\n",
    "# o prefixo \"%fs\" ex: \n",
    "# %fs ls \n",
    "# %fs mkdir\n",
    "# %fs rm OU %fs rm -r\n",
    "# entre outros\n",
    "%fs ls /FileStore/tables"
   ]
  },
  {
   "cell_type": "code",
   "execution_count": 0,
   "metadata": {
    "application/vnd.databricks.v1+cell": {
     "cellMetadata": {
      "byteLimit": 2048000,
      "rowLimit": 10000
     },
     "inputWidgets": {},
     "nuid": "ac013425-74bb-4434-a153-cc06c031ab87",
     "showTitle": false,
     "title": ""
    }
   },
   "outputs": [
    {
     "output_type": "stream",
     "name": "stdout",
     "output_type": "stream",
     "text": [
      "/databricks/python3/lib/python3.8/site-packages/statsmodels/tsa/statespace/tests/results/cfa_tvpvar_S10.csv\n/databricks/python3/lib/python3.8/site-packages/statsmodels/tsa/statespace/tests/results/cfa_tvpvar_posterior_mean.csv\n/databricks/python3/lib/python3.8/site-packages/statsmodels/tsa/statespace/tests/results/cfa_tvpvar_Omega_11.csv\n/databricks/python3/lib/python3.8/site-packages/statsmodels/tsa/statespace/tests/results/results_dynamic_factor_stata.csv\n/databricks/python3/lib/python3.8/site-packages/statsmodels/tsa/statespace/tests/results/cfa_tvpvar_invP.csv\n/databricks/python3/lib/python3.8/site-packages/statsmodels/tsa/statespace/tests/results/cfa_tvpvar_beta.csv\n/databricks/python3/lib/python3.8/site-packages/statsmodels/tsa/statespace/tests/results/cfa_tvpvar_Omega_22.csv\n/databricks/python3/lib/python3.8/site-packages/statsmodels/tsa/statespace/tests/results/cfa_tvpvar_vi0.csv\n/databricks/python3/lib/python3.8/site-packages/statsmodels/tsa/statespace/tests/results/cfa_tvpvar_v10.csv\n/databricks/python3/lib/python3.8/site-packages/statsmodels/tsa/statespace/tests/results/cfa_tvpvar_Si0.csv\n/databricks/python3/lib/python3.8/site-packages/statsmodels/tsa/statespace/tests/results/cfa_tvpvar_state_variates.csv\n/databricks/python3/lib/python3.8/site-packages/statsmodels/multivariate/tests/results/factor_data.csv\n/databricks/python3/lib/python3.8/site-packages/statsmodels/multivariate/tests/results/factors_stata.csv\n/databricks/python3/lib/python3.8/site-packages/statsmodels/datasets/fair/fair.csv\n/databricks/python3/lib/python3.8/site-packages/statsmodels/datasets/fair/fair_pt.csv\n"
     ]
    }
   ],
   "source": [
    "# Execução de scripts linux\n",
    "# Basta colocar a nomenclatura inicial: %%bash\n",
    "\n",
    "%%bash \n",
    "find /databricks -name \"*.csv\" | grep \"fa\""
   ]
  },
  {
   "cell_type": "code",
   "execution_count": 0,
   "metadata": {
    "application/vnd.databricks.v1+cell": {
     "cellMetadata": {
      "byteLimit": 2048000,
      "rowLimit": 10000
     },
     "inputWidgets": {},
     "nuid": "5919986d-94d7-42af-b740-ae6383df67db",
     "showTitle": false,
     "title": ""
    }
   },
   "outputs": [
    {
     "output_type": "stream",
     "name": "stdout",
     "output_type": "stream",
     "text": [
      "\n*/15 * * * * /databricks/spark/scripts/ganglia/save_snapshot.sh\n@hourly /databricks/spark/scripts/ganglia/remove_old_ganglia_rrds.sh 24 &> /var/log/rrd_cleanup.log\n"
     ]
    }
   ],
   "source": [
    "%%bash\n",
    "crontab -l"
   ]
  },
  {
   "cell_type": "code",
   "execution_count": 0,
   "metadata": {
    "application/vnd.databricks.v1+cell": {
     "cellMetadata": {
      "byteLimit": 2048000,
      "rowLimit": 10000
     },
     "inputWidgets": {},
     "nuid": "5cc79309-9203-48ac-9121-94aa15b44a2a",
     "showTitle": false,
     "title": ""
    }
   },
   "outputs": [
    {
     "output_type": "stream",
     "name": "stdout",
     "output_type": "stream",
     "text": [
      "openjdk version \"1.8.0_362\"\nOpenJDK Runtime Environment (Zulu 8.68.0.21-CA-linux64) (build 1.8.0_362-b09)\nOpenJDK 64-Bit Server VM (Zulu 8.68.0.21-CA-linux64) (build 25.362-b09, mixed mode)\n"
     ]
    }
   ],
   "source": [
    "%%bash\n",
    "java -version"
   ]
  },
  {
   "cell_type": "code",
   "execution_count": 0,
   "metadata": {
    "application/vnd.databricks.v1+cell": {
     "cellMetadata": {},
     "inputWidgets": {},
     "nuid": "408d56b9-b44a-4e1a-84e8-255be04a4660",
     "showTitle": false,
     "title": ""
    }
   },
   "outputs": [],
   "source": []
  }
 ],
 "metadata": {
  "application/vnd.databricks.v1+notebook": {
   "dashboards": [],
   "environmentMetadata": null,
   "language": "python",
   "notebookMetadata": {
    "mostRecentlyExecutedCommandWithImplicitDF": {
     "commandId": 2668405855156910,
     "dataframes": [
      "_sqldf"
     ]
    },
    "pythonIndentUnit": 4
   },
   "notebookName": "comados de sistema",
   "widgets": {}
  }
 },
 "nbformat": 4,
 "nbformat_minor": 0
}
