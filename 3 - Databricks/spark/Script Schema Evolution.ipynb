{
 "cells": [
  {
   "cell_type": "markdown",
   "metadata": {
    "application/vnd.databricks.v1+cell": {
     "cellMetadata": {},
     "inputWidgets": {},
     "nuid": "4d2b6184-0e52-4f6f-88ce-ffece536badb",
     "showTitle": false,
     "title": ""
    }
   },
   "source": [
    "## Criando o primeiro dataframe com dados, com os campos (Funcionario,Salario)"
   ]
  },
  {
   "cell_type": "code",
   "execution_count": 0,
   "metadata": {
    "application/vnd.databricks.v1+cell": {
     "cellMetadata": {
      "byteLimit": 2048000,
      "rowLimit": 10000
     },
     "inputWidgets": {},
     "nuid": "f8d3c43e-fb25-485b-b6d3-161a6e08e3d8",
     "showTitle": false,
     "title": ""
    }
   },
   "outputs": [
    {
     "output_type": "display_data",
     "data": {
      "text/html": [
       "<style scoped>\n",
       "  .table-result-container {\n",
       "    max-height: 300px;\n",
       "    overflow: auto;\n",
       "  }\n",
       "  table, th, td {\n",
       "    border: 1px solid black;\n",
       "    border-collapse: collapse;\n",
       "  }\n",
       "  th, td {\n",
       "    padding: 5px;\n",
       "  }\n",
       "  th {\n",
       "    text-align: left;\n",
       "  }\n",
       "</style><div class='table-result-container'><table class='table-result'><thead style='background-color: white'><tr><th>Funcionario</th><th>Salario</th></tr></thead><tbody><tr><td>Joao Santos</td><td>2000</td></tr><tr><td>Carlos Fernandez</td><td>3400</td></tr></tbody></table></div>"
      ]
     },
     "metadata": {
      "application/vnd.databricks.v1+output": {
       "addedWidgets": {},
       "aggData": [],
       "aggError": "",
       "aggOverflow": false,
       "aggSchema": [],
       "aggSeriesLimitReached": false,
       "aggType": "",
       "arguments": {},
       "columnCustomDisplayInfos": {},
       "data": [
        [
         "Joao Santos",
         2000
        ],
        [
         "Carlos Fernandez",
         3400
        ]
       ],
       "datasetInfos": [],
       "dbfsResultPath": null,
       "isJsonSchema": true,
       "metadata": {},
       "overflow": false,
       "plotOptions": {
        "customPlotOptions": {},
        "displayType": "table",
        "pivotAggregation": null,
        "pivotColumns": null,
        "xColumns": null,
        "yColumns": null
       },
       "removedWidgets": [],
       "schema": [
        {
         "metadata": "{}",
         "name": "Funcionario",
         "type": "\"string\""
        },
        {
         "metadata": "{}",
         "name": "Salario",
         "type": "\"long\""
        }
       ],
       "type": "table"
      }
     },
     "output_type": "display_data"
    },
    {
     "output_type": "stream",
     "name": "stdout",
     "output_type": "stream",
     "text": [
      "root\n |-- Funcionario: string (nullable = true)\n |-- Salario: long (nullable = true)\n\n"
     ]
    }
   ],
   "source": [
    "%python\n",
    "empresa1 = spark.createDataFrame(\n",
    "[\n",
    "(\"Joao Santos\",2000),\n",
    "(\"Carlos Fernandez\",3400)\n",
    "],['Funcionario', 'Salario'] )\n",
    "display(empresa1)\n",
    "empresa1.printSchema()"
   ]
  },
  {
   "cell_type": "markdown",
   "metadata": {
    "application/vnd.databricks.v1+cell": {
     "cellMetadata": {},
     "inputWidgets": {},
     "nuid": "f377a8bb-c6dc-4009-abe5-d66d956146da",
     "showTitle": false,
     "title": ""
    }
   },
   "source": [
    "## Setado caminho, armazenando em um atributo"
   ]
  },
  {
   "cell_type": "code",
   "execution_count": 0,
   "metadata": {
    "application/vnd.databricks.v1+cell": {
     "cellMetadata": {
      "byteLimit": 2048000,
      "rowLimit": 10000
     },
     "inputWidgets": {},
     "nuid": "0ccd0f92-6d85-43a6-9238-d3503d2bc452",
     "showTitle": false,
     "title": ""
    }
   },
   "outputs": [],
   "source": [
    "%python\n",
    "parquetpath = \"dbfs:/FileStore/tables/delta/schema_evolution/parquet\""
   ]
  },
  {
   "cell_type": "markdown",
   "metadata": {
    "application/vnd.databricks.v1+cell": {
     "cellMetadata": {},
     "inputWidgets": {},
     "nuid": "aab8e145-fe1c-4630-8ffb-ced6f4260cd9",
     "showTitle": false,
     "title": ""
    }
   },
   "source": [
    "## Criando arquivos parquet com base no primeiro dataframe"
   ]
  },
  {
   "cell_type": "code",
   "execution_count": 0,
   "metadata": {
    "application/vnd.databricks.v1+cell": {
     "cellMetadata": {
      "byteLimit": 2048000,
      "rowLimit": 10000
     },
     "inputWidgets": {},
     "nuid": "c0e697dc-7b04-4fe0-aa04-6838d711161f",
     "showTitle": false,
     "title": ""
    }
   },
   "outputs": [
    {
     "output_type": "stream",
     "name": "stdout",
     "output_type": "stream",
     "text": [
      "+----------------+-------+\n|     Funcionario|Salario|\n+----------------+-------+\n|Carlos Fernandez|   3400|\n|     Joao Santos|   2000|\n+----------------+-------+\n\n"
     ]
    }
   ],
   "source": [
    "%python\n",
    "(\n",
    "empresa1\n",
    ".write\n",
    ".format(\"parquet\")\n",
    ".save(\"/FileStore/tables/delta/schema_evolution/parquet\")\n",
    ")\n",
    "spark.read.parquet(parquetpath).show()"
   ]
  },
  {
   "cell_type": "markdown",
   "metadata": {
    "application/vnd.databricks.v1+cell": {
     "cellMetadata": {},
     "inputWidgets": {},
     "nuid": "6d60a092-0398-4be3-9a04-f468446e49bc",
     "showTitle": false,
     "title": ""
    }
   },
   "source": [
    "## Criando o segundo dataframe com dados, acrescentando novos campos (Setor,Comissao)"
   ]
  },
  {
   "cell_type": "code",
   "execution_count": 0,
   "metadata": {
    "application/vnd.databricks.v1+cell": {
     "cellMetadata": {
      "byteLimit": 2048000,
      "rowLimit": 10000
     },
     "inputWidgets": {},
     "nuid": "6eb2bc64-e752-4f19-a000-c449e0585e79",
     "showTitle": false,
     "title": ""
    }
   },
   "outputs": [
    {
     "output_type": "display_data",
     "data": {
      "text/html": [
       "<style scoped>\n",
       "  .table-result-container {\n",
       "    max-height: 300px;\n",
       "    overflow: auto;\n",
       "  }\n",
       "  table, th, td {\n",
       "    border: 1px solid black;\n",
       "    border-collapse: collapse;\n",
       "  }\n",
       "  th, td {\n",
       "    padding: 5px;\n",
       "  }\n",
       "  th {\n",
       "    text-align: left;\n",
       "  }\n",
       "</style><div class='table-result-container'><table class='table-result'><thead style='background-color: white'><tr><th>Setor</th><th>Comissao</th></tr></thead><tbody><tr><td>Financeiro</td><td>240</td></tr><tr><td>Marketing</td><td>540</td></tr></tbody></table></div>"
      ]
     },
     "metadata": {
      "application/vnd.databricks.v1+output": {
       "addedWidgets": {},
       "aggData": [],
       "aggError": "",
       "aggOverflow": false,
       "aggSchema": [],
       "aggSeriesLimitReached": false,
       "aggType": "",
       "arguments": {},
       "columnCustomDisplayInfos": {},
       "data": [
        [
         "Financeiro",
         240
        ],
        [
         "Marketing",
         540
        ]
       ],
       "datasetInfos": [],
       "dbfsResultPath": null,
       "isJsonSchema": true,
       "metadata": {},
       "overflow": false,
       "plotOptions": {
        "customPlotOptions": {},
        "displayType": "table",
        "pivotAggregation": null,
        "pivotColumns": null,
        "xColumns": null,
        "yColumns": null
       },
       "removedWidgets": [],
       "schema": [
        {
         "metadata": "{}",
         "name": "Setor",
         "type": "\"string\""
        },
        {
         "metadata": "{}",
         "name": "Comissao",
         "type": "\"long\""
        }
       ],
       "type": "table"
      }
     },
     "output_type": "display_data"
    },
    {
     "output_type": "stream",
     "name": "stdout",
     "output_type": "stream",
     "text": [
      "root\n |-- Setor: string (nullable = true)\n |-- Comissao: long (nullable = true)\n\n"
     ]
    }
   ],
   "source": [
    "%python\n",
    "empresa2 = spark.createDataFrame(\n",
    "[\n",
    "(\"Financeiro\",240),\n",
    "(\"Marketing\",540)\n",
    "],['Setor', 'Comissao'] )\n",
    "display(empresa2)\n",
    "empresa2.printSchema()"
   ]
  },
  {
   "cell_type": "markdown",
   "metadata": {
    "application/vnd.databricks.v1+cell": {
     "cellMetadata": {},
     "inputWidgets": {},
     "nuid": "d14ca7f3-fd42-47e2-9eb4-2845c14badeb",
     "showTitle": false,
     "title": ""
    }
   },
   "source": [
    "## Apesar de colocar \"append\"no parquet, não houve evolução do esquema, as colunas foram substituídas"
   ]
  },
  {
   "cell_type": "code",
   "execution_count": 0,
   "metadata": {
    "application/vnd.databricks.v1+cell": {
     "cellMetadata": {
      "byteLimit": 2048000,
      "rowLimit": 10000
     },
     "inputWidgets": {},
     "nuid": "6478038f-cfd0-4565-ba75-796afffc26b7",
     "showTitle": false,
     "title": ""
    }
   },
   "outputs": [
    {
     "output_type": "stream",
     "name": "stdout",
     "output_type": "stream",
     "text": [
      "+----------+--------+\n|     Setor|Comissao|\n+----------+--------+\n|      null|    null|\n|      null|    null|\n|Financeiro|     240|\n| Marketing|     540|\n+----------+--------+\n\n"
     ]
    }
   ],
   "source": [
    "%python\n",
    "empresa2.write.mode(\"append\").parquet(parquetpath)\n",
    "spark.read.parquet(parquetpath).show()"
   ]
  },
  {
   "cell_type": "markdown",
   "metadata": {
    "application/vnd.databricks.v1+cell": {
     "cellMetadata": {},
     "inputWidgets": {},
     "nuid": "02d4b66d-234e-414d-8372-556c5c18f161",
     "showTitle": false,
     "title": ""
    }
   },
   "source": [
    "##Vamos gerar o Schema Evolution com as tabelas Delta"
   ]
  },
  {
   "cell_type": "code",
   "execution_count": 0,
   "metadata": {
    "application/vnd.databricks.v1+cell": {
     "cellMetadata": {
      "byteLimit": 2048000,
      "rowLimit": 10000
     },
     "inputWidgets": {},
     "nuid": "49074620-79f9-431c-b20d-f4539f581836",
     "showTitle": false,
     "title": ""
    }
   },
   "outputs": [
    {
     "output_type": "stream",
     "name": "stdout",
     "output_type": "stream",
     "text": [
      "+----------------+-------+\n|     Funcionario|Salario|\n+----------------+-------+\n|Carlos Fernandez|   3400|\n|     Joao Santos|   2000|\n+----------------+-------+\n\n"
     ]
    }
   ],
   "source": [
    "%python\n",
    "deltapath = \"/FileStore/tables/delta/schema_evolution/delta\"\n",
    "(\n",
    "empresa1\n",
    ".write\n",
    ".format(\"delta\")\n",
    ".save(\"/FileStore/tables/delta/schema_evolution/delta\")\n",
    ")\n",
    "spark.read.format(\"delta\").load(deltapath).show()"
   ]
  },
  {
   "cell_type": "markdown",
   "metadata": {
    "application/vnd.databricks.v1+cell": {
     "cellMetadata": {},
     "inputWidgets": {},
     "nuid": "1cb8c6d0-2c9e-4e24-9b81-6f0fec9fd293",
     "showTitle": false,
     "title": ""
    }
   },
   "source": [
    "##Vamos realizar um \"merge\" entre os dataframes, note que agora conseguirá realizar a junção entre os schemas. Os dados inexistentes foram acrescidos de nulos"
   ]
  },
  {
   "cell_type": "code",
   "execution_count": 0,
   "metadata": {
    "application/vnd.databricks.v1+cell": {
     "cellMetadata": {
      "byteLimit": 2048000,
      "rowLimit": 10000
     },
     "inputWidgets": {},
     "nuid": "a03255a4-da3b-40e3-9bde-8afd07fb1a20",
     "showTitle": false,
     "title": ""
    }
   },
   "outputs": [
    {
     "output_type": "stream",
     "name": "stdout",
     "output_type": "stream",
     "text": [
      "+----------------+-------+----------+--------+\n|     Funcionario|Salario|     Setor|Comissao|\n+----------------+-------+----------+--------+\n|Carlos Fernandez|   3400|      null|    null|\n|     Joao Santos|   2000|      null|    null|\n|            null|   null|Financeiro|     240|\n|            null|   null| Marketing|     540|\n+----------------+-------+----------+--------+\n\n"
     ]
    }
   ],
   "source": [
    "%python\n",
    "(\n",
    "empresa2\n",
    ".write\n",
    ".format(\"delta\")\n",
    ".mode(\"append\")\n",
    ".option(\"mergeSchema\", \"true\")\n",
    ".save(deltapath)\n",
    ")\n",
    "spark.read.format(\"delta\").load(deltapath).show()"
   ]
  },
  {
   "cell_type": "markdown",
   "metadata": {
    "application/vnd.databricks.v1+cell": {
     "cellMetadata": {},
     "inputWidgets": {},
     "nuid": "5d644c19-1df5-46f3-9f1b-0462703ec396",
     "showTitle": false,
     "title": ""
    }
   },
   "source": [
    "##Vamos inserir novos dados e aplicar o \"append\" para verificar como funcionará a inserção"
   ]
  },
  {
   "cell_type": "code",
   "execution_count": 0,
   "metadata": {
    "application/vnd.databricks.v1+cell": {
     "cellMetadata": {
      "byteLimit": 2048000,
      "rowLimit": 10000
     },
     "inputWidgets": {},
     "nuid": "d1d65e22-0331-4c36-bc8e-b25116685a13",
     "showTitle": false,
     "title": ""
    }
   },
   "outputs": [],
   "source": [
    "%python\n",
    "empresa3 = spark.createDataFrame(\n",
    "[\n",
    "(\"Sandra Lemos\",672),\n",
    "(\"Carla Soares\",966),\n",
    "],\n",
    "['Funcionario', 'Comissao']\n",
    ")"
   ]
  },
  {
   "cell_type": "markdown",
   "metadata": {
    "application/vnd.databricks.v1+cell": {
     "cellMetadata": {},
     "inputWidgets": {},
     "nuid": "1ec7fd6d-5231-4ddf-a0c5-24b82cf68ca4",
     "showTitle": false,
     "title": ""
    }
   },
   "source": [
    "## Vamos acrescentar dados mais dados e verificar a inclusão apenas de alguns campos"
   ]
  },
  {
   "cell_type": "code",
   "execution_count": 0,
   "metadata": {
    "application/vnd.databricks.v1+cell": {
     "cellMetadata": {
      "byteLimit": 2048000,
      "rowLimit": 10000
     },
     "inputWidgets": {},
     "nuid": "952bf96a-0a0a-46f2-8808-587892dd3dca",
     "showTitle": false,
     "title": ""
    }
   },
   "outputs": [
    {
     "output_type": "stream",
     "name": "stdout",
     "output_type": "stream",
     "text": [
      "+----------------+-------+----------+--------+\n|     Funcionario|Salario|     Setor|Comissao|\n+----------------+-------+----------+--------+\n|Carlos Fernandez|   3400|      null|    null|\n|    Sandra Lemos|   null|      null|     672|\n|    Carla Soares|   null|      null|     966|\n|     Joao Santos|   2000|      null|    null|\n|            null|   null|Financeiro|     240|\n|            null|   null| Marketing|     540|\n+----------------+-------+----------+--------+\n\n"
     ]
    }
   ],
   "source": [
    "%python\n",
    "(\n",
    "empresa3\n",
    ".write\n",
    ".format(\"delta\")\n",
    ".mode(\"append\")\n",
    ".option(\"mergeSchema\", \"true\")\n",
    ".save(deltapath)\n",
    ")\n",
    "spark.read.format(\"delta\").load(deltapath).show()"
   ]
  },
  {
   "cell_type": "markdown",
   "metadata": {
    "application/vnd.databricks.v1+cell": {
     "cellMetadata": {},
     "inputWidgets": {},
     "nuid": "c75358fb-7224-4bd8-95c2-3b00b7ef35bc",
     "showTitle": false,
     "title": ""
    }
   },
   "source": [
    "##Vamos fazer sobregravação dos formatos delta, variando os modos , quando o merge está ativo \"option=mergeSchema, mode=overwrite\""
   ]
  },
  {
   "cell_type": "code",
   "execution_count": 0,
   "metadata": {
    "application/vnd.databricks.v1+cell": {
     "cellMetadata": {
      "byteLimit": 2048000,
      "rowLimit": 10000
     },
     "inputWidgets": {},
     "nuid": "475b2597-7bc0-43eb-b553-0f64b2caa7c2",
     "showTitle": false,
     "title": ""
    }
   },
   "outputs": [
    {
     "output_type": "stream",
     "name": "stdout",
     "output_type": "stream",
     "text": [
      "+------------+-------+-----+--------+\n| Funcionario|Salario|Setor|Comissao|\n+------------+-------+-----+--------+\n|Sandra Lemos|   null| null|     672|\n|Carla Soares|   null| null|     966|\n+------------+-------+-----+--------+\n\n"
     ]
    }
   ],
   "source": [
    "%python\n",
    "(\n",
    "empresa3\n",
    ".write\n",
    ".format(\"delta\")\n",
    ".mode(\"overwrite\")\n",
    ".option(\"mergeSchema\", \"true\")\n",
    ".save(deltapath)\n",
    ")\n",
    "spark.read.format(\"delta\").load(deltapath).show()"
   ]
  },
  {
   "cell_type": "markdown",
   "metadata": {
    "application/vnd.databricks.v1+cell": {
     "cellMetadata": {},
     "inputWidgets": {},
     "nuid": "72b6dd7d-46ed-40a7-a080-798826bd52a7",
     "showTitle": false,
     "title": ""
    }
   },
   "source": [
    "## Vamos sobrescrever toda a tabela, perceba as mudancas dos campos que ficaram e dos registros. \"option=overwriteschema , mode=overwrite\""
   ]
  },
  {
   "cell_type": "code",
   "execution_count": 0,
   "metadata": {
    "application/vnd.databricks.v1+cell": {
     "cellMetadata": {
      "byteLimit": 2048000,
      "rowLimit": 10000
     },
     "inputWidgets": {},
     "nuid": "8816b413-eec1-4796-8d2f-942ce7070565",
     "showTitle": false,
     "title": ""
    }
   },
   "outputs": [
    {
     "output_type": "stream",
     "name": "stdout",
     "output_type": "stream",
     "text": [
      "+------------+--------+\n| Funcionario|Comissao|\n+------------+--------+\n|Sandra Lemos|     672|\n|Carla Soares|     966|\n+------------+--------+\n\n"
     ]
    }
   ],
   "source": [
    "%python\n",
    "(\n",
    "empresa3\n",
    ".write\n",
    ".format(\"delta\")\n",
    ".option(\"overwriteSchema\", \"true\")\n",
    ".mode(\"overwrite\")\n",
    ".save(deltapath)\n",
    ")\n",
    "spark.read.format(\"delta\").load(deltapath).show()"
   ]
  },
  {
   "cell_type": "markdown",
   "metadata": {
    "application/vnd.databricks.v1+cell": {
     "cellMetadata": {},
     "inputWidgets": {},
     "nuid": "0a59933d-656f-47db-bff0-3e4878f6592c",
     "showTitle": false,
     "title": ""
    }
   },
   "source": [
    "## Vamos criar uma tabela delta com referência aos parquet (delta) criados"
   ]
  },
  {
   "cell_type": "code",
   "execution_count": 0,
   "metadata": {
    "application/vnd.databricks.v1+cell": {
     "cellMetadata": {
      "byteLimit": 2048000,
      "implicitDf": true,
      "rowLimit": 10000
     },
     "inputWidgets": {},
     "nuid": "6dd0326a-71e4-4850-b64f-720f9562064b",
     "showTitle": false,
     "title": ""
    }
   },
   "outputs": [
    {
     "output_type": "display_data",
     "data": {
      "text/html": [
       "<style scoped>\n",
       "  .table-result-container {\n",
       "    max-height: 300px;\n",
       "    overflow: auto;\n",
       "  }\n",
       "  table, th, td {\n",
       "    border: 1px solid black;\n",
       "    border-collapse: collapse;\n",
       "  }\n",
       "  th, td {\n",
       "    padding: 5px;\n",
       "  }\n",
       "  th {\n",
       "    text-align: left;\n",
       "  }\n",
       "</style><div class='table-result-container'><table class='table-result'><thead style='background-color: white'><tr></tr></thead><tbody></tbody></table></div>"
      ]
     },
     "metadata": {
      "application/vnd.databricks.v1+output": {
       "addedWidgets": {},
       "aggData": [],
       "aggError": "",
       "aggOverflow": false,
       "aggSchema": [],
       "aggSeriesLimitReached": false,
       "aggType": "",
       "arguments": {},
       "columnCustomDisplayInfos": {},
       "data": [],
       "datasetInfos": [],
       "dbfsResultPath": null,
       "isJsonSchema": true,
       "metadata": {},
       "overflow": false,
       "plotOptions": {
        "customPlotOptions": {},
        "displayType": "table",
        "pivotAggregation": null,
        "pivotColumns": null,
        "xColumns": null,
        "yColumns": null
       },
       "removedWidgets": [],
       "schema": [],
       "type": "table"
      }
     },
     "output_type": "display_data"
    }
   ],
   "source": [
    "%sql\n",
    "CREATE TABLE tab_empresa(\n",
    "Funcionario STRING,\n",
    "Comissao long\n",
    ")\n",
    "USING delta\n",
    "LOCATION \"/FileStore/tables/delta/schema_evolution/delta\""
   ]
  },
  {
   "cell_type": "markdown",
   "metadata": {
    "application/vnd.databricks.v1+cell": {
     "cellMetadata": {},
     "inputWidgets": {},
     "nuid": "2736394e-bc63-4ab7-a906-1bc180d37379",
     "showTitle": false,
     "title": ""
    }
   },
   "source": [
    "## Vamos listar o histórico gerado de todas as nossas mudanças"
   ]
  },
  {
   "cell_type": "code",
   "execution_count": 0,
   "metadata": {
    "application/vnd.databricks.v1+cell": {
     "cellMetadata": {
      "byteLimit": 2048000,
      "implicitDf": true,
      "rowLimit": 10000
     },
     "inputWidgets": {},
     "nuid": "d9965727-ef90-4f91-9481-cab0991040b6",
     "showTitle": false,
     "title": ""
    }
   },
   "outputs": [
    {
     "output_type": "display_data",
     "data": {
      "text/html": [
       "<style scoped>\n",
       "  .table-result-container {\n",
       "    max-height: 300px;\n",
       "    overflow: auto;\n",
       "  }\n",
       "  table, th, td {\n",
       "    border: 1px solid black;\n",
       "    border-collapse: collapse;\n",
       "  }\n",
       "  th, td {\n",
       "    padding: 5px;\n",
       "  }\n",
       "  th {\n",
       "    text-align: left;\n",
       "  }\n",
       "</style><div class='table-result-container'><table class='table-result'><thead style='background-color: white'><tr><th>version</th><th>timestamp</th><th>userId</th><th>userName</th><th>operation</th><th>operationParameters</th><th>job</th><th>notebook</th><th>clusterId</th><th>readVersion</th><th>isolationLevel</th><th>isBlindAppend</th><th>operationMetrics</th><th>userMetadata</th><th>engineInfo</th></tr></thead><tbody><tr><td>4</td><td>2023-07-27T00:34:37.000+0000</td><td>3749819615057738</td><td>andersonfaro@gmail.com</td><td>WRITE</td><td>Map(mode -> Overwrite, partitionBy -> [])</td><td>null</td><td>List(1243705193155246)</td><td>0726-224338-nu3hhmdt</td><td>3</td><td>WriteSerializable</td><td>false</td><td>Map(numFiles -> 2, numOutputRows -> 2, numOutputBytes -> 1858)</td><td>null</td><td>Databricks-Runtime/10.4.x-scala2.12</td></tr><tr><td>3</td><td>2023-07-27T00:33:49.000+0000</td><td>3749819615057738</td><td>andersonfaro@gmail.com</td><td>WRITE</td><td>Map(mode -> Overwrite, partitionBy -> [])</td><td>null</td><td>List(1243705193155246)</td><td>0726-224338-nu3hhmdt</td><td>2</td><td>WriteSerializable</td><td>false</td><td>Map(numFiles -> 2, numOutputRows -> 2, numOutputBytes -> 1858)</td><td>null</td><td>Databricks-Runtime/10.4.x-scala2.12</td></tr><tr><td>2</td><td>2023-07-27T00:32:40.000+0000</td><td>3749819615057738</td><td>andersonfaro@gmail.com</td><td>WRITE</td><td>Map(mode -> Append, partitionBy -> [])</td><td>null</td><td>List(1243705193155246)</td><td>0726-224338-nu3hhmdt</td><td>1</td><td>WriteSerializable</td><td>true</td><td>Map(numFiles -> 2, numOutputRows -> 2, numOutputBytes -> 1858)</td><td>null</td><td>Databricks-Runtime/10.4.x-scala2.12</td></tr><tr><td>1</td><td>2023-07-27T00:31:24.000+0000</td><td>3749819615057738</td><td>andersonfaro@gmail.com</td><td>WRITE</td><td>Map(mode -> Append, partitionBy -> [])</td><td>null</td><td>List(1243705193155246)</td><td>0726-224338-nu3hhmdt</td><td>0</td><td>WriteSerializable</td><td>true</td><td>Map(numFiles -> 2, numOutputRows -> 2, numOutputBytes -> 1786)</td><td>null</td><td>Databricks-Runtime/10.4.x-scala2.12</td></tr><tr><td>0</td><td>2023-07-27T00:29:38.000+0000</td><td>3749819615057738</td><td>andersonfaro@gmail.com</td><td>WRITE</td><td>Map(mode -> ErrorIfExists, partitionBy -> [])</td><td>null</td><td>List(1243705193155246)</td><td>0726-224338-nu3hhmdt</td><td>null</td><td>WriteSerializable</td><td>true</td><td>Map(numFiles -> 2, numOutputRows -> 2, numOutputBytes -> 1873)</td><td>null</td><td>Databricks-Runtime/10.4.x-scala2.12</td></tr></tbody></table></div>"
      ]
     },
     "metadata": {
      "application/vnd.databricks.v1+output": {
       "addedWidgets": {},
       "aggData": [],
       "aggError": "",
       "aggOverflow": false,
       "aggSchema": [],
       "aggSeriesLimitReached": false,
       "aggType": "",
       "arguments": {},
       "columnCustomDisplayInfos": {},
       "data": [
        [
         4,
         "2023-07-27T00:34:37.000+0000",
         "3749819615057738",
         "andersonfaro@gmail.com",
         "WRITE",
         {
          "mode": "Overwrite",
          "partitionBy": "[]"
         },
         null,
         [
          "1243705193155246"
         ],
         "0726-224338-nu3hhmdt",
         3,
         "WriteSerializable",
         false,
         {
          "numFiles": "2",
          "numOutputBytes": "1858",
          "numOutputRows": "2"
         },
         null,
         "Databricks-Runtime/10.4.x-scala2.12"
        ],
        [
         3,
         "2023-07-27T00:33:49.000+0000",
         "3749819615057738",
         "andersonfaro@gmail.com",
         "WRITE",
         {
          "mode": "Overwrite",
          "partitionBy": "[]"
         },
         null,
         [
          "1243705193155246"
         ],
         "0726-224338-nu3hhmdt",
         2,
         "WriteSerializable",
         false,
         {
          "numFiles": "2",
          "numOutputBytes": "1858",
          "numOutputRows": "2"
         },
         null,
         "Databricks-Runtime/10.4.x-scala2.12"
        ],
        [
         2,
         "2023-07-27T00:32:40.000+0000",
         "3749819615057738",
         "andersonfaro@gmail.com",
         "WRITE",
         {
          "mode": "Append",
          "partitionBy": "[]"
         },
         null,
         [
          "1243705193155246"
         ],
         "0726-224338-nu3hhmdt",
         1,
         "WriteSerializable",
         true,
         {
          "numFiles": "2",
          "numOutputBytes": "1858",
          "numOutputRows": "2"
         },
         null,
         "Databricks-Runtime/10.4.x-scala2.12"
        ],
        [
         1,
         "2023-07-27T00:31:24.000+0000",
         "3749819615057738",
         "andersonfaro@gmail.com",
         "WRITE",
         {
          "mode": "Append",
          "partitionBy": "[]"
         },
         null,
         [
          "1243705193155246"
         ],
         "0726-224338-nu3hhmdt",
         0,
         "WriteSerializable",
         true,
         {
          "numFiles": "2",
          "numOutputBytes": "1786",
          "numOutputRows": "2"
         },
         null,
         "Databricks-Runtime/10.4.x-scala2.12"
        ],
        [
         0,
         "2023-07-27T00:29:38.000+0000",
         "3749819615057738",
         "andersonfaro@gmail.com",
         "WRITE",
         {
          "mode": "ErrorIfExists",
          "partitionBy": "[]"
         },
         null,
         [
          "1243705193155246"
         ],
         "0726-224338-nu3hhmdt",
         null,
         "WriteSerializable",
         true,
         {
          "numFiles": "2",
          "numOutputBytes": "1873",
          "numOutputRows": "2"
         },
         null,
         "Databricks-Runtime/10.4.x-scala2.12"
        ]
       ],
       "datasetInfos": [],
       "dbfsResultPath": null,
       "isJsonSchema": true,
       "metadata": {},
       "overflow": false,
       "plotOptions": {
        "customPlotOptions": {},
        "displayType": "table",
        "pivotAggregation": null,
        "pivotColumns": null,
        "xColumns": null,
        "yColumns": null
       },
       "removedWidgets": [],
       "schema": [
        {
         "metadata": "{}",
         "name": "version",
         "type": "\"long\""
        },
        {
         "metadata": "{}",
         "name": "timestamp",
         "type": "\"timestamp\""
        },
        {
         "metadata": "{}",
         "name": "userId",
         "type": "\"string\""
        },
        {
         "metadata": "{}",
         "name": "userName",
         "type": "\"string\""
        },
        {
         "metadata": "{}",
         "name": "operation",
         "type": "\"string\""
        },
        {
         "metadata": "{}",
         "name": "operationParameters",
         "type": "{\"type\":\"map\",\"keyType\":\"string\",\"valueType\":\"string\",\"valueContainsNull\":true}"
        },
        {
         "metadata": "{}",
         "name": "job",
         "type": "{\"type\":\"struct\",\"fields\":[{\"name\":\"jobId\",\"type\":\"string\",\"nullable\":true,\"metadata\":{}},{\"name\":\"jobName\",\"type\":\"string\",\"nullable\":true,\"metadata\":{}},{\"name\":\"runId\",\"type\":\"string\",\"nullable\":true,\"metadata\":{}},{\"name\":\"jobOwnerId\",\"type\":\"string\",\"nullable\":true,\"metadata\":{}},{\"name\":\"triggerType\",\"type\":\"string\",\"nullable\":true,\"metadata\":{}}]}"
        },
        {
         "metadata": "{}",
         "name": "notebook",
         "type": "{\"type\":\"struct\",\"fields\":[{\"name\":\"notebookId\",\"type\":\"string\",\"nullable\":true,\"metadata\":{}}]}"
        },
        {
         "metadata": "{}",
         "name": "clusterId",
         "type": "\"string\""
        },
        {
         "metadata": "{}",
         "name": "readVersion",
         "type": "\"long\""
        },
        {
         "metadata": "{}",
         "name": "isolationLevel",
         "type": "\"string\""
        },
        {
         "metadata": "{}",
         "name": "isBlindAppend",
         "type": "\"boolean\""
        },
        {
         "metadata": "{}",
         "name": "operationMetrics",
         "type": "{\"type\":\"map\",\"keyType\":\"string\",\"valueType\":\"string\",\"valueContainsNull\":true}"
        },
        {
         "metadata": "{}",
         "name": "userMetadata",
         "type": "\"string\""
        },
        {
         "metadata": "{}",
         "name": "engineInfo",
         "type": "\"string\""
        }
       ],
       "type": "table"
      }
     },
     "output_type": "display_data"
    }
   ],
   "source": [
    "%sql\n",
    "DESCRIBE HISTORY '/FileStore/tables/delta/schema_evolution/delta'"
   ]
  },
  {
   "cell_type": "markdown",
   "metadata": {
    "application/vnd.databricks.v1+cell": {
     "cellMetadata": {},
     "inputWidgets": {},
     "nuid": "ce9dd1d1-23de-4ecb-90e7-2bdd5faf767a",
     "showTitle": false,
     "title": ""
    }
   },
   "source": [
    "## Listando todas as versões que podemos utilizar"
   ]
  },
  {
   "cell_type": "code",
   "execution_count": 0,
   "metadata": {
    "application/vnd.databricks.v1+cell": {
     "cellMetadata": {
      "byteLimit": 2048000,
      "implicitDf": true,
      "rowLimit": 10000
     },
     "inputWidgets": {},
     "nuid": "27d4523f-c307-4783-a433-e9b93fa666da",
     "showTitle": false,
     "title": ""
    }
   },
   "outputs": [
    {
     "output_type": "display_data",
     "data": {
      "text/html": [
       "<style scoped>\n",
       "  .table-result-container {\n",
       "    max-height: 300px;\n",
       "    overflow: auto;\n",
       "  }\n",
       "  table, th, td {\n",
       "    border: 1px solid black;\n",
       "    border-collapse: collapse;\n",
       "  }\n",
       "  th, td {\n",
       "    padding: 5px;\n",
       "  }\n",
       "  th {\n",
       "    text-align: left;\n",
       "  }\n",
       "</style><div class='table-result-container'><table class='table-result'><thead style='background-color: white'><tr><th>Funcionario</th><th>Salario</th><th>Setor</th><th>Comissao</th></tr></thead><tbody><tr><td>Carlos Fernandez</td><td>3400</td><td>null</td><td>null</td></tr><tr><td>Sandra Lemos</td><td>null</td><td>null</td><td>672</td></tr><tr><td>Carla Soares</td><td>null</td><td>null</td><td>966</td></tr><tr><td>Joao Santos</td><td>2000</td><td>null</td><td>null</td></tr><tr><td>null</td><td>null</td><td>Financeiro</td><td>240</td></tr><tr><td>null</td><td>null</td><td>Marketing</td><td>540</td></tr></tbody></table></div>"
      ]
     },
     "metadata": {
      "application/vnd.databricks.v1+output": {
       "addedWidgets": {},
       "aggData": [],
       "aggError": "",
       "aggOverflow": false,
       "aggSchema": [],
       "aggSeriesLimitReached": false,
       "aggType": "",
       "arguments": {},
       "columnCustomDisplayInfos": {},
       "data": [
        [
         "Carlos Fernandez",
         3400,
         null,
         null
        ],
        [
         "Sandra Lemos",
         null,
         null,
         672
        ],
        [
         "Carla Soares",
         null,
         null,
         966
        ],
        [
         "Joao Santos",
         2000,
         null,
         null
        ],
        [
         null,
         null,
         "Financeiro",
         240
        ],
        [
         null,
         null,
         "Marketing",
         540
        ]
       ],
       "datasetInfos": [],
       "dbfsResultPath": null,
       "isJsonSchema": true,
       "metadata": {},
       "overflow": false,
       "plotOptions": {
        "customPlotOptions": {},
        "displayType": "table",
        "pivotAggregation": null,
        "pivotColumns": null,
        "xColumns": null,
        "yColumns": null
       },
       "removedWidgets": [],
       "schema": [
        {
         "metadata": "{}",
         "name": "Funcionario",
         "type": "\"string\""
        },
        {
         "metadata": "{}",
         "name": "Salario",
         "type": "\"long\""
        },
        {
         "metadata": "{}",
         "name": "Setor",
         "type": "\"string\""
        },
        {
         "metadata": "{}",
         "name": "Comissao",
         "type": "\"long\""
        }
       ],
       "type": "table"
      }
     },
     "output_type": "display_data"
    }
   ],
   "source": [
    "%sql\n",
    "SELECT * FROM delta. `/FileStore/tables/delta/schema_evolution/delta`\n",
    "VERSION AS OF 2"
   ]
  },
  {
   "cell_type": "code",
   "execution_count": 0,
   "metadata": {
    "application/vnd.databricks.v1+cell": {
     "cellMetadata": {},
     "inputWidgets": {},
     "nuid": "359771de-83cc-40ce-ac76-e6de8d436aa9",
     "showTitle": false,
     "title": ""
    }
   },
   "outputs": [],
   "source": []
  }
 ],
 "metadata": {
  "application/vnd.databricks.v1+notebook": {
   "dashboards": [],
   "environmentMetadata": null,
   "language": "python",
   "notebookMetadata": {
    "mostRecentlyExecutedCommandWithImplicitDF": {
     "commandId": 1243705193155274,
     "dataframes": [
      "_sqldf"
     ]
    },
    "pythonIndentUnit": 4
   },
   "notebookName": "Script Schema Evolution",
   "widgets": {}
  }
 },
 "nbformat": 4,
 "nbformat_minor": 0
}
