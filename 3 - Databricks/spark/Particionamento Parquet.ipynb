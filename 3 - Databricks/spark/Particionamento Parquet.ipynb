{
 "cells": [
  {
   "cell_type": "code",
   "execution_count": 0,
   "metadata": {
    "application/vnd.databricks.v1+cell": {
     "cellMetadata": {
      "byteLimit": 2048000,
      "rowLimit": 10000
     },
     "inputWidgets": {},
     "nuid": "daa4612d-756e-4a2c-98a3-02fc6dd03f36",
     "showTitle": false,
     "title": ""
    }
   },
   "outputs": [
    {
     "output_type": "stream",
     "name": "stdout",
     "output_type": "stream",
     "text": [
      "+-------------+-----------+-------------+-----------------+------+-------+\n|Primeiro_Nome|Ultimo_nome|Nacionalidade|         Trabalho|Genero|Salario|\n+-------------+-----------+-------------+-----------------+------+-------+\n|    Grimaldo |   Oliveira|   Brasileira|        Professor|     M|   3000|\n|         Ana |     Santos|   Portuguesa|            Atriz|     F|   4000|\n|     Roberto |     Carlos|   Brasileira|         Analista|     M|   4000|\n|       Maria |   Santanna|     Italiana|         Dentista|     F|   6000|\n|       Sonia |       Faro|   Brasileira|         Advogada|     F|   8000|\n|    Anderson |       Faro|   Brasileira|Analista de Dados|     M|  16000|\n|       Jeane |    Andrade|   Portuguesa|           Medica|     F|   7000|\n+-------------+-----------+-------------+-----------------+------+-------+\n\n"
     ]
    }
   ],
   "source": [
    "#criando um dataframe com dados fixos\n",
    "dados =[('Grimaldo ','Oliveira','Brasileira','Professor','M',3000),\n",
    "('Ana ','Santos','Portuguesa','Atriz','F',4000),\n",
    "('Roberto ','Carlos','Brasileira','Analista','M',4000),\n",
    "('Maria ','Santanna','Italiana','Dentista','F',6000),\n",
    "('Sonia ','Faro','Brasileira','Advogada','F',8000),\n",
    "('Anderson ','Faro','Brasileira','Analista de Dados','M',16000),\n",
    "('Jeane ','Andrade','Portuguesa','Medica','F',7000)]\n",
    "\n",
    "colunas=['Primeiro_Nome','Ultimo_nome','Nacionalidade','Trabalho','Genero','Salario']\n",
    "\n",
    "datafparquet=spark.createDataFrame(dados,colunas)\n",
    "datafparquet.show()"
   ]
  },
  {
   "cell_type": "code",
   "execution_count": 0,
   "metadata": {
    "application/vnd.databricks.v1+cell": {
     "cellMetadata": {
      "byteLimit": 2048000,
      "rowLimit": 10000
     },
     "inputWidgets": {},
     "nuid": "bd0921d3-6d10-4992-a022-e8e2195d2b86",
     "showTitle": false,
     "title": ""
    }
   },
   "outputs": [],
   "source": [
    "#Particionando os dados em um arquivo parquet\n",
    "datafparquet.write.partitionBy(\"Nacionalidade\",\"salario\").mode(\"overwrite\").parquet(\"/FileStore/tables/parquet/pessoal.parquet\")"
   ]
  },
  {
   "cell_type": "code",
   "execution_count": 0,
   "metadata": {
    "application/vnd.databricks.v1+cell": {
     "cellMetadata": {
      "byteLimit": 2048000,
      "rowLimit": 10000
     },
     "inputWidgets": {},
     "nuid": "d774be81-83fc-4b10-800d-14e1bc8fba39",
     "showTitle": false,
     "title": ""
    }
   },
   "outputs": [
    {
     "output_type": "stream",
     "name": "stdout",
     "output_type": "stream",
     "text": [
      "+-------------+-----------+-----------------+------+-------+\n|Primeiro_Nome|Ultimo_nome|         Trabalho|Genero|salario|\n+-------------+-----------+-----------------+------+-------+\n|    Anderson |       Faro|Analista de Dados|     M|  16000|\n|       Sonia |       Faro|         Advogada|     F|   8000|\n+-------------+-----------+-----------------+------+-------+\n\n"
     ]
    }
   ],
   "source": [
    "#Consultando diretamente o arquivo parquet particionado via SQL\n",
    "spark.sql( ''' \n",
    "            CREATE OR REPLACE TEMPORARY VIEW Cidadao USING parquet OPTIONS (path \n",
    "            '/FileStore/tables/parquet/pessoal.parquet/Nacionalidade=Brasileira')\n",
    "            ''')\n",
    "spark.sql(\"SELECT * FROM Cidadao where Ultimo_nome='Faro'\").show()"
   ]
  },
  {
   "cell_type": "code",
   "execution_count": 0,
   "metadata": {
    "application/vnd.databricks.v1+cell": {
     "cellMetadata": {
      "byteLimit": 2048000,
      "rowLimit": 10000
     },
     "inputWidgets": {},
     "nuid": "4fd5afb2-6f55-4aa1-be07-48fa216777fd",
     "showTitle": false,
     "title": ""
    }
   },
   "outputs": [
    {
     "output_type": "stream",
     "name": "stdout",
     "output_type": "stream",
     "text": [
      "+-------------+-----------+-----------------+------+-------+\n|Primeiro_Nome|Ultimo_nome|         Trabalho|Genero|salario|\n+-------------+-----------+-----------------+------+-------+\n|    Anderson |       Faro|Analista de Dados|     M|  16000|\n|    Grimaldo |   Oliveira|        Professor|     M|   3000|\n|     Roberto |     Carlos|         Analista|     M|   4000|\n|       Sonia |       Faro|         Advogada|     F|   8000|\n+-------------+-----------+-----------------+------+-------+\n\n"
     ]
    }
   ],
   "source": [
    "spark.sql(\"SELECT * FROM Cidadao\").show()"
   ]
  },
  {
   "cell_type": "code",
   "execution_count": 0,
   "metadata": {
    "application/vnd.databricks.v1+cell": {
     "cellMetadata": {
      "byteLimit": 2048000,
      "rowLimit": 10000
     },
     "inputWidgets": {},
     "nuid": "a366a6e5-c0e3-4353-bab1-0a132a6f7fd9",
     "showTitle": false,
     "title": ""
    }
   },
   "outputs": [],
   "source": []
  }
 ],
 "metadata": {
  "application/vnd.databricks.v1+notebook": {
   "dashboards": [],
   "environmentMetadata": null,
   "language": "python",
   "notebookMetadata": {
    "pythonIndentUnit": 4
   },
   "notebookName": "Particionamento Parquet",
   "widgets": {}
  }
 },
 "nbformat": 4,
 "nbformat_minor": 0
}
