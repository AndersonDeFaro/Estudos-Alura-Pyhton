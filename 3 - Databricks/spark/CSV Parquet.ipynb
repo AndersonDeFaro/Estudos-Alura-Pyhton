{
 "cells": [
  {
   "cell_type": "code",
   "execution_count": 0,
   "metadata": {
    "application/vnd.databricks.v1+cell": {
     "cellMetadata": {
      "byteLimit": 2048000,
      "rowLimit": 10000
     },
     "inputWidgets": {},
     "nuid": "845f0b79-16ba-40f1-84f4-deb2d494fec4",
     "showTitle": false,
     "title": ""
    }
   },
   "outputs": [
    {
     "output_type": "stream",
     "name": "stdout",
     "output_type": "stream",
     "text": [
      "Out[16]: True"
     ]
    }
   ],
   "source": [
    "dbutils.fs.mkdirs('/FileStore/tables/arquivo')\n",
    "\n",
    "#dbutils.fs.ls('/FileStore/tables')"
   ]
  },
  {
   "cell_type": "code",
   "execution_count": 0,
   "metadata": {
    "application/vnd.databricks.v1+cell": {
     "cellMetadata": {
      "byteLimit": 2048000,
      "rowLimit": 10000
     },
     "inputWidgets": {},
     "nuid": "5f56cfa8-688d-418c-a565-8b8eabff6678",
     "showTitle": false,
     "title": ""
    }
   },
   "outputs": [
    {
     "output_type": "stream",
     "name": "stdout",
     "output_type": "stream",
     "text": [
      "+--------------------+-----------------+--------------------+--------------------+--------------------+--------------------+--------------------+--------------------+--------------------+--------------------+--------------------+--------------------+--------------------+--------------------+--------------------+--------------------+--------------------+--------------------+--------------------+--------------------+--------------------+--------------------+--------------------+--------------------+--------------------+--------------------+\n|                  id|        dateAdded|         dateUpdated|             address|          categories|   primaryCategories|                city|             country|                keys|            latitude|           longitude|                name|          postalCode|            province|        reviews.date|   reviews.dateAdded|    reviews.dateSeen|      reviews.rating|  reviews.sourceURLs|        reviews.text|       reviews.title|    reviews.userCity|reviews.userProvince|    reviews.username|          sourceURLs|            websites|\n+--------------------+-----------------+--------------------+--------------------+--------------------+--------------------+--------------------+--------------------+--------------------+--------------------+--------------------+--------------------+--------------------+--------------------+--------------------+--------------------+--------------------+--------------------+--------------------+--------------------+--------------------+--------------------+--------------------+--------------------+--------------------+--------------------+\n|\"AWE2FvX5RxPSIh2R...|Hotels and motels|Hotel and motel m...|             Lodging|       Hotels Motels|             Hotel\"\"|Accommodation & F...|              Goleta|                  US|us/ca/goleta/5620...|            34.44178|          -119.81979|Best Western Plus...|               93117|                  CA|2018-01-01T00:00:...|                null|2018-01-03T00:00:00Z|                   3|https://www.tripa...|\"\"This hotel was ...| there was train ...|Best Western Plus...|            San Jose|        UnitedStates|        tatsurok2018|\n|\"AVwcj_OhkufWRAb5...|          Lodging|             Hotel\"\"|Accommodation & F...|   Carmel by the Sea|                  US|us/ca/carmelbythe...|            36.55722|          -121.92194|Best Western Carm...|               93921|                  CA|2016-04-02T00:00:00Z|                null|2016-10-09T00:00:00Z|                   4|https://www.tripa...|\"\"We stayed in th...| and the king bed...|Clean rooms at so...|       San Francisco|                  CA|           STEPHEN N|\"\"http://www.trip...|https://www.yello...|http://www.tripad...|\n|\"AVwcj_OhkufWRAb5...|          Lodging|             Hotel\"\"|Accommodation & F...|   Carmel by the Sea|                  US|us/ca/carmelbythe...|            36.55722|          -121.92194|Best Western Carm...|               93921|                  CA|2016-01-06T00:00:00Z|                null|2016-10-09T00:00:00Z|                   3|https://www.tripa...|\"\"Parking was hor...| somebody ran int...| I was there for ...| I had to asked f...| And the items in...|            Business|     Prescott Valley|                  AZ|           15Deborah|\n|\"AVwcj_OhkufWRAb5...|          Lodging|             Hotel\"\"|Accommodation & F...|   Carmel by the Sea|                  US|us/ca/carmelbythe...|            36.55722|          -121.92194|Best Western Carm...|               93921|                  CA|2016-08-22T00:00:00Z|                null|2016-10-31T00:00:00Z|                   5|https://www.tripa...|\"\"Not cheap but e...| no A/C in rooms ...|           Very good|            Guaynabo|                  PR|          Wilfredo M|\"\"http://www.trip...|https://www.yello...|http://www.tripad...|\n|\"AVwcj_OhkufWRAb5...|          Lodging|             Hotel\"\"|Accommodation & F...|   Carmel by the Sea|                  US|us/ca/carmelbythe...|            36.55722|          -121.92194|Best Western Carm...|               93921|                  CA|2016-03-21T00:00:00Z|                null|\"\"2016-10-09T00:0...|2016-03-27T00:00:...|                   2|\"\"https://www.tri...|http://www.tripad...|\"\"If you get the ...| you may be lucky...| they will give y...|           near pool|               noisy|    smelly bathrooms| or difficult acc...|\n|\"AVweLARAByjofQCx...|Hotels and motels|               Hotel|       Restaurants\"\"|Accommodation & F...|           Lexington|                  US|us/ky/lexington/1...|           38.047014|          -84.497742|21c Museum Hotel ...|               40507|                  KY|2016-03-15T00:00:00Z|                null|2016-03-19T00:00:00Z|                   4|http://www.tripad...|\"\"This is such a fun| lovely hotel. Th...| from the thicker...| the Lockbox. The...|  Loved staying here|           Nashville|                  TN|          LKDiScenza|\n|\"AVweLARAByjofQCx...|Hotels and motels|               Hotel|       Restaurants\"\"|Accommodation & F...|           Lexington|                  US|us/ky/lexington/1...|           38.047014|          -84.497742|21c Museum Hotel ...|               40507|                  KY|2016-04-18T00:00:00Z|                null|2016-05-10T00:00:00Z|                   1|https://www.tripa...|We recently staye...|Does not live up ...|           Charlotte|                  NC|       GGTravels2016|\"\"https://www.tri...|https://www.yello...|https://www.hotel...|\n|\"AV1thAoL3-Khe5l_...|          Hotel\"\"|Accommodation & F...|     Russell Springs|                  US|us/ky/russellspri...|           37.065296|           -85.07358|   Springs Motel LLC|               42642|                  KY|2015-08-13T00:00:...|                null|\"\"2017-12-17T00:0...|2017-07-13T00:00:...|                   1|\"\"https://www.tri...|http://tripadviso...|\"\"I reserved a ro...| knowing a motel ...|worst customer se...|          Hanceville|             Alabama|      madaramapquest|\"\"https://www.tri...|https://www.yello...|\n|\"AVz6h4Sb3D1zeR_x...|Hotels and motels|Hotel and motel r...|             Lodging|       Hotels Motels|             Hotel\"\"|Accommodation & F...|           Lexington|                  US|us/ky/lexington/2...|             38.0421|            -84.4271|Microtel Inn Suit...|               40505|                  KY|2017-06-15T00:00:...|                null|2017-06-26T00:00:00Z|                   5|https://www.tripa...|            MoreMore|Location Location...|      Jeffersonville|             Indiana|           IUMIKECOO|\"\"https://www.yel...|\n|\"AVwdo6WHByjofQCx...|   Bed Breakfasts|    Bed & Breakfasts|   Hotels and motels|             Lodging|       Hotels Motels|              travel|              Motels|     Hotels & Motels|             Hotel\"\"|Accommodation & F...|        Hopkinsville|                  US|us/ky/hopkinsvill...|              36.889|            -87.4813|        American Inn|               42240|                  KY|2014-07-15T00:00:00Z|                null|\"\"2016-03-19T00:0...|2016-05-10T00:00:00Z|2016-07-18T00:00:...|                   1|https://www.tripa...|\n|\"AVwcuo0eIN2L1WUf...|Hotels and motels|Hotel and motel r...|   Corporate Lodging|             Lodging|             Hotel\"\"|Accommodation & F...|           Lexington|                  US|us/ky/lexington/1...|            38.01243|           -84.51635|Hampton Inn Lexin...|               40503|                  KY|2016-07-06T00:00:00Z|                null|2016-07-18T00:00:00Z|                   5|https://www.tripa...|This is a new Ham...|     Beautiful hotel|        Williamsburg|                  VA|         colonialgal|\"\"https://www.yel...|\n|\"AWB2mcqARxPSIh2R...|          Lodging|       Hotels Motels|              Motels|             Hotel\"\"|Accommodation & F...|         Carpinteria|                  US|us/ca/carpinteria...|            34.40507|          -119.53119|Motel 6 Santa Bar...|               93013|                  CA|2017-11-11T00:00:...|                null|\"\"2018-01-03T00:0...|2017-12-17T00:00:...|                   3|https://www.tripa...|\"\"I stayed here f...| if you can live ...| then three night...|   Good for location|              London|       UnitedKingdom|\n|\"AVwdhvN2kufWRAb5...|Hotels and motels|       Budget Hotels|   Corporate Lodging|             Lodging|       Hotels Motels|              Motels|Family-friendly H...|               Hotel|   Business Hotels\"\"|Accommodation & F...|        Redwood City|                  US|us/ca/redwoodcity...|             37.4777|           -122.2249|         Comfort Inn|               94063|                  CA|2016-04-20T00:00:00Z|                null|2016-05-13T00:00:00Z|                   5|https://www.tripa...|\"\"Completely acco...| used points to o...|\n|\"AWV8VsCtRxPSIh2R...|Hotels and motels|             Hotel\"\"|Accommodation & F...|         New Orleans|                  US|us/la/neworleans/...|           29.949125|          -90.069748|   The Whitney Hotel|               70130|                  LA|2015-06-29T00:00:...|                null|\"\"2018-11-06T00:0...|2018-08-26T00:00:...|                   3|https://www.tripa...|\"\"The water is ve...|          toiletries| menus and food a...| Casey A. Callais...|    \"\"Very hot water|          bad food\"\"|            Honolulu|              Hawaii|\n|\"AWV8VsCtRxPSIh2R...|Hotels and motels|             Hotel\"\"|Accommodation & F...|         New Orleans|                  US|us/la/neworleans/...|           29.949125|          -90.069748|   The Whitney Hotel|               70130|                  LA|2018-09-05T00:00:...|                null|2018-11-06T00:00:00Z|                   5|https://www.tripa...|\"\"Great staff and...| and it was in pe...|      French Quarter|             museums|   business district| etc. And we got ...|     Excellent hotel|       New York City|             NewYork|\n|\"AWV8VsCtRxPSIh2R...|Hotels and motels|             Hotel\"\"|Accommodation & F...|         New Orleans|                  US|us/la/neworleans/...|           29.949125|          -90.069748|   The Whitney Hotel|               70130|                  LA|2016-11-07T00:00:...|                null|\"\"2018-11-06T00:0...|2018-08-26T00:00:...|                   2|https://www.tripa...|        \"\"This Hotel| formerly a prest...| may be attractiv...| but is an expens...|        unattractive| with terrible ol...| virtually withou...| and it took 35 m...|\n|\"AWV8VsCtRxPSIh2R...|Hotels and motels|             Hotel\"\"|Accommodation & F...|         New Orleans|                  US|us/la/neworleans/...|           29.949125|          -90.069748|   The Whitney Hotel|               70130|                  LA|2016-07-02T00:00:...|                null|\"\"2018-11-06T00:0...|2018-08-26T00:00:...|                   4|https://www.tripa...|\"\"Very accommodat...| Casey A. Callais...|         Accomations|          Des Moines|          Washington|             donp638|\"\"https://www.tri...|https://www.tripa...|\n|\"AWV8VsCtRxPSIh2R...|Hotels and motels|             Hotel\"\"|Accommodation & F...|         New Orleans|                  US|us/la/neworleans/...|           29.949125|          -90.069748|   The Whitney Hotel|               70130|                  LA|2017-10-03T00:00:...|                null|\"\"2018-11-06T00:0...|2018-08-26T00:00:...|                   4|https://www.tripa...|\"\"Room was much l...| and water and fr...| Casey A. Callais...|Great Room at Gre...|        Philadelphia|        Pennsylvania|    B1962UTvictoriaa|\"\"https://www.tri...|\n|\"AWV8VsCtRxPSIh2R...|Hotels and motels|             Hotel\"\"|Accommodation & F...|         New Orleans|                  US|us/la/neworleans/...|           29.949125|          -90.069748|   The Whitney Hotel|               70130|                  LA|2015-10-13T00:00:...|                null|\"\"2018-11-06T00:0...|2018-08-26T00:00:...|                   3|https://www.tripa...|\"\"The Whitney Hot...| no room service ...| I think we can d...| I'll pass that i...| please accept my...| please don't hes...| Casey A. Callais...|     \"\"Good location|\n|\"AWV8VsCtRxPSIh2R...|Hotels and motels|             Hotel\"\"|Accommodation & F...|         New Orleans|                  US|us/la/neworleans/...|           29.949125|          -90.069748|   The Whitney Hotel|               70130|                  LA|2016-06-08T00:00:...|                null|2018-08-26T00:00:00Z|                   4|https://www.tripa...|\"\"This is an old ...| the hotel is wel...| but confortable....| Casey A. Callais...|Great value and g...|               Cayey|          PuertoRico|          josenc2016|\"\"https://www.tri...|\n+--------------------+-----------------+--------------------+--------------------+--------------------+--------------------+--------------------+--------------------+--------------------+--------------------+--------------------+--------------------+--------------------+--------------------+--------------------+--------------------+--------------------+--------------------+--------------------+--------------------+--------------------+--------------------+--------------------+--------------------+--------------------+--------------------+\nonly showing top 20 rows\n\n"
     ]
    }
   ],
   "source": [
    "#Leitura de arquivo CSV\n",
    "dataframesp= spark.read.format(\"csv\").option(\"header\",\"true\").load(\"/FileStore/tables/arquivo/Datafiniti_Hotel_Reviews_Jun19.csv\")\n",
    "dataframesp.show()"
   ]
  },
  {
   "cell_type": "code",
   "execution_count": 0,
   "metadata": {
    "application/vnd.databricks.v1+cell": {
     "cellMetadata": {
      "byteLimit": 2048000,
      "rowLimit": 10000
     },
     "inputWidgets": {},
     "nuid": "a95a94de-fbf0-4798-9ca2-fa228590a1cc",
     "showTitle": false,
     "title": ""
    }
   },
   "outputs": [
    {
     "output_type": "display_data",
     "data": {
      "text/plain": [
       "\u001B[0;31m---------------------------------------------------------------------------\u001B[0m\n",
       "\u001B[0;31mAnalysisException\u001B[0m                         Traceback (most recent call last)\n",
       "\u001B[0;32m<command-2767879706441281>\u001B[0m in \u001B[0;36m<module>\u001B[0;34m\u001B[0m\n",
       "\u001B[1;32m      1\u001B[0m \u001B[0;31m#criando o arquivo parquet\u001B[0m\u001B[0;34m\u001B[0m\u001B[0;34m\u001B[0m\u001B[0;34m\u001B[0m\u001B[0m\n",
       "\u001B[0;32m----> 2\u001B[0;31m \u001B[0mdataframesp\u001B[0m\u001B[0;34m.\u001B[0m\u001B[0mwrite\u001B[0m\u001B[0;34m.\u001B[0m\u001B[0mparquet\u001B[0m\u001B[0;34m(\u001B[0m\u001B[0;34m\"/FileStore/tables/parquet/csvparquet.parquet\"\u001B[0m\u001B[0;34m)\u001B[0m\u001B[0;34m\u001B[0m\u001B[0;34m\u001B[0m\u001B[0m\n",
       "\u001B[0m\n",
       "\u001B[0;32m/databricks/spark/python/pyspark/sql/readwriter.py\u001B[0m in \u001B[0;36mparquet\u001B[0;34m(self, path, mode, partitionBy, compression)\u001B[0m\n",
       "\u001B[1;32m   1275\u001B[0m             \u001B[0mself\u001B[0m\u001B[0;34m.\u001B[0m\u001B[0mpartitionBy\u001B[0m\u001B[0;34m(\u001B[0m\u001B[0mpartitionBy\u001B[0m\u001B[0;34m)\u001B[0m\u001B[0;34m\u001B[0m\u001B[0;34m\u001B[0m\u001B[0m\n",
       "\u001B[1;32m   1276\u001B[0m         \u001B[0mself\u001B[0m\u001B[0;34m.\u001B[0m\u001B[0m_set_opts\u001B[0m\u001B[0;34m(\u001B[0m\u001B[0mcompression\u001B[0m\u001B[0;34m=\u001B[0m\u001B[0mcompression\u001B[0m\u001B[0;34m)\u001B[0m\u001B[0;34m\u001B[0m\u001B[0;34m\u001B[0m\u001B[0m\n",
       "\u001B[0;32m-> 1277\u001B[0;31m         \u001B[0mself\u001B[0m\u001B[0;34m.\u001B[0m\u001B[0m_jwrite\u001B[0m\u001B[0;34m.\u001B[0m\u001B[0mparquet\u001B[0m\u001B[0;34m(\u001B[0m\u001B[0mpath\u001B[0m\u001B[0;34m)\u001B[0m\u001B[0;34m\u001B[0m\u001B[0;34m\u001B[0m\u001B[0m\n",
       "\u001B[0m\u001B[1;32m   1278\u001B[0m \u001B[0;34m\u001B[0m\u001B[0m\n",
       "\u001B[1;32m   1279\u001B[0m     \u001B[0;32mdef\u001B[0m \u001B[0mtext\u001B[0m\u001B[0;34m(\u001B[0m\u001B[0mself\u001B[0m\u001B[0;34m,\u001B[0m \u001B[0mpath\u001B[0m\u001B[0;34m,\u001B[0m \u001B[0mcompression\u001B[0m\u001B[0;34m=\u001B[0m\u001B[0;32mNone\u001B[0m\u001B[0;34m,\u001B[0m \u001B[0mlineSep\u001B[0m\u001B[0;34m=\u001B[0m\u001B[0;32mNone\u001B[0m\u001B[0;34m)\u001B[0m\u001B[0;34m:\u001B[0m\u001B[0;34m\u001B[0m\u001B[0;34m\u001B[0m\u001B[0m\n",
       "\n",
       "\u001B[0;32m/databricks/spark/python/lib/py4j-0.10.9-src.zip/py4j/java_gateway.py\u001B[0m in \u001B[0;36m__call__\u001B[0;34m(self, *args)\u001B[0m\n",
       "\u001B[1;32m   1302\u001B[0m \u001B[0;34m\u001B[0m\u001B[0m\n",
       "\u001B[1;32m   1303\u001B[0m         \u001B[0manswer\u001B[0m \u001B[0;34m=\u001B[0m \u001B[0mself\u001B[0m\u001B[0;34m.\u001B[0m\u001B[0mgateway_client\u001B[0m\u001B[0;34m.\u001B[0m\u001B[0msend_command\u001B[0m\u001B[0;34m(\u001B[0m\u001B[0mcommand\u001B[0m\u001B[0;34m)\u001B[0m\u001B[0;34m\u001B[0m\u001B[0;34m\u001B[0m\u001B[0m\n",
       "\u001B[0;32m-> 1304\u001B[0;31m         return_value = get_return_value(\n",
       "\u001B[0m\u001B[1;32m   1305\u001B[0m             answer, self.gateway_client, self.target_id, self.name)\n",
       "\u001B[1;32m   1306\u001B[0m \u001B[0;34m\u001B[0m\u001B[0m\n",
       "\n",
       "\u001B[0;32m/databricks/spark/python/pyspark/sql/utils.py\u001B[0m in \u001B[0;36mdeco\u001B[0;34m(*a, **kw)\u001B[0m\n",
       "\u001B[1;32m    121\u001B[0m                 \u001B[0;31m# Hide where the exception came from that shows a non-Pythonic\u001B[0m\u001B[0;34m\u001B[0m\u001B[0;34m\u001B[0m\u001B[0;34m\u001B[0m\u001B[0m\n",
       "\u001B[1;32m    122\u001B[0m                 \u001B[0;31m# JVM exception message.\u001B[0m\u001B[0;34m\u001B[0m\u001B[0;34m\u001B[0m\u001B[0;34m\u001B[0m\u001B[0m\n",
       "\u001B[0;32m--> 123\u001B[0;31m                 \u001B[0;32mraise\u001B[0m \u001B[0mconverted\u001B[0m \u001B[0;32mfrom\u001B[0m \u001B[0;32mNone\u001B[0m\u001B[0;34m\u001B[0m\u001B[0;34m\u001B[0m\u001B[0m\n",
       "\u001B[0m\u001B[1;32m    124\u001B[0m             \u001B[0;32melse\u001B[0m\u001B[0;34m:\u001B[0m\u001B[0;34m\u001B[0m\u001B[0;34m\u001B[0m\u001B[0m\n",
       "\u001B[1;32m    125\u001B[0m                 \u001B[0;32mraise\u001B[0m\u001B[0;34m\u001B[0m\u001B[0;34m\u001B[0m\u001B[0m\n",
       "\n",
       "\u001B[0;31mAnalysisException\u001B[0m: path dbfs:/FileStore/tables/parquet/csvparquet.parquet already exists."
      ]
     },
     "metadata": {
      "application/vnd.databricks.v1+output": {
       "arguments": {},
       "data": "\u001B[0;31m---------------------------------------------------------------------------\u001B[0m\n\u001B[0;31mAnalysisException\u001B[0m                         Traceback (most recent call last)\n\u001B[0;32m<command-2767879706441281>\u001B[0m in \u001B[0;36m<module>\u001B[0;34m\u001B[0m\n\u001B[1;32m      1\u001B[0m \u001B[0;31m#criando o arquivo parquet\u001B[0m\u001B[0;34m\u001B[0m\u001B[0;34m\u001B[0m\u001B[0;34m\u001B[0m\u001B[0m\n\u001B[0;32m----> 2\u001B[0;31m \u001B[0mdataframesp\u001B[0m\u001B[0;34m.\u001B[0m\u001B[0mwrite\u001B[0m\u001B[0;34m.\u001B[0m\u001B[0mparquet\u001B[0m\u001B[0;34m(\u001B[0m\u001B[0;34m\"/FileStore/tables/parquet/csvparquet.parquet\"\u001B[0m\u001B[0;34m)\u001B[0m\u001B[0;34m\u001B[0m\u001B[0;34m\u001B[0m\u001B[0m\n\u001B[0m\n\u001B[0;32m/databricks/spark/python/pyspark/sql/readwriter.py\u001B[0m in \u001B[0;36mparquet\u001B[0;34m(self, path, mode, partitionBy, compression)\u001B[0m\n\u001B[1;32m   1275\u001B[0m             \u001B[0mself\u001B[0m\u001B[0;34m.\u001B[0m\u001B[0mpartitionBy\u001B[0m\u001B[0;34m(\u001B[0m\u001B[0mpartitionBy\u001B[0m\u001B[0;34m)\u001B[0m\u001B[0;34m\u001B[0m\u001B[0;34m\u001B[0m\u001B[0m\n\u001B[1;32m   1276\u001B[0m         \u001B[0mself\u001B[0m\u001B[0;34m.\u001B[0m\u001B[0m_set_opts\u001B[0m\u001B[0;34m(\u001B[0m\u001B[0mcompression\u001B[0m\u001B[0;34m=\u001B[0m\u001B[0mcompression\u001B[0m\u001B[0;34m)\u001B[0m\u001B[0;34m\u001B[0m\u001B[0;34m\u001B[0m\u001B[0m\n\u001B[0;32m-> 1277\u001B[0;31m         \u001B[0mself\u001B[0m\u001B[0;34m.\u001B[0m\u001B[0m_jwrite\u001B[0m\u001B[0;34m.\u001B[0m\u001B[0mparquet\u001B[0m\u001B[0;34m(\u001B[0m\u001B[0mpath\u001B[0m\u001B[0;34m)\u001B[0m\u001B[0;34m\u001B[0m\u001B[0;34m\u001B[0m\u001B[0m\n\u001B[0m\u001B[1;32m   1278\u001B[0m \u001B[0;34m\u001B[0m\u001B[0m\n\u001B[1;32m   1279\u001B[0m     \u001B[0;32mdef\u001B[0m \u001B[0mtext\u001B[0m\u001B[0;34m(\u001B[0m\u001B[0mself\u001B[0m\u001B[0;34m,\u001B[0m \u001B[0mpath\u001B[0m\u001B[0;34m,\u001B[0m \u001B[0mcompression\u001B[0m\u001B[0;34m=\u001B[0m\u001B[0;32mNone\u001B[0m\u001B[0;34m,\u001B[0m \u001B[0mlineSep\u001B[0m\u001B[0;34m=\u001B[0m\u001B[0;32mNone\u001B[0m\u001B[0;34m)\u001B[0m\u001B[0;34m:\u001B[0m\u001B[0;34m\u001B[0m\u001B[0;34m\u001B[0m\u001B[0m\n\n\u001B[0;32m/databricks/spark/python/lib/py4j-0.10.9-src.zip/py4j/java_gateway.py\u001B[0m in \u001B[0;36m__call__\u001B[0;34m(self, *args)\u001B[0m\n\u001B[1;32m   1302\u001B[0m \u001B[0;34m\u001B[0m\u001B[0m\n\u001B[1;32m   1303\u001B[0m         \u001B[0manswer\u001B[0m \u001B[0;34m=\u001B[0m \u001B[0mself\u001B[0m\u001B[0;34m.\u001B[0m\u001B[0mgateway_client\u001B[0m\u001B[0;34m.\u001B[0m\u001B[0msend_command\u001B[0m\u001B[0;34m(\u001B[0m\u001B[0mcommand\u001B[0m\u001B[0;34m)\u001B[0m\u001B[0;34m\u001B[0m\u001B[0;34m\u001B[0m\u001B[0m\n\u001B[0;32m-> 1304\u001B[0;31m         return_value = get_return_value(\n\u001B[0m\u001B[1;32m   1305\u001B[0m             answer, self.gateway_client, self.target_id, self.name)\n\u001B[1;32m   1306\u001B[0m \u001B[0;34m\u001B[0m\u001B[0m\n\n\u001B[0;32m/databricks/spark/python/pyspark/sql/utils.py\u001B[0m in \u001B[0;36mdeco\u001B[0;34m(*a, **kw)\u001B[0m\n\u001B[1;32m    121\u001B[0m                 \u001B[0;31m# Hide where the exception came from that shows a non-Pythonic\u001B[0m\u001B[0;34m\u001B[0m\u001B[0;34m\u001B[0m\u001B[0;34m\u001B[0m\u001B[0m\n\u001B[1;32m    122\u001B[0m                 \u001B[0;31m# JVM exception message.\u001B[0m\u001B[0;34m\u001B[0m\u001B[0;34m\u001B[0m\u001B[0;34m\u001B[0m\u001B[0m\n\u001B[0;32m--> 123\u001B[0;31m                 \u001B[0;32mraise\u001B[0m \u001B[0mconverted\u001B[0m \u001B[0;32mfrom\u001B[0m \u001B[0;32mNone\u001B[0m\u001B[0;34m\u001B[0m\u001B[0;34m\u001B[0m\u001B[0m\n\u001B[0m\u001B[1;32m    124\u001B[0m             \u001B[0;32melse\u001B[0m\u001B[0;34m:\u001B[0m\u001B[0;34m\u001B[0m\u001B[0;34m\u001B[0m\u001B[0m\n\u001B[1;32m    125\u001B[0m                 \u001B[0;32mraise\u001B[0m\u001B[0;34m\u001B[0m\u001B[0;34m\u001B[0m\u001B[0m\n\n\u001B[0;31mAnalysisException\u001B[0m: path dbfs:/FileStore/tables/parquet/csvparquet.parquet already exists.",
       "errorSummary": "<span class='ansi-red-fg'>AnalysisException</span>: path dbfs:/FileStore/tables/parquet/csvparquet.parquet already exists.",
       "errorTraceType": "ansi",
       "metadata": {},
       "type": "ipynbError"
      }
     },
     "output_type": "display_data"
    }
   ],
   "source": [
    "#criando o arquivo parquet\n",
    "dataframesp.write.parquet(\"/FileStore/tables/parquet/csvparquet.parquet\")"
   ]
  },
  {
   "cell_type": "code",
   "execution_count": 0,
   "metadata": {
    "application/vnd.databricks.v1+cell": {
     "cellMetadata": {
      "byteLimit": 2048000,
      "rowLimit": 10000
     },
     "inputWidgets": {},
     "nuid": "903af2a8-7b68-4e17-bae4-27fcef1ac616",
     "showTitle": false,
     "title": ""
    }
   },
   "outputs": [
    {
     "output_type": "display_data",
     "data": {
      "text/plain": [
       ""
      ]
     },
     "metadata": {
      "application/vnd.databricks.v1+output": {
       "arguments": {},
       "data": "",
       "errorSummary": "Command skipped",
       "errorTraceType": "ansi",
       "metadata": {},
       "type": "ipynbError"
      }
     },
     "output_type": "display_data"
    }
   ],
   "source": [
    "#Realizando uma leitura do arquivo parquet\n",
    "datafleitura=spark.read.parquet(\"/FileStore/tables/parquet/csvparquet.parquet\")\n",
    "datafleitura.show()"
   ]
  },
  {
   "cell_type": "code",
   "execution_count": 0,
   "metadata": {
    "application/vnd.databricks.v1+cell": {
     "cellMetadata": {},
     "inputWidgets": {},
     "nuid": "f127098d-2f7a-4c84-a085-fe5ee30d4768",
     "showTitle": false,
     "title": ""
    }
   },
   "outputs": [],
   "source": []
  }
 ],
 "metadata": {
  "application/vnd.databricks.v1+notebook": {
   "dashboards": [],
   "environmentMetadata": null,
   "language": "python",
   "notebookMetadata": {
    "pythonIndentUnit": 4
   },
   "notebookName": "CSV Parquet",
   "widgets": {}
  }
 },
 "nbformat": 4,
 "nbformat_minor": 0
}
