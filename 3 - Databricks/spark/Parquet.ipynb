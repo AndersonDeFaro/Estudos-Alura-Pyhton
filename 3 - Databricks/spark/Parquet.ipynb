{
 "cells": [
  {
   "cell_type": "code",
   "execution_count": 0,
   "metadata": {
    "application/vnd.databricks.v1+cell": {
     "cellMetadata": {
      "byteLimit": 2048000,
      "rowLimit": 10000
     },
     "inputWidgets": {},
     "nuid": "b5a16f9b-c332-4b5b-a971-50af86e901f8",
     "showTitle": false,
     "title": ""
    }
   },
   "outputs": [
    {
     "output_type": "stream",
     "name": "stdout",
     "output_type": "stream",
     "text": [
      "+-------------+-----------+-------------+---------+------+-------+\n|Primeiro_Nome|Ultimo_nome|Nacionalidade| Trabalho|Genero|Salario|\n+-------------+-----------+-------------+---------+------+-------+\n|    Grimaldo |   Oliveira|   Brasileira|Professor|     M|   3000|\n|         Ana |     Santos|   Portuguesa|    Atriz|     F|   4000|\n|     Roberto |     Carlos|   Brasileira| Analista|     M|   4000|\n|       Maria |   Santanna|     Italiana| Dentista|     F|   6000|\n|       Jeane |    Andrade|   Portuguesa|   Medica|     F|   7000|\n+-------------+-----------+-------------+---------+------+-------+\n\n"
     ]
    }
   ],
   "source": [
    "#criando um dataframe com dados fixos\n",
    "dados =[('Grimaldo ','Oliveira','Brasileira','Professor','M',3000),\n",
    "('Ana ','Santos','Portuguesa','Atriz','F',4000),\n",
    "('Roberto ','Carlos','Brasileira','Analista','M',4000),\n",
    "('Maria ','Santanna','Italiana','Dentista','F',6000),\n",
    "('Jeane ','Andrade','Portuguesa','Medica','F',7000)]\n",
    "\n",
    "colunas=['Primeiro_Nome','Ultimo_nome','Nacionalidade','Trabalho','Genero','Salario']\n",
    "\n",
    "datafparquet=spark.createDataFrame(dados,colunas)\n",
    "datafparquet.show()"
   ]
  },
  {
   "cell_type": "code",
   "execution_count": 0,
   "metadata": {
    "application/vnd.databricks.v1+cell": {
     "cellMetadata": {
      "byteLimit": 2048000,
      "rowLimit": 10000
     },
     "inputWidgets": {},
     "nuid": "cec619e1-c7a9-4fa9-89b5-1240c8d41d69",
     "showTitle": false,
     "title": ""
    }
   },
   "outputs": [],
   "source": [
    "#criando o arquivo parquet\n",
    "datafparquet.write.parquet(\"/FileStore/tables/parquet/pessoal.parquet\")"
   ]
  },
  {
   "cell_type": "code",
   "execution_count": 0,
   "metadata": {
    "application/vnd.databricks.v1+cell": {
     "cellMetadata": {
      "byteLimit": 2048000,
      "rowLimit": 10000
     },
     "inputWidgets": {},
     "nuid": "600df605-9832-4e8d-a55c-7b68827d99a3",
     "showTitle": false,
     "title": ""
    }
   },
   "outputs": [],
   "source": [
    "#Permite uma atualização do arquivo parquet\n",
    "datafparquet.write.mode('overwrite').parquet('/FileStore/tables/parquet/pessoal.parquet')"
   ]
  },
  {
   "cell_type": "code",
   "execution_count": 0,
   "metadata": {
    "application/vnd.databricks.v1+cell": {
     "cellMetadata": {
      "byteLimit": 2048000,
      "rowLimit": 10000
     },
     "inputWidgets": {},
     "nuid": "fa17e529-998e-4a92-a351-c6d6c59a26e1",
     "showTitle": false,
     "title": ""
    }
   },
   "outputs": [
    {
     "output_type": "stream",
     "name": "stdout",
     "output_type": "stream",
     "text": [
      "+-------------+-----------+-------------+---------+------+-------+\n|Primeiro_Nome|Ultimo_nome|Nacionalidade| Trabalho|Genero|Salario|\n+-------------+-----------+-------------+---------+------+-------+\n|    Grimaldo |   Oliveira|   Brasileira|Professor|     M|   3000|\n|     Roberto |     Carlos|   Brasileira| Analista|     M|   4000|\n|       Maria |   Santanna|     Italiana| Dentista|     F|   6000|\n|       Jeane |    Andrade|   Portuguesa|   Medica|     F|   7000|\n|         Ana |     Santos|   Portuguesa|    Atriz|     F|   4000|\n+-------------+-----------+-------------+---------+------+-------+\n\n"
     ]
    }
   ],
   "source": [
    "#Realizando uma atualização do arquivo parquet\n",
    "datafleitura= spark.read.parquet(\"/FileStore/tables/parquet/pessoal.parquet\")\n",
    "datafleitura.show()"
   ]
  },
  {
   "cell_type": "code",
   "execution_count": 0,
   "metadata": {
    "application/vnd.databricks.v1+cell": {
     "cellMetadata": {
      "byteLimit": 2048000,
      "rowLimit": 10000
     },
     "inputWidgets": {},
     "nuid": "0da01067-9c46-4a72-854a-59a549ea5eb7",
     "showTitle": false,
     "title": ""
    }
   },
   "outputs": [
    {
     "output_type": "stream",
     "name": "stdout",
     "output_type": "stream",
     "text": [
      "+-------------+-----------+-------------+--------+------+-------+\n|Primeiro_Nome|Ultimo_nome|Nacionalidade|Trabalho|Genero|Salario|\n+-------------+-----------+-------------+--------+------+-------+\n|       Maria |   Santanna|     Italiana|Dentista|     F|   6000|\n|       Jeane |    Andrade|   Portuguesa|  Medica|     F|   7000|\n+-------------+-----------+-------------+--------+------+-------+\n\n"
     ]
    }
   ],
   "source": [
    "#Criando uma consulta em SQL\n",
    "datafleitura.createOrReplaceTempView(\"Tabela_Parquet\")\n",
    "ResultSQL = spark.sql(\"select * from Tabela_Parquet where salario >= 6000 \")\n",
    "ResultSQL.show()"
   ]
  }
 ],
 "metadata": {
  "application/vnd.databricks.v1+notebook": {
   "dashboards": [],
   "environmentMetadata": null,
   "language": "python",
   "notebookMetadata": {
    "pythonIndentUnit": 4
   },
   "notebookName": "Parquet",
   "widgets": {}
  }
 },
 "nbformat": 4,
 "nbformat_minor": 0
}
