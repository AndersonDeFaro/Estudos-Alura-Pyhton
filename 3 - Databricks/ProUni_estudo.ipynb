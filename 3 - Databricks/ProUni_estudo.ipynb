{
 "cells": [
  {
   "cell_type": "code",
   "execution_count": 0,
   "metadata": {
    "application/vnd.databricks.v1+cell": {
     "cellMetadata": {
      "byteLimit": 2048000,
      "rowLimit": 10000
     },
     "inputWidgets": {},
     "nuid": "34d815f5-26a3-4a6a-adbd-1b6bcfe6d45b",
     "showTitle": false,
     "title": ""
    }
   },
   "outputs": [],
   "source": [
    "local_do_arquivo = '/FileStore/cursos_prouni.csv'"
   ]
  },
  {
   "cell_type": "code",
   "execution_count": 0,
   "metadata": {
    "application/vnd.databricks.v1+cell": {
     "cellMetadata": {
      "byteLimit": 2048000,
      "rowLimit": 10000
     },
     "inputWidgets": {},
     "nuid": "7389a726-ae73-4b0e-92a1-d24b23300298",
     "showTitle": false,
     "title": ""
    }
   },
   "outputs": [],
   "source": [
    "import pyspark.pandas as ps\n",
    "\n",
    "df = ps.read_csv(local_do_arquivo, index_col='curso_id')"
   ]
  },
  {
   "cell_type": "code",
   "execution_count": 0,
   "metadata": {
    "application/vnd.databricks.v1+cell": {
     "cellMetadata": {
      "byteLimit": 2048000,
      "rowLimit": 10000
     },
     "inputWidgets": {},
     "nuid": "9493df64-2ac6-41b9-b71c-3f50b255c6df",
     "showTitle": false,
     "title": ""
    }
   },
   "outputs": [
    {
     "output_type": "display_data",
     "data": {
      "text/html": [
       "<div>\n",
       "<style scoped>\n",
       "    .dataframe tbody tr th:only-of-type {\n",
       "        vertical-align: middle;\n",
       "    }\n",
       "\n",
       "    .dataframe tbody tr th {\n",
       "        vertical-align: top;\n",
       "    }\n",
       "\n",
       "    .dataframe thead th {\n",
       "        text-align: right;\n",
       "    }\n",
       "</style>\n",
       "<table border=\"1\" class=\"dataframe\">\n",
       "  <thead>\n",
       "    <tr style=\"text-align: right;\">\n",
       "      <th></th>\n",
       "      <th>grau</th>\n",
       "      <th>turno</th>\n",
       "      <th>mensalidade</th>\n",
       "      <th>bolsa_integral_cotas</th>\n",
       "      <th>bolsa_integral_ampla</th>\n",
       "      <th>bolsa_parcial_cotas</th>\n",
       "      <th>bolsa_parcial_ampla</th>\n",
       "      <th>curso_busca</th>\n",
       "      <th>cidade_busca</th>\n",
       "      <th>uf_busca</th>\n",
       "      <th>cidade_filtro</th>\n",
       "      <th>universidade_nome</th>\n",
       "      <th>campus_nome</th>\n",
       "      <th>campus_id</th>\n",
       "      <th>nome</th>\n",
       "      <th>nota_integral_ampla</th>\n",
       "      <th>nota_integral_cotas</th>\n",
       "      <th>nota_parcial_ampla</th>\n",
       "      <th>nota_parcial_cotas</th>\n",
       "    </tr>\n",
       "    <tr>\n",
       "      <th>curso_id</th>\n",
       "      <th></th>\n",
       "      <th></th>\n",
       "      <th></th>\n",
       "      <th></th>\n",
       "      <th></th>\n",
       "      <th></th>\n",
       "      <th></th>\n",
       "      <th></th>\n",
       "      <th></th>\n",
       "      <th></th>\n",
       "      <th></th>\n",
       "      <th></th>\n",
       "      <th></th>\n",
       "      <th></th>\n",
       "      <th></th>\n",
       "      <th></th>\n",
       "      <th></th>\n",
       "      <th></th>\n",
       "      <th></th>\n",
       "    </tr>\n",
       "  </thead>\n",
       "  <tbody>\n",
       "    <tr>\n",
       "      <th>706710394154</th>\n",
       "      <td>Bacharelado</td>\n",
       "      <td>Integral</td>\n",
       "      <td>9999.99</td>\n",
       "      <td>15</td>\n",
       "      <td>14.0</td>\n",
       "      <td>NaN</td>\n",
       "      <td>NaN</td>\n",
       "      <td>Medicina</td>\n",
       "      <td>Campo Grande</td>\n",
       "      <td>MS</td>\n",
       "      <td>NTAwMjAwNDAyNzA0</td>\n",
       "      <td>Universidade Anhanguera - UNIDERP</td>\n",
       "      <td>CAMPO GRANDE - SEDE - Miguel Couto</td>\n",
       "      <td>706710</td>\n",
       "      <td>Medicina</td>\n",
       "      <td>740.22</td>\n",
       "      <td>726.46</td>\n",
       "      <td>NaN</td>\n",
       "      <td>NaN</td>\n",
       "    </tr>\n",
       "    <tr>\n",
       "      <th>104191210567043</th>\n",
       "      <td>Bacharelado</td>\n",
       "      <td>Noturno</td>\n",
       "      <td>9836.40</td>\n",
       "      <td>1</td>\n",
       "      <td>NaN</td>\n",
       "      <td>NaN</td>\n",
       "      <td>NaN</td>\n",
       "      <td>Enfermagem</td>\n",
       "      <td>Crateus</td>\n",
       "      <td>CE</td>\n",
       "      <td>MjMwNDAxODA0MTAz</td>\n",
       "      <td>Faculdade Princesa do Oeste - FPO</td>\n",
       "      <td>UNIDADE SEDE - São Vicente</td>\n",
       "      <td>1041912</td>\n",
       "      <td>Enfermagem</td>\n",
       "      <td>663.36</td>\n",
       "      <td>NaN</td>\n",
       "      <td>NaN</td>\n",
       "      <td>NaN</td>\n",
       "    </tr>\n",
       "    <tr>\n",
       "      <th>1002328574024</th>\n",
       "      <td>Bacharelado</td>\n",
       "      <td>Integral</td>\n",
       "      <td>9715.61</td>\n",
       "      <td>2</td>\n",
       "      <td>5.0</td>\n",
       "      <td>6.0</td>\n",
       "      <td>10.0</td>\n",
       "      <td>Medicina</td>\n",
       "      <td>Sao Paulo</td>\n",
       "      <td>SP</td>\n",
       "      <td>MzUxNTA2MTUwMzA4</td>\n",
       "      <td>Universidade Cidade de São Paulo - UNICID</td>\n",
       "      <td>UNIVERSIDADE CIDADE DE SÃO PAULO - UNICID - SE...</td>\n",
       "      <td>1002328</td>\n",
       "      <td>Medicina</td>\n",
       "      <td>739.62</td>\n",
       "      <td>738.08</td>\n",
       "      <td>738.96</td>\n",
       "      <td>718.64</td>\n",
       "    </tr>\n",
       "    <tr>\n",
       "      <th>104191212798093</th>\n",
       "      <td>Bacharelado</td>\n",
       "      <td>Noturno</td>\n",
       "      <td>9689.34</td>\n",
       "      <td>3</td>\n",
       "      <td>2.0</td>\n",
       "      <td>NaN</td>\n",
       "      <td>NaN</td>\n",
       "      <td>Psicologia</td>\n",
       "      <td>Crateus</td>\n",
       "      <td>CE</td>\n",
       "      <td>MjMwNDAxODA0MTAz</td>\n",
       "      <td>Faculdade Princesa do Oeste - FPO</td>\n",
       "      <td>UNIDADE SEDE - São Vicente</td>\n",
       "      <td>1041912</td>\n",
       "      <td>Psicologia</td>\n",
       "      <td>651.00</td>\n",
       "      <td>652.22</td>\n",
       "      <td>NaN</td>\n",
       "      <td>NaN</td>\n",
       "    </tr>\n",
       "    <tr>\n",
       "      <th>65899611932754</th>\n",
       "      <td>Bacharelado</td>\n",
       "      <td>Integral</td>\n",
       "      <td>9674.34</td>\n",
       "      <td>4</td>\n",
       "      <td>1.0</td>\n",
       "      <td>5.0</td>\n",
       "      <td>2.0</td>\n",
       "      <td>Medicina</td>\n",
       "      <td>Rio Branco</td>\n",
       "      <td>AC</td>\n",
       "      <td>MTIwMjAwNDAwNDAx</td>\n",
       "      <td>Faculdade Barão do Rio Branco - FAB</td>\n",
       "      <td>CAMPUS  - RIO BRANCO - JARDIM EUROPA II - Jard...</td>\n",
       "      <td>658996</td>\n",
       "      <td>Medicina</td>\n",
       "      <td>758.32</td>\n",
       "      <td>723.94</td>\n",
       "      <td>734.92</td>\n",
       "      <td>711.26</td>\n",
       "    </tr>\n",
       "  </tbody>\n",
       "</table>\n",
       "</div>"
      ]
     },
     "metadata": {
      "application/vnd.databricks.v1+output": {
       "addedWidgets": {},
       "arguments": {},
       "data": "<div>\n<style scoped>\n    .dataframe tbody tr th:only-of-type {\n        vertical-align: middle;\n    }\n\n    .dataframe tbody tr th {\n        vertical-align: top;\n    }\n\n    .dataframe thead th {\n        text-align: right;\n    }\n</style>\n<table border=\"1\" class=\"dataframe\">\n  <thead>\n    <tr style=\"text-align: right;\">\n      <th></th>\n      <th>grau</th>\n      <th>turno</th>\n      <th>mensalidade</th>\n      <th>bolsa_integral_cotas</th>\n      <th>bolsa_integral_ampla</th>\n      <th>bolsa_parcial_cotas</th>\n      <th>bolsa_parcial_ampla</th>\n      <th>curso_busca</th>\n      <th>cidade_busca</th>\n      <th>uf_busca</th>\n      <th>cidade_filtro</th>\n      <th>universidade_nome</th>\n      <th>campus_nome</th>\n      <th>campus_id</th>\n      <th>nome</th>\n      <th>nota_integral_ampla</th>\n      <th>nota_integral_cotas</th>\n      <th>nota_parcial_ampla</th>\n      <th>nota_parcial_cotas</th>\n    </tr>\n    <tr>\n      <th>curso_id</th>\n      <th></th>\n      <th></th>\n      <th></th>\n      <th></th>\n      <th></th>\n      <th></th>\n      <th></th>\n      <th></th>\n      <th></th>\n      <th></th>\n      <th></th>\n      <th></th>\n      <th></th>\n      <th></th>\n      <th></th>\n      <th></th>\n      <th></th>\n      <th></th>\n      <th></th>\n    </tr>\n  </thead>\n  <tbody>\n    <tr>\n      <th>706710394154</th>\n      <td>Bacharelado</td>\n      <td>Integral</td>\n      <td>9999.99</td>\n      <td>15</td>\n      <td>14.0</td>\n      <td>NaN</td>\n      <td>NaN</td>\n      <td>Medicina</td>\n      <td>Campo Grande</td>\n      <td>MS</td>\n      <td>NTAwMjAwNDAyNzA0</td>\n      <td>Universidade Anhanguera - UNIDERP</td>\n      <td>CAMPO GRANDE - SEDE - Miguel Couto</td>\n      <td>706710</td>\n      <td>Medicina</td>\n      <td>740.22</td>\n      <td>726.46</td>\n      <td>NaN</td>\n      <td>NaN</td>\n    </tr>\n    <tr>\n      <th>104191210567043</th>\n      <td>Bacharelado</td>\n      <td>Noturno</td>\n      <td>9836.40</td>\n      <td>1</td>\n      <td>NaN</td>\n      <td>NaN</td>\n      <td>NaN</td>\n      <td>Enfermagem</td>\n      <td>Crateus</td>\n      <td>CE</td>\n      <td>MjMwNDAxODA0MTAz</td>\n      <td>Faculdade Princesa do Oeste - FPO</td>\n      <td>UNIDADE SEDE - São Vicente</td>\n      <td>1041912</td>\n      <td>Enfermagem</td>\n      <td>663.36</td>\n      <td>NaN</td>\n      <td>NaN</td>\n      <td>NaN</td>\n    </tr>\n    <tr>\n      <th>1002328574024</th>\n      <td>Bacharelado</td>\n      <td>Integral</td>\n      <td>9715.61</td>\n      <td>2</td>\n      <td>5.0</td>\n      <td>6.0</td>\n      <td>10.0</td>\n      <td>Medicina</td>\n      <td>Sao Paulo</td>\n      <td>SP</td>\n      <td>MzUxNTA2MTUwMzA4</td>\n      <td>Universidade Cidade de São Paulo - UNICID</td>\n      <td>UNIVERSIDADE CIDADE DE SÃO PAULO - UNICID - SE...</td>\n      <td>1002328</td>\n      <td>Medicina</td>\n      <td>739.62</td>\n      <td>738.08</td>\n      <td>738.96</td>\n      <td>718.64</td>\n    </tr>\n    <tr>\n      <th>104191212798093</th>\n      <td>Bacharelado</td>\n      <td>Noturno</td>\n      <td>9689.34</td>\n      <td>3</td>\n      <td>2.0</td>\n      <td>NaN</td>\n      <td>NaN</td>\n      <td>Psicologia</td>\n      <td>Crateus</td>\n      <td>CE</td>\n      <td>MjMwNDAxODA0MTAz</td>\n      <td>Faculdade Princesa do Oeste - FPO</td>\n      <td>UNIDADE SEDE - São Vicente</td>\n      <td>1041912</td>\n      <td>Psicologia</td>\n      <td>651.00</td>\n      <td>652.22</td>\n      <td>NaN</td>\n      <td>NaN</td>\n    </tr>\n    <tr>\n      <th>65899611932754</th>\n      <td>Bacharelado</td>\n      <td>Integral</td>\n      <td>9674.34</td>\n      <td>4</td>\n      <td>1.0</td>\n      <td>5.0</td>\n      <td>2.0</td>\n      <td>Medicina</td>\n      <td>Rio Branco</td>\n      <td>AC</td>\n      <td>MTIwMjAwNDAwNDAx</td>\n      <td>Faculdade Barão do Rio Branco - FAB</td>\n      <td>CAMPUS  - RIO BRANCO - JARDIM EUROPA II - Jard...</td>\n      <td>658996</td>\n      <td>Medicina</td>\n      <td>758.32</td>\n      <td>723.94</td>\n      <td>734.92</td>\n      <td>711.26</td>\n    </tr>\n  </tbody>\n</table>\n</div>",
       "datasetInfos": [],
       "metadata": {},
       "removedWidgets": [],
       "textData": null,
       "type": "htmlSandbox"
      }
     },
     "output_type": "display_data"
    }
   ],
   "source": [
    "df.head()"
   ]
  },
  {
   "cell_type": "code",
   "execution_count": 0,
   "metadata": {
    "application/vnd.databricks.v1+cell": {
     "cellMetadata": {
      "byteLimit": 2048000,
      "rowLimit": 10000
     },
     "inputWidgets": {},
     "nuid": "47cb3021-dc2e-4aa7-a92e-623ca5b8aa89",
     "showTitle": false,
     "title": ""
    }
   },
   "outputs": [
    {
     "output_type": "stream",
     "name": "stdout",
     "output_type": "stream",
     "text": [
      "Out[21]: (41447, 19)"
     ]
    }
   ],
   "source": [
    "df.shape"
   ]
  },
  {
   "cell_type": "code",
   "execution_count": 0,
   "metadata": {
    "application/vnd.databricks.v1+cell": {
     "cellMetadata": {
      "byteLimit": 2048000,
      "rowLimit": 10000
     },
     "inputWidgets": {},
     "nuid": "9e3f512f-98e3-4d63-aa22-2da72a5ea10c",
     "showTitle": false,
     "title": ""
    }
   },
   "outputs": [
    {
     "output_type": "stream",
     "name": "stdout",
     "output_type": "stream",
     "text": [
      "Out[22]: 41447"
     ]
    }
   ],
   "source": [
    "df['curso_busca'].equals(df['nome']).sum()"
   ]
  },
  {
   "cell_type": "code",
   "execution_count": 0,
   "metadata": {
    "application/vnd.databricks.v1+cell": {
     "cellMetadata": {
      "byteLimit": 2048000,
      "rowLimit": 10000
     },
     "inputWidgets": {},
     "nuid": "83ff122c-077b-463d-8c1d-0b5a3be80c1f",
     "showTitle": false,
     "title": ""
    }
   },
   "outputs": [],
   "source": [
    "df = df.drop(['curso_busca'], axis=1)"
   ]
  },
  {
   "cell_type": "code",
   "execution_count": 0,
   "metadata": {
    "application/vnd.databricks.v1+cell": {
     "cellMetadata": {
      "byteLimit": 2048000,
      "rowLimit": 10000
     },
     "inputWidgets": {},
     "nuid": "1a1173a6-deb4-4df0-97bd-f6f607060bfb",
     "showTitle": false,
     "title": ""
    }
   },
   "outputs": [
    {
     "output_type": "display_data",
     "data": {
      "text/html": [
       "<div>\n",
       "<style scoped>\n",
       "    .dataframe tbody tr th:only-of-type {\n",
       "        vertical-align: middle;\n",
       "    }\n",
       "\n",
       "    .dataframe tbody tr th {\n",
       "        vertical-align: top;\n",
       "    }\n",
       "\n",
       "    .dataframe thead th {\n",
       "        text-align: right;\n",
       "    }\n",
       "</style>\n",
       "<table border=\"1\" class=\"dataframe\">\n",
       "  <thead>\n",
       "    <tr style=\"text-align: right;\">\n",
       "      <th></th>\n",
       "      <th>grau</th>\n",
       "      <th>turno</th>\n",
       "      <th>mensalidade</th>\n",
       "      <th>bolsa_integral_cotas</th>\n",
       "      <th>bolsa_integral_ampla</th>\n",
       "      <th>bolsa_parcial_cotas</th>\n",
       "      <th>bolsa_parcial_ampla</th>\n",
       "      <th>cidade_busca</th>\n",
       "      <th>uf_busca</th>\n",
       "      <th>cidade_filtro</th>\n",
       "      <th>universidade_nome</th>\n",
       "      <th>campus_nome</th>\n",
       "      <th>campus_id</th>\n",
       "      <th>nome</th>\n",
       "      <th>nota_integral_ampla</th>\n",
       "      <th>nota_integral_cotas</th>\n",
       "      <th>nota_parcial_ampla</th>\n",
       "      <th>nota_parcial_cotas</th>\n",
       "    </tr>\n",
       "    <tr>\n",
       "      <th>curso_id</th>\n",
       "      <th></th>\n",
       "      <th></th>\n",
       "      <th></th>\n",
       "      <th></th>\n",
       "      <th></th>\n",
       "      <th></th>\n",
       "      <th></th>\n",
       "      <th></th>\n",
       "      <th></th>\n",
       "      <th></th>\n",
       "      <th></th>\n",
       "      <th></th>\n",
       "      <th></th>\n",
       "      <th></th>\n",
       "      <th></th>\n",
       "      <th></th>\n",
       "      <th></th>\n",
       "      <th></th>\n",
       "    </tr>\n",
       "  </thead>\n",
       "  <tbody>\n",
       "    <tr>\n",
       "      <th>706710394154</th>\n",
       "      <td>Bacharelado</td>\n",
       "      <td>Integral</td>\n",
       "      <td>9999.99</td>\n",
       "      <td>15</td>\n",
       "      <td>14.0</td>\n",
       "      <td>NaN</td>\n",
       "      <td>NaN</td>\n",
       "      <td>Campo Grande</td>\n",
       "      <td>MS</td>\n",
       "      <td>NTAwMjAwNDAyNzA0</td>\n",
       "      <td>Universidade Anhanguera - UNIDERP</td>\n",
       "      <td>CAMPO GRANDE - SEDE - Miguel Couto</td>\n",
       "      <td>706710</td>\n",
       "      <td>Medicina</td>\n",
       "      <td>740.22</td>\n",
       "      <td>726.46</td>\n",
       "      <td>NaN</td>\n",
       "      <td>NaN</td>\n",
       "    </tr>\n",
       "    <tr>\n",
       "      <th>104191210567043</th>\n",
       "      <td>Bacharelado</td>\n",
       "      <td>Noturno</td>\n",
       "      <td>9836.40</td>\n",
       "      <td>1</td>\n",
       "      <td>NaN</td>\n",
       "      <td>NaN</td>\n",
       "      <td>NaN</td>\n",
       "      <td>Crateus</td>\n",
       "      <td>CE</td>\n",
       "      <td>MjMwNDAxODA0MTAz</td>\n",
       "      <td>Faculdade Princesa do Oeste - FPO</td>\n",
       "      <td>UNIDADE SEDE - São Vicente</td>\n",
       "      <td>1041912</td>\n",
       "      <td>Enfermagem</td>\n",
       "      <td>663.36</td>\n",
       "      <td>NaN</td>\n",
       "      <td>NaN</td>\n",
       "      <td>NaN</td>\n",
       "    </tr>\n",
       "    <tr>\n",
       "      <th>1002328574024</th>\n",
       "      <td>Bacharelado</td>\n",
       "      <td>Integral</td>\n",
       "      <td>9715.61</td>\n",
       "      <td>2</td>\n",
       "      <td>5.0</td>\n",
       "      <td>6.0</td>\n",
       "      <td>10.0</td>\n",
       "      <td>Sao Paulo</td>\n",
       "      <td>SP</td>\n",
       "      <td>MzUxNTA2MTUwMzA4</td>\n",
       "      <td>Universidade Cidade de São Paulo - UNICID</td>\n",
       "      <td>UNIVERSIDADE CIDADE DE SÃO PAULO - UNICID - SE...</td>\n",
       "      <td>1002328</td>\n",
       "      <td>Medicina</td>\n",
       "      <td>739.62</td>\n",
       "      <td>738.08</td>\n",
       "      <td>738.96</td>\n",
       "      <td>718.64</td>\n",
       "    </tr>\n",
       "    <tr>\n",
       "      <th>104191212798093</th>\n",
       "      <td>Bacharelado</td>\n",
       "      <td>Noturno</td>\n",
       "      <td>9689.34</td>\n",
       "      <td>3</td>\n",
       "      <td>2.0</td>\n",
       "      <td>NaN</td>\n",
       "      <td>NaN</td>\n",
       "      <td>Crateus</td>\n",
       "      <td>CE</td>\n",
       "      <td>MjMwNDAxODA0MTAz</td>\n",
       "      <td>Faculdade Princesa do Oeste - FPO</td>\n",
       "      <td>UNIDADE SEDE - São Vicente</td>\n",
       "      <td>1041912</td>\n",
       "      <td>Psicologia</td>\n",
       "      <td>651.00</td>\n",
       "      <td>652.22</td>\n",
       "      <td>NaN</td>\n",
       "      <td>NaN</td>\n",
       "    </tr>\n",
       "    <tr>\n",
       "      <th>65899611932754</th>\n",
       "      <td>Bacharelado</td>\n",
       "      <td>Integral</td>\n",
       "      <td>9674.34</td>\n",
       "      <td>4</td>\n",
       "      <td>1.0</td>\n",
       "      <td>5.0</td>\n",
       "      <td>2.0</td>\n",
       "      <td>Rio Branco</td>\n",
       "      <td>AC</td>\n",
       "      <td>MTIwMjAwNDAwNDAx</td>\n",
       "      <td>Faculdade Barão do Rio Branco - FAB</td>\n",
       "      <td>CAMPUS  - RIO BRANCO - JARDIM EUROPA II - Jard...</td>\n",
       "      <td>658996</td>\n",
       "      <td>Medicina</td>\n",
       "      <td>758.32</td>\n",
       "      <td>723.94</td>\n",
       "      <td>734.92</td>\n",
       "      <td>711.26</td>\n",
       "    </tr>\n",
       "  </tbody>\n",
       "</table>\n",
       "</div>"
      ]
     },
     "metadata": {
      "application/vnd.databricks.v1+output": {
       "addedWidgets": {},
       "arguments": {},
       "data": "<div>\n<style scoped>\n    .dataframe tbody tr th:only-of-type {\n        vertical-align: middle;\n    }\n\n    .dataframe tbody tr th {\n        vertical-align: top;\n    }\n\n    .dataframe thead th {\n        text-align: right;\n    }\n</style>\n<table border=\"1\" class=\"dataframe\">\n  <thead>\n    <tr style=\"text-align: right;\">\n      <th></th>\n      <th>grau</th>\n      <th>turno</th>\n      <th>mensalidade</th>\n      <th>bolsa_integral_cotas</th>\n      <th>bolsa_integral_ampla</th>\n      <th>bolsa_parcial_cotas</th>\n      <th>bolsa_parcial_ampla</th>\n      <th>cidade_busca</th>\n      <th>uf_busca</th>\n      <th>cidade_filtro</th>\n      <th>universidade_nome</th>\n      <th>campus_nome</th>\n      <th>campus_id</th>\n      <th>nome</th>\n      <th>nota_integral_ampla</th>\n      <th>nota_integral_cotas</th>\n      <th>nota_parcial_ampla</th>\n      <th>nota_parcial_cotas</th>\n    </tr>\n    <tr>\n      <th>curso_id</th>\n      <th></th>\n      <th></th>\n      <th></th>\n      <th></th>\n      <th></th>\n      <th></th>\n      <th></th>\n      <th></th>\n      <th></th>\n      <th></th>\n      <th></th>\n      <th></th>\n      <th></th>\n      <th></th>\n      <th></th>\n      <th></th>\n      <th></th>\n      <th></th>\n    </tr>\n  </thead>\n  <tbody>\n    <tr>\n      <th>706710394154</th>\n      <td>Bacharelado</td>\n      <td>Integral</td>\n      <td>9999.99</td>\n      <td>15</td>\n      <td>14.0</td>\n      <td>NaN</td>\n      <td>NaN</td>\n      <td>Campo Grande</td>\n      <td>MS</td>\n      <td>NTAwMjAwNDAyNzA0</td>\n      <td>Universidade Anhanguera - UNIDERP</td>\n      <td>CAMPO GRANDE - SEDE - Miguel Couto</td>\n      <td>706710</td>\n      <td>Medicina</td>\n      <td>740.22</td>\n      <td>726.46</td>\n      <td>NaN</td>\n      <td>NaN</td>\n    </tr>\n    <tr>\n      <th>104191210567043</th>\n      <td>Bacharelado</td>\n      <td>Noturno</td>\n      <td>9836.40</td>\n      <td>1</td>\n      <td>NaN</td>\n      <td>NaN</td>\n      <td>NaN</td>\n      <td>Crateus</td>\n      <td>CE</td>\n      <td>MjMwNDAxODA0MTAz</td>\n      <td>Faculdade Princesa do Oeste - FPO</td>\n      <td>UNIDADE SEDE - São Vicente</td>\n      <td>1041912</td>\n      <td>Enfermagem</td>\n      <td>663.36</td>\n      <td>NaN</td>\n      <td>NaN</td>\n      <td>NaN</td>\n    </tr>\n    <tr>\n      <th>1002328574024</th>\n      <td>Bacharelado</td>\n      <td>Integral</td>\n      <td>9715.61</td>\n      <td>2</td>\n      <td>5.0</td>\n      <td>6.0</td>\n      <td>10.0</td>\n      <td>Sao Paulo</td>\n      <td>SP</td>\n      <td>MzUxNTA2MTUwMzA4</td>\n      <td>Universidade Cidade de São Paulo - UNICID</td>\n      <td>UNIVERSIDADE CIDADE DE SÃO PAULO - UNICID - SE...</td>\n      <td>1002328</td>\n      <td>Medicina</td>\n      <td>739.62</td>\n      <td>738.08</td>\n      <td>738.96</td>\n      <td>718.64</td>\n    </tr>\n    <tr>\n      <th>104191212798093</th>\n      <td>Bacharelado</td>\n      <td>Noturno</td>\n      <td>9689.34</td>\n      <td>3</td>\n      <td>2.0</td>\n      <td>NaN</td>\n      <td>NaN</td>\n      <td>Crateus</td>\n      <td>CE</td>\n      <td>MjMwNDAxODA0MTAz</td>\n      <td>Faculdade Princesa do Oeste - FPO</td>\n      <td>UNIDADE SEDE - São Vicente</td>\n      <td>1041912</td>\n      <td>Psicologia</td>\n      <td>651.00</td>\n      <td>652.22</td>\n      <td>NaN</td>\n      <td>NaN</td>\n    </tr>\n    <tr>\n      <th>65899611932754</th>\n      <td>Bacharelado</td>\n      <td>Integral</td>\n      <td>9674.34</td>\n      <td>4</td>\n      <td>1.0</td>\n      <td>5.0</td>\n      <td>2.0</td>\n      <td>Rio Branco</td>\n      <td>AC</td>\n      <td>MTIwMjAwNDAwNDAx</td>\n      <td>Faculdade Barão do Rio Branco - FAB</td>\n      <td>CAMPUS  - RIO BRANCO - JARDIM EUROPA II - Jard...</td>\n      <td>658996</td>\n      <td>Medicina</td>\n      <td>758.32</td>\n      <td>723.94</td>\n      <td>734.92</td>\n      <td>711.26</td>\n    </tr>\n  </tbody>\n</table>\n</div>",
       "datasetInfos": [],
       "metadata": {},
       "removedWidgets": [],
       "textData": null,
       "type": "htmlSandbox"
      }
     },
     "output_type": "display_data"
    }
   ],
   "source": [
    "df.head()"
   ]
  },
  {
   "cell_type": "code",
   "execution_count": 0,
   "metadata": {
    "application/vnd.databricks.v1+cell": {
     "cellMetadata": {
      "byteLimit": 2048000,
      "rowLimit": 10000
     },
     "inputWidgets": {},
     "nuid": "82516eec-3e5e-447c-b920-cfdc2ecf8039",
     "showTitle": false,
     "title": ""
    }
   },
   "outputs": [],
   "source": [
    "df = df.rename(columns={'nome':'nome_curso'})"
   ]
  },
  {
   "cell_type": "code",
   "execution_count": 0,
   "metadata": {
    "application/vnd.databricks.v1+cell": {
     "cellMetadata": {
      "byteLimit": 2048000,
      "rowLimit": 10000
     },
     "inputWidgets": {},
     "nuid": "06e93b6a-6066-4975-9358-77b0a8fed6fb",
     "showTitle": false,
     "title": ""
    }
   },
   "outputs": [
    {
     "output_type": "display_data",
     "data": {
      "text/html": [
       "<div>\n",
       "<style scoped>\n",
       "    .dataframe tbody tr th:only-of-type {\n",
       "        vertical-align: middle;\n",
       "    }\n",
       "\n",
       "    .dataframe tbody tr th {\n",
       "        vertical-align: top;\n",
       "    }\n",
       "\n",
       "    .dataframe thead th {\n",
       "        text-align: right;\n",
       "    }\n",
       "</style>\n",
       "<table border=\"1\" class=\"dataframe\">\n",
       "  <thead>\n",
       "    <tr style=\"text-align: right;\">\n",
       "      <th></th>\n",
       "      <th>grau</th>\n",
       "      <th>turno</th>\n",
       "      <th>mensalidade</th>\n",
       "      <th>bolsa_integral_cotas</th>\n",
       "      <th>bolsa_integral_ampla</th>\n",
       "      <th>bolsa_parcial_cotas</th>\n",
       "      <th>bolsa_parcial_ampla</th>\n",
       "      <th>cidade_busca</th>\n",
       "      <th>uf_busca</th>\n",
       "      <th>cidade_filtro</th>\n",
       "      <th>universidade_nome</th>\n",
       "      <th>campus_nome</th>\n",
       "      <th>campus_id</th>\n",
       "      <th>nome_curso</th>\n",
       "      <th>nota_integral_ampla</th>\n",
       "      <th>nota_integral_cotas</th>\n",
       "      <th>nota_parcial_ampla</th>\n",
       "      <th>nota_parcial_cotas</th>\n",
       "    </tr>\n",
       "    <tr>\n",
       "      <th>curso_id</th>\n",
       "      <th></th>\n",
       "      <th></th>\n",
       "      <th></th>\n",
       "      <th></th>\n",
       "      <th></th>\n",
       "      <th></th>\n",
       "      <th></th>\n",
       "      <th></th>\n",
       "      <th></th>\n",
       "      <th></th>\n",
       "      <th></th>\n",
       "      <th></th>\n",
       "      <th></th>\n",
       "      <th></th>\n",
       "      <th></th>\n",
       "      <th></th>\n",
       "      <th></th>\n",
       "      <th></th>\n",
       "    </tr>\n",
       "  </thead>\n",
       "  <tbody>\n",
       "    <tr>\n",
       "      <th>706710394154</th>\n",
       "      <td>Bacharelado</td>\n",
       "      <td>Integral</td>\n",
       "      <td>9999.99</td>\n",
       "      <td>15</td>\n",
       "      <td>14.0</td>\n",
       "      <td>NaN</td>\n",
       "      <td>NaN</td>\n",
       "      <td>Campo Grande</td>\n",
       "      <td>MS</td>\n",
       "      <td>NTAwMjAwNDAyNzA0</td>\n",
       "      <td>Universidade Anhanguera - UNIDERP</td>\n",
       "      <td>CAMPO GRANDE - SEDE - Miguel Couto</td>\n",
       "      <td>706710</td>\n",
       "      <td>Medicina</td>\n",
       "      <td>740.22</td>\n",
       "      <td>726.46</td>\n",
       "      <td>NaN</td>\n",
       "      <td>NaN</td>\n",
       "    </tr>\n",
       "    <tr>\n",
       "      <th>104191210567043</th>\n",
       "      <td>Bacharelado</td>\n",
       "      <td>Noturno</td>\n",
       "      <td>9836.40</td>\n",
       "      <td>1</td>\n",
       "      <td>NaN</td>\n",
       "      <td>NaN</td>\n",
       "      <td>NaN</td>\n",
       "      <td>Crateus</td>\n",
       "      <td>CE</td>\n",
       "      <td>MjMwNDAxODA0MTAz</td>\n",
       "      <td>Faculdade Princesa do Oeste - FPO</td>\n",
       "      <td>UNIDADE SEDE - São Vicente</td>\n",
       "      <td>1041912</td>\n",
       "      <td>Enfermagem</td>\n",
       "      <td>663.36</td>\n",
       "      <td>NaN</td>\n",
       "      <td>NaN</td>\n",
       "      <td>NaN</td>\n",
       "    </tr>\n",
       "    <tr>\n",
       "      <th>1002328574024</th>\n",
       "      <td>Bacharelado</td>\n",
       "      <td>Integral</td>\n",
       "      <td>9715.61</td>\n",
       "      <td>2</td>\n",
       "      <td>5.0</td>\n",
       "      <td>6.0</td>\n",
       "      <td>10.0</td>\n",
       "      <td>Sao Paulo</td>\n",
       "      <td>SP</td>\n",
       "      <td>MzUxNTA2MTUwMzA4</td>\n",
       "      <td>Universidade Cidade de São Paulo - UNICID</td>\n",
       "      <td>UNIVERSIDADE CIDADE DE SÃO PAULO - UNICID - SE...</td>\n",
       "      <td>1002328</td>\n",
       "      <td>Medicina</td>\n",
       "      <td>739.62</td>\n",
       "      <td>738.08</td>\n",
       "      <td>738.96</td>\n",
       "      <td>718.64</td>\n",
       "    </tr>\n",
       "    <tr>\n",
       "      <th>104191212798093</th>\n",
       "      <td>Bacharelado</td>\n",
       "      <td>Noturno</td>\n",
       "      <td>9689.34</td>\n",
       "      <td>3</td>\n",
       "      <td>2.0</td>\n",
       "      <td>NaN</td>\n",
       "      <td>NaN</td>\n",
       "      <td>Crateus</td>\n",
       "      <td>CE</td>\n",
       "      <td>MjMwNDAxODA0MTAz</td>\n",
       "      <td>Faculdade Princesa do Oeste - FPO</td>\n",
       "      <td>UNIDADE SEDE - São Vicente</td>\n",
       "      <td>1041912</td>\n",
       "      <td>Psicologia</td>\n",
       "      <td>651.00</td>\n",
       "      <td>652.22</td>\n",
       "      <td>NaN</td>\n",
       "      <td>NaN</td>\n",
       "    </tr>\n",
       "    <tr>\n",
       "      <th>65899611932754</th>\n",
       "      <td>Bacharelado</td>\n",
       "      <td>Integral</td>\n",
       "      <td>9674.34</td>\n",
       "      <td>4</td>\n",
       "      <td>1.0</td>\n",
       "      <td>5.0</td>\n",
       "      <td>2.0</td>\n",
       "      <td>Rio Branco</td>\n",
       "      <td>AC</td>\n",
       "      <td>MTIwMjAwNDAwNDAx</td>\n",
       "      <td>Faculdade Barão do Rio Branco - FAB</td>\n",
       "      <td>CAMPUS  - RIO BRANCO - JARDIM EUROPA II - Jard...</td>\n",
       "      <td>658996</td>\n",
       "      <td>Medicina</td>\n",
       "      <td>758.32</td>\n",
       "      <td>723.94</td>\n",
       "      <td>734.92</td>\n",
       "      <td>711.26</td>\n",
       "    </tr>\n",
       "  </tbody>\n",
       "</table>\n",
       "</div>"
      ]
     },
     "metadata": {
      "application/vnd.databricks.v1+output": {
       "addedWidgets": {},
       "arguments": {},
       "data": "<div>\n<style scoped>\n    .dataframe tbody tr th:only-of-type {\n        vertical-align: middle;\n    }\n\n    .dataframe tbody tr th {\n        vertical-align: top;\n    }\n\n    .dataframe thead th {\n        text-align: right;\n    }\n</style>\n<table border=\"1\" class=\"dataframe\">\n  <thead>\n    <tr style=\"text-align: right;\">\n      <th></th>\n      <th>grau</th>\n      <th>turno</th>\n      <th>mensalidade</th>\n      <th>bolsa_integral_cotas</th>\n      <th>bolsa_integral_ampla</th>\n      <th>bolsa_parcial_cotas</th>\n      <th>bolsa_parcial_ampla</th>\n      <th>cidade_busca</th>\n      <th>uf_busca</th>\n      <th>cidade_filtro</th>\n      <th>universidade_nome</th>\n      <th>campus_nome</th>\n      <th>campus_id</th>\n      <th>nome_curso</th>\n      <th>nota_integral_ampla</th>\n      <th>nota_integral_cotas</th>\n      <th>nota_parcial_ampla</th>\n      <th>nota_parcial_cotas</th>\n    </tr>\n    <tr>\n      <th>curso_id</th>\n      <th></th>\n      <th></th>\n      <th></th>\n      <th></th>\n      <th></th>\n      <th></th>\n      <th></th>\n      <th></th>\n      <th></th>\n      <th></th>\n      <th></th>\n      <th></th>\n      <th></th>\n      <th></th>\n      <th></th>\n      <th></th>\n      <th></th>\n      <th></th>\n    </tr>\n  </thead>\n  <tbody>\n    <tr>\n      <th>706710394154</th>\n      <td>Bacharelado</td>\n      <td>Integral</td>\n      <td>9999.99</td>\n      <td>15</td>\n      <td>14.0</td>\n      <td>NaN</td>\n      <td>NaN</td>\n      <td>Campo Grande</td>\n      <td>MS</td>\n      <td>NTAwMjAwNDAyNzA0</td>\n      <td>Universidade Anhanguera - UNIDERP</td>\n      <td>CAMPO GRANDE - SEDE - Miguel Couto</td>\n      <td>706710</td>\n      <td>Medicina</td>\n      <td>740.22</td>\n      <td>726.46</td>\n      <td>NaN</td>\n      <td>NaN</td>\n    </tr>\n    <tr>\n      <th>104191210567043</th>\n      <td>Bacharelado</td>\n      <td>Noturno</td>\n      <td>9836.40</td>\n      <td>1</td>\n      <td>NaN</td>\n      <td>NaN</td>\n      <td>NaN</td>\n      <td>Crateus</td>\n      <td>CE</td>\n      <td>MjMwNDAxODA0MTAz</td>\n      <td>Faculdade Princesa do Oeste - FPO</td>\n      <td>UNIDADE SEDE - São Vicente</td>\n      <td>1041912</td>\n      <td>Enfermagem</td>\n      <td>663.36</td>\n      <td>NaN</td>\n      <td>NaN</td>\n      <td>NaN</td>\n    </tr>\n    <tr>\n      <th>1002328574024</th>\n      <td>Bacharelado</td>\n      <td>Integral</td>\n      <td>9715.61</td>\n      <td>2</td>\n      <td>5.0</td>\n      <td>6.0</td>\n      <td>10.0</td>\n      <td>Sao Paulo</td>\n      <td>SP</td>\n      <td>MzUxNTA2MTUwMzA4</td>\n      <td>Universidade Cidade de São Paulo - UNICID</td>\n      <td>UNIVERSIDADE CIDADE DE SÃO PAULO - UNICID - SE...</td>\n      <td>1002328</td>\n      <td>Medicina</td>\n      <td>739.62</td>\n      <td>738.08</td>\n      <td>738.96</td>\n      <td>718.64</td>\n    </tr>\n    <tr>\n      <th>104191212798093</th>\n      <td>Bacharelado</td>\n      <td>Noturno</td>\n      <td>9689.34</td>\n      <td>3</td>\n      <td>2.0</td>\n      <td>NaN</td>\n      <td>NaN</td>\n      <td>Crateus</td>\n      <td>CE</td>\n      <td>MjMwNDAxODA0MTAz</td>\n      <td>Faculdade Princesa do Oeste - FPO</td>\n      <td>UNIDADE SEDE - São Vicente</td>\n      <td>1041912</td>\n      <td>Psicologia</td>\n      <td>651.00</td>\n      <td>652.22</td>\n      <td>NaN</td>\n      <td>NaN</td>\n    </tr>\n    <tr>\n      <th>65899611932754</th>\n      <td>Bacharelado</td>\n      <td>Integral</td>\n      <td>9674.34</td>\n      <td>4</td>\n      <td>1.0</td>\n      <td>5.0</td>\n      <td>2.0</td>\n      <td>Rio Branco</td>\n      <td>AC</td>\n      <td>MTIwMjAwNDAwNDAx</td>\n      <td>Faculdade Barão do Rio Branco - FAB</td>\n      <td>CAMPUS  - RIO BRANCO - JARDIM EUROPA II - Jard...</td>\n      <td>658996</td>\n      <td>Medicina</td>\n      <td>758.32</td>\n      <td>723.94</td>\n      <td>734.92</td>\n      <td>711.26</td>\n    </tr>\n  </tbody>\n</table>\n</div>",
       "datasetInfos": [],
       "metadata": {},
       "removedWidgets": [],
       "textData": null,
       "type": "htmlSandbox"
      }
     },
     "output_type": "display_data"
    }
   ],
   "source": [
    "df.head()"
   ]
  },
  {
   "cell_type": "code",
   "execution_count": 0,
   "metadata": {
    "application/vnd.databricks.v1+cell": {
     "cellMetadata": {
      "byteLimit": 2048000,
      "rowLimit": 10000
     },
     "inputWidgets": {},
     "nuid": "945c8547-39f1-4b20-9109-a3bda7362b5c",
     "showTitle": false,
     "title": ""
    }
   },
   "outputs": [
    {
     "output_type": "stream",
     "name": "stdout",
     "output_type": "stream",
     "text": [
      "Out[31]: 124"
     ]
    }
   ],
   "source": [
    "df[df['nome_curso']=='Medicina']['nome_curso'].count()"
   ]
  },
  {
   "cell_type": "code",
   "execution_count": 0,
   "metadata": {
    "application/vnd.databricks.v1+cell": {
     "cellMetadata": {
      "byteLimit": 2048000,
      "rowLimit": 10000
     },
     "inputWidgets": {},
     "nuid": "09f71fb8-3ba8-43bd-85db-5a969ea8159d",
     "showTitle": false,
     "title": ""
    }
   },
   "outputs": [
    {
     "output_type": "stream",
     "name": "stdout",
     "output_type": "stream",
     "text": [
      "Out[34]: 0             Matutino\n1    Curso a Distância\n2           Vespertino\n3             Integral\n4              Noturno\nName: turno, dtype: object"
     ]
    }
   ],
   "source": [
    "df['turno'].unique()"
   ]
  },
  {
   "cell_type": "code",
   "execution_count": 0,
   "metadata": {
    "application/vnd.databricks.v1+cell": {
     "cellMetadata": {
      "byteLimit": 2048000,
      "rowLimit": 10000
     },
     "inputWidgets": {},
     "nuid": "0c65970c-d556-40f3-873f-04527232d6a1",
     "showTitle": false,
     "title": ""
    }
   },
   "outputs": [
    {
     "output_type": "display_data",
     "data": {
      "text/plain": [
       "\u001B[0;31m---------------------------------------------------------------------------\u001B[0m\n",
       "\u001B[0;31mKeyError\u001B[0m                                  Traceback (most recent call last)\n",
       "\u001B[0;32m<command-3081754168628037>\u001B[0m in \u001B[0;36m<cell line: 1>\u001B[0;34m()\u001B[0m\n",
       "\u001B[0;32m----> 1\u001B[0;31m \u001B[0mdf\u001B[0m\u001B[0;34m[\u001B[0m\u001B[0;34m(\u001B[0m\u001B[0mdf\u001B[0m\u001B[0;34m[\u001B[0m\u001B[0;34m'turno'\u001B[0m\u001B[0;34m==\u001B[0m\u001B[0;34m'Integral'\u001B[0m\u001B[0;34m]\u001B[0m\u001B[0;34m)\u001B[0m \u001B[0;34m&\u001B[0m \u001B[0;34m(\u001B[0m\u001B[0mdf\u001B[0m\u001B[0;34m[\u001B[0m\u001B[0;34m'nome_curso'\u001B[0m\u001B[0;34m]\u001B[0m\u001B[0;34m==\u001B[0m\u001B[0;34m'Medicina'\u001B[0m\u001B[0;34m)\u001B[0m\u001B[0;34m]\u001B[0m\u001B[0;34m[\u001B[0m\u001B[0;34m'nome_curso'\u001B[0m\u001B[0;34m]\u001B[0m\u001B[0;34m.\u001B[0m\u001B[0mcount\u001B[0m\u001B[0;34m(\u001B[0m\u001B[0;34m)\u001B[0m\u001B[0;34m\u001B[0m\u001B[0;34m\u001B[0m\u001B[0m\n",
       "\u001B[0m\n",
       "\u001B[0;32m/databricks/spark/python/pyspark/instrumentation_utils.py\u001B[0m in \u001B[0;36mwrapper\u001B[0;34m(*args, **kwargs)\u001B[0m\n",
       "\u001B[1;32m     46\u001B[0m             \u001B[0mstart\u001B[0m \u001B[0;34m=\u001B[0m \u001B[0mtime\u001B[0m\u001B[0;34m.\u001B[0m\u001B[0mperf_counter\u001B[0m\u001B[0;34m(\u001B[0m\u001B[0;34m)\u001B[0m\u001B[0;34m\u001B[0m\u001B[0;34m\u001B[0m\u001B[0m\n",
       "\u001B[1;32m     47\u001B[0m             \u001B[0;32mtry\u001B[0m\u001B[0;34m:\u001B[0m\u001B[0;34m\u001B[0m\u001B[0;34m\u001B[0m\u001B[0m\n",
       "\u001B[0;32m---> 48\u001B[0;31m                 \u001B[0mres\u001B[0m \u001B[0;34m=\u001B[0m \u001B[0mfunc\u001B[0m\u001B[0;34m(\u001B[0m\u001B[0;34m*\u001B[0m\u001B[0margs\u001B[0m\u001B[0;34m,\u001B[0m \u001B[0;34m**\u001B[0m\u001B[0mkwargs\u001B[0m\u001B[0;34m)\u001B[0m\u001B[0;34m\u001B[0m\u001B[0;34m\u001B[0m\u001B[0m\n",
       "\u001B[0m\u001B[1;32m     49\u001B[0m                 logger.log_success(\n",
       "\u001B[1;32m     50\u001B[0m                     \u001B[0mmodule_name\u001B[0m\u001B[0;34m,\u001B[0m \u001B[0mclass_name\u001B[0m\u001B[0;34m,\u001B[0m \u001B[0mfunction_name\u001B[0m\u001B[0;34m,\u001B[0m \u001B[0mtime\u001B[0m\u001B[0;34m.\u001B[0m\u001B[0mperf_counter\u001B[0m\u001B[0;34m(\u001B[0m\u001B[0;34m)\u001B[0m \u001B[0;34m-\u001B[0m \u001B[0mstart\u001B[0m\u001B[0;34m,\u001B[0m \u001B[0msignature\u001B[0m\u001B[0;34m\u001B[0m\u001B[0;34m\u001B[0m\u001B[0m\n",
       "\n",
       "\u001B[0;32m/databricks/spark/python/pyspark/pandas/frame.py\u001B[0m in \u001B[0;36m__getitem__\u001B[0;34m(self, key)\u001B[0m\n",
       "\u001B[1;32m  12389\u001B[0m             \u001B[0;32mreturn\u001B[0m \u001B[0mself\u001B[0m\u001B[0;34m.\u001B[0m\u001B[0mloc\u001B[0m\u001B[0;34m[\u001B[0m\u001B[0mkey\u001B[0m\u001B[0;34m]\u001B[0m\u001B[0;34m\u001B[0m\u001B[0;34m\u001B[0m\u001B[0m\n",
       "\u001B[1;32m  12390\u001B[0m         \u001B[0;32melif\u001B[0m \u001B[0mis_name_like_value\u001B[0m\u001B[0;34m(\u001B[0m\u001B[0mkey\u001B[0m\u001B[0;34m)\u001B[0m\u001B[0;34m:\u001B[0m\u001B[0;34m\u001B[0m\u001B[0;34m\u001B[0m\u001B[0m\n",
       "\u001B[0;32m> 12391\u001B[0;31m             \u001B[0;32mreturn\u001B[0m \u001B[0mself\u001B[0m\u001B[0;34m.\u001B[0m\u001B[0mloc\u001B[0m\u001B[0;34m[\u001B[0m\u001B[0;34m:\u001B[0m\u001B[0;34m,\u001B[0m \u001B[0mkey\u001B[0m\u001B[0;34m]\u001B[0m\u001B[0;34m\u001B[0m\u001B[0;34m\u001B[0m\u001B[0m\n",
       "\u001B[0m\u001B[1;32m  12392\u001B[0m         \u001B[0;32melif\u001B[0m \u001B[0mis_list_like\u001B[0m\u001B[0;34m(\u001B[0m\u001B[0mkey\u001B[0m\u001B[0;34m)\u001B[0m\u001B[0;34m:\u001B[0m\u001B[0;34m\u001B[0m\u001B[0;34m\u001B[0m\u001B[0m\n",
       "\u001B[1;32m  12393\u001B[0m             \u001B[0;32mreturn\u001B[0m \u001B[0mself\u001B[0m\u001B[0;34m.\u001B[0m\u001B[0mloc\u001B[0m\u001B[0;34m[\u001B[0m\u001B[0;34m:\u001B[0m\u001B[0;34m,\u001B[0m \u001B[0mlist\u001B[0m\u001B[0;34m(\u001B[0m\u001B[0mkey\u001B[0m\u001B[0;34m)\u001B[0m\u001B[0;34m]\u001B[0m\u001B[0;34m\u001B[0m\u001B[0;34m\u001B[0m\u001B[0m\n",
       "\n",
       "\u001B[0;32m/databricks/spark/python/pyspark/pandas/indexing.py\u001B[0m in \u001B[0;36m__getitem__\u001B[0;34m(self, key)\u001B[0m\n",
       "\u001B[1;32m    479\u001B[0m                 \u001B[0mreturns_series\u001B[0m\u001B[0;34m,\u001B[0m\u001B[0;34m\u001B[0m\u001B[0;34m\u001B[0m\u001B[0m\n",
       "\u001B[1;32m    480\u001B[0m                 \u001B[0mseries_name\u001B[0m\u001B[0;34m,\u001B[0m\u001B[0;34m\u001B[0m\u001B[0;34m\u001B[0m\u001B[0m\n",
       "\u001B[0;32m--> 481\u001B[0;31m             ) = self._select_cols(cols_sel)\n",
       "\u001B[0m\u001B[1;32m    482\u001B[0m \u001B[0;34m\u001B[0m\u001B[0m\n",
       "\u001B[1;32m    483\u001B[0m             \u001B[0;32mif\u001B[0m \u001B[0mcond\u001B[0m \u001B[0;32mis\u001B[0m \u001B[0;32mNone\u001B[0m \u001B[0;32mand\u001B[0m \u001B[0mlimit\u001B[0m \u001B[0;32mis\u001B[0m \u001B[0;32mNone\u001B[0m \u001B[0;32mand\u001B[0m \u001B[0mreturns_series\u001B[0m\u001B[0;34m:\u001B[0m\u001B[0;34m\u001B[0m\u001B[0;34m\u001B[0m\u001B[0m\n",
       "\n",
       "\u001B[0;32m/databricks/spark/python/pyspark/pandas/indexing.py\u001B[0m in \u001B[0;36m_select_cols\u001B[0;34m(self, cols_sel, missing_keys)\u001B[0m\n",
       "\u001B[1;32m    326\u001B[0m             \u001B[0;32mreturn\u001B[0m \u001B[0mself\u001B[0m\u001B[0;34m.\u001B[0m\u001B[0m_select_cols_by_iterable\u001B[0m\u001B[0;34m(\u001B[0m\u001B[0mcols_sel\u001B[0m\u001B[0;34m,\u001B[0m \u001B[0mmissing_keys\u001B[0m\u001B[0;34m)\u001B[0m\u001B[0;34m\u001B[0m\u001B[0;34m\u001B[0m\u001B[0m\n",
       "\u001B[1;32m    327\u001B[0m         \u001B[0;32melse\u001B[0m\u001B[0;34m:\u001B[0m\u001B[0;34m\u001B[0m\u001B[0;34m\u001B[0m\u001B[0m\n",
       "\u001B[0;32m--> 328\u001B[0;31m             \u001B[0;32mreturn\u001B[0m \u001B[0mself\u001B[0m\u001B[0;34m.\u001B[0m\u001B[0m_select_cols_else\u001B[0m\u001B[0;34m(\u001B[0m\u001B[0mcols_sel\u001B[0m\u001B[0;34m,\u001B[0m \u001B[0mmissing_keys\u001B[0m\u001B[0;34m)\u001B[0m\u001B[0;34m\u001B[0m\u001B[0;34m\u001B[0m\u001B[0m\n",
       "\u001B[0m\u001B[1;32m    329\u001B[0m \u001B[0;34m\u001B[0m\u001B[0m\n",
       "\u001B[1;32m    330\u001B[0m     \u001B[0;31m# Methods for row selection\u001B[0m\u001B[0;34m\u001B[0m\u001B[0;34m\u001B[0m\u001B[0;34m\u001B[0m\u001B[0m\n",
       "\n",
       "\u001B[0;32m/databricks/spark/python/pyspark/pandas/indexing.py\u001B[0m in \u001B[0;36m_select_cols_else\u001B[0;34m(self, cols_sel, missing_keys)\u001B[0m\n",
       "\u001B[1;32m   1384\u001B[0m         \u001B[0;32mif\u001B[0m \u001B[0;32mnot\u001B[0m \u001B[0mis_name_like_tuple\u001B[0m\u001B[0;34m(\u001B[0m\u001B[0mcols_sel\u001B[0m\u001B[0;34m)\u001B[0m\u001B[0;34m:\u001B[0m\u001B[0;34m\u001B[0m\u001B[0;34m\u001B[0m\u001B[0m\n",
       "\u001B[1;32m   1385\u001B[0m             \u001B[0mcols_sel\u001B[0m \u001B[0;34m=\u001B[0m \u001B[0;34m(\u001B[0m\u001B[0mcols_sel\u001B[0m\u001B[0;34m,\u001B[0m\u001B[0;34m)\u001B[0m\u001B[0;34m\u001B[0m\u001B[0;34m\u001B[0m\u001B[0m\n",
       "\u001B[0;32m-> 1386\u001B[0;31m         \u001B[0;32mreturn\u001B[0m \u001B[0mself\u001B[0m\u001B[0;34m.\u001B[0m\u001B[0m_get_from_multiindex_column\u001B[0m\u001B[0;34m(\u001B[0m\u001B[0mcols_sel\u001B[0m\u001B[0;34m,\u001B[0m \u001B[0mmissing_keys\u001B[0m\u001B[0;34m)\u001B[0m\u001B[0;34m\u001B[0m\u001B[0;34m\u001B[0m\u001B[0m\n",
       "\u001B[0m\u001B[1;32m   1387\u001B[0m \u001B[0;34m\u001B[0m\u001B[0m\n",
       "\u001B[1;32m   1388\u001B[0m \u001B[0;34m\u001B[0m\u001B[0m\n",
       "\n",
       "\u001B[0;32m/databricks/spark/python/pyspark/pandas/indexing.py\u001B[0m in \u001B[0;36m_get_from_multiindex_column\u001B[0;34m(self, key, missing_keys, labels, recursed)\u001B[0m\n",
       "\u001B[1;32m   1203\u001B[0m             \u001B[0;32mif\u001B[0m \u001B[0mlen\u001B[0m\u001B[0;34m(\u001B[0m\u001B[0mlabels\u001B[0m\u001B[0;34m)\u001B[0m \u001B[0;34m==\u001B[0m \u001B[0;36m0\u001B[0m\u001B[0;34m:\u001B[0m\u001B[0;34m\u001B[0m\u001B[0;34m\u001B[0m\u001B[0m\n",
       "\u001B[1;32m   1204\u001B[0m                 \u001B[0;32mif\u001B[0m \u001B[0mmissing_keys\u001B[0m \u001B[0;32mis\u001B[0m \u001B[0;32mNone\u001B[0m\u001B[0;34m:\u001B[0m\u001B[0;34m\u001B[0m\u001B[0;34m\u001B[0m\u001B[0m\n",
       "\u001B[0;32m-> 1205\u001B[0;31m                     \u001B[0;32mraise\u001B[0m \u001B[0mKeyError\u001B[0m\u001B[0;34m(\u001B[0m\u001B[0mk\u001B[0m\u001B[0;34m)\u001B[0m\u001B[0;34m\u001B[0m\u001B[0;34m\u001B[0m\u001B[0m\n",
       "\u001B[0m\u001B[1;32m   1206\u001B[0m                 \u001B[0;32melse\u001B[0m\u001B[0;34m:\u001B[0m\u001B[0;34m\u001B[0m\u001B[0;34m\u001B[0m\u001B[0m\n",
       "\u001B[1;32m   1207\u001B[0m                     \u001B[0mmissing_keys\u001B[0m\u001B[0;34m.\u001B[0m\u001B[0mappend\u001B[0m\u001B[0;34m(\u001B[0m\u001B[0mkey\u001B[0m\u001B[0;34m)\u001B[0m\u001B[0;34m\u001B[0m\u001B[0;34m\u001B[0m\u001B[0m\n",
       "\n",
       "\u001B[0;31mKeyError\u001B[0m: False"
      ]
     },
     "metadata": {
      "application/vnd.databricks.v1+output": {
       "arguments": {},
       "data": "\u001B[0;31m---------------------------------------------------------------------------\u001B[0m\n\u001B[0;31mKeyError\u001B[0m                                  Traceback (most recent call last)\n\u001B[0;32m<command-3081754168628037>\u001B[0m in \u001B[0;36m<cell line: 1>\u001B[0;34m()\u001B[0m\n\u001B[0;32m----> 1\u001B[0;31m \u001B[0mdf\u001B[0m\u001B[0;34m[\u001B[0m\u001B[0;34m(\u001B[0m\u001B[0mdf\u001B[0m\u001B[0;34m[\u001B[0m\u001B[0;34m'turno'\u001B[0m\u001B[0;34m==\u001B[0m\u001B[0;34m'Integral'\u001B[0m\u001B[0;34m]\u001B[0m\u001B[0;34m)\u001B[0m \u001B[0;34m&\u001B[0m \u001B[0;34m(\u001B[0m\u001B[0mdf\u001B[0m\u001B[0;34m[\u001B[0m\u001B[0;34m'nome_curso'\u001B[0m\u001B[0;34m]\u001B[0m\u001B[0;34m==\u001B[0m\u001B[0;34m'Medicina'\u001B[0m\u001B[0;34m)\u001B[0m\u001B[0;34m]\u001B[0m\u001B[0;34m[\u001B[0m\u001B[0;34m'nome_curso'\u001B[0m\u001B[0;34m]\u001B[0m\u001B[0;34m.\u001B[0m\u001B[0mcount\u001B[0m\u001B[0;34m(\u001B[0m\u001B[0;34m)\u001B[0m\u001B[0;34m\u001B[0m\u001B[0;34m\u001B[0m\u001B[0m\n\u001B[0m\n\u001B[0;32m/databricks/spark/python/pyspark/instrumentation_utils.py\u001B[0m in \u001B[0;36mwrapper\u001B[0;34m(*args, **kwargs)\u001B[0m\n\u001B[1;32m     46\u001B[0m             \u001B[0mstart\u001B[0m \u001B[0;34m=\u001B[0m \u001B[0mtime\u001B[0m\u001B[0;34m.\u001B[0m\u001B[0mperf_counter\u001B[0m\u001B[0;34m(\u001B[0m\u001B[0;34m)\u001B[0m\u001B[0;34m\u001B[0m\u001B[0;34m\u001B[0m\u001B[0m\n\u001B[1;32m     47\u001B[0m             \u001B[0;32mtry\u001B[0m\u001B[0;34m:\u001B[0m\u001B[0;34m\u001B[0m\u001B[0;34m\u001B[0m\u001B[0m\n\u001B[0;32m---> 48\u001B[0;31m                 \u001B[0mres\u001B[0m \u001B[0;34m=\u001B[0m \u001B[0mfunc\u001B[0m\u001B[0;34m(\u001B[0m\u001B[0;34m*\u001B[0m\u001B[0margs\u001B[0m\u001B[0;34m,\u001B[0m \u001B[0;34m**\u001B[0m\u001B[0mkwargs\u001B[0m\u001B[0;34m)\u001B[0m\u001B[0;34m\u001B[0m\u001B[0;34m\u001B[0m\u001B[0m\n\u001B[0m\u001B[1;32m     49\u001B[0m                 logger.log_success(\n\u001B[1;32m     50\u001B[0m                     \u001B[0mmodule_name\u001B[0m\u001B[0;34m,\u001B[0m \u001B[0mclass_name\u001B[0m\u001B[0;34m,\u001B[0m \u001B[0mfunction_name\u001B[0m\u001B[0;34m,\u001B[0m \u001B[0mtime\u001B[0m\u001B[0;34m.\u001B[0m\u001B[0mperf_counter\u001B[0m\u001B[0;34m(\u001B[0m\u001B[0;34m)\u001B[0m \u001B[0;34m-\u001B[0m \u001B[0mstart\u001B[0m\u001B[0;34m,\u001B[0m \u001B[0msignature\u001B[0m\u001B[0;34m\u001B[0m\u001B[0;34m\u001B[0m\u001B[0m\n\n\u001B[0;32m/databricks/spark/python/pyspark/pandas/frame.py\u001B[0m in \u001B[0;36m__getitem__\u001B[0;34m(self, key)\u001B[0m\n\u001B[1;32m  12389\u001B[0m             \u001B[0;32mreturn\u001B[0m \u001B[0mself\u001B[0m\u001B[0;34m.\u001B[0m\u001B[0mloc\u001B[0m\u001B[0;34m[\u001B[0m\u001B[0mkey\u001B[0m\u001B[0;34m]\u001B[0m\u001B[0;34m\u001B[0m\u001B[0;34m\u001B[0m\u001B[0m\n\u001B[1;32m  12390\u001B[0m         \u001B[0;32melif\u001B[0m \u001B[0mis_name_like_value\u001B[0m\u001B[0;34m(\u001B[0m\u001B[0mkey\u001B[0m\u001B[0;34m)\u001B[0m\u001B[0;34m:\u001B[0m\u001B[0;34m\u001B[0m\u001B[0;34m\u001B[0m\u001B[0m\n\u001B[0;32m> 12391\u001B[0;31m             \u001B[0;32mreturn\u001B[0m \u001B[0mself\u001B[0m\u001B[0;34m.\u001B[0m\u001B[0mloc\u001B[0m\u001B[0;34m[\u001B[0m\u001B[0;34m:\u001B[0m\u001B[0;34m,\u001B[0m \u001B[0mkey\u001B[0m\u001B[0;34m]\u001B[0m\u001B[0;34m\u001B[0m\u001B[0;34m\u001B[0m\u001B[0m\n\u001B[0m\u001B[1;32m  12392\u001B[0m         \u001B[0;32melif\u001B[0m \u001B[0mis_list_like\u001B[0m\u001B[0;34m(\u001B[0m\u001B[0mkey\u001B[0m\u001B[0;34m)\u001B[0m\u001B[0;34m:\u001B[0m\u001B[0;34m\u001B[0m\u001B[0;34m\u001B[0m\u001B[0m\n\u001B[1;32m  12393\u001B[0m             \u001B[0;32mreturn\u001B[0m \u001B[0mself\u001B[0m\u001B[0;34m.\u001B[0m\u001B[0mloc\u001B[0m\u001B[0;34m[\u001B[0m\u001B[0;34m:\u001B[0m\u001B[0;34m,\u001B[0m \u001B[0mlist\u001B[0m\u001B[0;34m(\u001B[0m\u001B[0mkey\u001B[0m\u001B[0;34m)\u001B[0m\u001B[0;34m]\u001B[0m\u001B[0;34m\u001B[0m\u001B[0;34m\u001B[0m\u001B[0m\n\n\u001B[0;32m/databricks/spark/python/pyspark/pandas/indexing.py\u001B[0m in \u001B[0;36m__getitem__\u001B[0;34m(self, key)\u001B[0m\n\u001B[1;32m    479\u001B[0m                 \u001B[0mreturns_series\u001B[0m\u001B[0;34m,\u001B[0m\u001B[0;34m\u001B[0m\u001B[0;34m\u001B[0m\u001B[0m\n\u001B[1;32m    480\u001B[0m                 \u001B[0mseries_name\u001B[0m\u001B[0;34m,\u001B[0m\u001B[0;34m\u001B[0m\u001B[0;34m\u001B[0m\u001B[0m\n\u001B[0;32m--> 481\u001B[0;31m             ) = self._select_cols(cols_sel)\n\u001B[0m\u001B[1;32m    482\u001B[0m \u001B[0;34m\u001B[0m\u001B[0m\n\u001B[1;32m    483\u001B[0m             \u001B[0;32mif\u001B[0m \u001B[0mcond\u001B[0m \u001B[0;32mis\u001B[0m \u001B[0;32mNone\u001B[0m \u001B[0;32mand\u001B[0m \u001B[0mlimit\u001B[0m \u001B[0;32mis\u001B[0m \u001B[0;32mNone\u001B[0m \u001B[0;32mand\u001B[0m \u001B[0mreturns_series\u001B[0m\u001B[0;34m:\u001B[0m\u001B[0;34m\u001B[0m\u001B[0;34m\u001B[0m\u001B[0m\n\n\u001B[0;32m/databricks/spark/python/pyspark/pandas/indexing.py\u001B[0m in \u001B[0;36m_select_cols\u001B[0;34m(self, cols_sel, missing_keys)\u001B[0m\n\u001B[1;32m    326\u001B[0m             \u001B[0;32mreturn\u001B[0m \u001B[0mself\u001B[0m\u001B[0;34m.\u001B[0m\u001B[0m_select_cols_by_iterable\u001B[0m\u001B[0;34m(\u001B[0m\u001B[0mcols_sel\u001B[0m\u001B[0;34m,\u001B[0m \u001B[0mmissing_keys\u001B[0m\u001B[0;34m)\u001B[0m\u001B[0;34m\u001B[0m\u001B[0;34m\u001B[0m\u001B[0m\n\u001B[1;32m    327\u001B[0m         \u001B[0;32melse\u001B[0m\u001B[0;34m:\u001B[0m\u001B[0;34m\u001B[0m\u001B[0;34m\u001B[0m\u001B[0m\n\u001B[0;32m--> 328\u001B[0;31m             \u001B[0;32mreturn\u001B[0m \u001B[0mself\u001B[0m\u001B[0;34m.\u001B[0m\u001B[0m_select_cols_else\u001B[0m\u001B[0;34m(\u001B[0m\u001B[0mcols_sel\u001B[0m\u001B[0;34m,\u001B[0m \u001B[0mmissing_keys\u001B[0m\u001B[0;34m)\u001B[0m\u001B[0;34m\u001B[0m\u001B[0;34m\u001B[0m\u001B[0m\n\u001B[0m\u001B[1;32m    329\u001B[0m \u001B[0;34m\u001B[0m\u001B[0m\n\u001B[1;32m    330\u001B[0m     \u001B[0;31m# Methods for row selection\u001B[0m\u001B[0;34m\u001B[0m\u001B[0;34m\u001B[0m\u001B[0;34m\u001B[0m\u001B[0m\n\n\u001B[0;32m/databricks/spark/python/pyspark/pandas/indexing.py\u001B[0m in \u001B[0;36m_select_cols_else\u001B[0;34m(self, cols_sel, missing_keys)\u001B[0m\n\u001B[1;32m   1384\u001B[0m         \u001B[0;32mif\u001B[0m \u001B[0;32mnot\u001B[0m \u001B[0mis_name_like_tuple\u001B[0m\u001B[0;34m(\u001B[0m\u001B[0mcols_sel\u001B[0m\u001B[0;34m)\u001B[0m\u001B[0;34m:\u001B[0m\u001B[0;34m\u001B[0m\u001B[0;34m\u001B[0m\u001B[0m\n\u001B[1;32m   1385\u001B[0m             \u001B[0mcols_sel\u001B[0m \u001B[0;34m=\u001B[0m \u001B[0;34m(\u001B[0m\u001B[0mcols_sel\u001B[0m\u001B[0;34m,\u001B[0m\u001B[0;34m)\u001B[0m\u001B[0;34m\u001B[0m\u001B[0;34m\u001B[0m\u001B[0m\n\u001B[0;32m-> 1386\u001B[0;31m         \u001B[0;32mreturn\u001B[0m \u001B[0mself\u001B[0m\u001B[0;34m.\u001B[0m\u001B[0m_get_from_multiindex_column\u001B[0m\u001B[0;34m(\u001B[0m\u001B[0mcols_sel\u001B[0m\u001B[0;34m,\u001B[0m \u001B[0mmissing_keys\u001B[0m\u001B[0;34m)\u001B[0m\u001B[0;34m\u001B[0m\u001B[0;34m\u001B[0m\u001B[0m\n\u001B[0m\u001B[1;32m   1387\u001B[0m \u001B[0;34m\u001B[0m\u001B[0m\n\u001B[1;32m   1388\u001B[0m \u001B[0;34m\u001B[0m\u001B[0m\n\n\u001B[0;32m/databricks/spark/python/pyspark/pandas/indexing.py\u001B[0m in \u001B[0;36m_get_from_multiindex_column\u001B[0;34m(self, key, missing_keys, labels, recursed)\u001B[0m\n\u001B[1;32m   1203\u001B[0m             \u001B[0;32mif\u001B[0m \u001B[0mlen\u001B[0m\u001B[0;34m(\u001B[0m\u001B[0mlabels\u001B[0m\u001B[0;34m)\u001B[0m \u001B[0;34m==\u001B[0m \u001B[0;36m0\u001B[0m\u001B[0;34m:\u001B[0m\u001B[0;34m\u001B[0m\u001B[0;34m\u001B[0m\u001B[0m\n\u001B[1;32m   1204\u001B[0m                 \u001B[0;32mif\u001B[0m \u001B[0mmissing_keys\u001B[0m \u001B[0;32mis\u001B[0m \u001B[0;32mNone\u001B[0m\u001B[0;34m:\u001B[0m\u001B[0;34m\u001B[0m\u001B[0;34m\u001B[0m\u001B[0m\n\u001B[0;32m-> 1205\u001B[0;31m                     \u001B[0;32mraise\u001B[0m \u001B[0mKeyError\u001B[0m\u001B[0;34m(\u001B[0m\u001B[0mk\u001B[0m\u001B[0;34m)\u001B[0m\u001B[0;34m\u001B[0m\u001B[0;34m\u001B[0m\u001B[0m\n\u001B[0m\u001B[1;32m   1206\u001B[0m                 \u001B[0;32melse\u001B[0m\u001B[0;34m:\u001B[0m\u001B[0;34m\u001B[0m\u001B[0;34m\u001B[0m\u001B[0m\n\u001B[1;32m   1207\u001B[0m                     \u001B[0mmissing_keys\u001B[0m\u001B[0;34m.\u001B[0m\u001B[0mappend\u001B[0m\u001B[0;34m(\u001B[0m\u001B[0mkey\u001B[0m\u001B[0;34m)\u001B[0m\u001B[0;34m\u001B[0m\u001B[0;34m\u001B[0m\u001B[0m\n\n\u001B[0;31mKeyError\u001B[0m: False",
       "errorSummary": "<span class='ansi-red-fg'>KeyError</span>: False",
       "errorTraceType": "ansi",
       "metadata": {},
       "type": "ipynbError"
      }
     },
     "output_type": "display_data"
    }
   ],
   "source": [
    "df[(df['turno'=='Integral']) & (df['nome_curso']=='Medicina')]['nome_curso'].count()"
   ]
  },
  {
   "cell_type": "code",
   "execution_count": 0,
   "metadata": {
    "application/vnd.databricks.v1+cell": {
     "cellMetadata": {},
     "inputWidgets": {},
     "nuid": "725b231c-7b27-4176-a790-8d8b5858871d",
     "showTitle": false,
     "title": ""
    }
   },
   "outputs": [],
   "source": []
  }
 ],
 "metadata": {
  "application/vnd.databricks.v1+notebook": {
   "dashboards": [],
   "environmentMetadata": null,
   "language": "python",
   "notebookMetadata": {
    "pythonIndentUnit": 4
   },
   "notebookName": "ProUni_estudo",
   "widgets": {}
  }
 },
 "nbformat": 4,
 "nbformat_minor": 0
}
